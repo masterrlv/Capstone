{
 "cells": [
  {
   "cell_type": "code",
   "execution_count": 8,
   "metadata": {},
   "outputs": [],
   "source": [
    "import pandas as pd"
   ]
  },
  {
   "cell_type": "code",
   "execution_count": 9,
   "metadata": {},
   "outputs": [],
   "source": [
    "# Load the input and output CSV files\n",
    "input_file = \"master_model_depl_test.csv\"  # Replace with the path to your input CSV\n",
    "output_file = \"predictions_output_raspi_results.csv\" # Replace with the path to your output CSV\n",
    "\n",
    "input_df = pd.read_csv(input_file)\n",
    "output_df = pd.read_csv(output_file)\n"
   ]
  },
  {
   "cell_type": "code",
   "execution_count": 10,
   "metadata": {},
   "outputs": [
    {
     "name": "stdout",
     "output_type": "stream",
     "text": [
      "0       0\n",
      "1       0\n",
      "2       0\n",
      "3       4\n",
      "4       0\n",
      "       ..\n",
      "1595    6\n",
      "1596    6\n",
      "1597    6\n",
      "1598    5\n",
      "1599    6\n",
      "Name: predictions, Length: 1600, dtype: int64\n",
      "Percentage of correct predictions: 91.50%\n"
     ]
    }
   ],
   "source": [
    "\n",
    "# Ensure that both DataFrames are aligned by their row indices\n",
    "# Reset indices to avoid any misalignment\n",
    "input_df.reset_index(drop=True, inplace=True)\n",
    "output_df.reset_index(drop=True, inplace=True)\n",
    "\n",
    "# Extract the relevant columns\n",
    "true_labels = input_df['label']\n",
    "predictions = output_df['predictions']\n",
    "print(predictions)\n",
    "\n",
    "# Check if the lengths match\n",
    "if len(true_labels) != len(predictions):\n",
    "    print(\"Warning: The number of rows in the input and output files do not match. Results may not be accurate.\")\n",
    "\n",
    "# Calculate the number of correct predictions\n",
    "correct_predictions = (true_labels == predictions).sum()\n",
    "\n",
    "# Calculate the percentage of correct predictions\n",
    "accuracy_percentage = (correct_predictions / len(true_labels)) * 100\n",
    "\n",
    "print(f\"Percentage of correct predictions: {accuracy_percentage:.2f}%\")\n"
   ]
  },
  {
   "cell_type": "code",
   "execution_count": 7,
   "metadata": {},
   "outputs": [
    {
     "name": "stdout",
     "output_type": "stream",
     "text": [
      "0       0.094848\n",
      "1       0.042555\n",
      "2       0.042064\n",
      "3       0.042560\n",
      "4       0.041616\n",
      "          ...   \n",
      "1595    0.042728\n",
      "1596    0.040108\n",
      "1597    0.053118\n",
      "1598    0.054962\n",
      "1599    0.040269\n",
      "Name: prediction_time, Length: 1600, dtype: float64\n"
     ]
    }
   ],
   "source": [
    "timings = output_df['prediction_time']\n",
    "print(timings)"
   ]
  },
  {
   "cell_type": "code",
   "execution_count": 11,
   "metadata": {},
   "outputs": [
    {
     "name": "stdout",
     "output_type": "stream",
     "text": [
      "0.04214334979653354\n"
     ]
    }
   ],
   "source": [
    "print(sum(timings)/len(timings))"
   ]
  },
  {
   "cell_type": "code",
   "execution_count": null,
   "metadata": {},
   "outputs": [],
   "source": []
  }
 ],
 "metadata": {
  "kernelspec": {
   "display_name": "Python 3",
   "language": "python",
   "name": "python3"
  },
  "language_info": {
   "codemirror_mode": {
    "name": "ipython",
    "version": 3
   },
   "file_extension": ".py",
   "mimetype": "text/x-python",
   "name": "python",
   "nbconvert_exporter": "python",
   "pygments_lexer": "ipython3",
   "version": "3.12.5"
  }
 },
 "nbformat": 4,
 "nbformat_minor": 2
}
