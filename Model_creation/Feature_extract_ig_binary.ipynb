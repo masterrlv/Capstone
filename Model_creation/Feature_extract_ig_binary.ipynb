{
 "cells": [
  {
   "cell_type": "code",
   "execution_count": 2,
   "metadata": {},
   "outputs": [],
   "source": [
    "import pandas as pd\n",
    "from sklearn.model_selection import train_test_split\n",
    "import lightgbm as lgb\n",
    "from sklearn.metrics import log_loss, accuracy_score, classification_report, f1_score\n",
    "import numpy as np"
   ]
  },
  {
   "cell_type": "code",
   "execution_count": 3,
   "metadata": {},
   "outputs": [],
   "source": [
    "df  = pd.read_csv(r'F:\\Projects\\Cap_github\\Capstone\\Data\\master_bin_data.csv')"
   ]
  },
  {
   "cell_type": "code",
   "execution_count": 4,
   "metadata": {},
   "outputs": [],
   "source": [
    "df.columns = df.columns.str.replace(' ', '_')"
   ]
  },
  {
   "cell_type": "code",
   "execution_count": 5,
   "metadata": {},
   "outputs": [],
   "source": [
    "df['label'] = df['label'].apply(lambda x: 0 if 'Benign' in str(x) else 1)"
   ]
  },
  {
   "cell_type": "code",
   "execution_count": 6,
   "metadata": {},
   "outputs": [
    {
     "data": {
      "text/plain": [
       "array([1, 0], dtype=int64)"
      ]
     },
     "execution_count": 6,
     "metadata": {},
     "output_type": "execute_result"
    }
   ],
   "source": [
    "df.label.unique()"
   ]
  },
  {
   "cell_type": "code",
   "execution_count": 8,
   "metadata": {},
   "outputs": [],
   "source": [
    "X = df.drop(['label'],axis=1)\n",
    "y = df['label']\n",
    "\n",
    "X_train, X_test, y_train, y_test = train_test_split(X,y, train_size = 0.8, test_size = 0.2, shuffle=True,random_state = 0)"
   ]
  },
  {
   "cell_type": "code",
   "execution_count": 9,
   "metadata": {},
   "outputs": [],
   "source": [
    "# Remove irrelevant features and select important features\n",
    "def Feature_Importance_LGBM(data):\n",
    "    features = data.drop(['label'],axis=1).values  # \"label\" should be changed to the target class variable name if different\n",
    "    labels = data['label'].values\n",
    "\n",
    "    # Extract feature names\n",
    "    feature_names = list(data.drop(['label'],axis=1).columns)\n",
    "\n",
    "    # Empty array for feature importances\n",
    "    feature_importance_values = np.zeros(len(feature_names))\n",
    "    model = lgb.LGBMRegressor(verbose = -1)\n",
    "    model.fit(features, labels)\n",
    "    feature_importances = pd.DataFrame({'feature': feature_names, 'importance': model.feature_importances_})\n",
    "\n",
    "    # Sort features according to importance\n",
    "    feature_importances = feature_importances.sort_values('importance', ascending = False).reset_index(drop = True)\n",
    "\n",
    "    # Normalize the feature importances to add up to one\n",
    "    feature_importances['normalized_importance'] = feature_importances['importance'] / feature_importances['importance'].sum()\n",
    "    feature_importances['cumulative_importance'] = np.cumsum(feature_importances['normalized_importance'])\n",
    "\n",
    "    cumulative_importance=0.90 # Only keep the important features with cumulative importance scores>=90%. It can be changed.\n",
    "\n",
    "    # Make sure most important features are on top\n",
    "    feature_importances = feature_importances.sort_values('cumulative_importance')\n",
    "\n",
    "    # Identify the features not needed to reach the cumulative_importance\n",
    "    record_low_importance = feature_importances[feature_importances['cumulative_importance'] > cumulative_importance]\n",
    "\n",
    "    to_drop = list(record_low_importance['feature'])\n",
    "    print(feature_importances.drop(['importance'],axis=1))\n",
    "    return to_drop"
   ]
  },
  {
   "cell_type": "code",
   "execution_count": 10,
   "metadata": {},
   "outputs": [],
   "source": [
    "# Remove redundant features\n",
    "def Feature_Redundancy_Pearson(data):\n",
    "    correlation_threshold=0.95 # Only remove features with the redundancy>90%. It can be changed\n",
    "    features = data.drop(['label'],axis=1)\n",
    "    corr_matrix = features.corr()\n",
    "\n",
    "    # Extract the upper triangle of the correlation matrix\n",
    "    upper = corr_matrix.where(np.triu(np.ones(corr_matrix.shape), k = 1).astype(bool))\n",
    "\n",
    "    # Select the features with correlations above the threshold\n",
    "    # Need to use the absolute value\n",
    "    to_drop = [column for column in upper.columns if any(upper[column].abs() > correlation_threshold)]\n",
    "\n",
    "    # Dataframe to hold correlated pairs\n",
    "    record_collinear = pd.DataFrame(columns = ['drop_feature', 'corr_feature', 'corr_value'])\n",
    "\n",
    "    # Iterate through the columns to drop\n",
    "    for column in to_drop:\n",
    "\n",
    "        # Find the correlated features\n",
    "        corr_features = list(upper.index[upper[column].abs() > correlation_threshold])\n",
    "\n",
    "        # Find the correlated values\n",
    "        corr_values = list(upper[column][upper[column].abs() > correlation_threshold])\n",
    "        drop_features = [column for _ in range(len(corr_features))]\n",
    "\n",
    "        # Record the information (need a temp df for now)\n",
    "        temp_df = pd.DataFrame.from_dict({'drop_feature': drop_features,\n",
    "                                         'corr_feature': corr_features,\n",
    "                                         'corr_value': corr_values})\n",
    "        record_collinear = pd.concat([record_collinear, temp_df], ignore_index = True)\n",
    "#     print(record_collinear)\n",
    "    return to_drop"
   ]
  },
  {
   "cell_type": "code",
   "execution_count": 11,
   "metadata": {},
   "outputs": [],
   "source": [
    "def Auto_Feature_Engineering(s1):\n",
    "    drop1 = Feature_Importance_LGBM(s1)\n",
    "    df1 = s1.drop(columns = drop1)\n",
    "\n",
    "    drop4 = Feature_Redundancy_Pearson(df1)\n",
    "    df4 = df1.drop(columns = drop4)\n",
    "    return df4"
   ]
  },
  {
   "cell_type": "code",
   "execution_count": 12,
   "metadata": {},
   "outputs": [
    {
     "name": "stdout",
     "output_type": "stream",
     "text": [
      "            feature  normalized_importance  cumulative_importance\n",
      "0               IAT               0.171333               0.171333\n",
      "1     flow_duration               0.120333               0.291667\n",
      "2              Rate               0.111667               0.403333\n",
      "3         urg_count               0.075000               0.478333\n",
      "4         rst_count               0.073000               0.551333\n",
      "5     Header_Length               0.069000               0.620333\n",
      "6          Duration               0.058000               0.678333\n",
      "7         syn_count               0.048000               0.726333\n",
      "8     Protocol_Type               0.028667               0.755000\n",
      "9           Tot_sum               0.028667               0.783667\n",
      "10         Tot_size               0.027667               0.811333\n",
      "11              Min               0.023333               0.834667\n",
      "12        ack_count               0.022333               0.857000\n",
      "13              Max               0.017667               0.874667\n",
      "14             HTTP               0.016667               0.891333\n",
      "15       Covariance               0.016000               0.907333\n",
      "16              AVG               0.012333               0.919667\n",
      "17            HTTPS               0.012333               0.932000\n",
      "18         Variance               0.012000               0.944000\n",
      "19              Std               0.011667               0.955667\n",
      "20        fin_count               0.011333               0.967000\n",
      "21         Magnitue               0.008667               0.975667\n",
      "22              SSH               0.008000               0.983667\n",
      "23  psh_flag_number               0.005667               0.989333\n",
      "24           Number               0.005000               0.994333\n",
      "25           Radius               0.003000               0.997333\n",
      "26  ack_flag_number               0.001000               0.998333\n",
      "27  syn_flag_number               0.000667               0.999000\n",
      "28              TCP               0.000667               0.999667\n",
      "43            Drate               0.000000               1.000000\n",
      "42  fin_flag_number               0.000000               1.000000\n",
      "41  rst_flag_number               0.000000               1.000000\n",
      "40  ece_flag_number               0.000000               1.000000\n",
      "39  cwr_flag_number               0.000000               1.000000\n",
      "38              DNS               0.000000               1.000000\n",
      "37           Telnet               0.000000               1.000000\n",
      "34             DHCP               0.000000               1.000000\n",
      "35              UDP               0.000000               1.000000\n",
      "44            Srate               0.000000               1.000000\n",
      "33              ARP               0.000000               1.000000\n",
      "32              LLC               0.000000               1.000000\n",
      "31              IPv               0.000000               1.000000\n",
      "30             ICMP               0.000000               1.000000\n",
      "29           Weight               0.000333               1.000000\n",
      "36              IRC               0.000000               1.000000\n",
      "45             SMTP               0.000000               1.000000\n"
     ]
    }
   ],
   "source": [
    "df1 = Auto_Feature_Engineering(df)"
   ]
  },
  {
   "cell_type": "code",
   "execution_count": null,
   "metadata": {},
   "outputs": [],
   "source": []
  }
 ],
 "metadata": {
  "kernelspec": {
   "display_name": "Python 3",
   "language": "python",
   "name": "python3"
  },
  "language_info": {
   "codemirror_mode": {
    "name": "ipython",
    "version": 3
   },
   "file_extension": ".py",
   "mimetype": "text/x-python",
   "name": "python",
   "nbconvert_exporter": "python",
   "pygments_lexer": "ipython3",
   "version": "3.11.2"
  }
 },
 "nbformat": 4,
 "nbformat_minor": 2
}
