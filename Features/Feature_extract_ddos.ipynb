{
 "cells": [
  {
   "cell_type": "code",
   "execution_count": 1,
   "metadata": {},
   "outputs": [],
   "source": [
    "import pandas as pd\n",
    "from sklearn.model_selection import train_test_split\n",
    "from zoofs import ParticleSwarmOptimization\n",
    "import lightgbm as lgb\n",
    "from sklearn.metrics import log_loss, accuracy_score, classification_report, f1_score"
   ]
  },
  {
   "cell_type": "code",
   "execution_count": 2,
   "metadata": {},
   "outputs": [
    {
     "name": "stderr",
     "output_type": "stream",
     "text": [
      "<>:1: SyntaxWarning: invalid escape sequence '\\P'\n",
      "<>:1: SyntaxWarning: invalid escape sequence '\\P'\n",
      "C:\\Users\\anubh\\AppData\\Local\\Temp\\ipykernel_72528\\1912499713.py:1: SyntaxWarning: invalid escape sequence '\\P'\n",
      "  df  = pd.read_csv('E:\\Projects\\Capstone\\Final\\Data\\ddos.csv')\n"
     ]
    }
   ],
   "source": [
    "df  = pd.read_csv('E:\\Projects\\Capstone\\Final\\Data\\ddos.csv')"
   ]
  },
  {
   "cell_type": "code",
   "execution_count": 3,
   "metadata": {},
   "outputs": [],
   "source": [
    "df.columns = df.columns.str.replace(' ', '_')"
   ]
  },
  {
   "cell_type": "code",
   "execution_count": 4,
   "metadata": {},
   "outputs": [],
   "source": [
    "label_mapping = {\n",
    "    'DDoS': 0,\n",
    "    'DoS': 1,\n",
    "    'Mirai': 2\n",
    "}\n",
    "\n",
    "df['label'] = df['label'].apply(lambda x: label_mapping.get(str(x), -1))  # Use -1 for unmatched labels if needed"
   ]
  },
  {
   "cell_type": "code",
   "execution_count": 5,
   "metadata": {},
   "outputs": [],
   "source": [
    "X = df.drop(['label'],axis=1)\n",
    "y = df['label']\n",
    "\n",
    "X_train, X_test, y_train, y_test = train_test_split(X,y, train_size = 0.8, test_size = 0.2, shuffle=True,random_state = 0)"
   ]
  },
  {
   "cell_type": "code",
   "execution_count": 12,
   "metadata": {},
   "outputs": [],
   "source": [
    "def objective_function_topass(model,X_train, y_train, X_valid, y_valid):      \n",
    "    model.fit(X_train,y_train)  \n",
    "    P = log_loss(y_valid,model.predict_proba(X_valid))\n",
    "    return P"
   ]
  },
  {
   "cell_type": "code",
   "execution_count": 13,
   "metadata": {},
   "outputs": [
    {
     "name": "stderr",
     "output_type": "stream",
     "text": [
      "\u001b[32m [ 2024-11-19 17:18:50,307 ] \u001b[0mFinished iteration #0 with objective value -0.9998095196339876. Current best value is -0.9998095196339876 \u001b[0m\n",
      "\u001b[32m [ 2024-11-19 17:19:33,307 ] \u001b[0mFinished iteration #1 with objective value -0.9998333307562286. Current best value is -0.9998333307562286 \u001b[0m\n",
      "\u001b[32m [ 2024-11-19 17:20:17,313 ] \u001b[0mFinished iteration #2 with objective value -0.9998571429312798. Current best value is -0.9998571429312798 \u001b[0m\n",
      "\u001b[32m [ 2024-11-19 17:20:59,682 ] \u001b[0mFinished iteration #3 with objective value -0.9998333316882427. Current best value is -0.9998571429312798 \u001b[0m\n",
      "\u001b[32m [ 2024-11-19 17:21:42,498 ] \u001b[0mFinished iteration #4 with objective value -0.9998571428571429. Current best value is -0.9998571429312798 \u001b[0m\n",
      "\u001b[32m [ 2024-11-19 17:22:27,444 ] \u001b[0mFinished iteration #5 with objective value -0.999880952411995. Current best value is -0.999880952411995 \u001b[0m\n",
      "\u001b[32m [ 2024-11-19 17:23:08,667 ] \u001b[0mFinished iteration #6 with objective value -0.9998333333767929. Current best value is -0.999880952411995 \u001b[0m\n",
      "\u001b[32m [ 2024-11-19 17:23:49,697 ] \u001b[0mFinished iteration #7 with objective value -0.9998809506613852. Current best value is -0.999880952411995 \u001b[0m\n",
      "\u001b[32m [ 2024-11-19 17:24:30,374 ] \u001b[0mFinished iteration #8 with objective value -0.999880952411995. Current best value is -0.999880952411995 \u001b[0m\n",
      "\u001b[32m [ 2024-11-19 17:25:12,591 ] \u001b[0mFinished iteration #9 with objective value -0.9998809489135005. Current best value is -0.999880952411995 \u001b[0m\n",
      "\u001b[32m [ 2024-11-19 17:25:56,884 ] \u001b[0mFinished iteration #10 with objective value -0.9998571428571429. Current best value is -0.999880952411995 \u001b[0m\n",
      "\u001b[32m [ 2024-11-19 17:26:36,407 ] \u001b[0mFinished iteration #11 with objective value -0.999880952411995. Current best value is -0.999880952411995 \u001b[0m\n",
      "\u001b[32m [ 2024-11-19 17:27:16,456 ] \u001b[0mFinished iteration #12 with objective value -0.999880952411995. Current best value is -0.999880952411995 \u001b[0m\n",
      "\u001b[32m [ 2024-11-19 17:27:55,408 ] \u001b[0mFinished iteration #13 with objective value -0.999880952411995. Current best value is -0.999880952411995 \u001b[0m\n",
      "\u001b[32m [ 2024-11-19 17:28:34,466 ] \u001b[0mFinished iteration #14 with objective value -0.999880952411995. Current best value is -0.999880952411995 \u001b[0m\n"
     ]
    },
    {
     "data": {
      "text/plain": [
       "[np.str_('Header_Length'),\n",
       " np.str_('Duration'),\n",
       " np.str_('Srate'),\n",
       " np.str_('Drate'),\n",
       " np.str_('fin_flag_number'),\n",
       " np.str_('psh_flag_number'),\n",
       " np.str_('ack_flag_number'),\n",
       " np.str_('cwr_flag_number'),\n",
       " np.str_('ack_count'),\n",
       " np.str_('syn_count'),\n",
       " np.str_('fin_count'),\n",
       " np.str_('HTTP'),\n",
       " np.str_('HTTPS'),\n",
       " np.str_('DNS'),\n",
       " np.str_('SMTP'),\n",
       " np.str_('DHCP'),\n",
       " np.str_('ICMP'),\n",
       " np.str_('LLC'),\n",
       " np.str_('AVG'),\n",
       " np.str_('IAT'),\n",
       " np.str_('Number'),\n",
       " np.str_('Covariance'),\n",
       " np.str_('Variance')]"
      ]
     },
     "execution_count": 13,
     "metadata": {},
     "output_type": "execute_result"
    }
   ],
   "source": [
    "from xgboost import XGBClassifier\n",
    "from sklearn.metrics import f1_score\n",
    "\n",
    "def objective_function_topass(model, X_train, y_train, X_valid, y_valid):      \n",
    "    \"\"\"\n",
    "    Objective function for optimization. Trains the model and evaluates F1 score.\n",
    "    Returns the negative F1 score to maximize it.\n",
    "    \"\"\"\n",
    "    model.fit(X_train, y_train)\n",
    "    y_pred = model.predict(X_valid)  \n",
    "    P = f1_score(y_valid, y_pred, average='weighted')  # Weighted F1 score\n",
    "    return -P  # Negative F1 score to maximize it\n",
    "\n",
    "# Assuming ParticleSwarmOptimization is implemented and imported\n",
    "algo_object = ParticleSwarmOptimization(\n",
    "    objective_function_topass,\n",
    "    n_iteration=15,\n",
    "    population_size=30,\n",
    "    minimize=True\n",
    ")\n",
    "\n",
    "# Replace LightGBM model with XGBoost\n",
    "xgb_model = XGBClassifier(\n",
    "    objective='multi:softmax',\n",
    "    num_class=3,\n",
    "    eval_metric=\"mlogloss\"  # Evaluation metric for XGBoost\n",
    ")\n",
    "\n",
    "# Fit the optimization algorithm\n",
    "algo_object.fit(xgb_model, X_train, y_train, X_test, y_test, verbose=True)\n",
    "\n"
   ]
  },
  {
   "cell_type": "code",
   "execution_count": null,
   "metadata": {},
   "outputs": [],
   "source": [
    "def objective_function_topass(model, X_train, y_train, X_valid, y_valid):      \n",
    "    model.fit(X_train, y_train)\n",
    "    y_pred = model.predict(X_valid)  \n",
    "    P = f1_score(y_valid, y_pred, average='weighted')\n",
    "    return -P  # Return negative F1 score to maximize it\n",
    "\n",
    "    \n",
    "# create object of algorithm\n",
    "algo_object=ParticleSwarmOptimization(objective_function_topass,n_iteration=15,\n",
    "                                    population_size=30,minimize=True)\n",
    "\n",
    "lgb_model = lgb.LGBMClassifier()                                       \n",
    "# fit the algorithm\n",
    "algo_object.fit(lgb_model,X_train, y_train, X_test, y_test,verbose=True)\n",
    "#plot your results"
   ]
  },
  {
   "cell_type": "code",
   "execution_count": null,
   "metadata": {},
   "outputs": [
    {
     "data": {
      "text/plain": [
       "<zoofs.particleswarmoptimization.ParticleSwarmOptimization at 0x2c3604f4f50>"
      ]
     },
     "metadata": {},
     "output_type": "display_data"
    }
   ],
   "source": [
    "algo_object"
   ]
  },
  {
   "cell_type": "code",
   "execution_count": null,
   "metadata": {},
   "outputs": [],
   "source": [
    "feat = algo_object.best_feature_list"
   ]
  },
  {
   "cell_type": "code",
   "execution_count": null,
   "metadata": {},
   "outputs": [
    {
     "data": {
      "text/plain": [
       "[np.str_('flow_duration'),\n",
       " np.str_('Header_Length'),\n",
       " np.str_('Duration'),\n",
       " np.str_('Srate'),\n",
       " np.str_('Drate'),\n",
       " np.str_('psh_flag_number'),\n",
       " np.str_('cwr_flag_number'),\n",
       " np.str_('ack_count'),\n",
       " np.str_('syn_count'),\n",
       " np.str_('fin_count'),\n",
       " np.str_('urg_count'),\n",
       " np.str_('rst_count'),\n",
       " np.str_('HTTP'),\n",
       " np.str_('HTTPS'),\n",
       " np.str_('Telnet'),\n",
       " np.str_('SSH'),\n",
       " np.str_('IRC'),\n",
       " np.str_('DHCP'),\n",
       " np.str_('ICMP'),\n",
       " np.str_('Min'),\n",
       " np.str_('AVG'),\n",
       " np.str_('Tot_size'),\n",
       " np.str_('IAT'),\n",
       " np.str_('Number'),\n",
       " np.str_('Magnitue'),\n",
       " np.str_('Covariance'),\n",
       " np.str_('Weight')]"
      ]
     },
     "metadata": {},
     "output_type": "display_data"
    }
   ],
   "source": [
    "feat"
   ]
  },
  {
   "cell_type": "code",
   "execution_count": null,
   "metadata": {},
   "outputs": [
    {
     "data": {
      "application/vnd.plotly.v1+json": {
       "config": {
        "plotlyServerURL": "https://plot.ly"
       },
       "data": [
        {
         "mode": "markers",
         "name": "objective_score",
         "type": "scatter",
         "x": [
          0,
          1,
          2,
          3,
          4,
          5,
          6,
          7,
          8,
          9,
          10,
          11,
          12,
          13,
          14
         ],
         "y": [
          -0.9608184903783573,
          -0.9619791855191179,
          -0.9624484770856592,
          -0.9618106301673297,
          -0.9631138616790541,
          -0.9622112450919504,
          -0.9626111060415519,
          -0.9630787856430727,
          -0.9628466912049036,
          -0.9629124821053253,
          -0.963181278986551,
          -0.9632129230106973,
          -0.962946654293547,
          -0.9630473398063641,
          -0.9630804206942641
         ]
        },
        {
         "mode": "lines+markers",
         "name": "best_score",
         "type": "scatter",
         "x": [
          0,
          1,
          2,
          3,
          4,
          5,
          6,
          7,
          8,
          9,
          10,
          11,
          12,
          13,
          14
         ],
         "y": [
          -0.9608184903783573,
          -0.9619791855191179,
          -0.9624484770856592,
          -0.9624484770856592,
          -0.9631138616790541,
          -0.9631138616790541,
          -0.9631138616790541,
          -0.9631138616790541,
          -0.9631138616790541,
          -0.9631138616790541,
          -0.963181278986551,
          -0.9632129230106973,
          -0.9632129230106973,
          -0.9632129230106973,
          -0.9632129230106973
         ]
        }
       ],
       "layout": {
        "template": {
         "data": {
          "bar": [
           {
            "error_x": {
             "color": "#2a3f5f"
            },
            "error_y": {
             "color": "#2a3f5f"
            },
            "marker": {
             "line": {
              "color": "#E5ECF6",
              "width": 0.5
             },
             "pattern": {
              "fillmode": "overlay",
              "size": 10,
              "solidity": 0.2
             }
            },
            "type": "bar"
           }
          ],
          "barpolar": [
           {
            "marker": {
             "line": {
              "color": "#E5ECF6",
              "width": 0.5
             },
             "pattern": {
              "fillmode": "overlay",
              "size": 10,
              "solidity": 0.2
             }
            },
            "type": "barpolar"
           }
          ],
          "carpet": [
           {
            "aaxis": {
             "endlinecolor": "#2a3f5f",
             "gridcolor": "white",
             "linecolor": "white",
             "minorgridcolor": "white",
             "startlinecolor": "#2a3f5f"
            },
            "baxis": {
             "endlinecolor": "#2a3f5f",
             "gridcolor": "white",
             "linecolor": "white",
             "minorgridcolor": "white",
             "startlinecolor": "#2a3f5f"
            },
            "type": "carpet"
           }
          ],
          "choropleth": [
           {
            "colorbar": {
             "outlinewidth": 0,
             "ticks": ""
            },
            "type": "choropleth"
           }
          ],
          "contour": [
           {
            "colorbar": {
             "outlinewidth": 0,
             "ticks": ""
            },
            "colorscale": [
             [
              0,
              "#0d0887"
             ],
             [
              0.1111111111111111,
              "#46039f"
             ],
             [
              0.2222222222222222,
              "#7201a8"
             ],
             [
              0.3333333333333333,
              "#9c179e"
             ],
             [
              0.4444444444444444,
              "#bd3786"
             ],
             [
              0.5555555555555556,
              "#d8576b"
             ],
             [
              0.6666666666666666,
              "#ed7953"
             ],
             [
              0.7777777777777778,
              "#fb9f3a"
             ],
             [
              0.8888888888888888,
              "#fdca26"
             ],
             [
              1,
              "#f0f921"
             ]
            ],
            "type": "contour"
           }
          ],
          "contourcarpet": [
           {
            "colorbar": {
             "outlinewidth": 0,
             "ticks": ""
            },
            "type": "contourcarpet"
           }
          ],
          "heatmap": [
           {
            "colorbar": {
             "outlinewidth": 0,
             "ticks": ""
            },
            "colorscale": [
             [
              0,
              "#0d0887"
             ],
             [
              0.1111111111111111,
              "#46039f"
             ],
             [
              0.2222222222222222,
              "#7201a8"
             ],
             [
              0.3333333333333333,
              "#9c179e"
             ],
             [
              0.4444444444444444,
              "#bd3786"
             ],
             [
              0.5555555555555556,
              "#d8576b"
             ],
             [
              0.6666666666666666,
              "#ed7953"
             ],
             [
              0.7777777777777778,
              "#fb9f3a"
             ],
             [
              0.8888888888888888,
              "#fdca26"
             ],
             [
              1,
              "#f0f921"
             ]
            ],
            "type": "heatmap"
           }
          ],
          "heatmapgl": [
           {
            "colorbar": {
             "outlinewidth": 0,
             "ticks": ""
            },
            "colorscale": [
             [
              0,
              "#0d0887"
             ],
             [
              0.1111111111111111,
              "#46039f"
             ],
             [
              0.2222222222222222,
              "#7201a8"
             ],
             [
              0.3333333333333333,
              "#9c179e"
             ],
             [
              0.4444444444444444,
              "#bd3786"
             ],
             [
              0.5555555555555556,
              "#d8576b"
             ],
             [
              0.6666666666666666,
              "#ed7953"
             ],
             [
              0.7777777777777778,
              "#fb9f3a"
             ],
             [
              0.8888888888888888,
              "#fdca26"
             ],
             [
              1,
              "#f0f921"
             ]
            ],
            "type": "heatmapgl"
           }
          ],
          "histogram": [
           {
            "marker": {
             "pattern": {
              "fillmode": "overlay",
              "size": 10,
              "solidity": 0.2
             }
            },
            "type": "histogram"
           }
          ],
          "histogram2d": [
           {
            "colorbar": {
             "outlinewidth": 0,
             "ticks": ""
            },
            "colorscale": [
             [
              0,
              "#0d0887"
             ],
             [
              0.1111111111111111,
              "#46039f"
             ],
             [
              0.2222222222222222,
              "#7201a8"
             ],
             [
              0.3333333333333333,
              "#9c179e"
             ],
             [
              0.4444444444444444,
              "#bd3786"
             ],
             [
              0.5555555555555556,
              "#d8576b"
             ],
             [
              0.6666666666666666,
              "#ed7953"
             ],
             [
              0.7777777777777778,
              "#fb9f3a"
             ],
             [
              0.8888888888888888,
              "#fdca26"
             ],
             [
              1,
              "#f0f921"
             ]
            ],
            "type": "histogram2d"
           }
          ],
          "histogram2dcontour": [
           {
            "colorbar": {
             "outlinewidth": 0,
             "ticks": ""
            },
            "colorscale": [
             [
              0,
              "#0d0887"
             ],
             [
              0.1111111111111111,
              "#46039f"
             ],
             [
              0.2222222222222222,
              "#7201a8"
             ],
             [
              0.3333333333333333,
              "#9c179e"
             ],
             [
              0.4444444444444444,
              "#bd3786"
             ],
             [
              0.5555555555555556,
              "#d8576b"
             ],
             [
              0.6666666666666666,
              "#ed7953"
             ],
             [
              0.7777777777777778,
              "#fb9f3a"
             ],
             [
              0.8888888888888888,
              "#fdca26"
             ],
             [
              1,
              "#f0f921"
             ]
            ],
            "type": "histogram2dcontour"
           }
          ],
          "mesh3d": [
           {
            "colorbar": {
             "outlinewidth": 0,
             "ticks": ""
            },
            "type": "mesh3d"
           }
          ],
          "parcoords": [
           {
            "line": {
             "colorbar": {
              "outlinewidth": 0,
              "ticks": ""
             }
            },
            "type": "parcoords"
           }
          ],
          "pie": [
           {
            "automargin": true,
            "type": "pie"
           }
          ],
          "scatter": [
           {
            "fillpattern": {
             "fillmode": "overlay",
             "size": 10,
             "solidity": 0.2
            },
            "type": "scatter"
           }
          ],
          "scatter3d": [
           {
            "line": {
             "colorbar": {
              "outlinewidth": 0,
              "ticks": ""
             }
            },
            "marker": {
             "colorbar": {
              "outlinewidth": 0,
              "ticks": ""
             }
            },
            "type": "scatter3d"
           }
          ],
          "scattercarpet": [
           {
            "marker": {
             "colorbar": {
              "outlinewidth": 0,
              "ticks": ""
             }
            },
            "type": "scattercarpet"
           }
          ],
          "scattergeo": [
           {
            "marker": {
             "colorbar": {
              "outlinewidth": 0,
              "ticks": ""
             }
            },
            "type": "scattergeo"
           }
          ],
          "scattergl": [
           {
            "marker": {
             "colorbar": {
              "outlinewidth": 0,
              "ticks": ""
             }
            },
            "type": "scattergl"
           }
          ],
          "scattermapbox": [
           {
            "marker": {
             "colorbar": {
              "outlinewidth": 0,
              "ticks": ""
             }
            },
            "type": "scattermapbox"
           }
          ],
          "scatterpolar": [
           {
            "marker": {
             "colorbar": {
              "outlinewidth": 0,
              "ticks": ""
             }
            },
            "type": "scatterpolar"
           }
          ],
          "scatterpolargl": [
           {
            "marker": {
             "colorbar": {
              "outlinewidth": 0,
              "ticks": ""
             }
            },
            "type": "scatterpolargl"
           }
          ],
          "scatterternary": [
           {
            "marker": {
             "colorbar": {
              "outlinewidth": 0,
              "ticks": ""
             }
            },
            "type": "scatterternary"
           }
          ],
          "surface": [
           {
            "colorbar": {
             "outlinewidth": 0,
             "ticks": ""
            },
            "colorscale": [
             [
              0,
              "#0d0887"
             ],
             [
              0.1111111111111111,
              "#46039f"
             ],
             [
              0.2222222222222222,
              "#7201a8"
             ],
             [
              0.3333333333333333,
              "#9c179e"
             ],
             [
              0.4444444444444444,
              "#bd3786"
             ],
             [
              0.5555555555555556,
              "#d8576b"
             ],
             [
              0.6666666666666666,
              "#ed7953"
             ],
             [
              0.7777777777777778,
              "#fb9f3a"
             ],
             [
              0.8888888888888888,
              "#fdca26"
             ],
             [
              1,
              "#f0f921"
             ]
            ],
            "type": "surface"
           }
          ],
          "table": [
           {
            "cells": {
             "fill": {
              "color": "#EBF0F8"
             },
             "line": {
              "color": "white"
             }
            },
            "header": {
             "fill": {
              "color": "#C8D4E3"
             },
             "line": {
              "color": "white"
             }
            },
            "type": "table"
           }
          ]
         },
         "layout": {
          "annotationdefaults": {
           "arrowcolor": "#2a3f5f",
           "arrowhead": 0,
           "arrowwidth": 1
          },
          "autotypenumbers": "strict",
          "coloraxis": {
           "colorbar": {
            "outlinewidth": 0,
            "ticks": ""
           }
          },
          "colorscale": {
           "diverging": [
            [
             0,
             "#8e0152"
            ],
            [
             0.1,
             "#c51b7d"
            ],
            [
             0.2,
             "#de77ae"
            ],
            [
             0.3,
             "#f1b6da"
            ],
            [
             0.4,
             "#fde0ef"
            ],
            [
             0.5,
             "#f7f7f7"
            ],
            [
             0.6,
             "#e6f5d0"
            ],
            [
             0.7,
             "#b8e186"
            ],
            [
             0.8,
             "#7fbc41"
            ],
            [
             0.9,
             "#4d9221"
            ],
            [
             1,
             "#276419"
            ]
           ],
           "sequential": [
            [
             0,
             "#0d0887"
            ],
            [
             0.1111111111111111,
             "#46039f"
            ],
            [
             0.2222222222222222,
             "#7201a8"
            ],
            [
             0.3333333333333333,
             "#9c179e"
            ],
            [
             0.4444444444444444,
             "#bd3786"
            ],
            [
             0.5555555555555556,
             "#d8576b"
            ],
            [
             0.6666666666666666,
             "#ed7953"
            ],
            [
             0.7777777777777778,
             "#fb9f3a"
            ],
            [
             0.8888888888888888,
             "#fdca26"
            ],
            [
             1,
             "#f0f921"
            ]
           ],
           "sequentialminus": [
            [
             0,
             "#0d0887"
            ],
            [
             0.1111111111111111,
             "#46039f"
            ],
            [
             0.2222222222222222,
             "#7201a8"
            ],
            [
             0.3333333333333333,
             "#9c179e"
            ],
            [
             0.4444444444444444,
             "#bd3786"
            ],
            [
             0.5555555555555556,
             "#d8576b"
            ],
            [
             0.6666666666666666,
             "#ed7953"
            ],
            [
             0.7777777777777778,
             "#fb9f3a"
            ],
            [
             0.8888888888888888,
             "#fdca26"
            ],
            [
             1,
             "#f0f921"
            ]
           ]
          },
          "colorway": [
           "#636efa",
           "#EF553B",
           "#00cc96",
           "#ab63fa",
           "#FFA15A",
           "#19d3f3",
           "#FF6692",
           "#B6E880",
           "#FF97FF",
           "#FECB52"
          ],
          "font": {
           "color": "#2a3f5f"
          },
          "geo": {
           "bgcolor": "white",
           "lakecolor": "white",
           "landcolor": "#E5ECF6",
           "showlakes": true,
           "showland": true,
           "subunitcolor": "white"
          },
          "hoverlabel": {
           "align": "left"
          },
          "hovermode": "closest",
          "mapbox": {
           "style": "light"
          },
          "paper_bgcolor": "white",
          "plot_bgcolor": "#E5ECF6",
          "polar": {
           "angularaxis": {
            "gridcolor": "white",
            "linecolor": "white",
            "ticks": ""
           },
           "bgcolor": "#E5ECF6",
           "radialaxis": {
            "gridcolor": "white",
            "linecolor": "white",
            "ticks": ""
           }
          },
          "scene": {
           "xaxis": {
            "backgroundcolor": "#E5ECF6",
            "gridcolor": "white",
            "gridwidth": 2,
            "linecolor": "white",
            "showbackground": true,
            "ticks": "",
            "zerolinecolor": "white"
           },
           "yaxis": {
            "backgroundcolor": "#E5ECF6",
            "gridcolor": "white",
            "gridwidth": 2,
            "linecolor": "white",
            "showbackground": true,
            "ticks": "",
            "zerolinecolor": "white"
           },
           "zaxis": {
            "backgroundcolor": "#E5ECF6",
            "gridcolor": "white",
            "gridwidth": 2,
            "linecolor": "white",
            "showbackground": true,
            "ticks": "",
            "zerolinecolor": "white"
           }
          },
          "shapedefaults": {
           "line": {
            "color": "#2a3f5f"
           }
          },
          "ternary": {
           "aaxis": {
            "gridcolor": "white",
            "linecolor": "white",
            "ticks": ""
           },
           "baxis": {
            "gridcolor": "white",
            "linecolor": "white",
            "ticks": ""
           },
           "bgcolor": "#E5ECF6",
           "caxis": {
            "gridcolor": "white",
            "linecolor": "white",
            "ticks": ""
           }
          },
          "title": {
           "x": 0.05
          },
          "xaxis": {
           "automargin": true,
           "gridcolor": "white",
           "linecolor": "white",
           "ticks": "",
           "title": {
            "standoff": 15
           },
           "zerolinecolor": "white",
           "zerolinewidth": 2
          },
          "yaxis": {
           "automargin": true,
           "gridcolor": "white",
           "linecolor": "white",
           "ticks": "",
           "title": {
            "standoff": 15
           },
           "zerolinecolor": "white",
           "zerolinewidth": 2
          }
         }
        },
        "title": {
         "text": "Optimization History Plot"
        },
        "xaxis": {
         "title": {
          "text": "Iteration"
         }
        },
        "yaxis": {
         "title": {
          "text": "objective_score"
         }
        }
       }
      }
     },
     "metadata": {},
     "output_type": "display_data"
    }
   ],
   "source": [
    "algo_object.plot_history()"
   ]
  },
  {
   "cell_type": "code",
   "execution_count": 6,
   "metadata": {},
   "outputs": [],
   "source": [
    "feat = [\n",
    "    \"IAT\",\n",
    "    \"Protocol_Type\",\n",
    "    \"Min\",\n",
    "    \"urg_count\",\n",
    "    \"Number\",\n",
    "    \"flow_duration\",\n",
    "    \"Weight\",\n",
    "    \"Header_Length\",\n",
    "    \"rst_count\",\n",
    "    \"Max\",\n",
    "    \"ack_count\",\n",
    "    \"Magnitue\",\n",
    "    \"Tot_size\",\n",
    "    \"AVG\"\n",
    "]\n"
   ]
  },
  {
   "cell_type": "code",
   "execution_count": 7,
   "metadata": {},
   "outputs": [
    {
     "name": "stdout",
     "output_type": "stream",
     "text": [
      "[LightGBM] [Info] Auto-choosing row-wise multi-threading, the overhead of testing was 0.012868 seconds.\n",
      "You can set `force_row_wise=true` to remove the overhead.\n",
      "And if memory is not enough, you can set `force_col_wise=true`.\n",
      "[LightGBM] [Info] Total Bins 3061\n",
      "[LightGBM] [Info] Number of data points in the train set: 168000, number of used features: 14\n",
      "[LightGBM] [Info] Start training from score -1.096525\n",
      "[LightGBM] [Info] Start training from score -1.100185\n",
      "[LightGBM] [Info] Start training from score -1.099130\n",
      "[LightGBM] [Warning] No further splits with positive gain, best gain: -inf\n",
      "LightGBM Model accuracy score: 0.9996\n"
     ]
    }
   ],
   "source": [
    "clf = lgb.LGBMClassifier()\n",
    "clf.fit(X_train[feat], y_train)\n",
    "y_pred=clf.predict(X_test[feat])\n",
    "\n",
    "accuracy=accuracy_score(y_pred, y_test)\n",
    "print('LightGBM Model accuracy score: {0:0.4f}'.format(accuracy_score(y_test, y_pred)))"
   ]
  },
  {
   "cell_type": "code",
   "execution_count": null,
   "metadata": {},
   "outputs": [
    {
     "name": "stdout",
     "output_type": "stream",
     "text": [
      "Training set score: 1.0000\n",
      "Test set score: 0.9999\n"
     ]
    }
   ],
   "source": [
    "print('Training set score: {:.4f}'.format(clf.score(X_train[feat], y_train)))\n",
    "\n",
    "print('Test set score: {:.4f}'.format(clf.score(X_test[feat], y_test)))"
   ]
  },
  {
   "cell_type": "code",
   "execution_count": null,
   "metadata": {},
   "outputs": [
    {
     "name": "stdout",
     "output_type": "stream",
     "text": [
      "              precision    recall  f1-score   support\n",
      "\n",
      "           1       1.00      1.00      1.00     13883\n",
      "           2       1.00      1.00      1.00     14088\n",
      "           3       1.00      1.00      1.00     14029\n",
      "\n",
      "    accuracy                           1.00     42000\n",
      "   macro avg       1.00      1.00      1.00     42000\n",
      "weighted avg       1.00      1.00      1.00     42000\n",
      "\n"
     ]
    }
   ],
   "source": [
    "\n",
    "print(classification_report(y_test, y_pred))"
   ]
  },
  {
   "cell_type": "code",
   "execution_count": null,
   "metadata": {},
   "outputs": [
    {
     "name": "stdout",
     "output_type": "stream",
     "text": [
      "[LightGBM] [Info] Number of positive: 55848, number of negative: 64152\n",
      "[LightGBM] [Info] Auto-choosing col-wise multi-threading, the overhead of testing was 0.033043 seconds.\n",
      "You can set `force_col_wise=true` to remove the overhead.\n",
      "[LightGBM] [Info] Total Bins 5212\n",
      "[LightGBM] [Info] Number of data points in the train set: 120000, number of used features: 39\n",
      "[LightGBM] [Info] [binary:BoostFromScore]: pavg=0.465400 -> initscore=-0.138622\n",
      "[LightGBM] [Info] Start training from score -0.138622\n",
      "[LightGBM] [Info] Number of positive: 55848, number of negative: 64152\n",
      "[LightGBM] [Info] Auto-choosing row-wise multi-threading, the overhead of testing was 0.002237 seconds.\n",
      "You can set `force_row_wise=true` to remove the overhead.\n",
      "And if memory is not enough, you can set `force_col_wise=true`.\n",
      "[LightGBM] [Info] Total Bins 2901\n",
      "[LightGBM] [Info] Number of data points in the train set: 120000, number of used features: 23\n",
      "[LightGBM] [Info] [binary:BoostFromScore]: pavg=0.465400 -> initscore=-0.138622\n",
      "[LightGBM] [Info] Start training from score -0.138622\n",
      "[LightGBM] [Info] Number of positive: 55848, number of negative: 64152\n",
      "[LightGBM] [Info] Auto-choosing row-wise multi-threading, the overhead of testing was 0.002675 seconds.\n",
      "You can set `force_row_wise=true` to remove the overhead.\n",
      "And if memory is not enough, you can set `force_col_wise=true`.\n",
      "[LightGBM] [Info] Total Bins 3921\n",
      "[LightGBM] [Info] Number of data points in the train set: 120000, number of used features: 26\n",
      "[LightGBM] [Info] [binary:BoostFromScore]: pavg=0.465400 -> initscore=-0.138622\n",
      "[LightGBM] [Info] Start training from score -0.138622\n",
      "[LightGBM] [Info] Number of positive: 55848, number of negative: 64152\n",
      "[LightGBM] [Info] Auto-choosing row-wise multi-threading, the overhead of testing was 0.002542 seconds.\n",
      "You can set `force_row_wise=true` to remove the overhead.\n",
      "And if memory is not enough, you can set `force_col_wise=true`.\n",
      "[LightGBM] [Info] Total Bins 2772\n",
      "[LightGBM] [Info] Number of data points in the train set: 120000, number of used features: 22\n",
      "[LightGBM] [Info] [binary:BoostFromScore]: pavg=0.465400 -> initscore=-0.138622\n",
      "[LightGBM] [Info] Start training from score -0.138622\n",
      "[LightGBM] [Info] Number of positive: 55848, number of negative: 64152\n",
      "[LightGBM] [Info] Auto-choosing row-wise multi-threading, the overhead of testing was 0.000993 seconds.\n",
      "You can set `force_row_wise=true` to remove the overhead.\n",
      "And if memory is not enough, you can set `force_col_wise=true`.\n",
      "[LightGBM] [Info] Total Bins 2497\n",
      "[LightGBM] [Info] Number of data points in the train set: 120000, number of used features: 18\n",
      "[LightGBM] [Info] [binary:BoostFromScore]: pavg=0.465400 -> initscore=-0.138622\n",
      "[LightGBM] [Info] Start training from score -0.138622\n",
      "[LightGBM] [Info] Number of positive: 55848, number of negative: 64152\n",
      "[LightGBM] [Info] Auto-choosing row-wise multi-threading, the overhead of testing was 0.002581 seconds.\n",
      "You can set `force_row_wise=true` to remove the overhead.\n",
      "And if memory is not enough, you can set `force_col_wise=true`.\n",
      "[LightGBM] [Info] Total Bins 1867\n",
      "[LightGBM] [Info] Number of data points in the train set: 120000, number of used features: 18\n",
      "[LightGBM] [Info] [binary:BoostFromScore]: pavg=0.465400 -> initscore=-0.138622\n",
      "[LightGBM] [Info] Start training from score -0.138622\n",
      "[LightGBM] [Info] Number of positive: 55848, number of negative: 64152\n",
      "[LightGBM] [Info] Auto-choosing row-wise multi-threading, the overhead of testing was 0.002410 seconds.\n",
      "You can set `force_row_wise=true` to remove the overhead.\n",
      "And if memory is not enough, you can set `force_col_wise=true`.\n",
      "[LightGBM] [Info] Total Bins 3143\n",
      "[LightGBM] [Info] Number of data points in the train set: 120000, number of used features: 21\n",
      "[LightGBM] [Info] [binary:BoostFromScore]: pavg=0.465400 -> initscore=-0.138622\n",
      "[LightGBM] [Info] Start training from score -0.138622\n",
      "[LightGBM] [Info] Number of positive: 55848, number of negative: 64152\n",
      "[LightGBM] [Info] Auto-choosing row-wise multi-threading, the overhead of testing was 0.002258 seconds.\n",
      "You can set `force_row_wise=true` to remove the overhead.\n",
      "And if memory is not enough, you can set `force_col_wise=true`.\n",
      "[LightGBM] [Info] Total Bins 2828\n",
      "[LightGBM] [Info] Number of data points in the train set: 120000, number of used features: 20\n",
      "[LightGBM] [Info] [binary:BoostFromScore]: pavg=0.465400 -> initscore=-0.138622\n",
      "[LightGBM] [Info] Start training from score -0.138622\n",
      "[LightGBM] [Info] Number of positive: 55848, number of negative: 64152\n",
      "[LightGBM] [Info] Auto-choosing row-wise multi-threading, the overhead of testing was 0.002264 seconds.\n",
      "You can set `force_row_wise=true` to remove the overhead.\n",
      "And if memory is not enough, you can set `force_col_wise=true`.\n",
      "[LightGBM] [Info] Total Bins 2173\n",
      "[LightGBM] [Info] Number of data points in the train set: 120000, number of used features: 17\n",
      "[LightGBM] [Info] [binary:BoostFromScore]: pavg=0.465400 -> initscore=-0.138622\n",
      "[LightGBM] [Info] Start training from score -0.138622\n",
      "[LightGBM] [Info] Number of positive: 55848, number of negative: 64152\n",
      "[LightGBM] [Info] Auto-choosing row-wise multi-threading, the overhead of testing was 0.003134 seconds.\n",
      "You can set `force_row_wise=true` to remove the overhead.\n",
      "And if memory is not enough, you can set `force_col_wise=true`.\n",
      "[LightGBM] [Info] Total Bins 2838\n",
      "[LightGBM] [Info] Number of data points in the train set: 120000, number of used features: 21\n",
      "[LightGBM] [Info] [binary:BoostFromScore]: pavg=0.465400 -> initscore=-0.138622\n",
      "[LightGBM] [Info] Start training from score -0.138622\n",
      "[LightGBM] [Info] Number of positive: 55848, number of negative: 64152\n",
      "[LightGBM] [Info] Auto-choosing row-wise multi-threading, the overhead of testing was 0.001022 seconds.\n",
      "You can set `force_row_wise=true` to remove the overhead.\n",
      "And if memory is not enough, you can set `force_col_wise=true`.\n",
      "[LightGBM] [Info] Total Bins 2127\n",
      "[LightGBM] [Info] Number of data points in the train set: 120000, number of used features: 16\n",
      "[LightGBM] [Info] [binary:BoostFromScore]: pavg=0.465400 -> initscore=-0.138622\n",
      "[LightGBM] [Info] Start training from score -0.138622\n",
      "[LightGBM] [Info] Number of positive: 55848, number of negative: 64152\n",
      "[LightGBM] [Info] Auto-choosing row-wise multi-threading, the overhead of testing was 0.002635 seconds.\n",
      "You can set `force_row_wise=true` to remove the overhead.\n",
      "And if memory is not enough, you can set `force_col_wise=true`.\n",
      "[LightGBM] [Info] Total Bins 2376\n",
      "[LightGBM] [Info] Number of data points in the train set: 120000, number of used features: 17\n",
      "[LightGBM] [Info] [binary:BoostFromScore]: pavg=0.465400 -> initscore=-0.138622\n",
      "[LightGBM] [Info] Start training from score -0.138622\n",
      "[LightGBM] [Info] Number of positive: 55848, number of negative: 64152\n",
      "[LightGBM] [Info] Auto-choosing row-wise multi-threading, the overhead of testing was 0.003280 seconds.\n",
      "You can set `force_row_wise=true` to remove the overhead.\n",
      "And if memory is not enough, you can set `force_col_wise=true`.\n",
      "[LightGBM] [Info] Total Bins 3088\n",
      "[LightGBM] [Info] Number of data points in the train set: 120000, number of used features: 25\n",
      "[LightGBM] [Info] [binary:BoostFromScore]: pavg=0.465400 -> initscore=-0.138622\n",
      "[LightGBM] [Info] Start training from score -0.138622\n",
      "[LightGBM] [Info] Number of positive: 55848, number of negative: 64152\n",
      "[LightGBM] [Info] Auto-choosing row-wise multi-threading, the overhead of testing was 0.003758 seconds.\n",
      "You can set `force_row_wise=true` to remove the overhead.\n",
      "And if memory is not enough, you can set `force_col_wise=true`.\n",
      "[LightGBM] [Info] Total Bins 3065\n",
      "[LightGBM] [Info] Number of data points in the train set: 120000, number of used features: 23\n",
      "[LightGBM] [Info] [binary:BoostFromScore]: pavg=0.465400 -> initscore=-0.138622\n",
      "[LightGBM] [Info] Start training from score -0.138622\n",
      "[LightGBM] [Info] Number of positive: 55848, number of negative: 64152\n",
      "[LightGBM] [Info] Auto-choosing row-wise multi-threading, the overhead of testing was 0.002361 seconds.\n",
      "You can set `force_row_wise=true` to remove the overhead.\n",
      "And if memory is not enough, you can set `force_col_wise=true`.\n",
      "[LightGBM] [Info] Total Bins 1893\n",
      "[LightGBM] [Info] Number of data points in the train set: 120000, number of used features: 16\n",
      "[LightGBM] [Info] [binary:BoostFromScore]: pavg=0.465400 -> initscore=-0.138622\n",
      "[LightGBM] [Info] Start training from score -0.138622\n",
      "[LightGBM] [Info] Number of positive: 55848, number of negative: 64152\n",
      "[LightGBM] [Info] Auto-choosing row-wise multi-threading, the overhead of testing was 0.002999 seconds.\n",
      "You can set `force_row_wise=true` to remove the overhead.\n",
      "And if memory is not enough, you can set `force_col_wise=true`.\n",
      "[LightGBM] [Info] Total Bins 3275\n",
      "[LightGBM] [Info] Number of data points in the train set: 120000, number of used features: 24\n",
      "[LightGBM] [Info] [binary:BoostFromScore]: pavg=0.465400 -> initscore=-0.138622\n",
      "[LightGBM] [Info] Start training from score -0.138622\n",
      "[LightGBM] [Info] Number of positive: 55848, number of negative: 64152\n",
      "[LightGBM] [Info] Auto-choosing row-wise multi-threading, the overhead of testing was 0.002984 seconds.\n",
      "You can set `force_row_wise=true` to remove the overhead.\n",
      "And if memory is not enough, you can set `force_col_wise=true`.\n",
      "[LightGBM] [Info] Total Bins 1873\n",
      "[LightGBM] [Info] Number of data points in the train set: 120000, number of used features: 18\n",
      "[LightGBM] [Info] [binary:BoostFromScore]: pavg=0.465400 -> initscore=-0.138622\n",
      "[LightGBM] [Info] Start training from score -0.138622\n",
      "[LightGBM] [Info] Number of positive: 55848, number of negative: 64152\n",
      "[LightGBM] [Info] Auto-choosing row-wise multi-threading, the overhead of testing was 0.002589 seconds.\n",
      "You can set `force_row_wise=true` to remove the overhead.\n",
      "And if memory is not enough, you can set `force_col_wise=true`.\n",
      "[LightGBM] [Info] Total Bins 3175\n",
      "[LightGBM] [Info] Number of data points in the train set: 120000, number of used features: 24\n",
      "[LightGBM] [Info] [binary:BoostFromScore]: pavg=0.465400 -> initscore=-0.138622\n",
      "[LightGBM] [Info] Start training from score -0.138622\n",
      "[LightGBM] [Info] Number of positive: 55848, number of negative: 64152\n",
      "[LightGBM] [Info] Auto-choosing row-wise multi-threading, the overhead of testing was 0.002560 seconds.\n",
      "You can set `force_row_wise=true` to remove the overhead.\n",
      "And if memory is not enough, you can set `force_col_wise=true`.\n",
      "[LightGBM] [Info] Total Bins 2003\n",
      "[LightGBM] [Info] Number of data points in the train set: 120000, number of used features: 16\n",
      "[LightGBM] [Info] [binary:BoostFromScore]: pavg=0.465400 -> initscore=-0.138622\n",
      "[LightGBM] [Info] Start training from score -0.138622\n",
      "[LightGBM] [Info] Number of positive: 55848, number of negative: 64152\n",
      "[LightGBM] [Info] Auto-choosing row-wise multi-threading, the overhead of testing was 0.002503 seconds.\n",
      "You can set `force_row_wise=true` to remove the overhead.\n",
      "And if memory is not enough, you can set `force_col_wise=true`.\n",
      "[LightGBM] [Info] Total Bins 2552\n",
      "[LightGBM] [Info] Number of data points in the train set: 120000, number of used features: 20\n",
      "[LightGBM] [Info] [binary:BoostFromScore]: pavg=0.465400 -> initscore=-0.138622\n",
      "[LightGBM] [Info] Start training from score -0.138622\n",
      "[LightGBM] [Info] Number of positive: 55848, number of negative: 64152\n",
      "[LightGBM] [Info] Auto-choosing row-wise multi-threading, the overhead of testing was 0.003670 seconds.\n",
      "You can set `force_row_wise=true` to remove the overhead.\n",
      "And if memory is not enough, you can set `force_col_wise=true`.\n",
      "[LightGBM] [Info] Total Bins 2668\n",
      "[LightGBM] [Info] Number of data points in the train set: 120000, number of used features: 23\n",
      "[LightGBM] [Info] [binary:BoostFromScore]: pavg=0.465400 -> initscore=-0.138622\n",
      "[LightGBM] [Info] Start training from score -0.138622\n",
      "[LightGBM] [Info] Number of positive: 55848, number of negative: 64152\n",
      "[LightGBM] [Info] Auto-choosing row-wise multi-threading, the overhead of testing was 0.002530 seconds.\n",
      "You can set `force_row_wise=true` to remove the overhead.\n",
      "And if memory is not enough, you can set `force_col_wise=true`.\n",
      "[LightGBM] [Info] Total Bins 1623\n",
      "[LightGBM] [Info] Number of data points in the train set: 120000, number of used features: 18\n",
      "[LightGBM] [Info] [binary:BoostFromScore]: pavg=0.465400 -> initscore=-0.138622\n",
      "[LightGBM] [Info] Start training from score -0.138622\n",
      "[LightGBM] [Info] Number of positive: 55848, number of negative: 64152\n",
      "[LightGBM] [Info] Auto-choosing row-wise multi-threading, the overhead of testing was 0.002780 seconds.\n",
      "You can set `force_row_wise=true` to remove the overhead.\n",
      "And if memory is not enough, you can set `force_col_wise=true`.\n",
      "[LightGBM] [Info] Total Bins 1962\n",
      "[LightGBM] [Info] Number of data points in the train set: 120000, number of used features: 19\n",
      "[LightGBM] [Info] [binary:BoostFromScore]: pavg=0.465400 -> initscore=-0.138622\n",
      "[LightGBM] [Info] Start training from score -0.138622\n",
      "[LightGBM] [Info] Number of positive: 55848, number of negative: 64152\n",
      "[LightGBM] [Info] Auto-choosing row-wise multi-threading, the overhead of testing was 0.002754 seconds.\n",
      "You can set `force_row_wise=true` to remove the overhead.\n",
      "And if memory is not enough, you can set `force_col_wise=true`.\n",
      "[LightGBM] [Info] Total Bins 3677\n",
      "[LightGBM] [Info] Number of data points in the train set: 120000, number of used features: 22\n",
      "[LightGBM] [Info] [binary:BoostFromScore]: pavg=0.465400 -> initscore=-0.138622\n",
      "[LightGBM] [Info] Start training from score -0.138622\n",
      "[LightGBM] [Info] Number of positive: 55848, number of negative: 64152\n",
      "[LightGBM] [Info] Auto-choosing row-wise multi-threading, the overhead of testing was 0.006915 seconds.\n",
      "You can set `force_row_wise=true` to remove the overhead.\n",
      "And if memory is not enough, you can set `force_col_wise=true`.\n",
      "[LightGBM] [Info] Total Bins 2784\n",
      "[LightGBM] [Info] Number of data points in the train set: 120000, number of used features: 18\n",
      "[LightGBM] [Info] [binary:BoostFromScore]: pavg=0.465400 -> initscore=-0.138622\n",
      "[LightGBM] [Info] Start training from score -0.138622\n",
      "[LightGBM] [Info] Number of positive: 55848, number of negative: 64152\n",
      "[LightGBM] [Info] Auto-choosing row-wise multi-threading, the overhead of testing was 0.002430 seconds.\n",
      "You can set `force_row_wise=true` to remove the overhead.\n",
      "And if memory is not enough, you can set `force_col_wise=true`.\n",
      "[LightGBM] [Info] Total Bins 2550\n",
      "[LightGBM] [Info] Number of data points in the train set: 120000, number of used features: 17\n",
      "[LightGBM] [Info] [binary:BoostFromScore]: pavg=0.465400 -> initscore=-0.138622\n",
      "[LightGBM] [Info] Start training from score -0.138622\n",
      "[LightGBM] [Info] Number of positive: 55848, number of negative: 64152\n",
      "[LightGBM] [Info] Auto-choosing col-wise multi-threading, the overhead of testing was 0.004440 seconds.\n",
      "You can set `force_col_wise=true` to remove the overhead.\n",
      "[LightGBM] [Info] Total Bins 2596\n",
      "[LightGBM] [Info] Number of data points in the train set: 120000, number of used features: 19\n",
      "[LightGBM] [Info] [binary:BoostFromScore]: pavg=0.465400 -> initscore=-0.138622\n",
      "[LightGBM] [Info] Start training from score -0.138622\n",
      "[LightGBM] [Info] Number of positive: 55848, number of negative: 64152\n",
      "[LightGBM] [Info] Auto-choosing row-wise multi-threading, the overhead of testing was 0.003257 seconds.\n",
      "You can set `force_row_wise=true` to remove the overhead.\n",
      "And if memory is not enough, you can set `force_col_wise=true`.\n",
      "[LightGBM] [Info] Total Bins 3328\n",
      "[LightGBM] [Info] Number of data points in the train set: 120000, number of used features: 21\n",
      "[LightGBM] [Info] [binary:BoostFromScore]: pavg=0.465400 -> initscore=-0.138622\n",
      "[LightGBM] [Info] Start training from score -0.138622\n",
      "[LightGBM] [Info] Number of positive: 55848, number of negative: 64152\n",
      "[LightGBM] [Info] Auto-choosing row-wise multi-threading, the overhead of testing was 0.002951 seconds.\n",
      "You can set `force_row_wise=true` to remove the overhead.\n",
      "And if memory is not enough, you can set `force_col_wise=true`.\n",
      "[LightGBM] [Info] Total Bins 2586\n",
      "[LightGBM] [Info] Number of data points in the train set: 120000, number of used features: 21\n",
      "[LightGBM] [Info] [binary:BoostFromScore]: pavg=0.465400 -> initscore=-0.138622\n",
      "[LightGBM] [Info] Start training from score -0.138622\n",
      "[LightGBM] [Info] Number of positive: 55848, number of negative: 64152\n",
      "[LightGBM] [Info] Auto-choosing col-wise multi-threading, the overhead of testing was 0.004163 seconds.\n",
      "You can set `force_col_wise=true` to remove the overhead.\n",
      "[LightGBM] [Info] Total Bins 2573\n",
      "[LightGBM] [Info] Number of data points in the train set: 120000, number of used features: 17\n",
      "[LightGBM] [Info] [binary:BoostFromScore]: pavg=0.465400 -> initscore=-0.138622\n",
      "[LightGBM] [Info] Start training from score -0.138622\n",
      "[LightGBM] [Info] Number of positive: 55848, number of negative: 64152\n",
      "[LightGBM] [Info] Auto-choosing row-wise multi-threading, the overhead of testing was 0.003122 seconds.\n",
      "You can set `force_row_wise=true` to remove the overhead.\n",
      "And if memory is not enough, you can set `force_col_wise=true`.\n",
      "[LightGBM] [Info] Total Bins 2839\n",
      "[LightGBM] [Info] Number of data points in the train set: 120000, number of used features: 19\n",
      "[LightGBM] [Info] [binary:BoostFromScore]: pavg=0.465400 -> initscore=-0.138622\n",
      "[LightGBM] [Info] Start training from score -0.138622\n",
      "[LightGBM] [Info] Number of positive: 55848, number of negative: 64152\n",
      "[LightGBM] [Info] Auto-choosing row-wise multi-threading, the overhead of testing was 0.003329 seconds.\n",
      "You can set `force_row_wise=true` to remove the overhead.\n",
      "And if memory is not enough, you can set `force_col_wise=true`.\n",
      "[LightGBM] [Info] Total Bins 2146\n",
      "[LightGBM] [Info] Number of data points in the train set: 120000, number of used features: 13\n",
      "[LightGBM] [Info] [binary:BoostFromScore]: pavg=0.465400 -> initscore=-0.138622\n",
      "[LightGBM] [Info] Start training from score -0.138622\n",
      "[LightGBM] [Info] Number of positive: 55848, number of negative: 64152\n",
      "[LightGBM] [Info] Auto-choosing row-wise multi-threading, the overhead of testing was 0.003719 seconds.\n",
      "You can set `force_row_wise=true` to remove the overhead.\n",
      "And if memory is not enough, you can set `force_col_wise=true`.\n",
      "[LightGBM] [Info] Total Bins 3779\n",
      "[LightGBM] [Info] Number of data points in the train set: 120000, number of used features: 24\n",
      "[LightGBM] [Info] [binary:BoostFromScore]: pavg=0.465400 -> initscore=-0.138622\n",
      "[LightGBM] [Info] Start training from score -0.138622\n",
      "[LightGBM] [Info] Number of positive: 55848, number of negative: 64152\n",
      "[LightGBM] [Info] Auto-choosing col-wise multi-threading, the overhead of testing was 0.017625 seconds.\n",
      "You can set `force_col_wise=true` to remove the overhead.\n",
      "[LightGBM] [Info] Total Bins 4532\n",
      "[LightGBM] [Info] Number of data points in the train set: 120000, number of used features: 33\n",
      "[LightGBM] [Info] [binary:BoostFromScore]: pavg=0.465400 -> initscore=-0.138622\n",
      "[LightGBM] [Info] Start training from score -0.138622\n",
      "[LightGBM] [Info] Number of positive: 55848, number of negative: 64152\n",
      "[LightGBM] [Info] Auto-choosing row-wise multi-threading, the overhead of testing was 0.004036 seconds.\n",
      "You can set `force_row_wise=true` to remove the overhead.\n",
      "And if memory is not enough, you can set `force_col_wise=true`.\n",
      "[LightGBM] [Info] Total Bins 2743\n",
      "[LightGBM] [Info] Number of data points in the train set: 120000, number of used features: 26\n",
      "[LightGBM] [Info] [binary:BoostFromScore]: pavg=0.465400 -> initscore=-0.138622\n",
      "[LightGBM] [Info] Start training from score -0.138622\n",
      "[LightGBM] [Info] Number of positive: 55848, number of negative: 64152\n",
      "[LightGBM] [Info] Auto-choosing row-wise multi-threading, the overhead of testing was 0.002890 seconds.\n",
      "You can set `force_row_wise=true` to remove the overhead.\n",
      "And if memory is not enough, you can set `force_col_wise=true`.\n",
      "[LightGBM] [Info] Total Bins 2768\n",
      "[LightGBM] [Info] Number of data points in the train set: 120000, number of used features: 20\n",
      "[LightGBM] [Info] [binary:BoostFromScore]: pavg=0.465400 -> initscore=-0.138622\n",
      "[LightGBM] [Info] Start training from score -0.138622\n",
      "[LightGBM] [Info] Number of positive: 55848, number of negative: 64152\n",
      "[LightGBM] [Info] Auto-choosing col-wise multi-threading, the overhead of testing was 0.029944 seconds.\n",
      "You can set `force_col_wise=true` to remove the overhead.\n",
      "[LightGBM] [Info] Total Bins 5204\n",
      "[LightGBM] [Info] Number of data points in the train set: 120000, number of used features: 35\n",
      "[LightGBM] [Info] [binary:BoostFromScore]: pavg=0.465400 -> initscore=-0.138622\n",
      "[LightGBM] [Info] Start training from score -0.138622\n",
      "[LightGBM] [Info] Number of positive: 55848, number of negative: 64152\n",
      "[LightGBM] [Info] Auto-choosing row-wise multi-threading, the overhead of testing was 0.003366 seconds.\n",
      "You can set `force_row_wise=true` to remove the overhead.\n",
      "And if memory is not enough, you can set `force_col_wise=true`.\n",
      "[LightGBM] [Info] Total Bins 4714\n",
      "[LightGBM] [Info] Number of data points in the train set: 120000, number of used features: 32\n",
      "[LightGBM] [Info] [binary:BoostFromScore]: pavg=0.465400 -> initscore=-0.138622\n",
      "[LightGBM] [Info] Start training from score -0.138622\n",
      "[LightGBM] [Info] Number of positive: 55848, number of negative: 64152\n",
      "[LightGBM] [Info] Auto-choosing col-wise multi-threading, the overhead of testing was 0.017683 seconds.\n",
      "You can set `force_col_wise=true` to remove the overhead.\n",
      "[LightGBM] [Info] Total Bins 2861\n",
      "[LightGBM] [Info] Number of data points in the train set: 120000, number of used features: 24\n",
      "[LightGBM] [Info] [binary:BoostFromScore]: pavg=0.465400 -> initscore=-0.138622\n",
      "[LightGBM] [Info] Start training from score -0.138622\n",
      "[LightGBM] [Info] Number of positive: 55848, number of negative: 64152\n",
      "[LightGBM] [Info] Auto-choosing row-wise multi-threading, the overhead of testing was 0.003372 seconds.\n",
      "You can set `force_row_wise=true` to remove the overhead.\n",
      "And if memory is not enough, you can set `force_col_wise=true`.\n",
      "[LightGBM] [Info] Total Bins 2999\n",
      "[LightGBM] [Info] Number of data points in the train set: 120000, number of used features: 21\n",
      "[LightGBM] [Info] [binary:BoostFromScore]: pavg=0.465400 -> initscore=-0.138622\n",
      "[LightGBM] [Info] Start training from score -0.138622\n",
      "[LightGBM] [Info] Number of positive: 55848, number of negative: 64152\n",
      "[LightGBM] [Info] Auto-choosing row-wise multi-threading, the overhead of testing was 0.003380 seconds.\n",
      "You can set `force_row_wise=true` to remove the overhead.\n",
      "And if memory is not enough, you can set `force_col_wise=true`.\n",
      "[LightGBM] [Info] Total Bins 3521\n",
      "[LightGBM] [Info] Number of data points in the train set: 120000, number of used features: 29\n",
      "[LightGBM] [Info] [binary:BoostFromScore]: pavg=0.465400 -> initscore=-0.138622\n",
      "[LightGBM] [Info] Start training from score -0.138622\n",
      "[LightGBM] [Info] Number of positive: 55848, number of negative: 64152\n",
      "[LightGBM] [Info] Auto-choosing col-wise multi-threading, the overhead of testing was 0.007158 seconds.\n",
      "You can set `force_col_wise=true` to remove the overhead.\n",
      "[LightGBM] [Info] Total Bins 4695\n",
      "[LightGBM] [Info] Number of data points in the train set: 120000, number of used features: 33\n",
      "[LightGBM] [Info] [binary:BoostFromScore]: pavg=0.465400 -> initscore=-0.138622\n",
      "[LightGBM] [Info] Start training from score -0.138622\n",
      "[LightGBM] [Info] Number of positive: 55848, number of negative: 64152\n",
      "[LightGBM] [Info] Auto-choosing row-wise multi-threading, the overhead of testing was 0.002566 seconds.\n",
      "You can set `force_row_wise=true` to remove the overhead.\n",
      "And if memory is not enough, you can set `force_col_wise=true`.\n",
      "[LightGBM] [Info] Total Bins 2765\n",
      "[LightGBM] [Info] Number of data points in the train set: 120000, number of used features: 23\n",
      "[LightGBM] [Info] [binary:BoostFromScore]: pavg=0.465400 -> initscore=-0.138622\n",
      "[LightGBM] [Info] Start training from score -0.138622\n",
      "[LightGBM] [Info] Number of positive: 55848, number of negative: 64152\n",
      "[LightGBM] [Info] Auto-choosing row-wise multi-threading, the overhead of testing was 0.004160 seconds.\n",
      "You can set `force_row_wise=true` to remove the overhead.\n",
      "And if memory is not enough, you can set `force_col_wise=true`.\n",
      "[LightGBM] [Info] Total Bins 3615\n",
      "[LightGBM] [Info] Number of data points in the train set: 120000, number of used features: 30\n",
      "[LightGBM] [Info] [binary:BoostFromScore]: pavg=0.465400 -> initscore=-0.138622\n",
      "[LightGBM] [Info] Start training from score -0.138622\n",
      "[LightGBM] [Info] Number of positive: 55848, number of negative: 64152\n",
      "[LightGBM] [Info] Auto-choosing row-wise multi-threading, the overhead of testing was 0.004186 seconds.\n",
      "You can set `force_row_wise=true` to remove the overhead.\n",
      "And if memory is not enough, you can set `force_col_wise=true`.\n",
      "[LightGBM] [Info] Total Bins 3329\n",
      "[LightGBM] [Info] Number of data points in the train set: 120000, number of used features: 28\n",
      "[LightGBM] [Info] [binary:BoostFromScore]: pavg=0.465400 -> initscore=-0.138622\n",
      "[LightGBM] [Info] Start training from score -0.138622\n",
      "[LightGBM] [Info] Number of positive: 55848, number of negative: 64152\n",
      "[LightGBM] [Info] Auto-choosing row-wise multi-threading, the overhead of testing was 0.002687 seconds.\n",
      "You can set `force_row_wise=true` to remove the overhead.\n",
      "And if memory is not enough, you can set `force_col_wise=true`.\n",
      "[LightGBM] [Info] Total Bins 2935\n",
      "[LightGBM] [Info] Number of data points in the train set: 120000, number of used features: 24\n",
      "[LightGBM] [Info] [binary:BoostFromScore]: pavg=0.465400 -> initscore=-0.138622\n",
      "[LightGBM] [Info] Start training from score -0.138622\n",
      "[LightGBM] [Info] Number of positive: 55848, number of negative: 64152\n",
      "[LightGBM] [Info] Auto-choosing row-wise multi-threading, the overhead of testing was 0.003930 seconds.\n",
      "You can set `force_row_wise=true` to remove the overhead.\n",
      "And if memory is not enough, you can set `force_col_wise=true`.\n",
      "[LightGBM] [Info] Total Bins 3437\n",
      "[LightGBM] [Info] Number of data points in the train set: 120000, number of used features: 26\n",
      "[LightGBM] [Info] [binary:BoostFromScore]: pavg=0.465400 -> initscore=-0.138622\n",
      "[LightGBM] [Info] Start training from score -0.138622\n",
      "[LightGBM] [Info] Number of positive: 55848, number of negative: 64152\n",
      "[LightGBM] [Info] Auto-choosing col-wise multi-threading, the overhead of testing was 0.007024 seconds.\n",
      "You can set `force_col_wise=true` to remove the overhead.\n",
      "[LightGBM] [Info] Total Bins 4662\n",
      "[LightGBM] [Info] Number of data points in the train set: 120000, number of used features: 33\n",
      "[LightGBM] [Info] [binary:BoostFromScore]: pavg=0.465400 -> initscore=-0.138622\n",
      "[LightGBM] [Info] Start training from score -0.138622\n",
      "[LightGBM] [Info] Number of positive: 55848, number of negative: 64152\n",
      "[LightGBM] [Info] Auto-choosing row-wise multi-threading, the overhead of testing was 0.004368 seconds.\n",
      "You can set `force_row_wise=true` to remove the overhead.\n",
      "And if memory is not enough, you can set `force_col_wise=true`.\n",
      "[LightGBM] [Info] Total Bins 4256\n",
      "[LightGBM] [Info] Number of data points in the train set: 120000, number of used features: 32\n",
      "[LightGBM] [Info] [binary:BoostFromScore]: pavg=0.465400 -> initscore=-0.138622\n",
      "[LightGBM] [Info] Start training from score -0.138622\n",
      "[LightGBM] [Info] Number of positive: 55848, number of negative: 64152\n",
      "[LightGBM] [Info] Auto-choosing row-wise multi-threading, the overhead of testing was 0.003616 seconds.\n",
      "You can set `force_row_wise=true` to remove the overhead.\n",
      "And if memory is not enough, you can set `force_col_wise=true`.\n",
      "[LightGBM] [Info] Total Bins 3439\n",
      "[LightGBM] [Info] Number of data points in the train set: 120000, number of used features: 27\n",
      "[LightGBM] [Info] [binary:BoostFromScore]: pavg=0.465400 -> initscore=-0.138622\n",
      "[LightGBM] [Info] Start training from score -0.138622\n",
      "[LightGBM] [Info] Number of positive: 55848, number of negative: 64152\n",
      "[LightGBM] [Info] Auto-choosing row-wise multi-threading, the overhead of testing was 0.003162 seconds.\n",
      "You can set `force_row_wise=true` to remove the overhead.\n",
      "And if memory is not enough, you can set `force_col_wise=true`.\n",
      "[LightGBM] [Info] Total Bins 3252\n",
      "[LightGBM] [Info] Number of data points in the train set: 120000, number of used features: 28\n",
      "[LightGBM] [Info] [binary:BoostFromScore]: pavg=0.465400 -> initscore=-0.138622\n",
      "[LightGBM] [Info] Start training from score -0.138622\n",
      "[LightGBM] [Info] Number of positive: 55848, number of negative: 64152\n",
      "[LightGBM] [Info] Auto-choosing row-wise multi-threading, the overhead of testing was 0.003297 seconds.\n",
      "You can set `force_row_wise=true` to remove the overhead.\n",
      "And if memory is not enough, you can set `force_col_wise=true`.\n",
      "[LightGBM] [Info] Total Bins 3235\n",
      "[LightGBM] [Info] Number of data points in the train set: 120000, number of used features: 29\n",
      "[LightGBM] [Info] [binary:BoostFromScore]: pavg=0.465400 -> initscore=-0.138622\n",
      "[LightGBM] [Info] Start training from score -0.138622\n",
      "[LightGBM] [Info] Number of positive: 55848, number of negative: 64152\n",
      "[LightGBM] [Info] Auto-choosing row-wise multi-threading, the overhead of testing was 0.003268 seconds.\n",
      "You can set `force_row_wise=true` to remove the overhead.\n",
      "And if memory is not enough, you can set `force_col_wise=true`.\n",
      "[LightGBM] [Info] Total Bins 3568\n",
      "[LightGBM] [Info] Number of data points in the train set: 120000, number of used features: 28\n",
      "[LightGBM] [Info] [binary:BoostFromScore]: pavg=0.465400 -> initscore=-0.138622\n",
      "[LightGBM] [Info] Start training from score -0.138622\n",
      "[LightGBM] [Info] Number of positive: 55848, number of negative: 64152\n",
      "[LightGBM] [Info] Auto-choosing row-wise multi-threading, the overhead of testing was 0.003722 seconds.\n",
      "You can set `force_row_wise=true` to remove the overhead.\n",
      "And if memory is not enough, you can set `force_col_wise=true`.\n",
      "[LightGBM] [Info] Total Bins 4816\n",
      "[LightGBM] [Info] Number of data points in the train set: 120000, number of used features: 32\n",
      "[LightGBM] [Info] [binary:BoostFromScore]: pavg=0.465400 -> initscore=-0.138622\n",
      "[LightGBM] [Info] Start training from score -0.138622\n",
      "[LightGBM] [Info] Number of positive: 55848, number of negative: 64152\n",
      "[LightGBM] [Info] Auto-choosing row-wise multi-threading, the overhead of testing was 0.002978 seconds.\n",
      "You can set `force_row_wise=true` to remove the overhead.\n",
      "And if memory is not enough, you can set `force_col_wise=true`.\n",
      "[LightGBM] [Info] Total Bins 4881\n",
      "[LightGBM] [Info] Number of data points in the train set: 120000, number of used features: 35\n",
      "[LightGBM] [Info] [binary:BoostFromScore]: pavg=0.465400 -> initscore=-0.138622\n",
      "[LightGBM] [Info] Start training from score -0.138622\n",
      "[LightGBM] [Info] Number of positive: 55848, number of negative: 64152\n",
      "[LightGBM] [Info] Auto-choosing row-wise multi-threading, the overhead of testing was 0.002845 seconds.\n",
      "You can set `force_row_wise=true` to remove the overhead.\n",
      "And if memory is not enough, you can set `force_col_wise=true`.\n",
      "[LightGBM] [Info] Total Bins 3348\n",
      "[LightGBM] [Info] Number of data points in the train set: 120000, number of used features: 26\n",
      "[LightGBM] [Info] [binary:BoostFromScore]: pavg=0.465400 -> initscore=-0.138622\n",
      "[LightGBM] [Info] Start training from score -0.138622\n",
      "[LightGBM] [Info] Number of positive: 55848, number of negative: 64152\n",
      "[LightGBM] [Info] Auto-choosing row-wise multi-threading, the overhead of testing was 0.003737 seconds.\n",
      "You can set `force_row_wise=true` to remove the overhead.\n",
      "And if memory is not enough, you can set `force_col_wise=true`.\n",
      "[LightGBM] [Info] Total Bins 3765\n",
      "[LightGBM] [Info] Number of data points in the train set: 120000, number of used features: 29\n",
      "[LightGBM] [Info] [binary:BoostFromScore]: pavg=0.465400 -> initscore=-0.138622\n",
      "[LightGBM] [Info] Start training from score -0.138622\n"
     ]
    },
    {
     "name": "stderr",
     "output_type": "stream",
     "text": [
      "\u001b[32m [ 2024-11-18 23:21:42,967 ] \u001b[0mFinished iteration #0 with objective value -0.9522281639928698. Current best value is -0.9568971669164347 \u001b[0m\n"
     ]
    },
    {
     "name": "stdout",
     "output_type": "stream",
     "text": [
      "[LightGBM] [Info] Number of positive: 55848, number of negative: 64152\n",
      "[LightGBM] [Info] Auto-choosing row-wise multi-threading, the overhead of testing was 0.003934 seconds.\n",
      "You can set `force_row_wise=true` to remove the overhead.\n",
      "And if memory is not enough, you can set `force_col_wise=true`.\n",
      "[LightGBM] [Info] Total Bins 3379\n",
      "[LightGBM] [Info] Number of data points in the train set: 120000, number of used features: 24\n",
      "[LightGBM] [Info] [binary:BoostFromScore]: pavg=0.465400 -> initscore=-0.138622\n",
      "[LightGBM] [Info] Start training from score -0.138622\n",
      "[LightGBM] [Info] Number of positive: 55848, number of negative: 64152\n",
      "[LightGBM] [Info] Auto-choosing row-wise multi-threading, the overhead of testing was 0.002013 seconds.\n",
      "You can set `force_row_wise=true` to remove the overhead.\n",
      "And if memory is not enough, you can set `force_col_wise=true`.\n",
      "[LightGBM] [Info] Total Bins 2224\n",
      "[LightGBM] [Info] Number of data points in the train set: 120000, number of used features: 20\n",
      "[LightGBM] [Info] [binary:BoostFromScore]: pavg=0.465400 -> initscore=-0.138622\n",
      "[LightGBM] [Info] Start training from score -0.138622\n",
      "[LightGBM] [Info] Number of positive: 55848, number of negative: 64152\n",
      "[LightGBM] [Info] Auto-choosing row-wise multi-threading, the overhead of testing was 0.003381 seconds.\n",
      "You can set `force_row_wise=true` to remove the overhead.\n",
      "And if memory is not enough, you can set `force_col_wise=true`.\n",
      "[LightGBM] [Info] Total Bins 2887\n",
      "[LightGBM] [Info] Number of data points in the train set: 120000, number of used features: 24\n",
      "[LightGBM] [Info] [binary:BoostFromScore]: pavg=0.465400 -> initscore=-0.138622\n",
      "[LightGBM] [Info] Start training from score -0.138622\n",
      "[LightGBM] [Info] Number of positive: 55848, number of negative: 64152\n",
      "[LightGBM] [Info] Auto-choosing col-wise multi-threading, the overhead of testing was 0.020451 seconds.\n",
      "You can set `force_col_wise=true` to remove the overhead.\n",
      "[LightGBM] [Info] Total Bins 3956\n",
      "[LightGBM] [Info] Number of data points in the train set: 120000, number of used features: 28\n",
      "[LightGBM] [Info] [binary:BoostFromScore]: pavg=0.465400 -> initscore=-0.138622\n",
      "[LightGBM] [Info] Start training from score -0.138622\n",
      "[LightGBM] [Info] Number of positive: 55848, number of negative: 64152\n",
      "[LightGBM] [Info] Auto-choosing row-wise multi-threading, the overhead of testing was 0.003089 seconds.\n",
      "You can set `force_row_wise=true` to remove the overhead.\n",
      "And if memory is not enough, you can set `force_col_wise=true`.\n",
      "[LightGBM] [Info] Total Bins 2424\n",
      "[LightGBM] [Info] Number of data points in the train set: 120000, number of used features: 23\n",
      "[LightGBM] [Info] [binary:BoostFromScore]: pavg=0.465400 -> initscore=-0.138622\n",
      "[LightGBM] [Info] Start training from score -0.138622\n",
      "[LightGBM] [Info] Number of positive: 55848, number of negative: 64152\n",
      "[LightGBM] [Info] Auto-choosing row-wise multi-threading, the overhead of testing was 0.002577 seconds.\n",
      "You can set `force_row_wise=true` to remove the overhead.\n",
      "And if memory is not enough, you can set `force_col_wise=true`.\n",
      "[LightGBM] [Info] Total Bins 2448\n",
      "[LightGBM] [Info] Number of data points in the train set: 120000, number of used features: 18\n",
      "[LightGBM] [Info] [binary:BoostFromScore]: pavg=0.465400 -> initscore=-0.138622\n",
      "[LightGBM] [Info] Start training from score -0.138622\n",
      "[LightGBM] [Info] Number of positive: 55848, number of negative: 64152\n",
      "[LightGBM] [Info] Auto-choosing row-wise multi-threading, the overhead of testing was 0.002364 seconds.\n",
      "You can set `force_row_wise=true` to remove the overhead.\n",
      "And if memory is not enough, you can set `force_col_wise=true`.\n",
      "[LightGBM] [Info] Total Bins 1850\n",
      "[LightGBM] [Info] Number of data points in the train set: 120000, number of used features: 20\n",
      "[LightGBM] [Info] [binary:BoostFromScore]: pavg=0.465400 -> initscore=-0.138622\n",
      "[LightGBM] [Info] Start training from score -0.138622\n",
      "[LightGBM] [Info] Number of positive: 55848, number of negative: 64152\n",
      "[LightGBM] [Info] Auto-choosing row-wise multi-threading, the overhead of testing was 0.002577 seconds.\n",
      "You can set `force_row_wise=true` to remove the overhead.\n",
      "And if memory is not enough, you can set `force_col_wise=true`.\n",
      "[LightGBM] [Info] Total Bins 2730\n",
      "[LightGBM] [Info] Number of data points in the train set: 120000, number of used features: 20\n",
      "[LightGBM] [Info] [binary:BoostFromScore]: pavg=0.465400 -> initscore=-0.138622\n",
      "[LightGBM] [Info] Start training from score -0.138622\n",
      "[LightGBM] [Info] Number of positive: 55848, number of negative: 64152\n",
      "[LightGBM] [Info] Auto-choosing row-wise multi-threading, the overhead of testing was 0.003190 seconds.\n",
      "You can set `force_row_wise=true` to remove the overhead.\n",
      "And if memory is not enough, you can set `force_col_wise=true`.\n",
      "[LightGBM] [Info] Total Bins 2295\n",
      "[LightGBM] [Info] Number of data points in the train set: 120000, number of used features: 18\n",
      "[LightGBM] [Info] [binary:BoostFromScore]: pavg=0.465400 -> initscore=-0.138622\n",
      "[LightGBM] [Info] Start training from score -0.138622\n",
      "[LightGBM] [Info] Number of positive: 55848, number of negative: 64152\n",
      "[LightGBM] [Info] Auto-choosing row-wise multi-threading, the overhead of testing was 0.002519 seconds.\n",
      "You can set `force_row_wise=true` to remove the overhead.\n",
      "And if memory is not enough, you can set `force_col_wise=true`.\n",
      "[LightGBM] [Info] Total Bins 2939\n",
      "[LightGBM] [Info] Number of data points in the train set: 120000, number of used features: 18\n",
      "[LightGBM] [Info] [binary:BoostFromScore]: pavg=0.465400 -> initscore=-0.138622\n",
      "[LightGBM] [Info] Start training from score -0.138622\n",
      "[LightGBM] [Info] Number of positive: 55848, number of negative: 64152\n",
      "[LightGBM] [Info] Auto-choosing row-wise multi-threading, the overhead of testing was 0.002947 seconds.\n",
      "You can set `force_row_wise=true` to remove the overhead.\n",
      "And if memory is not enough, you can set `force_col_wise=true`.\n",
      "[LightGBM] [Info] Total Bins 3638\n",
      "[LightGBM] [Info] Number of data points in the train set: 120000, number of used features: 27\n",
      "[LightGBM] [Info] [binary:BoostFromScore]: pavg=0.465400 -> initscore=-0.138622\n",
      "[LightGBM] [Info] Start training from score -0.138622\n",
      "[LightGBM] [Info] Number of positive: 55848, number of negative: 64152\n",
      "[LightGBM] [Info] Auto-choosing row-wise multi-threading, the overhead of testing was 0.002586 seconds.\n",
      "You can set `force_row_wise=true` to remove the overhead.\n",
      "And if memory is not enough, you can set `force_col_wise=true`.\n",
      "[LightGBM] [Info] Total Bins 1516\n",
      "[LightGBM] [Info] Number of data points in the train set: 120000, number of used features: 15\n",
      "[LightGBM] [Info] [binary:BoostFromScore]: pavg=0.465400 -> initscore=-0.138622\n",
      "[LightGBM] [Info] Start training from score -0.138622\n",
      "[LightGBM] [Info] Number of positive: 55848, number of negative: 64152\n",
      "[LightGBM] [Info] Auto-choosing row-wise multi-threading, the overhead of testing was 0.002241 seconds.\n",
      "You can set `force_row_wise=true` to remove the overhead.\n",
      "And if memory is not enough, you can set `force_col_wise=true`.\n",
      "[LightGBM] [Info] Total Bins 1918\n",
      "[LightGBM] [Info] Number of data points in the train set: 120000, number of used features: 17\n",
      "[LightGBM] [Info] [binary:BoostFromScore]: pavg=0.465400 -> initscore=-0.138622\n",
      "[LightGBM] [Info] Start training from score -0.138622\n",
      "[LightGBM] [Info] Number of positive: 55848, number of negative: 64152\n",
      "[LightGBM] [Info] Auto-choosing row-wise multi-threading, the overhead of testing was 0.002763 seconds.\n",
      "You can set `force_row_wise=true` to remove the overhead.\n",
      "And if memory is not enough, you can set `force_col_wise=true`.\n",
      "[LightGBM] [Info] Total Bins 3511\n",
      "[LightGBM] [Info] Number of data points in the train set: 120000, number of used features: 24\n",
      "[LightGBM] [Info] [binary:BoostFromScore]: pavg=0.465400 -> initscore=-0.138622\n",
      "[LightGBM] [Info] Start training from score -0.138622\n",
      "[LightGBM] [Info] Number of positive: 55848, number of negative: 64152\n",
      "[LightGBM] [Info] Auto-choosing col-wise multi-threading, the overhead of testing was 0.018562 seconds.\n",
      "You can set `force_col_wise=true` to remove the overhead.\n",
      "[LightGBM] [Info] Total Bins 3537\n",
      "[LightGBM] [Info] Number of data points in the train set: 120000, number of used features: 25\n",
      "[LightGBM] [Info] [binary:BoostFromScore]: pavg=0.465400 -> initscore=-0.138622\n",
      "[LightGBM] [Info] Start training from score -0.138622\n",
      "[LightGBM] [Info] Number of positive: 55848, number of negative: 64152\n",
      "[LightGBM] [Info] Auto-choosing row-wise multi-threading, the overhead of testing was 0.004706 seconds.\n",
      "You can set `force_row_wise=true` to remove the overhead.\n",
      "And if memory is not enough, you can set `force_col_wise=true`.\n",
      "[LightGBM] [Info] Total Bins 3631\n",
      "[LightGBM] [Info] Number of data points in the train set: 120000, number of used features: 27\n",
      "[LightGBM] [Info] [binary:BoostFromScore]: pavg=0.465400 -> initscore=-0.138622\n",
      "[LightGBM] [Info] Start training from score -0.138622\n",
      "[LightGBM] [Info] Number of positive: 55848, number of negative: 64152\n",
      "[LightGBM] [Info] Auto-choosing row-wise multi-threading, the overhead of testing was 0.002273 seconds.\n",
      "You can set `force_row_wise=true` to remove the overhead.\n",
      "And if memory is not enough, you can set `force_col_wise=true`.\n",
      "[LightGBM] [Info] Total Bins 3274\n",
      "[LightGBM] [Info] Number of data points in the train set: 120000, number of used features: 24\n",
      "[LightGBM] [Info] [binary:BoostFromScore]: pavg=0.465400 -> initscore=-0.138622\n",
      "[LightGBM] [Info] Start training from score -0.138622\n",
      "[LightGBM] [Info] Number of positive: 55848, number of negative: 64152\n",
      "[LightGBM] [Info] Auto-choosing col-wise multi-threading, the overhead of testing was 0.007004 seconds.\n",
      "You can set `force_col_wise=true` to remove the overhead.\n",
      "[LightGBM] [Info] Total Bins 4167\n",
      "[LightGBM] [Info] Number of data points in the train set: 120000, number of used features: 32\n",
      "[LightGBM] [Info] [binary:BoostFromScore]: pavg=0.465400 -> initscore=-0.138622\n",
      "[LightGBM] [Info] Start training from score -0.138622\n",
      "[LightGBM] [Info] Number of positive: 55848, number of negative: 64152\n",
      "[LightGBM] [Info] Auto-choosing row-wise multi-threading, the overhead of testing was 0.003017 seconds.\n",
      "You can set `force_row_wise=true` to remove the overhead.\n",
      "And if memory is not enough, you can set `force_col_wise=true`.\n",
      "[LightGBM] [Info] Total Bins 3474\n",
      "[LightGBM] [Info] Number of data points in the train set: 120000, number of used features: 24\n",
      "[LightGBM] [Info] [binary:BoostFromScore]: pavg=0.465400 -> initscore=-0.138622\n",
      "[LightGBM] [Info] Start training from score -0.138622\n",
      "[LightGBM] [Info] Number of positive: 55848, number of negative: 64152\n",
      "[LightGBM] [Info] Auto-choosing row-wise multi-threading, the overhead of testing was 0.004432 seconds.\n",
      "You can set `force_row_wise=true` to remove the overhead.\n",
      "And if memory is not enough, you can set `force_col_wise=true`.\n",
      "[LightGBM] [Info] Total Bins 4410\n",
      "[LightGBM] [Info] Number of data points in the train set: 120000, number of used features: 33\n",
      "[LightGBM] [Info] [binary:BoostFromScore]: pavg=0.465400 -> initscore=-0.138622\n",
      "[LightGBM] [Info] Start training from score -0.138622\n",
      "[LightGBM] [Info] Number of positive: 55848, number of negative: 64152\n",
      "[LightGBM] [Info] Auto-choosing row-wise multi-threading, the overhead of testing was 0.002952 seconds.\n",
      "You can set `force_row_wise=true` to remove the overhead.\n",
      "And if memory is not enough, you can set `force_col_wise=true`.\n",
      "[LightGBM] [Info] Total Bins 3344\n",
      "[LightGBM] [Info] Number of data points in the train set: 120000, number of used features: 25\n",
      "[LightGBM] [Info] [binary:BoostFromScore]: pavg=0.465400 -> initscore=-0.138622\n",
      "[LightGBM] [Info] Start training from score -0.138622\n",
      "[LightGBM] [Info] Number of positive: 55848, number of negative: 64152\n",
      "[LightGBM] [Info] Auto-choosing row-wise multi-threading, the overhead of testing was 0.003273 seconds.\n",
      "You can set `force_row_wise=true` to remove the overhead.\n",
      "And if memory is not enough, you can set `force_col_wise=true`.\n",
      "[LightGBM] [Info] Total Bins 4174\n",
      "[LightGBM] [Info] Number of data points in the train set: 120000, number of used features: 26\n",
      "[LightGBM] [Info] [binary:BoostFromScore]: pavg=0.465400 -> initscore=-0.138622\n",
      "[LightGBM] [Info] Start training from score -0.138622\n",
      "[LightGBM] [Info] Number of positive: 55848, number of negative: 64152\n",
      "[LightGBM] [Info] Auto-choosing row-wise multi-threading, the overhead of testing was 0.003269 seconds.\n",
      "You can set `force_row_wise=true` to remove the overhead.\n",
      "And if memory is not enough, you can set `force_col_wise=true`.\n",
      "[LightGBM] [Info] Total Bins 3378\n",
      "[LightGBM] [Info] Number of data points in the train set: 120000, number of used features: 25\n",
      "[LightGBM] [Info] [binary:BoostFromScore]: pavg=0.465400 -> initscore=-0.138622\n",
      "[LightGBM] [Info] Start training from score -0.138622\n",
      "[LightGBM] [Info] Number of positive: 55848, number of negative: 64152\n",
      "[LightGBM] [Info] Auto-choosing row-wise multi-threading, the overhead of testing was 0.003023 seconds.\n",
      "You can set `force_row_wise=true` to remove the overhead.\n",
      "And if memory is not enough, you can set `force_col_wise=true`.\n",
      "[LightGBM] [Info] Total Bins 3286\n",
      "[LightGBM] [Info] Number of data points in the train set: 120000, number of used features: 26\n",
      "[LightGBM] [Info] [binary:BoostFromScore]: pavg=0.465400 -> initscore=-0.138622\n",
      "[LightGBM] [Info] Start training from score -0.138622\n",
      "[LightGBM] [Info] Number of positive: 55848, number of negative: 64152\n",
      "[LightGBM] [Info] Auto-choosing row-wise multi-threading, the overhead of testing was 0.003613 seconds.\n",
      "You can set `force_row_wise=true` to remove the overhead.\n",
      "And if memory is not enough, you can set `force_col_wise=true`.\n",
      "[LightGBM] [Info] Total Bins 3870\n",
      "[LightGBM] [Info] Number of data points in the train set: 120000, number of used features: 31\n",
      "[LightGBM] [Info] [binary:BoostFromScore]: pavg=0.465400 -> initscore=-0.138622\n",
      "[LightGBM] [Info] Start training from score -0.138622\n",
      "[LightGBM] [Info] Number of positive: 55848, number of negative: 64152\n",
      "[LightGBM] [Info] Auto-choosing row-wise multi-threading, the overhead of testing was 0.002428 seconds.\n",
      "You can set `force_row_wise=true` to remove the overhead.\n",
      "And if memory is not enough, you can set `force_col_wise=true`.\n",
      "[LightGBM] [Info] Total Bins 2927\n",
      "[LightGBM] [Info] Number of data points in the train set: 120000, number of used features: 22\n",
      "[LightGBM] [Info] [binary:BoostFromScore]: pavg=0.465400 -> initscore=-0.138622\n",
      "[LightGBM] [Info] Start training from score -0.138622\n",
      "[LightGBM] [Info] Number of positive: 55848, number of negative: 64152\n",
      "[LightGBM] [Info] Auto-choosing row-wise multi-threading, the overhead of testing was 0.003348 seconds.\n",
      "You can set `force_row_wise=true` to remove the overhead.\n",
      "And if memory is not enough, you can set `force_col_wise=true`.\n",
      "[LightGBM] [Info] Total Bins 4343\n",
      "[LightGBM] [Info] Number of data points in the train set: 120000, number of used features: 33\n",
      "[LightGBM] [Info] [binary:BoostFromScore]: pavg=0.465400 -> initscore=-0.138622\n",
      "[LightGBM] [Info] Start training from score -0.138622\n",
      "[LightGBM] [Info] Number of positive: 55848, number of negative: 64152\n",
      "[LightGBM] [Info] Auto-choosing col-wise multi-threading, the overhead of testing was 0.025111 seconds.\n",
      "You can set `force_col_wise=true` to remove the overhead.\n",
      "[LightGBM] [Info] Total Bins 4128\n",
      "[LightGBM] [Info] Number of data points in the train set: 120000, number of used features: 29\n",
      "[LightGBM] [Info] [binary:BoostFromScore]: pavg=0.465400 -> initscore=-0.138622\n",
      "[LightGBM] [Info] Start training from score -0.138622\n",
      "[LightGBM] [Info] Number of positive: 55848, number of negative: 64152\n",
      "[LightGBM] [Info] Auto-choosing col-wise multi-threading, the overhead of testing was 0.007081 seconds.\n",
      "You can set `force_col_wise=true` to remove the overhead.\n",
      "[LightGBM] [Info] Total Bins 4318\n",
      "[LightGBM] [Info] Number of data points in the train set: 120000, number of used features: 32\n",
      "[LightGBM] [Info] [binary:BoostFromScore]: pavg=0.465400 -> initscore=-0.138622\n",
      "[LightGBM] [Info] Start training from score -0.138622\n",
      "[LightGBM] [Info] Number of positive: 55848, number of negative: 64152\n",
      "[LightGBM] [Info] Auto-choosing row-wise multi-threading, the overhead of testing was 0.002515 seconds.\n",
      "You can set `force_row_wise=true` to remove the overhead.\n",
      "And if memory is not enough, you can set `force_col_wise=true`.\n",
      "[LightGBM] [Info] Total Bins 2520\n",
      "[LightGBM] [Info] Number of data points in the train set: 120000, number of used features: 22\n",
      "[LightGBM] [Info] [binary:BoostFromScore]: pavg=0.465400 -> initscore=-0.138622\n",
      "[LightGBM] [Info] Start training from score -0.138622\n",
      "[LightGBM] [Info] Number of positive: 55848, number of negative: 64152\n",
      "[LightGBM] [Info] Auto-choosing row-wise multi-threading, the overhead of testing was 0.003621 seconds.\n",
      "You can set `force_row_wise=true` to remove the overhead.\n",
      "And if memory is not enough, you can set `force_col_wise=true`.\n",
      "[LightGBM] [Info] Total Bins 3980\n",
      "[LightGBM] [Info] Number of data points in the train set: 120000, number of used features: 30\n",
      "[LightGBM] [Info] [binary:BoostFromScore]: pavg=0.465400 -> initscore=-0.138622\n",
      "[LightGBM] [Info] Start training from score -0.138622\n",
      "[LightGBM] [Info] Number of positive: 55848, number of negative: 64152\n",
      "[LightGBM] [Info] Auto-choosing row-wise multi-threading, the overhead of testing was 0.003651 seconds.\n",
      "You can set `force_row_wise=true` to remove the overhead.\n",
      "And if memory is not enough, you can set `force_col_wise=true`.\n",
      "[LightGBM] [Info] Total Bins 4009\n",
      "[LightGBM] [Info] Number of data points in the train set: 120000, number of used features: 31\n",
      "[LightGBM] [Info] [binary:BoostFromScore]: pavg=0.465400 -> initscore=-0.138622\n",
      "[LightGBM] [Info] Start training from score -0.138622\n",
      "[LightGBM] [Info] Number of positive: 55848, number of negative: 64152\n",
      "[LightGBM] [Info] Auto-choosing row-wise multi-threading, the overhead of testing was 0.003904 seconds.\n",
      "You can set `force_row_wise=true` to remove the overhead.\n",
      "And if memory is not enough, you can set `force_col_wise=true`.\n",
      "[LightGBM] [Info] Total Bins 4192\n",
      "[LightGBM] [Info] Number of data points in the train set: 120000, number of used features: 35\n",
      "[LightGBM] [Info] [binary:BoostFromScore]: pavg=0.465400 -> initscore=-0.138622\n",
      "[LightGBM] [Info] Start training from score -0.138622\n",
      "[LightGBM] [Info] Number of positive: 55848, number of negative: 64152\n",
      "[LightGBM] [Info] Auto-choosing col-wise multi-threading, the overhead of testing was 0.024385 seconds.\n",
      "You can set `force_col_wise=true` to remove the overhead.\n",
      "[LightGBM] [Info] Total Bins 4520\n",
      "[LightGBM] [Info] Number of data points in the train set: 120000, number of used features: 31\n",
      "[LightGBM] [Info] [binary:BoostFromScore]: pavg=0.465400 -> initscore=-0.138622\n",
      "[LightGBM] [Info] Start training from score -0.138622\n",
      "[LightGBM] [Info] Number of positive: 55848, number of negative: 64152\n",
      "[LightGBM] [Info] Auto-choosing row-wise multi-threading, the overhead of testing was 0.003653 seconds.\n",
      "You can set `force_row_wise=true` to remove the overhead.\n",
      "And if memory is not enough, you can set `force_col_wise=true`.\n",
      "[LightGBM] [Info] Total Bins 3692\n",
      "[LightGBM] [Info] Number of data points in the train set: 120000, number of used features: 25\n",
      "[LightGBM] [Info] [binary:BoostFromScore]: pavg=0.465400 -> initscore=-0.138622\n",
      "[LightGBM] [Info] Start training from score -0.138622\n",
      "[LightGBM] [Info] Number of positive: 55848, number of negative: 64152\n",
      "[LightGBM] [Info] Auto-choosing row-wise multi-threading, the overhead of testing was 0.002273 seconds.\n",
      "You can set `force_row_wise=true` to remove the overhead.\n",
      "And if memory is not enough, you can set `force_col_wise=true`.\n",
      "[LightGBM] [Info] Total Bins 3249\n",
      "[LightGBM] [Info] Number of data points in the train set: 120000, number of used features: 22\n",
      "[LightGBM] [Info] [binary:BoostFromScore]: pavg=0.465400 -> initscore=-0.138622\n",
      "[LightGBM] [Info] Start training from score -0.138622\n",
      "[LightGBM] [Info] Number of positive: 55848, number of negative: 64152\n",
      "[LightGBM] [Info] Auto-choosing row-wise multi-threading, the overhead of testing was 0.003611 seconds.\n",
      "You can set `force_row_wise=true` to remove the overhead.\n",
      "And if memory is not enough, you can set `force_col_wise=true`.\n",
      "[LightGBM] [Info] Total Bins 3676\n",
      "[LightGBM] [Info] Number of data points in the train set: 120000, number of used features: 30\n",
      "[LightGBM] [Info] [binary:BoostFromScore]: pavg=0.465400 -> initscore=-0.138622\n",
      "[LightGBM] [Info] Start training from score -0.138622\n",
      "[LightGBM] [Info] Number of positive: 55848, number of negative: 64152\n",
      "[LightGBM] [Info] Auto-choosing col-wise multi-threading, the overhead of testing was 0.022502 seconds.\n",
      "You can set `force_col_wise=true` to remove the overhead.\n",
      "[LightGBM] [Info] Total Bins 3743\n",
      "[LightGBM] [Info] Number of data points in the train set: 120000, number of used features: 29\n",
      "[LightGBM] [Info] [binary:BoostFromScore]: pavg=0.465400 -> initscore=-0.138622\n",
      "[LightGBM] [Info] Start training from score -0.138622\n",
      "[LightGBM] [Info] Number of positive: 55848, number of negative: 64152\n",
      "[LightGBM] [Info] Auto-choosing row-wise multi-threading, the overhead of testing was 0.003697 seconds.\n",
      "You can set `force_row_wise=true` to remove the overhead.\n",
      "And if memory is not enough, you can set `force_col_wise=true`.\n",
      "[LightGBM] [Info] Total Bins 3500\n",
      "[LightGBM] [Info] Number of data points in the train set: 120000, number of used features: 25\n",
      "[LightGBM] [Info] [binary:BoostFromScore]: pavg=0.465400 -> initscore=-0.138622\n",
      "[LightGBM] [Info] Start training from score -0.138622\n",
      "[LightGBM] [Info] Number of positive: 55848, number of negative: 64152\n",
      "[LightGBM] [Info] Auto-choosing col-wise multi-threading, the overhead of testing was 0.010755 seconds.\n",
      "You can set `force_col_wise=true` to remove the overhead.\n",
      "[LightGBM] [Info] Total Bins 3020\n",
      "[LightGBM] [Info] Number of data points in the train set: 120000, number of used features: 24\n",
      "[LightGBM] [Info] [binary:BoostFromScore]: pavg=0.465400 -> initscore=-0.138622\n",
      "[LightGBM] [Info] Start training from score -0.138622\n",
      "[LightGBM] [Info] Number of positive: 55848, number of negative: 64152\n",
      "[LightGBM] [Info] Auto-choosing row-wise multi-threading, the overhead of testing was 0.002868 seconds.\n",
      "You can set `force_row_wise=true` to remove the overhead.\n",
      "And if memory is not enough, you can set `force_col_wise=true`.\n",
      "[LightGBM] [Info] Total Bins 3024\n",
      "[LightGBM] [Info] Number of data points in the train set: 120000, number of used features: 26\n",
      "[LightGBM] [Info] [binary:BoostFromScore]: pavg=0.465400 -> initscore=-0.138622\n",
      "[LightGBM] [Info] Start training from score -0.138622\n",
      "[LightGBM] [Info] Number of positive: 55848, number of negative: 64152\n",
      "[LightGBM] [Info] Auto-choosing col-wise multi-threading, the overhead of testing was 0.019235 seconds.\n",
      "You can set `force_col_wise=true` to remove the overhead.\n",
      "[LightGBM] [Info] Total Bins 3502\n",
      "[LightGBM] [Info] Number of data points in the train set: 120000, number of used features: 27\n",
      "[LightGBM] [Info] [binary:BoostFromScore]: pavg=0.465400 -> initscore=-0.138622\n",
      "[LightGBM] [Info] Start training from score -0.138622\n",
      "[LightGBM] [Info] Number of positive: 55848, number of negative: 64152\n",
      "[LightGBM] [Info] Auto-choosing row-wise multi-threading, the overhead of testing was 0.003344 seconds.\n",
      "You can set `force_row_wise=true` to remove the overhead.\n",
      "And if memory is not enough, you can set `force_col_wise=true`.\n",
      "[LightGBM] [Info] Total Bins 2659\n",
      "[LightGBM] [Info] Number of data points in the train set: 120000, number of used features: 27\n",
      "[LightGBM] [Info] [binary:BoostFromScore]: pavg=0.465400 -> initscore=-0.138622\n",
      "[LightGBM] [Info] Start training from score -0.138622\n",
      "[LightGBM] [Info] Number of positive: 55848, number of negative: 64152\n",
      "[LightGBM] [Info] Auto-choosing row-wise multi-threading, the overhead of testing was 0.003533 seconds.\n",
      "You can set `force_row_wise=true` to remove the overhead.\n",
      "And if memory is not enough, you can set `force_col_wise=true`.\n",
      "[LightGBM] [Info] Total Bins 2468\n",
      "[LightGBM] [Info] Number of data points in the train set: 120000, number of used features: 24\n",
      "[LightGBM] [Info] [binary:BoostFromScore]: pavg=0.465400 -> initscore=-0.138622\n",
      "[LightGBM] [Info] Start training from score -0.138622\n",
      "[LightGBM] [Info] Number of positive: 55848, number of negative: 64152\n",
      "[LightGBM] [Info] Auto-choosing row-wise multi-threading, the overhead of testing was 0.003681 seconds.\n",
      "You can set `force_row_wise=true` to remove the overhead.\n",
      "And if memory is not enough, you can set `force_col_wise=true`.\n",
      "[LightGBM] [Info] Total Bins 3597\n",
      "[LightGBM] [Info] Number of data points in the train set: 120000, number of used features: 25\n",
      "[LightGBM] [Info] [binary:BoostFromScore]: pavg=0.465400 -> initscore=-0.138622\n",
      "[LightGBM] [Info] Start training from score -0.138622\n"
     ]
    },
    {
     "name": "stderr",
     "output_type": "stream",
     "text": [
      "\u001b[32m [ 2024-11-18 23:22:04,454 ] \u001b[0mFinished iteration #1 with objective value -0.9568971669164347. Current best value is -0.957161216621448 \u001b[0m\n"
     ]
    },
    {
     "name": "stdout",
     "output_type": "stream",
     "text": [
      "[LightGBM] [Info] Number of positive: 55848, number of negative: 64152\n",
      "[LightGBM] [Info] Auto-choosing row-wise multi-threading, the overhead of testing was 0.002686 seconds.\n",
      "You can set `force_row_wise=true` to remove the overhead.\n",
      "And if memory is not enough, you can set `force_col_wise=true`.\n",
      "[LightGBM] [Info] Total Bins 2285\n",
      "[LightGBM] [Info] Number of data points in the train set: 120000, number of used features: 19\n",
      "[LightGBM] [Info] [binary:BoostFromScore]: pavg=0.465400 -> initscore=-0.138622\n",
      "[LightGBM] [Info] Start training from score -0.138622\n",
      "[LightGBM] [Info] Number of positive: 55848, number of negative: 64152\n",
      "[LightGBM] [Info] Auto-choosing row-wise multi-threading, the overhead of testing was 0.003132 seconds.\n",
      "You can set `force_row_wise=true` to remove the overhead.\n",
      "And if memory is not enough, you can set `force_col_wise=true`.\n",
      "[LightGBM] [Info] Total Bins 2786\n",
      "[LightGBM] [Info] Number of data points in the train set: 120000, number of used features: 19\n",
      "[LightGBM] [Info] [binary:BoostFromScore]: pavg=0.465400 -> initscore=-0.138622\n",
      "[LightGBM] [Info] Start training from score -0.138622\n",
      "[LightGBM] [Info] Number of positive: 55848, number of negative: 64152\n",
      "[LightGBM] [Info] Auto-choosing row-wise multi-threading, the overhead of testing was 0.003407 seconds.\n",
      "You can set `force_row_wise=true` to remove the overhead.\n",
      "And if memory is not enough, you can set `force_col_wise=true`.\n",
      "[LightGBM] [Info] Total Bins 3481\n",
      "[LightGBM] [Info] Number of data points in the train set: 120000, number of used features: 26\n",
      "[LightGBM] [Info] [binary:BoostFromScore]: pavg=0.465400 -> initscore=-0.138622\n",
      "[LightGBM] [Info] Start training from score -0.138622\n",
      "[LightGBM] [Info] Number of positive: 55848, number of negative: 64152\n",
      "[LightGBM] [Info] Auto-choosing row-wise multi-threading, the overhead of testing was 0.002774 seconds.\n",
      "You can set `force_row_wise=true` to remove the overhead.\n",
      "And if memory is not enough, you can set `force_col_wise=true`.\n",
      "[LightGBM] [Info] Total Bins 1685\n",
      "[LightGBM] [Info] Number of data points in the train set: 120000, number of used features: 14\n",
      "[LightGBM] [Info] [binary:BoostFromScore]: pavg=0.465400 -> initscore=-0.138622\n",
      "[LightGBM] [Info] Start training from score -0.138622\n",
      "[LightGBM] [Info] Number of positive: 55848, number of negative: 64152\n",
      "[LightGBM] [Info] Auto-choosing col-wise multi-threading, the overhead of testing was 0.014522 seconds.\n",
      "You can set `force_col_wise=true` to remove the overhead.\n",
      "[LightGBM] [Info] Total Bins 2766\n",
      "[LightGBM] [Info] Number of data points in the train set: 120000, number of used features: 22\n",
      "[LightGBM] [Info] [binary:BoostFromScore]: pavg=0.465400 -> initscore=-0.138622\n",
      "[LightGBM] [Info] Start training from score -0.138622\n",
      "[LightGBM] [Info] Number of positive: 55848, number of negative: 64152\n",
      "[LightGBM] [Info] Auto-choosing row-wise multi-threading, the overhead of testing was 0.002616 seconds.\n",
      "You can set `force_row_wise=true` to remove the overhead.\n",
      "And if memory is not enough, you can set `force_col_wise=true`.\n",
      "[LightGBM] [Info] Total Bins 2802\n",
      "[LightGBM] [Info] Number of data points in the train set: 120000, number of used features: 24\n",
      "[LightGBM] [Info] [binary:BoostFromScore]: pavg=0.465400 -> initscore=-0.138622\n",
      "[LightGBM] [Info] Start training from score -0.138622\n",
      "[LightGBM] [Info] Number of positive: 55848, number of negative: 64152\n",
      "[LightGBM] [Info] Auto-choosing row-wise multi-threading, the overhead of testing was 0.004112 seconds.\n",
      "You can set `force_row_wise=true` to remove the overhead.\n",
      "And if memory is not enough, you can set `force_col_wise=true`.\n",
      "[LightGBM] [Info] Total Bins 4464\n",
      "[LightGBM] [Info] Number of data points in the train set: 120000, number of used features: 29\n",
      "[LightGBM] [Info] [binary:BoostFromScore]: pavg=0.465400 -> initscore=-0.138622\n",
      "[LightGBM] [Info] Start training from score -0.138622\n",
      "[LightGBM] [Info] Number of positive: 55848, number of negative: 64152\n",
      "[LightGBM] [Info] Auto-choosing row-wise multi-threading, the overhead of testing was 0.003586 seconds.\n",
      "You can set `force_row_wise=true` to remove the overhead.\n",
      "And if memory is not enough, you can set `force_col_wise=true`.\n",
      "[LightGBM] [Info] Total Bins 2839\n",
      "[LightGBM] [Info] Number of data points in the train set: 120000, number of used features: 27\n",
      "[LightGBM] [Info] [binary:BoostFromScore]: pavg=0.465400 -> initscore=-0.138622\n",
      "[LightGBM] [Info] Start training from score -0.138622\n",
      "[LightGBM] [Info] Number of positive: 55848, number of negative: 64152\n",
      "[LightGBM] [Info] Auto-choosing row-wise multi-threading, the overhead of testing was 0.003798 seconds.\n",
      "You can set `force_row_wise=true` to remove the overhead.\n",
      "And if memory is not enough, you can set `force_col_wise=true`.\n",
      "[LightGBM] [Info] Total Bins 2690\n",
      "[LightGBM] [Info] Number of data points in the train set: 120000, number of used features: 15\n",
      "[LightGBM] [Info] [binary:BoostFromScore]: pavg=0.465400 -> initscore=-0.138622\n",
      "[LightGBM] [Info] Start training from score -0.138622\n",
      "[LightGBM] [Info] Number of positive: 55848, number of negative: 64152\n",
      "[LightGBM] [Info] Auto-choosing row-wise multi-threading, the overhead of testing was 0.003345 seconds.\n",
      "You can set `force_row_wise=true` to remove the overhead.\n",
      "And if memory is not enough, you can set `force_col_wise=true`.\n",
      "[LightGBM] [Info] Total Bins 3852\n",
      "[LightGBM] [Info] Number of data points in the train set: 120000, number of used features: 27\n",
      "[LightGBM] [Info] [binary:BoostFromScore]: pavg=0.465400 -> initscore=-0.138622\n",
      "[LightGBM] [Info] Start training from score -0.138622\n",
      "[LightGBM] [Info] Number of positive: 55848, number of negative: 64152\n",
      "[LightGBM] [Info] Auto-choosing row-wise multi-threading, the overhead of testing was 0.003088 seconds.\n",
      "You can set `force_row_wise=true` to remove the overhead.\n",
      "And if memory is not enough, you can set `force_col_wise=true`.\n",
      "[LightGBM] [Info] Total Bins 2979\n",
      "[LightGBM] [Info] Number of data points in the train set: 120000, number of used features: 19\n",
      "[LightGBM] [Info] [binary:BoostFromScore]: pavg=0.465400 -> initscore=-0.138622\n",
      "[LightGBM] [Info] Start training from score -0.138622\n",
      "[LightGBM] [Info] Number of positive: 55848, number of negative: 64152\n",
      "[LightGBM] [Info] Auto-choosing row-wise multi-threading, the overhead of testing was 0.003430 seconds.\n",
      "You can set `force_row_wise=true` to remove the overhead.\n",
      "And if memory is not enough, you can set `force_col_wise=true`.\n",
      "[LightGBM] [Info] Total Bins 3730\n",
      "[LightGBM] [Info] Number of data points in the train set: 120000, number of used features: 26\n",
      "[LightGBM] [Info] [binary:BoostFromScore]: pavg=0.465400 -> initscore=-0.138622\n",
      "[LightGBM] [Info] Start training from score -0.138622\n",
      "[LightGBM] [Info] Number of positive: 55848, number of negative: 64152\n",
      "[LightGBM] [Info] Auto-choosing col-wise multi-threading, the overhead of testing was 0.021699 seconds.\n",
      "You can set `force_col_wise=true` to remove the overhead.\n",
      "[LightGBM] [Info] Total Bins 3856\n",
      "[LightGBM] [Info] Number of data points in the train set: 120000, number of used features: 26\n",
      "[LightGBM] [Info] [binary:BoostFromScore]: pavg=0.465400 -> initscore=-0.138622\n",
      "[LightGBM] [Info] Start training from score -0.138622\n",
      "[LightGBM] [Info] Number of positive: 55848, number of negative: 64152\n",
      "[LightGBM] [Info] Auto-choosing row-wise multi-threading, the overhead of testing was 0.003311 seconds.\n",
      "You can set `force_row_wise=true` to remove the overhead.\n",
      "And if memory is not enough, you can set `force_col_wise=true`.\n",
      "[LightGBM] [Info] Total Bins 4396\n",
      "[LightGBM] [Info] Number of data points in the train set: 120000, number of used features: 29\n",
      "[LightGBM] [Info] [binary:BoostFromScore]: pavg=0.465400 -> initscore=-0.138622\n",
      "[LightGBM] [Info] Start training from score -0.138622\n",
      "[LightGBM] [Info] Number of positive: 55848, number of negative: 64152\n",
      "[LightGBM] [Info] Auto-choosing row-wise multi-threading, the overhead of testing was 0.002762 seconds.\n",
      "You can set `force_row_wise=true` to remove the overhead.\n",
      "And if memory is not enough, you can set `force_col_wise=true`.\n",
      "[LightGBM] [Info] Total Bins 2840\n",
      "[LightGBM] [Info] Number of data points in the train set: 120000, number of used features: 22\n",
      "[LightGBM] [Info] [binary:BoostFromScore]: pavg=0.465400 -> initscore=-0.138622\n",
      "[LightGBM] [Info] Start training from score -0.138622\n",
      "[LightGBM] [Info] Number of positive: 55848, number of negative: 64152\n",
      "[LightGBM] [Info] Auto-choosing row-wise multi-threading, the overhead of testing was 0.002717 seconds.\n",
      "You can set `force_row_wise=true` to remove the overhead.\n",
      "And if memory is not enough, you can set `force_col_wise=true`.\n",
      "[LightGBM] [Info] Total Bins 3125\n",
      "[LightGBM] [Info] Number of data points in the train set: 120000, number of used features: 25\n",
      "[LightGBM] [Info] [binary:BoostFromScore]: pavg=0.465400 -> initscore=-0.138622\n",
      "[LightGBM] [Info] Start training from score -0.138622\n",
      "[LightGBM] [Info] Number of positive: 55848, number of negative: 64152\n",
      "[LightGBM] [Info] Auto-choosing row-wise multi-threading, the overhead of testing was 0.003979 seconds.\n",
      "You can set `force_row_wise=true` to remove the overhead.\n",
      "And if memory is not enough, you can set `force_col_wise=true`.\n",
      "[LightGBM] [Info] Total Bins 4348\n",
      "[LightGBM] [Info] Number of data points in the train set: 120000, number of used features: 35\n",
      "[LightGBM] [Info] [binary:BoostFromScore]: pavg=0.465400 -> initscore=-0.138622\n",
      "[LightGBM] [Info] Start training from score -0.138622\n",
      "[LightGBM] [Info] Number of positive: 55848, number of negative: 64152\n",
      "[LightGBM] [Info] Auto-choosing row-wise multi-threading, the overhead of testing was 0.002810 seconds.\n",
      "You can set `force_row_wise=true` to remove the overhead.\n",
      "And if memory is not enough, you can set `force_col_wise=true`.\n",
      "[LightGBM] [Info] Total Bins 3238\n",
      "[LightGBM] [Info] Number of data points in the train set: 120000, number of used features: 29\n",
      "[LightGBM] [Info] [binary:BoostFromScore]: pavg=0.465400 -> initscore=-0.138622\n",
      "[LightGBM] [Info] Start training from score -0.138622\n",
      "[LightGBM] [Info] Number of positive: 55848, number of negative: 64152\n",
      "[LightGBM] [Info] Auto-choosing row-wise multi-threading, the overhead of testing was 0.003599 seconds.\n",
      "You can set `force_row_wise=true` to remove the overhead.\n",
      "And if memory is not enough, you can set `force_col_wise=true`.\n",
      "[LightGBM] [Info] Total Bins 4338\n",
      "[LightGBM] [Info] Number of data points in the train set: 120000, number of used features: 30\n",
      "[LightGBM] [Info] [binary:BoostFromScore]: pavg=0.465400 -> initscore=-0.138622\n",
      "[LightGBM] [Info] Start training from score -0.138622\n",
      "[LightGBM] [Info] Number of positive: 55848, number of negative: 64152\n",
      "[LightGBM] [Info] Auto-choosing row-wise multi-threading, the overhead of testing was 0.003435 seconds.\n",
      "You can set `force_row_wise=true` to remove the overhead.\n",
      "And if memory is not enough, you can set `force_col_wise=true`.\n",
      "[LightGBM] [Info] Total Bins 4694\n",
      "[LightGBM] [Info] Number of data points in the train set: 120000, number of used features: 33\n",
      "[LightGBM] [Info] [binary:BoostFromScore]: pavg=0.465400 -> initscore=-0.138622\n",
      "[LightGBM] [Info] Start training from score -0.138622\n",
      "[LightGBM] [Info] Number of positive: 55848, number of negative: 64152\n",
      "[LightGBM] [Info] Auto-choosing row-wise multi-threading, the overhead of testing was 0.003168 seconds.\n",
      "You can set `force_row_wise=true` to remove the overhead.\n",
      "And if memory is not enough, you can set `force_col_wise=true`.\n",
      "[LightGBM] [Info] Total Bins 3707\n",
      "[LightGBM] [Info] Number of data points in the train set: 120000, number of used features: 23\n",
      "[LightGBM] [Info] [binary:BoostFromScore]: pavg=0.465400 -> initscore=-0.138622\n",
      "[LightGBM] [Info] Start training from score -0.138622\n",
      "[LightGBM] [Info] Number of positive: 55848, number of negative: 64152\n",
      "[LightGBM] [Info] Auto-choosing row-wise multi-threading, the overhead of testing was 0.003872 seconds.\n",
      "You can set `force_row_wise=true` to remove the overhead.\n",
      "And if memory is not enough, you can set `force_col_wise=true`.\n",
      "[LightGBM] [Info] Total Bins 4949\n",
      "[LightGBM] [Info] Number of data points in the train set: 120000, number of used features: 34\n",
      "[LightGBM] [Info] [binary:BoostFromScore]: pavg=0.465400 -> initscore=-0.138622\n",
      "[LightGBM] [Info] Start training from score -0.138622\n",
      "[LightGBM] [Info] Number of positive: 55848, number of negative: 64152\n",
      "[LightGBM] [Info] Auto-choosing row-wise multi-threading, the overhead of testing was 0.004257 seconds.\n",
      "You can set `force_row_wise=true` to remove the overhead.\n",
      "And if memory is not enough, you can set `force_col_wise=true`.\n",
      "[LightGBM] [Info] Total Bins 4146\n",
      "[LightGBM] [Info] Number of data points in the train set: 120000, number of used features: 32\n",
      "[LightGBM] [Info] [binary:BoostFromScore]: pavg=0.465400 -> initscore=-0.138622\n",
      "[LightGBM] [Info] Start training from score -0.138622\n",
      "[LightGBM] [Info] Number of positive: 55848, number of negative: 64152\n",
      "[LightGBM] [Info] Auto-choosing row-wise multi-threading, the overhead of testing was 0.004318 seconds.\n",
      "You can set `force_row_wise=true` to remove the overhead.\n",
      "And if memory is not enough, you can set `force_col_wise=true`.\n",
      "[LightGBM] [Info] Total Bins 4146\n",
      "[LightGBM] [Info] Number of data points in the train set: 120000, number of used features: 32\n",
      "[LightGBM] [Info] [binary:BoostFromScore]: pavg=0.465400 -> initscore=-0.138622\n",
      "[LightGBM] [Info] Start training from score -0.138622\n",
      "[LightGBM] [Info] Number of positive: 55848, number of negative: 64152\n",
      "[LightGBM] [Info] Auto-choosing row-wise multi-threading, the overhead of testing was 0.003337 seconds.\n",
      "You can set `force_row_wise=true` to remove the overhead.\n",
      "And if memory is not enough, you can set `force_col_wise=true`.\n",
      "[LightGBM] [Info] Total Bins 4190\n",
      "[LightGBM] [Info] Number of data points in the train set: 120000, number of used features: 34\n",
      "[LightGBM] [Info] [binary:BoostFromScore]: pavg=0.465400 -> initscore=-0.138622\n",
      "[LightGBM] [Info] Start training from score -0.138622\n",
      "[LightGBM] [Info] Number of positive: 55848, number of negative: 64152\n",
      "[LightGBM] [Info] Auto-choosing row-wise multi-threading, the overhead of testing was 0.003717 seconds.\n",
      "You can set `force_row_wise=true` to remove the overhead.\n",
      "And if memory is not enough, you can set `force_col_wise=true`.\n",
      "[LightGBM] [Info] Total Bins 4387\n",
      "[LightGBM] [Info] Number of data points in the train set: 120000, number of used features: 26\n",
      "[LightGBM] [Info] [binary:BoostFromScore]: pavg=0.465400 -> initscore=-0.138622\n",
      "[LightGBM] [Info] Start training from score -0.138622\n",
      "[LightGBM] [Info] Number of positive: 55848, number of negative: 64152\n",
      "[LightGBM] [Info] Auto-choosing row-wise multi-threading, the overhead of testing was 0.004021 seconds.\n",
      "You can set `force_row_wise=true` to remove the overhead.\n",
      "And if memory is not enough, you can set `force_col_wise=true`.\n",
      "[LightGBM] [Info] Total Bins 4765\n",
      "[LightGBM] [Info] Number of data points in the train set: 120000, number of used features: 34\n",
      "[LightGBM] [Info] [binary:BoostFromScore]: pavg=0.465400 -> initscore=-0.138622\n",
      "[LightGBM] [Info] Start training from score -0.138622\n",
      "[LightGBM] [Info] Number of positive: 55848, number of negative: 64152\n",
      "[LightGBM] [Info] Auto-choosing row-wise multi-threading, the overhead of testing was 0.003748 seconds.\n",
      "You can set `force_row_wise=true` to remove the overhead.\n",
      "And if memory is not enough, you can set `force_col_wise=true`.\n",
      "[LightGBM] [Info] Total Bins 4140\n",
      "[LightGBM] [Info] Number of data points in the train set: 120000, number of used features: 28\n",
      "[LightGBM] [Info] [binary:BoostFromScore]: pavg=0.465400 -> initscore=-0.138622\n",
      "[LightGBM] [Info] Start training from score -0.138622\n",
      "[LightGBM] [Info] Number of positive: 55848, number of negative: 64152\n",
      "[LightGBM] [Info] Auto-choosing row-wise multi-threading, the overhead of testing was 0.003381 seconds.\n",
      "You can set `force_row_wise=true` to remove the overhead.\n",
      "And if memory is not enough, you can set `force_col_wise=true`.\n",
      "[LightGBM] [Info] Total Bins 4054\n",
      "[LightGBM] [Info] Number of data points in the train set: 120000, number of used features: 31\n",
      "[LightGBM] [Info] [binary:BoostFromScore]: pavg=0.465400 -> initscore=-0.138622\n",
      "[LightGBM] [Info] Start training from score -0.138622\n",
      "[LightGBM] [Info] Number of positive: 55848, number of negative: 64152\n",
      "[LightGBM] [Info] Auto-choosing row-wise multi-threading, the overhead of testing was 0.003428 seconds.\n",
      "You can set `force_row_wise=true` to remove the overhead.\n",
      "And if memory is not enough, you can set `force_col_wise=true`.\n",
      "[LightGBM] [Info] Total Bins 3736\n",
      "[LightGBM] [Info] Number of data points in the train set: 120000, number of used features: 28\n",
      "[LightGBM] [Info] [binary:BoostFromScore]: pavg=0.465400 -> initscore=-0.138622\n",
      "[LightGBM] [Info] Start training from score -0.138622\n",
      "[LightGBM] [Info] Number of positive: 55848, number of negative: 64152\n",
      "[LightGBM] [Info] Auto-choosing col-wise multi-threading, the overhead of testing was 0.006297 seconds.\n",
      "You can set `force_col_wise=true` to remove the overhead.\n",
      "[LightGBM] [Info] Total Bins 4229\n",
      "[LightGBM] [Info] Number of data points in the train set: 120000, number of used features: 27\n",
      "[LightGBM] [Info] [binary:BoostFromScore]: pavg=0.465400 -> initscore=-0.138622\n",
      "[LightGBM] [Info] Start training from score -0.138622\n",
      "[LightGBM] [Info] Number of positive: 55848, number of negative: 64152\n",
      "[LightGBM] [Info] Auto-choosing row-wise multi-threading, the overhead of testing was 0.003222 seconds.\n",
      "You can set `force_row_wise=true` to remove the overhead.\n",
      "And if memory is not enough, you can set `force_col_wise=true`.\n",
      "[LightGBM] [Info] Total Bins 3891\n",
      "[LightGBM] [Info] Number of data points in the train set: 120000, number of used features: 31\n",
      "[LightGBM] [Info] [binary:BoostFromScore]: pavg=0.465400 -> initscore=-0.138622\n",
      "[LightGBM] [Info] Start training from score -0.138622\n",
      "[LightGBM] [Info] Number of positive: 55848, number of negative: 64152\n",
      "[LightGBM] [Info] Auto-choosing row-wise multi-threading, the overhead of testing was 0.002626 seconds.\n",
      "You can set `force_row_wise=true` to remove the overhead.\n",
      "And if memory is not enough, you can set `force_col_wise=true`.\n",
      "[LightGBM] [Info] Total Bins 2902\n",
      "[LightGBM] [Info] Number of data points in the train set: 120000, number of used features: 25\n",
      "[LightGBM] [Info] [binary:BoostFromScore]: pavg=0.465400 -> initscore=-0.138622\n",
      "[LightGBM] [Info] Start training from score -0.138622\n",
      "[LightGBM] [Info] Number of positive: 55848, number of negative: 64152\n",
      "[LightGBM] [Info] Auto-choosing row-wise multi-threading, the overhead of testing was 0.003179 seconds.\n",
      "You can set `force_row_wise=true` to remove the overhead.\n",
      "And if memory is not enough, you can set `force_col_wise=true`.\n",
      "[LightGBM] [Info] Total Bins 3525\n",
      "[LightGBM] [Info] Number of data points in the train set: 120000, number of used features: 25\n",
      "[LightGBM] [Info] [binary:BoostFromScore]: pavg=0.465400 -> initscore=-0.138622\n",
      "[LightGBM] [Info] Start training from score -0.138622\n",
      "[LightGBM] [Info] Number of positive: 55848, number of negative: 64152\n",
      "[LightGBM] [Info] Auto-choosing row-wise multi-threading, the overhead of testing was 0.003410 seconds.\n",
      "You can set `force_row_wise=true` to remove the overhead.\n",
      "And if memory is not enough, you can set `force_col_wise=true`.\n",
      "[LightGBM] [Info] Total Bins 2782\n",
      "[LightGBM] [Info] Number of data points in the train set: 120000, number of used features: 27\n",
      "[LightGBM] [Info] [binary:BoostFromScore]: pavg=0.465400 -> initscore=-0.138622\n",
      "[LightGBM] [Info] Start training from score -0.138622\n",
      "[LightGBM] [Info] Number of positive: 55848, number of negative: 64152\n",
      "[LightGBM] [Info] Auto-choosing row-wise multi-threading, the overhead of testing was 0.003516 seconds.\n",
      "You can set `force_row_wise=true` to remove the overhead.\n",
      "And if memory is not enough, you can set `force_col_wise=true`.\n",
      "[LightGBM] [Info] Total Bins 3668\n",
      "[LightGBM] [Info] Number of data points in the train set: 120000, number of used features: 26\n",
      "[LightGBM] [Info] [binary:BoostFromScore]: pavg=0.465400 -> initscore=-0.138622\n",
      "[LightGBM] [Info] Start training from score -0.138622\n",
      "[LightGBM] [Info] Number of positive: 55848, number of negative: 64152\n",
      "[LightGBM] [Info] Auto-choosing row-wise multi-threading, the overhead of testing was 0.004123 seconds.\n",
      "You can set `force_row_wise=true` to remove the overhead.\n",
      "And if memory is not enough, you can set `force_col_wise=true`.\n",
      "[LightGBM] [Info] Total Bins 4947\n",
      "[LightGBM] [Info] Number of data points in the train set: 120000, number of used features: 33\n",
      "[LightGBM] [Info] [binary:BoostFromScore]: pavg=0.465400 -> initscore=-0.138622\n",
      "[LightGBM] [Info] Start training from score -0.138622\n",
      "[LightGBM] [Info] Number of positive: 55848, number of negative: 64152\n",
      "[LightGBM] [Info] Auto-choosing row-wise multi-threading, the overhead of testing was 0.002644 seconds.\n",
      "You can set `force_row_wise=true` to remove the overhead.\n",
      "And if memory is not enough, you can set `force_col_wise=true`.\n",
      "[LightGBM] [Info] Total Bins 3373\n",
      "[LightGBM] [Info] Number of data points in the train set: 120000, number of used features: 25\n",
      "[LightGBM] [Info] [binary:BoostFromScore]: pavg=0.465400 -> initscore=-0.138622\n",
      "[LightGBM] [Info] Start training from score -0.138622\n",
      "[LightGBM] [Info] Number of positive: 55848, number of negative: 64152\n",
      "[LightGBM] [Info] Auto-choosing row-wise multi-threading, the overhead of testing was 0.004292 seconds.\n",
      "You can set `force_row_wise=true` to remove the overhead.\n",
      "And if memory is not enough, you can set `force_col_wise=true`.\n",
      "[LightGBM] [Info] Total Bins 4056\n",
      "[LightGBM] [Info] Number of data points in the train set: 120000, number of used features: 32\n",
      "[LightGBM] [Info] [binary:BoostFromScore]: pavg=0.465400 -> initscore=-0.138622\n",
      "[LightGBM] [Info] Start training from score -0.138622\n",
      "[LightGBM] [Info] Number of positive: 55848, number of negative: 64152\n",
      "[LightGBM] [Info] Auto-choosing row-wise multi-threading, the overhead of testing was 0.004250 seconds.\n",
      "You can set `force_row_wise=true` to remove the overhead.\n",
      "And if memory is not enough, you can set `force_col_wise=true`.\n",
      "[LightGBM] [Info] Total Bins 3953\n",
      "[LightGBM] [Info] Number of data points in the train set: 120000, number of used features: 31\n",
      "[LightGBM] [Info] [binary:BoostFromScore]: pavg=0.465400 -> initscore=-0.138622\n",
      "[LightGBM] [Info] Start training from score -0.138622\n",
      "[LightGBM] [Info] Number of positive: 55848, number of negative: 64152\n",
      "[LightGBM] [Info] Auto-choosing row-wise multi-threading, the overhead of testing was 0.002701 seconds.\n",
      "You can set `force_row_wise=true` to remove the overhead.\n",
      "And if memory is not enough, you can set `force_col_wise=true`.\n",
      "[LightGBM] [Info] Total Bins 3092\n",
      "[LightGBM] [Info] Number of data points in the train set: 120000, number of used features: 25\n",
      "[LightGBM] [Info] [binary:BoostFromScore]: pavg=0.465400 -> initscore=-0.138622\n",
      "[LightGBM] [Info] Start training from score -0.138622\n",
      "[LightGBM] [Info] Number of positive: 55848, number of negative: 64152\n",
      "[LightGBM] [Info] Auto-choosing row-wise multi-threading, the overhead of testing was 0.003077 seconds.\n",
      "You can set `force_row_wise=true` to remove the overhead.\n",
      "And if memory is not enough, you can set `force_col_wise=true`.\n",
      "[LightGBM] [Info] Total Bins 3497\n",
      "[LightGBM] [Info] Number of data points in the train set: 120000, number of used features: 28\n",
      "[LightGBM] [Info] [binary:BoostFromScore]: pavg=0.465400 -> initscore=-0.138622\n",
      "[LightGBM] [Info] Start training from score -0.138622\n",
      "[LightGBM] [Info] Number of positive: 55848, number of negative: 64152\n",
      "[LightGBM] [Info] Auto-choosing row-wise multi-threading, the overhead of testing was 0.002533 seconds.\n",
      "You can set `force_row_wise=true` to remove the overhead.\n",
      "And if memory is not enough, you can set `force_col_wise=true`.\n",
      "[LightGBM] [Info] Total Bins 3488\n",
      "[LightGBM] [Info] Number of data points in the train set: 120000, number of used features: 28\n",
      "[LightGBM] [Info] [binary:BoostFromScore]: pavg=0.465400 -> initscore=-0.138622\n",
      "[LightGBM] [Info] Start training from score -0.138622\n",
      "[LightGBM] [Info] Number of positive: 55848, number of negative: 64152\n",
      "[LightGBM] [Info] Auto-choosing row-wise multi-threading, the overhead of testing was 0.003204 seconds.\n",
      "You can set `force_row_wise=true` to remove the overhead.\n",
      "And if memory is not enough, you can set `force_col_wise=true`.\n",
      "[LightGBM] [Info] Total Bins 4591\n",
      "[LightGBM] [Info] Number of data points in the train set: 120000, number of used features: 30\n",
      "[LightGBM] [Info] [binary:BoostFromScore]: pavg=0.465400 -> initscore=-0.138622\n",
      "[LightGBM] [Info] Start training from score -0.138622\n",
      "[LightGBM] [Info] Number of positive: 55848, number of negative: 64152\n",
      "[LightGBM] [Info] Auto-choosing row-wise multi-threading, the overhead of testing was 0.004095 seconds.\n",
      "You can set `force_row_wise=true` to remove the overhead.\n",
      "And if memory is not enough, you can set `force_col_wise=true`.\n",
      "[LightGBM] [Info] Total Bins 4778\n",
      "[LightGBM] [Info] Number of data points in the train set: 120000, number of used features: 33\n",
      "[LightGBM] [Info] [binary:BoostFromScore]: pavg=0.465400 -> initscore=-0.138622\n",
      "[LightGBM] [Info] Start training from score -0.138622\n",
      "[LightGBM] [Info] Number of positive: 55848, number of negative: 64152\n",
      "[LightGBM] [Info] Auto-choosing row-wise multi-threading, the overhead of testing was 0.003426 seconds.\n",
      "You can set `force_row_wise=true` to remove the overhead.\n",
      "And if memory is not enough, you can set `force_col_wise=true`.\n",
      "[LightGBM] [Info] Total Bins 3927\n",
      "[LightGBM] [Info] Number of data points in the train set: 120000, number of used features: 29\n",
      "[LightGBM] [Info] [binary:BoostFromScore]: pavg=0.465400 -> initscore=-0.138622\n",
      "[LightGBM] [Info] Start training from score -0.138622\n",
      "[LightGBM] [Info] Number of positive: 55848, number of negative: 64152\n",
      "[LightGBM] [Info] Auto-choosing row-wise multi-threading, the overhead of testing was 0.003282 seconds.\n",
      "You can set `force_row_wise=true` to remove the overhead.\n",
      "And if memory is not enough, you can set `force_col_wise=true`.\n",
      "[LightGBM] [Info] Total Bins 3577\n",
      "[LightGBM] [Info] Number of data points in the train set: 120000, number of used features: 29\n",
      "[LightGBM] [Info] [binary:BoostFromScore]: pavg=0.465400 -> initscore=-0.138622\n",
      "[LightGBM] [Info] Start training from score -0.138622\n",
      "[LightGBM] [Info] Number of positive: 55848, number of negative: 64152\n",
      "[LightGBM] [Info] Auto-choosing row-wise multi-threading, the overhead of testing was 0.003996 seconds.\n",
      "You can set `force_row_wise=true` to remove the overhead.\n",
      "And if memory is not enough, you can set `force_col_wise=true`.\n",
      "[LightGBM] [Info] Total Bins 4441\n",
      "[LightGBM] [Info] Number of data points in the train set: 120000, number of used features: 33\n",
      "[LightGBM] [Info] [binary:BoostFromScore]: pavg=0.465400 -> initscore=-0.138622\n",
      "[LightGBM] [Info] Start training from score -0.138622\n",
      "[LightGBM] [Info] Number of positive: 55848, number of negative: 64152\n",
      "[LightGBM] [Info] Auto-choosing col-wise multi-threading, the overhead of testing was 0.019112 seconds.\n",
      "You can set `force_col_wise=true` to remove the overhead.\n",
      "[LightGBM] [Info] Total Bins 3632\n",
      "[LightGBM] [Info] Number of data points in the train set: 120000, number of used features: 28\n",
      "[LightGBM] [Info] [binary:BoostFromScore]: pavg=0.465400 -> initscore=-0.138622\n",
      "[LightGBM] [Info] Start training from score -0.138622\n",
      "[LightGBM] [Info] Number of positive: 55848, number of negative: 64152\n",
      "[LightGBM] [Info] Auto-choosing row-wise multi-threading, the overhead of testing was 0.003047 seconds.\n",
      "You can set `force_row_wise=true` to remove the overhead.\n",
      "And if memory is not enough, you can set `force_col_wise=true`.\n",
      "[LightGBM] [Info] Total Bins 4332\n",
      "[LightGBM] [Info] Number of data points in the train set: 120000, number of used features: 29\n",
      "[LightGBM] [Info] [binary:BoostFromScore]: pavg=0.465400 -> initscore=-0.138622\n",
      "[LightGBM] [Info] Start training from score -0.138622\n",
      "[LightGBM] [Info] Number of positive: 55848, number of negative: 64152\n",
      "[LightGBM] [Info] Auto-choosing row-wise multi-threading, the overhead of testing was 0.002835 seconds.\n",
      "You can set `force_row_wise=true` to remove the overhead.\n",
      "And if memory is not enough, you can set `force_col_wise=true`.\n",
      "[LightGBM] [Info] Total Bins 3542\n",
      "[LightGBM] [Info] Number of data points in the train set: 120000, number of used features: 28\n",
      "[LightGBM] [Info] [binary:BoostFromScore]: pavg=0.465400 -> initscore=-0.138622\n",
      "[LightGBM] [Info] Start training from score -0.138622\n",
      "[LightGBM] [Info] Number of positive: 55848, number of negative: 64152\n",
      "[LightGBM] [Info] Auto-choosing row-wise multi-threading, the overhead of testing was 0.002455 seconds.\n",
      "You can set `force_row_wise=true` to remove the overhead.\n",
      "And if memory is not enough, you can set `force_col_wise=true`.\n",
      "[LightGBM] [Info] Total Bins 3633\n",
      "[LightGBM] [Info] Number of data points in the train set: 120000, number of used features: 28\n",
      "[LightGBM] [Info] [binary:BoostFromScore]: pavg=0.465400 -> initscore=-0.138622\n",
      "[LightGBM] [Info] Start training from score -0.138622\n",
      "[LightGBM] [Info] Number of positive: 55848, number of negative: 64152\n",
      "[LightGBM] [Info] Auto-choosing row-wise multi-threading, the overhead of testing was 0.002970 seconds.\n",
      "You can set `force_row_wise=true` to remove the overhead.\n",
      "And if memory is not enough, you can set `force_col_wise=true`.\n",
      "[LightGBM] [Info] Total Bins 4409\n",
      "[LightGBM] [Info] Number of data points in the train set: 120000, number of used features: 31\n",
      "[LightGBM] [Info] [binary:BoostFromScore]: pavg=0.465400 -> initscore=-0.138622\n",
      "[LightGBM] [Info] Start training from score -0.138622\n",
      "[LightGBM] [Info] Number of positive: 55848, number of negative: 64152\n",
      "[LightGBM] [Info] Auto-choosing row-wise multi-threading, the overhead of testing was 0.003796 seconds.\n",
      "You can set `force_row_wise=true` to remove the overhead.\n",
      "And if memory is not enough, you can set `force_col_wise=true`.\n",
      "[LightGBM] [Info] Total Bins 4191\n",
      "[LightGBM] [Info] Number of data points in the train set: 120000, number of used features: 34\n",
      "[LightGBM] [Info] [binary:BoostFromScore]: pavg=0.465400 -> initscore=-0.138622\n",
      "[LightGBM] [Info] Start training from score -0.138622\n"
     ]
    },
    {
     "name": "stderr",
     "output_type": "stream",
     "text": [
      "\u001b[32m [ 2024-11-18 23:22:31,975 ] \u001b[0mFinished iteration #2 with objective value -0.957161216621448. Current best value is -0.957161216621448 \u001b[0m\n"
     ]
    },
    {
     "name": "stdout",
     "output_type": "stream",
     "text": [
      "[LightGBM] [Info] Number of positive: 55848, number of negative: 64152\n",
      "[LightGBM] [Info] Auto-choosing row-wise multi-threading, the overhead of testing was 0.002714 seconds.\n",
      "You can set `force_row_wise=true` to remove the overhead.\n",
      "And if memory is not enough, you can set `force_col_wise=true`.\n",
      "[LightGBM] [Info] Total Bins 1575\n",
      "[LightGBM] [Info] Number of data points in the train set: 120000, number of used features: 14\n",
      "[LightGBM] [Info] [binary:BoostFromScore]: pavg=0.465400 -> initscore=-0.138622\n",
      "[LightGBM] [Info] Start training from score -0.138622\n",
      "[LightGBM] [Info] Number of positive: 55848, number of negative: 64152\n",
      "[LightGBM] [Info] Auto-choosing row-wise multi-threading, the overhead of testing was 0.004665 seconds.\n",
      "You can set `force_row_wise=true` to remove the overhead.\n",
      "And if memory is not enough, you can set `force_col_wise=true`.\n",
      "[LightGBM] [Info] Total Bins 3371\n",
      "[LightGBM] [Info] Number of data points in the train set: 120000, number of used features: 24\n",
      "[LightGBM] [Info] [binary:BoostFromScore]: pavg=0.465400 -> initscore=-0.138622\n",
      "[LightGBM] [Info] Start training from score -0.138622\n",
      "[LightGBM] [Info] Number of positive: 55848, number of negative: 64152\n",
      "[LightGBM] [Info] Auto-choosing row-wise multi-threading, the overhead of testing was 0.001788 seconds.\n",
      "You can set `force_row_wise=true` to remove the overhead.\n",
      "And if memory is not enough, you can set `force_col_wise=true`.\n",
      "[LightGBM] [Info] Total Bins 2099\n",
      "[LightGBM] [Info] Number of data points in the train set: 120000, number of used features: 19\n",
      "[LightGBM] [Info] [binary:BoostFromScore]: pavg=0.465400 -> initscore=-0.138622\n",
      "[LightGBM] [Info] Start training from score -0.138622\n",
      "[LightGBM] [Info] Number of positive: 55848, number of negative: 64152\n",
      "[LightGBM] [Info] Auto-choosing row-wise multi-threading, the overhead of testing was 0.003412 seconds.\n",
      "You can set `force_row_wise=true` to remove the overhead.\n",
      "And if memory is not enough, you can set `force_col_wise=true`.\n",
      "[LightGBM] [Info] Total Bins 3528\n",
      "[LightGBM] [Info] Number of data points in the train set: 120000, number of used features: 23\n",
      "[LightGBM] [Info] [binary:BoostFromScore]: pavg=0.465400 -> initscore=-0.138622\n",
      "[LightGBM] [Info] Start training from score -0.138622\n",
      "[LightGBM] [Info] Number of positive: 55848, number of negative: 64152\n",
      "[LightGBM] [Info] Auto-choosing row-wise multi-threading, the overhead of testing was 0.003632 seconds.\n",
      "You can set `force_row_wise=true` to remove the overhead.\n",
      "And if memory is not enough, you can set `force_col_wise=true`.\n",
      "[LightGBM] [Info] Total Bins 3562\n",
      "[LightGBM] [Info] Number of data points in the train set: 120000, number of used features: 23\n",
      "[LightGBM] [Info] [binary:BoostFromScore]: pavg=0.465400 -> initscore=-0.138622\n",
      "[LightGBM] [Info] Start training from score -0.138622\n",
      "[LightGBM] [Info] Number of positive: 55848, number of negative: 64152\n",
      "[LightGBM] [Info] Auto-choosing row-wise multi-threading, the overhead of testing was 0.002591 seconds.\n",
      "You can set `force_row_wise=true` to remove the overhead.\n",
      "And if memory is not enough, you can set `force_col_wise=true`.\n",
      "[LightGBM] [Info] Total Bins 3523\n",
      "[LightGBM] [Info] Number of data points in the train set: 120000, number of used features: 21\n",
      "[LightGBM] [Info] [binary:BoostFromScore]: pavg=0.465400 -> initscore=-0.138622\n",
      "[LightGBM] [Info] Start training from score -0.138622\n",
      "[LightGBM] [Info] Number of positive: 55848, number of negative: 64152\n",
      "[LightGBM] [Info] Auto-choosing col-wise multi-threading, the overhead of testing was 0.003581 seconds.\n",
      "You can set `force_col_wise=true` to remove the overhead.\n",
      "[LightGBM] [Info] Total Bins 2825\n",
      "[LightGBM] [Info] Number of data points in the train set: 120000, number of used features: 21\n",
      "[LightGBM] [Info] [binary:BoostFromScore]: pavg=0.465400 -> initscore=-0.138622\n",
      "[LightGBM] [Info] Start training from score -0.138622\n",
      "[LightGBM] [Info] Number of positive: 55848, number of negative: 64152\n",
      "[LightGBM] [Info] Auto-choosing col-wise multi-threading, the overhead of testing was 0.016667 seconds.\n",
      "You can set `force_col_wise=true` to remove the overhead.\n",
      "[LightGBM] [Info] Total Bins 3177\n",
      "[LightGBM] [Info] Number of data points in the train set: 120000, number of used features: 21\n",
      "[LightGBM] [Info] [binary:BoostFromScore]: pavg=0.465400 -> initscore=-0.138622\n",
      "[LightGBM] [Info] Start training from score -0.138622\n",
      "[LightGBM] [Info] Number of positive: 55848, number of negative: 64152\n",
      "[LightGBM] [Info] Auto-choosing row-wise multi-threading, the overhead of testing was 0.003479 seconds.\n",
      "You can set `force_row_wise=true` to remove the overhead.\n",
      "And if memory is not enough, you can set `force_col_wise=true`.\n",
      "[LightGBM] [Info] Total Bins 2324\n",
      "[LightGBM] [Info] Number of data points in the train set: 120000, number of used features: 21\n",
      "[LightGBM] [Info] [binary:BoostFromScore]: pavg=0.465400 -> initscore=-0.138622\n",
      "[LightGBM] [Info] Start training from score -0.138622\n",
      "[LightGBM] [Info] Number of positive: 55848, number of negative: 64152\n",
      "[LightGBM] [Info] Auto-choosing row-wise multi-threading, the overhead of testing was 0.003112 seconds.\n",
      "You can set `force_row_wise=true` to remove the overhead.\n",
      "And if memory is not enough, you can set `force_col_wise=true`.\n",
      "[LightGBM] [Info] Total Bins 2170\n",
      "[LightGBM] [Info] Number of data points in the train set: 120000, number of used features: 20\n",
      "[LightGBM] [Info] [binary:BoostFromScore]: pavg=0.465400 -> initscore=-0.138622\n",
      "[LightGBM] [Info] Start training from score -0.138622\n",
      "[LightGBM] [Info] Number of positive: 55848, number of negative: 64152\n",
      "[LightGBM] [Info] Auto-choosing row-wise multi-threading, the overhead of testing was 0.002562 seconds.\n",
      "You can set `force_row_wise=true` to remove the overhead.\n",
      "And if memory is not enough, you can set `force_col_wise=true`.\n",
      "[LightGBM] [Info] Total Bins 3174\n",
      "[LightGBM] [Info] Number of data points in the train set: 120000, number of used features: 19\n",
      "[LightGBM] [Info] [binary:BoostFromScore]: pavg=0.465400 -> initscore=-0.138622\n",
      "[LightGBM] [Info] Start training from score -0.138622\n",
      "[LightGBM] [Info] Number of positive: 55848, number of negative: 64152\n",
      "[LightGBM] [Info] Auto-choosing col-wise multi-threading, the overhead of testing was 0.014513 seconds.\n",
      "You can set `force_col_wise=true` to remove the overhead.\n",
      "[LightGBM] [Info] Total Bins 4376\n",
      "[LightGBM] [Info] Number of data points in the train set: 120000, number of used features: 31\n",
      "[LightGBM] [Info] [binary:BoostFromScore]: pavg=0.465400 -> initscore=-0.138622\n",
      "[LightGBM] [Info] Start training from score -0.138622\n",
      "[LightGBM] [Info] Number of positive: 55848, number of negative: 64152\n",
      "[LightGBM] [Info] Auto-choosing row-wise multi-threading, the overhead of testing was 0.003608 seconds.\n",
      "You can set `force_row_wise=true` to remove the overhead.\n",
      "And if memory is not enough, you can set `force_col_wise=true`.\n",
      "[LightGBM] [Info] Total Bins 3345\n",
      "[LightGBM] [Info] Number of data points in the train set: 120000, number of used features: 21\n",
      "[LightGBM] [Info] [binary:BoostFromScore]: pavg=0.465400 -> initscore=-0.138622\n",
      "[LightGBM] [Info] Start training from score -0.138622\n",
      "[LightGBM] [Info] Number of positive: 55848, number of negative: 64152\n",
      "[LightGBM] [Info] Auto-choosing col-wise multi-threading, the overhead of testing was 0.004031 seconds.\n",
      "You can set `force_col_wise=true` to remove the overhead.\n",
      "[LightGBM] [Info] Total Bins 2901\n",
      "[LightGBM] [Info] Number of data points in the train set: 120000, number of used features: 23\n",
      "[LightGBM] [Info] [binary:BoostFromScore]: pavg=0.465400 -> initscore=-0.138622\n",
      "[LightGBM] [Info] Start training from score -0.138622\n",
      "[LightGBM] [Info] Number of positive: 55848, number of negative: 64152\n",
      "[LightGBM] [Info] Auto-choosing row-wise multi-threading, the overhead of testing was 0.003449 seconds.\n",
      "You can set `force_row_wise=true` to remove the overhead.\n",
      "And if memory is not enough, you can set `force_col_wise=true`.\n",
      "[LightGBM] [Info] Total Bins 4181\n",
      "[LightGBM] [Info] Number of data points in the train set: 120000, number of used features: 32\n",
      "[LightGBM] [Info] [binary:BoostFromScore]: pavg=0.465400 -> initscore=-0.138622\n",
      "[LightGBM] [Info] Start training from score -0.138622\n",
      "[LightGBM] [Info] Number of positive: 55848, number of negative: 64152\n",
      "[LightGBM] [Info] Auto-choosing row-wise multi-threading, the overhead of testing was 0.004000 seconds.\n",
      "You can set `force_row_wise=true` to remove the overhead.\n",
      "And if memory is not enough, you can set `force_col_wise=true`.\n",
      "[LightGBM] [Info] Total Bins 4300\n",
      "[LightGBM] [Info] Number of data points in the train set: 120000, number of used features: 30\n",
      "[LightGBM] [Info] [binary:BoostFromScore]: pavg=0.465400 -> initscore=-0.138622\n",
      "[LightGBM] [Info] Start training from score -0.138622\n",
      "[LightGBM] [Info] Number of positive: 55848, number of negative: 64152\n",
      "[LightGBM] [Info] Auto-choosing row-wise multi-threading, the overhead of testing was 0.003078 seconds.\n",
      "You can set `force_row_wise=true` to remove the overhead.\n",
      "And if memory is not enough, you can set `force_col_wise=true`.\n",
      "[LightGBM] [Info] Total Bins 3414\n",
      "[LightGBM] [Info] Number of data points in the train set: 120000, number of used features: 27\n",
      "[LightGBM] [Info] [binary:BoostFromScore]: pavg=0.465400 -> initscore=-0.138622\n",
      "[LightGBM] [Info] Start training from score -0.138622\n",
      "[LightGBM] [Info] Number of positive: 55848, number of negative: 64152\n",
      "[LightGBM] [Info] Auto-choosing col-wise multi-threading, the overhead of testing was 0.025774 seconds.\n",
      "You can set `force_col_wise=true` to remove the overhead.\n",
      "[LightGBM] [Info] Total Bins 4190\n",
      "[LightGBM] [Info] Number of data points in the train set: 120000, number of used features: 34\n",
      "[LightGBM] [Info] [binary:BoostFromScore]: pavg=0.465400 -> initscore=-0.138622\n",
      "[LightGBM] [Info] Start training from score -0.138622\n",
      "[LightGBM] [Info] Number of positive: 55848, number of negative: 64152\n",
      "[LightGBM] [Info] Auto-choosing row-wise multi-threading, the overhead of testing was 0.003738 seconds.\n",
      "You can set `force_row_wise=true` to remove the overhead.\n",
      "And if memory is not enough, you can set `force_col_wise=true`.\n",
      "[LightGBM] [Info] Total Bins 2518\n",
      "[LightGBM] [Info] Number of data points in the train set: 120000, number of used features: 21\n",
      "[LightGBM] [Info] [binary:BoostFromScore]: pavg=0.465400 -> initscore=-0.138622\n",
      "[LightGBM] [Info] Start training from score -0.138622\n",
      "[LightGBM] [Info] Number of positive: 55848, number of negative: 64152\n",
      "[LightGBM] [Info] Auto-choosing row-wise multi-threading, the overhead of testing was 0.002983 seconds.\n",
      "You can set `force_row_wise=true` to remove the overhead.\n",
      "And if memory is not enough, you can set `force_col_wise=true`.\n",
      "[LightGBM] [Info] Total Bins 2675\n",
      "[LightGBM] [Info] Number of data points in the train set: 120000, number of used features: 20\n",
      "[LightGBM] [Info] [binary:BoostFromScore]: pavg=0.465400 -> initscore=-0.138622\n",
      "[LightGBM] [Info] Start training from score -0.138622\n",
      "[LightGBM] [Info] Number of positive: 55848, number of negative: 64152\n",
      "[LightGBM] [Info] Auto-choosing row-wise multi-threading, the overhead of testing was 0.004169 seconds.\n",
      "You can set `force_row_wise=true` to remove the overhead.\n",
      "And if memory is not enough, you can set `force_col_wise=true`.\n",
      "[LightGBM] [Info] Total Bins 4186\n",
      "[LightGBM] [Info] Number of data points in the train set: 120000, number of used features: 32\n",
      "[LightGBM] [Info] [binary:BoostFromScore]: pavg=0.465400 -> initscore=-0.138622\n",
      "[LightGBM] [Info] Start training from score -0.138622\n",
      "[LightGBM] [Info] Number of positive: 55848, number of negative: 64152\n",
      "[LightGBM] [Info] Auto-choosing row-wise multi-threading, the overhead of testing was 0.003274 seconds.\n",
      "You can set `force_row_wise=true` to remove the overhead.\n",
      "And if memory is not enough, you can set `force_col_wise=true`.\n",
      "[LightGBM] [Info] Total Bins 2878\n",
      "[LightGBM] [Info] Number of data points in the train set: 120000, number of used features: 26\n",
      "[LightGBM] [Info] [binary:BoostFromScore]: pavg=0.465400 -> initscore=-0.138622\n",
      "[LightGBM] [Info] Start training from score -0.138622\n",
      "[LightGBM] [Info] Number of positive: 55848, number of negative: 64152\n",
      "[LightGBM] [Info] Auto-choosing row-wise multi-threading, the overhead of testing was 0.003366 seconds.\n",
      "You can set `force_row_wise=true` to remove the overhead.\n",
      "And if memory is not enough, you can set `force_col_wise=true`.\n",
      "[LightGBM] [Info] Total Bins 3175\n",
      "[LightGBM] [Info] Number of data points in the train set: 120000, number of used features: 28\n",
      "[LightGBM] [Info] [binary:BoostFromScore]: pavg=0.465400 -> initscore=-0.138622\n",
      "[LightGBM] [Info] Start training from score -0.138622\n",
      "[LightGBM] [Info] Number of positive: 55848, number of negative: 64152\n",
      "[LightGBM] [Info] Auto-choosing row-wise multi-threading, the overhead of testing was 0.003705 seconds.\n",
      "You can set `force_row_wise=true` to remove the overhead.\n",
      "And if memory is not enough, you can set `force_col_wise=true`.\n",
      "[LightGBM] [Info] Total Bins 2433\n",
      "[LightGBM] [Info] Number of data points in the train set: 120000, number of used features: 21\n",
      "[LightGBM] [Info] [binary:BoostFromScore]: pavg=0.465400 -> initscore=-0.138622\n",
      "[LightGBM] [Info] Start training from score -0.138622\n",
      "[LightGBM] [Info] Number of positive: 55848, number of negative: 64152\n",
      "[LightGBM] [Info] Auto-choosing row-wise multi-threading, the overhead of testing was 0.002478 seconds.\n",
      "You can set `force_row_wise=true` to remove the overhead.\n",
      "And if memory is not enough, you can set `force_col_wise=true`.\n",
      "[LightGBM] [Info] Total Bins 3012\n",
      "[LightGBM] [Info] Number of data points in the train set: 120000, number of used features: 23\n",
      "[LightGBM] [Info] [binary:BoostFromScore]: pavg=0.465400 -> initscore=-0.138622\n",
      "[LightGBM] [Info] Start training from score -0.138622\n",
      "[LightGBM] [Info] Number of positive: 55848, number of negative: 64152\n",
      "[LightGBM] [Info] Auto-choosing row-wise multi-threading, the overhead of testing was 0.003418 seconds.\n",
      "You can set `force_row_wise=true` to remove the overhead.\n",
      "And if memory is not enough, you can set `force_col_wise=true`.\n",
      "[LightGBM] [Info] Total Bins 3311\n",
      "[LightGBM] [Info] Number of data points in the train set: 120000, number of used features: 24\n",
      "[LightGBM] [Info] [binary:BoostFromScore]: pavg=0.465400 -> initscore=-0.138622\n",
      "[LightGBM] [Info] Start training from score -0.138622\n",
      "[LightGBM] [Info] Number of positive: 55848, number of negative: 64152\n",
      "[LightGBM] [Info] Auto-choosing row-wise multi-threading, the overhead of testing was 0.003712 seconds.\n",
      "You can set `force_row_wise=true` to remove the overhead.\n",
      "And if memory is not enough, you can set `force_col_wise=true`.\n",
      "[LightGBM] [Info] Total Bins 3488\n",
      "[LightGBM] [Info] Number of data points in the train set: 120000, number of used features: 28\n",
      "[LightGBM] [Info] [binary:BoostFromScore]: pavg=0.465400 -> initscore=-0.138622\n",
      "[LightGBM] [Info] Start training from score -0.138622\n",
      "[LightGBM] [Info] Number of positive: 55848, number of negative: 64152\n",
      "[LightGBM] [Info] Auto-choosing row-wise multi-threading, the overhead of testing was 0.002895 seconds.\n",
      "You can set `force_row_wise=true` to remove the overhead.\n",
      "And if memory is not enough, you can set `force_col_wise=true`.\n",
      "[LightGBM] [Info] Total Bins 3901\n",
      "[LightGBM] [Info] Number of data points in the train set: 120000, number of used features: 32\n",
      "[LightGBM] [Info] [binary:BoostFromScore]: pavg=0.465400 -> initscore=-0.138622\n",
      "[LightGBM] [Info] Start training from score -0.138622\n",
      "[LightGBM] [Info] Number of positive: 55848, number of negative: 64152\n",
      "[LightGBM] [Info] Auto-choosing row-wise multi-threading, the overhead of testing was 0.004026 seconds.\n",
      "You can set `force_row_wise=true` to remove the overhead.\n",
      "And if memory is not enough, you can set `force_col_wise=true`.\n",
      "[LightGBM] [Info] Total Bins 3382\n",
      "[LightGBM] [Info] Number of data points in the train set: 120000, number of used features: 29\n",
      "[LightGBM] [Info] [binary:BoostFromScore]: pavg=0.465400 -> initscore=-0.138622\n",
      "[LightGBM] [Info] Start training from score -0.138622\n",
      "[LightGBM] [Info] Number of positive: 55848, number of negative: 64152\n",
      "[LightGBM] [Info] Auto-choosing row-wise multi-threading, the overhead of testing was 0.003350 seconds.\n",
      "You can set `force_row_wise=true` to remove the overhead.\n",
      "And if memory is not enough, you can set `force_col_wise=true`.\n",
      "[LightGBM] [Info] Total Bins 3389\n",
      "[LightGBM] [Info] Number of data points in the train set: 120000, number of used features: 28\n",
      "[LightGBM] [Info] [binary:BoostFromScore]: pavg=0.465400 -> initscore=-0.138622\n",
      "[LightGBM] [Info] Start training from score -0.138622\n",
      "[LightGBM] [Info] Number of positive: 55848, number of negative: 64152\n",
      "[LightGBM] [Info] Auto-choosing row-wise multi-threading, the overhead of testing was 0.003143 seconds.\n",
      "You can set `force_row_wise=true` to remove the overhead.\n",
      "And if memory is not enough, you can set `force_col_wise=true`.\n",
      "[LightGBM] [Info] Total Bins 3804\n",
      "[LightGBM] [Info] Number of data points in the train set: 120000, number of used features: 32\n",
      "[LightGBM] [Info] [binary:BoostFromScore]: pavg=0.465400 -> initscore=-0.138622\n",
      "[LightGBM] [Info] Start training from score -0.138622\n",
      "[LightGBM] [Info] Number of positive: 55848, number of negative: 64152\n",
      "[LightGBM] [Info] Auto-choosing row-wise multi-threading, the overhead of testing was 0.003198 seconds.\n",
      "You can set `force_row_wise=true` to remove the overhead.\n",
      "And if memory is not enough, you can set `force_col_wise=true`.\n",
      "[LightGBM] [Info] Total Bins 3151\n",
      "[LightGBM] [Info] Number of data points in the train set: 120000, number of used features: 25\n",
      "[LightGBM] [Info] [binary:BoostFromScore]: pavg=0.465400 -> initscore=-0.138622\n",
      "[LightGBM] [Info] Start training from score -0.138622\n",
      "[LightGBM] [Info] Number of positive: 55848, number of negative: 64152\n",
      "[LightGBM] [Info] Auto-choosing row-wise multi-threading, the overhead of testing was 0.003305 seconds.\n",
      "You can set `force_row_wise=true` to remove the overhead.\n",
      "And if memory is not enough, you can set `force_col_wise=true`.\n",
      "[LightGBM] [Info] Total Bins 3537\n",
      "[LightGBM] [Info] Number of data points in the train set: 120000, number of used features: 31\n",
      "[LightGBM] [Info] [binary:BoostFromScore]: pavg=0.465400 -> initscore=-0.138622\n",
      "[LightGBM] [Info] Start training from score -0.138622\n",
      "[LightGBM] [Info] Number of positive: 55848, number of negative: 64152\n",
      "[LightGBM] [Info] Auto-choosing row-wise multi-threading, the overhead of testing was 0.003658 seconds.\n",
      "You can set `force_row_wise=true` to remove the overhead.\n",
      "And if memory is not enough, you can set `force_col_wise=true`.\n",
      "[LightGBM] [Info] Total Bins 3784\n",
      "[LightGBM] [Info] Number of data points in the train set: 120000, number of used features: 28\n",
      "[LightGBM] [Info] [binary:BoostFromScore]: pavg=0.465400 -> initscore=-0.138622\n",
      "[LightGBM] [Info] Start training from score -0.138622\n",
      "[LightGBM] [Info] Number of positive: 55848, number of negative: 64152\n",
      "[LightGBM] [Info] Auto-choosing row-wise multi-threading, the overhead of testing was 0.002954 seconds.\n",
      "You can set `force_row_wise=true` to remove the overhead.\n",
      "And if memory is not enough, you can set `force_col_wise=true`.\n",
      "[LightGBM] [Info] Total Bins 3095\n",
      "[LightGBM] [Info] Number of data points in the train set: 120000, number of used features: 24\n",
      "[LightGBM] [Info] [binary:BoostFromScore]: pavg=0.465400 -> initscore=-0.138622\n",
      "[LightGBM] [Info] Start training from score -0.138622\n",
      "[LightGBM] [Info] Number of positive: 55848, number of negative: 64152\n",
      "[LightGBM] [Info] Auto-choosing row-wise multi-threading, the overhead of testing was 0.003841 seconds.\n",
      "You can set `force_row_wise=true` to remove the overhead.\n",
      "And if memory is not enough, you can set `force_col_wise=true`.\n",
      "[LightGBM] [Info] Total Bins 4911\n",
      "[LightGBM] [Info] Number of data points in the train set: 120000, number of used features: 34\n",
      "[LightGBM] [Info] [binary:BoostFromScore]: pavg=0.465400 -> initscore=-0.138622\n",
      "[LightGBM] [Info] Start training from score -0.138622\n",
      "[LightGBM] [Info] Number of positive: 55848, number of negative: 64152\n",
      "[LightGBM] [Info] Auto-choosing row-wise multi-threading, the overhead of testing was 0.002790 seconds.\n",
      "You can set `force_row_wise=true` to remove the overhead.\n",
      "And if memory is not enough, you can set `force_col_wise=true`.\n",
      "[LightGBM] [Info] Total Bins 3851\n",
      "[LightGBM] [Info] Number of data points in the train set: 120000, number of used features: 30\n",
      "[LightGBM] [Info] [binary:BoostFromScore]: pavg=0.465400 -> initscore=-0.138622\n",
      "[LightGBM] [Info] Start training from score -0.138622\n",
      "[LightGBM] [Info] Number of positive: 55848, number of negative: 64152\n",
      "[LightGBM] [Info] Auto-choosing row-wise multi-threading, the overhead of testing was 0.003126 seconds.\n",
      "You can set `force_row_wise=true` to remove the overhead.\n",
      "And if memory is not enough, you can set `force_col_wise=true`.\n",
      "[LightGBM] [Info] Total Bins 4470\n",
      "[LightGBM] [Info] Number of data points in the train set: 120000, number of used features: 32\n",
      "[LightGBM] [Info] [binary:BoostFromScore]: pavg=0.465400 -> initscore=-0.138622\n",
      "[LightGBM] [Info] Start training from score -0.138622\n",
      "[LightGBM] [Info] Number of positive: 55848, number of negative: 64152\n",
      "[LightGBM] [Info] Auto-choosing row-wise multi-threading, the overhead of testing was 0.004145 seconds.\n",
      "You can set `force_row_wise=true` to remove the overhead.\n",
      "And if memory is not enough, you can set `force_col_wise=true`.\n",
      "[LightGBM] [Info] Total Bins 4188\n",
      "[LightGBM] [Info] Number of data points in the train set: 120000, number of used features: 33\n",
      "[LightGBM] [Info] [binary:BoostFromScore]: pavg=0.465400 -> initscore=-0.138622\n",
      "[LightGBM] [Info] Start training from score -0.138622\n"
     ]
    },
    {
     "name": "stderr",
     "output_type": "stream",
     "text": [
      "\u001b[32m [ 2024-11-18 23:22:50,197 ] \u001b[0mFinished iteration #3 with objective value -0.957161216621448. Current best value is -0.957161216621448 \u001b[0m\n"
     ]
    },
    {
     "name": "stdout",
     "output_type": "stream",
     "text": [
      "[LightGBM] [Info] Number of positive: 55848, number of negative: 64152\n",
      "[LightGBM] [Info] Auto-choosing row-wise multi-threading, the overhead of testing was 0.003290 seconds.\n",
      "You can set `force_row_wise=true` to remove the overhead.\n",
      "And if memory is not enough, you can set `force_col_wise=true`.\n",
      "[LightGBM] [Info] Total Bins 2426\n",
      "[LightGBM] [Info] Number of data points in the train set: 120000, number of used features: 23\n",
      "[LightGBM] [Info] [binary:BoostFromScore]: pavg=0.465400 -> initscore=-0.138622\n",
      "[LightGBM] [Info] Start training from score -0.138622\n",
      "[LightGBM] [Info] Number of positive: 55848, number of negative: 64152\n",
      "[LightGBM] [Info] Auto-choosing row-wise multi-threading, the overhead of testing was 0.003427 seconds.\n",
      "You can set `force_row_wise=true` to remove the overhead.\n",
      "And if memory is not enough, you can set `force_col_wise=true`.\n",
      "[LightGBM] [Info] Total Bins 4522\n",
      "[LightGBM] [Info] Number of data points in the train set: 120000, number of used features: 31\n",
      "[LightGBM] [Info] [binary:BoostFromScore]: pavg=0.465400 -> initscore=-0.138622\n",
      "[LightGBM] [Info] Start training from score -0.138622\n",
      "[LightGBM] [Info] Number of positive: 55848, number of negative: 64152\n",
      "[LightGBM] [Info] Auto-choosing row-wise multi-threading, the overhead of testing was 0.002390 seconds.\n",
      "You can set `force_row_wise=true` to remove the overhead.\n",
      "And if memory is not enough, you can set `force_col_wise=true`.\n",
      "[LightGBM] [Info] Total Bins 1372\n",
      "[LightGBM] [Info] Number of data points in the train set: 120000, number of used features: 10\n",
      "[LightGBM] [Info] [binary:BoostFromScore]: pavg=0.465400 -> initscore=-0.138622\n",
      "[LightGBM] [Info] Start training from score -0.138622\n",
      "[LightGBM] [Info] Number of positive: 55848, number of negative: 64152\n",
      "[LightGBM] [Info] Auto-choosing col-wise multi-threading, the overhead of testing was 0.005991 seconds.\n",
      "You can set `force_col_wise=true` to remove the overhead.\n",
      "[LightGBM] [Info] Total Bins 3791\n",
      "[LightGBM] [Info] Number of data points in the train set: 120000, number of used features: 25\n",
      "[LightGBM] [Info] [binary:BoostFromScore]: pavg=0.465400 -> initscore=-0.138622\n",
      "[LightGBM] [Info] Start training from score -0.138622\n",
      "[LightGBM] [Info] Number of positive: 55848, number of negative: 64152\n",
      "[LightGBM] [Info] Auto-choosing row-wise multi-threading, the overhead of testing was 0.003086 seconds.\n",
      "You can set `force_row_wise=true` to remove the overhead.\n",
      "And if memory is not enough, you can set `force_col_wise=true`.\n",
      "[LightGBM] [Info] Total Bins 3644\n",
      "[LightGBM] [Info] Number of data points in the train set: 120000, number of used features: 29\n",
      "[LightGBM] [Info] [binary:BoostFromScore]: pavg=0.465400 -> initscore=-0.138622\n",
      "[LightGBM] [Info] Start training from score -0.138622\n",
      "[LightGBM] [Info] Number of positive: 55848, number of negative: 64152\n",
      "[LightGBM] [Info] Auto-choosing col-wise multi-threading, the overhead of testing was 0.019415 seconds.\n",
      "You can set `force_col_wise=true` to remove the overhead.\n",
      "[LightGBM] [Info] Total Bins 3420\n",
      "[LightGBM] [Info] Number of data points in the train set: 120000, number of used features: 24\n",
      "[LightGBM] [Info] [binary:BoostFromScore]: pavg=0.465400 -> initscore=-0.138622\n",
      "[LightGBM] [Info] Start training from score -0.138622\n",
      "[LightGBM] [Info] Number of positive: 55848, number of negative: 64152\n",
      "[LightGBM] [Info] Auto-choosing row-wise multi-threading, the overhead of testing was 0.002555 seconds.\n",
      "You can set `force_row_wise=true` to remove the overhead.\n",
      "And if memory is not enough, you can set `force_col_wise=true`.\n",
      "[LightGBM] [Info] Total Bins 2289\n",
      "[LightGBM] [Info] Number of data points in the train set: 120000, number of used features: 19\n",
      "[LightGBM] [Info] [binary:BoostFromScore]: pavg=0.465400 -> initscore=-0.138622\n",
      "[LightGBM] [Info] Start training from score -0.138622\n",
      "[LightGBM] [Info] Number of positive: 55848, number of negative: 64152\n",
      "[LightGBM] [Info] Auto-choosing row-wise multi-threading, the overhead of testing was 0.003444 seconds.\n",
      "You can set `force_row_wise=true` to remove the overhead.\n",
      "And if memory is not enough, you can set `force_col_wise=true`.\n",
      "[LightGBM] [Info] Total Bins 4137\n",
      "[LightGBM] [Info] Number of data points in the train set: 120000, number of used features: 27\n",
      "[LightGBM] [Info] [binary:BoostFromScore]: pavg=0.465400 -> initscore=-0.138622\n",
      "[LightGBM] [Info] Start training from score -0.138622\n",
      "[LightGBM] [Info] Number of positive: 55848, number of negative: 64152\n",
      "[LightGBM] [Info] Auto-choosing row-wise multi-threading, the overhead of testing was 0.003950 seconds.\n",
      "You can set `force_row_wise=true` to remove the overhead.\n",
      "And if memory is not enough, you can set `force_col_wise=true`.\n",
      "[LightGBM] [Info] Total Bins 3929\n",
      "[LightGBM] [Info] Number of data points in the train set: 120000, number of used features: 30\n",
      "[LightGBM] [Info] [binary:BoostFromScore]: pavg=0.465400 -> initscore=-0.138622\n",
      "[LightGBM] [Info] Start training from score -0.138622\n",
      "[LightGBM] [Info] Number of positive: 55848, number of negative: 64152\n",
      "[LightGBM] [Info] Auto-choosing row-wise multi-threading, the overhead of testing was 0.003205 seconds.\n",
      "You can set `force_row_wise=true` to remove the overhead.\n",
      "And if memory is not enough, you can set `force_col_wise=true`.\n",
      "[LightGBM] [Info] Total Bins 3526\n",
      "[LightGBM] [Info] Number of data points in the train set: 120000, number of used features: 23\n",
      "[LightGBM] [Info] [binary:BoostFromScore]: pavg=0.465400 -> initscore=-0.138622\n",
      "[LightGBM] [Info] Start training from score -0.138622\n",
      "[LightGBM] [Info] Number of positive: 55848, number of negative: 64152\n",
      "[LightGBM] [Info] Auto-choosing row-wise multi-threading, the overhead of testing was 0.003319 seconds.\n",
      "You can set `force_row_wise=true` to remove the overhead.\n",
      "And if memory is not enough, you can set `force_col_wise=true`.\n",
      "[LightGBM] [Info] Total Bins 4687\n",
      "[LightGBM] [Info] Number of data points in the train set: 120000, number of used features: 29\n",
      "[LightGBM] [Info] [binary:BoostFromScore]: pavg=0.465400 -> initscore=-0.138622\n",
      "[LightGBM] [Info] Start training from score -0.138622\n",
      "[LightGBM] [Info] Number of positive: 55848, number of negative: 64152\n",
      "[LightGBM] [Info] Auto-choosing row-wise multi-threading, the overhead of testing was 0.003080 seconds.\n",
      "You can set `force_row_wise=true` to remove the overhead.\n",
      "And if memory is not enough, you can set `force_col_wise=true`.\n",
      "[LightGBM] [Info] Total Bins 3836\n",
      "[LightGBM] [Info] Number of data points in the train set: 120000, number of used features: 32\n",
      "[LightGBM] [Info] [binary:BoostFromScore]: pavg=0.465400 -> initscore=-0.138622\n",
      "[LightGBM] [Info] Start training from score -0.138622\n",
      "[LightGBM] [Info] Number of positive: 55848, number of negative: 64152\n",
      "[LightGBM] [Info] Auto-choosing col-wise multi-threading, the overhead of testing was 0.005418 seconds.\n",
      "You can set `force_col_wise=true` to remove the overhead.\n",
      "[LightGBM] [Info] Total Bins 3893\n",
      "[LightGBM] [Info] Number of data points in the train set: 120000, number of used features: 26\n",
      "[LightGBM] [Info] [binary:BoostFromScore]: pavg=0.465400 -> initscore=-0.138622\n",
      "[LightGBM] [Info] Start training from score -0.138622\n",
      "[LightGBM] [Info] Number of positive: 55848, number of negative: 64152\n",
      "[LightGBM] [Info] Auto-choosing row-wise multi-threading, the overhead of testing was 0.002684 seconds.\n",
      "You can set `force_row_wise=true` to remove the overhead.\n",
      "And if memory is not enough, you can set `force_col_wise=true`.\n",
      "[LightGBM] [Info] Total Bins 3638\n",
      "[LightGBM] [Info] Number of data points in the train set: 120000, number of used features: 31\n",
      "[LightGBM] [Info] [binary:BoostFromScore]: pavg=0.465400 -> initscore=-0.138622\n",
      "[LightGBM] [Info] Start training from score -0.138622\n",
      "[LightGBM] [Info] Number of positive: 55848, number of negative: 64152\n",
      "[LightGBM] [Info] Auto-choosing row-wise multi-threading, the overhead of testing was 0.002599 seconds.\n",
      "You can set `force_row_wise=true` to remove the overhead.\n",
      "And if memory is not enough, you can set `force_col_wise=true`.\n",
      "[LightGBM] [Info] Total Bins 1739\n",
      "[LightGBM] [Info] Number of data points in the train set: 120000, number of used features: 14\n",
      "[LightGBM] [Info] [binary:BoostFromScore]: pavg=0.465400 -> initscore=-0.138622\n",
      "[LightGBM] [Info] Start training from score -0.138622\n",
      "[LightGBM] [Info] Number of positive: 55848, number of negative: 64152\n",
      "[LightGBM] [Info] Auto-choosing row-wise multi-threading, the overhead of testing was 0.002532 seconds.\n",
      "You can set `force_row_wise=true` to remove the overhead.\n",
      "And if memory is not enough, you can set `force_col_wise=true`.\n",
      "[LightGBM] [Info] Total Bins 1915\n",
      "[LightGBM] [Info] Number of data points in the train set: 120000, number of used features: 19\n",
      "[LightGBM] [Info] [binary:BoostFromScore]: pavg=0.465400 -> initscore=-0.138622\n",
      "[LightGBM] [Info] Start training from score -0.138622\n",
      "[LightGBM] [Info] Number of positive: 55848, number of negative: 64152\n",
      "[LightGBM] [Info] Auto-choosing row-wise multi-threading, the overhead of testing was 0.003201 seconds.\n",
      "You can set `force_row_wise=true` to remove the overhead.\n",
      "And if memory is not enough, you can set `force_col_wise=true`.\n",
      "[LightGBM] [Info] Total Bins 2505\n",
      "[LightGBM] [Info] Number of data points in the train set: 120000, number of used features: 21\n",
      "[LightGBM] [Info] [binary:BoostFromScore]: pavg=0.465400 -> initscore=-0.138622\n",
      "[LightGBM] [Info] Start training from score -0.138622\n",
      "[LightGBM] [Info] Number of positive: 55848, number of negative: 64152\n",
      "[LightGBM] [Info] Auto-choosing row-wise multi-threading, the overhead of testing was 0.003124 seconds.\n",
      "You can set `force_row_wise=true` to remove the overhead.\n",
      "And if memory is not enough, you can set `force_col_wise=true`.\n",
      "[LightGBM] [Info] Total Bins 3921\n",
      "[LightGBM] [Info] Number of data points in the train set: 120000, number of used features: 26\n",
      "[LightGBM] [Info] [binary:BoostFromScore]: pavg=0.465400 -> initscore=-0.138622\n",
      "[LightGBM] [Info] Start training from score -0.138622\n",
      "[LightGBM] [Info] Number of positive: 55848, number of negative: 64152\n",
      "[LightGBM] [Info] Auto-choosing row-wise multi-threading, the overhead of testing was 0.003593 seconds.\n",
      "You can set `force_row_wise=true` to remove the overhead.\n",
      "And if memory is not enough, you can set `force_col_wise=true`.\n",
      "[LightGBM] [Info] Total Bins 4054\n",
      "[LightGBM] [Info] Number of data points in the train set: 120000, number of used features: 31\n",
      "[LightGBM] [Info] [binary:BoostFromScore]: pavg=0.465400 -> initscore=-0.138622\n",
      "[LightGBM] [Info] Start training from score -0.138622\n",
      "[LightGBM] [Info] Number of positive: 55848, number of negative: 64152\n",
      "[LightGBM] [Info] Auto-choosing row-wise multi-threading, the overhead of testing was 0.003004 seconds.\n",
      "You can set `force_row_wise=true` to remove the overhead.\n",
      "And if memory is not enough, you can set `force_col_wise=true`.\n",
      "[LightGBM] [Info] Total Bins 4155\n",
      "[LightGBM] [Info] Number of data points in the train set: 120000, number of used features: 31\n",
      "[LightGBM] [Info] [binary:BoostFromScore]: pavg=0.465400 -> initscore=-0.138622\n",
      "[LightGBM] [Info] Start training from score -0.138622\n",
      "[LightGBM] [Info] Number of positive: 55848, number of negative: 64152\n",
      "[LightGBM] [Info] Auto-choosing row-wise multi-threading, the overhead of testing was 0.003037 seconds.\n",
      "You can set `force_row_wise=true` to remove the overhead.\n",
      "And if memory is not enough, you can set `force_col_wise=true`.\n",
      "[LightGBM] [Info] Total Bins 2906\n",
      "[LightGBM] [Info] Number of data points in the train set: 120000, number of used features: 24\n",
      "[LightGBM] [Info] [binary:BoostFromScore]: pavg=0.465400 -> initscore=-0.138622\n",
      "[LightGBM] [Info] Start training from score -0.138622\n",
      "[LightGBM] [Info] Number of positive: 55848, number of negative: 64152\n",
      "[LightGBM] [Info] Auto-choosing row-wise multi-threading, the overhead of testing was 0.002898 seconds.\n",
      "You can set `force_row_wise=true` to remove the overhead.\n",
      "And if memory is not enough, you can set `force_col_wise=true`.\n",
      "[LightGBM] [Info] Total Bins 3380\n",
      "[LightGBM] [Info] Number of data points in the train set: 120000, number of used features: 24\n",
      "[LightGBM] [Info] [binary:BoostFromScore]: pavg=0.465400 -> initscore=-0.138622\n",
      "[LightGBM] [Info] Start training from score -0.138622\n",
      "[LightGBM] [Info] Number of positive: 55848, number of negative: 64152\n",
      "[LightGBM] [Info] Auto-choosing row-wise multi-threading, the overhead of testing was 0.002578 seconds.\n",
      "You can set `force_row_wise=true` to remove the overhead.\n",
      "And if memory is not enough, you can set `force_col_wise=true`.\n",
      "[LightGBM] [Info] Total Bins 2819\n",
      "[LightGBM] [Info] Number of data points in the train set: 120000, number of used features: 20\n",
      "[LightGBM] [Info] [binary:BoostFromScore]: pavg=0.465400 -> initscore=-0.138622\n",
      "[LightGBM] [Info] Start training from score -0.138622\n",
      "[LightGBM] [Info] Number of positive: 55848, number of negative: 64152\n",
      "[LightGBM] [Info] Auto-choosing row-wise multi-threading, the overhead of testing was 0.003881 seconds.\n",
      "You can set `force_row_wise=true` to remove the overhead.\n",
      "And if memory is not enough, you can set `force_col_wise=true`.\n",
      "[LightGBM] [Info] Total Bins 4090\n",
      "[LightGBM] [Info] Number of data points in the train set: 120000, number of used features: 23\n",
      "[LightGBM] [Info] [binary:BoostFromScore]: pavg=0.465400 -> initscore=-0.138622\n",
      "[LightGBM] [Info] Start training from score -0.138622\n",
      "[LightGBM] [Info] Number of positive: 55848, number of negative: 64152\n",
      "[LightGBM] [Info] Auto-choosing col-wise multi-threading, the overhead of testing was 0.022841 seconds.\n",
      "You can set `force_col_wise=true` to remove the overhead.\n",
      "[LightGBM] [Info] Total Bins 3835\n",
      "[LightGBM] [Info] Number of data points in the train set: 120000, number of used features: 29\n",
      "[LightGBM] [Info] [binary:BoostFromScore]: pavg=0.465400 -> initscore=-0.138622\n",
      "[LightGBM] [Info] Start training from score -0.138622\n",
      "[LightGBM] [Info] Number of positive: 55848, number of negative: 64152\n",
      "[LightGBM] [Info] Auto-choosing row-wise multi-threading, the overhead of testing was 0.003551 seconds.\n",
      "You can set `force_row_wise=true` to remove the overhead.\n",
      "And if memory is not enough, you can set `force_col_wise=true`.\n",
      "[LightGBM] [Info] Total Bins 4343\n",
      "[LightGBM] [Info] Number of data points in the train set: 120000, number of used features: 34\n",
      "[LightGBM] [Info] [binary:BoostFromScore]: pavg=0.465400 -> initscore=-0.138622\n",
      "[LightGBM] [Info] Start training from score -0.138622\n",
      "[LightGBM] [Info] Number of positive: 55848, number of negative: 64152\n",
      "[LightGBM] [Info] Auto-choosing row-wise multi-threading, the overhead of testing was 0.002582 seconds.\n",
      "You can set `force_row_wise=true` to remove the overhead.\n",
      "And if memory is not enough, you can set `force_col_wise=true`.\n",
      "[LightGBM] [Info] Total Bins 3079\n",
      "[LightGBM] [Info] Number of data points in the train set: 120000, number of used features: 23\n",
      "[LightGBM] [Info] [binary:BoostFromScore]: pavg=0.465400 -> initscore=-0.138622\n",
      "[LightGBM] [Info] Start training from score -0.138622\n",
      "[LightGBM] [Info] Number of positive: 55848, number of negative: 64152\n",
      "[LightGBM] [Info] Auto-choosing row-wise multi-threading, the overhead of testing was 0.003660 seconds.\n",
      "You can set `force_row_wise=true` to remove the overhead.\n",
      "And if memory is not enough, you can set `force_col_wise=true`.\n",
      "[LightGBM] [Info] Total Bins 3994\n",
      "[LightGBM] [Info] Number of data points in the train set: 120000, number of used features: 25\n",
      "[LightGBM] [Info] [binary:BoostFromScore]: pavg=0.465400 -> initscore=-0.138622\n",
      "[LightGBM] [Info] Start training from score -0.138622\n",
      "[LightGBM] [Info] Number of positive: 55848, number of negative: 64152\n",
      "[LightGBM] [Info] Auto-choosing row-wise multi-threading, the overhead of testing was 0.003558 seconds.\n",
      "You can set `force_row_wise=true` to remove the overhead.\n",
      "And if memory is not enough, you can set `force_col_wise=true`.\n",
      "[LightGBM] [Info] Total Bins 4342\n",
      "[LightGBM] [Info] Number of data points in the train set: 120000, number of used features: 34\n",
      "[LightGBM] [Info] [binary:BoostFromScore]: pavg=0.465400 -> initscore=-0.138622\n",
      "[LightGBM] [Info] Start training from score -0.138622\n",
      "[LightGBM] [Info] Number of positive: 55848, number of negative: 64152\n",
      "[LightGBM] [Info] Auto-choosing row-wise multi-threading, the overhead of testing was 0.003907 seconds.\n",
      "You can set `force_row_wise=true` to remove the overhead.\n",
      "And if memory is not enough, you can set `force_col_wise=true`.\n",
      "[LightGBM] [Info] Total Bins 4310\n",
      "[LightGBM] [Info] Number of data points in the train set: 120000, number of used features: 32\n",
      "[LightGBM] [Info] [binary:BoostFromScore]: pavg=0.465400 -> initscore=-0.138622\n",
      "[LightGBM] [Info] Start training from score -0.138622\n",
      "[LightGBM] [Info] Number of positive: 55848, number of negative: 64152\n",
      "[LightGBM] [Info] Auto-choosing row-wise multi-threading, the overhead of testing was 0.003223 seconds.\n",
      "You can set `force_row_wise=true` to remove the overhead.\n",
      "And if memory is not enough, you can set `force_col_wise=true`.\n",
      "[LightGBM] [Info] Total Bins 4182\n",
      "[LightGBM] [Info] Number of data points in the train set: 120000, number of used features: 30\n",
      "[LightGBM] [Info] [binary:BoostFromScore]: pavg=0.465400 -> initscore=-0.138622\n",
      "[LightGBM] [Info] Start training from score -0.138622\n",
      "[LightGBM] [Info] Number of positive: 55848, number of negative: 64152\n",
      "[LightGBM] [Info] Auto-choosing row-wise multi-threading, the overhead of testing was 0.003222 seconds.\n",
      "You can set `force_row_wise=true` to remove the overhead.\n",
      "And if memory is not enough, you can set `force_col_wise=true`.\n",
      "[LightGBM] [Info] Total Bins 3644\n",
      "[LightGBM] [Info] Number of data points in the train set: 120000, number of used features: 30\n",
      "[LightGBM] [Info] [binary:BoostFromScore]: pavg=0.465400 -> initscore=-0.138622\n",
      "[LightGBM] [Info] Start training from score -0.138622\n",
      "[LightGBM] [Info] Number of positive: 55848, number of negative: 64152\n",
      "[LightGBM] [Info] Auto-choosing row-wise multi-threading, the overhead of testing was 0.003288 seconds.\n",
      "You can set `force_row_wise=true` to remove the overhead.\n",
      "And if memory is not enough, you can set `force_col_wise=true`.\n",
      "[LightGBM] [Info] Total Bins 2369\n",
      "[LightGBM] [Info] Number of data points in the train set: 120000, number of used features: 24\n",
      "[LightGBM] [Info] [binary:BoostFromScore]: pavg=0.465400 -> initscore=-0.138622\n",
      "[LightGBM] [Info] Start training from score -0.138622\n",
      "[LightGBM] [Info] Number of positive: 55848, number of negative: 64152\n",
      "[LightGBM] [Info] Auto-choosing row-wise multi-threading, the overhead of testing was 0.003693 seconds.\n",
      "You can set `force_row_wise=true` to remove the overhead.\n",
      "And if memory is not enough, you can set `force_col_wise=true`.\n",
      "[LightGBM] [Info] Total Bins 3175\n",
      "[LightGBM] [Info] Number of data points in the train set: 120000, number of used features: 28\n",
      "[LightGBM] [Info] [binary:BoostFromScore]: pavg=0.465400 -> initscore=-0.138622\n",
      "[LightGBM] [Info] Start training from score -0.138622\n",
      "[LightGBM] [Info] Number of positive: 55848, number of negative: 64152\n",
      "[LightGBM] [Info] Auto-choosing row-wise multi-threading, the overhead of testing was 0.003969 seconds.\n",
      "You can set `force_row_wise=true` to remove the overhead.\n",
      "And if memory is not enough, you can set `force_col_wise=true`.\n",
      "[LightGBM] [Info] Total Bins 3936\n",
      "[LightGBM] [Info] Number of data points in the train set: 120000, number of used features: 33\n",
      "[LightGBM] [Info] [binary:BoostFromScore]: pavg=0.465400 -> initscore=-0.138622\n",
      "[LightGBM] [Info] Start training from score -0.138622\n",
      "[LightGBM] [Info] Number of positive: 55848, number of negative: 64152\n",
      "[LightGBM] [Info] Auto-choosing row-wise multi-threading, the overhead of testing was 0.003148 seconds.\n",
      "You can set `force_row_wise=true` to remove the overhead.\n",
      "And if memory is not enough, you can set `force_col_wise=true`.\n",
      "[LightGBM] [Info] Total Bins 3575\n",
      "[LightGBM] [Info] Number of data points in the train set: 120000, number of used features: 30\n",
      "[LightGBM] [Info] [binary:BoostFromScore]: pavg=0.465400 -> initscore=-0.138622\n",
      "[LightGBM] [Info] Start training from score -0.138622\n",
      "[LightGBM] [Info] Number of positive: 55848, number of negative: 64152\n",
      "[LightGBM] [Info] Auto-choosing row-wise multi-threading, the overhead of testing was 0.002773 seconds.\n",
      "You can set `force_row_wise=true` to remove the overhead.\n",
      "And if memory is not enough, you can set `force_col_wise=true`.\n",
      "[LightGBM] [Info] Total Bins 3636\n",
      "[LightGBM] [Info] Number of data points in the train set: 120000, number of used features: 24\n",
      "[LightGBM] [Info] [binary:BoostFromScore]: pavg=0.465400 -> initscore=-0.138622\n",
      "[LightGBM] [Info] Start training from score -0.138622\n",
      "[LightGBM] [Info] Number of positive: 55848, number of negative: 64152\n",
      "[LightGBM] [Info] Auto-choosing row-wise multi-threading, the overhead of testing was 0.003488 seconds.\n",
      "You can set `force_row_wise=true` to remove the overhead.\n",
      "And if memory is not enough, you can set `force_col_wise=true`.\n",
      "[LightGBM] [Info] Total Bins 4262\n",
      "[LightGBM] [Info] Number of data points in the train set: 120000, number of used features: 31\n",
      "[LightGBM] [Info] [binary:BoostFromScore]: pavg=0.465400 -> initscore=-0.138622\n",
      "[LightGBM] [Info] Start training from score -0.138622\n",
      "[LightGBM] [Info] Number of positive: 55848, number of negative: 64152\n",
      "[LightGBM] [Info] Auto-choosing col-wise multi-threading, the overhead of testing was 0.020484 seconds.\n",
      "You can set `force_col_wise=true` to remove the overhead.\n",
      "[LightGBM] [Info] Total Bins 3476\n",
      "[LightGBM] [Info] Number of data points in the train set: 120000, number of used features: 29\n",
      "[LightGBM] [Info] [binary:BoostFromScore]: pavg=0.465400 -> initscore=-0.138622\n",
      "[LightGBM] [Info] Start training from score -0.138622\n",
      "[LightGBM] [Info] Number of positive: 55848, number of negative: 64152\n",
      "[LightGBM] [Info] Auto-choosing row-wise multi-threading, the overhead of testing was 0.003632 seconds.\n",
      "You can set `force_row_wise=true` to remove the overhead.\n",
      "And if memory is not enough, you can set `force_col_wise=true`.\n",
      "[LightGBM] [Info] Total Bins 3935\n",
      "[LightGBM] [Info] Number of data points in the train set: 120000, number of used features: 33\n",
      "[LightGBM] [Info] [binary:BoostFromScore]: pavg=0.465400 -> initscore=-0.138622\n",
      "[LightGBM] [Info] Start training from score -0.138622\n",
      "[LightGBM] [Info] Number of positive: 55848, number of negative: 64152\n",
      "[LightGBM] [Info] Auto-choosing row-wise multi-threading, the overhead of testing was 0.003622 seconds.\n",
      "You can set `force_row_wise=true` to remove the overhead.\n",
      "And if memory is not enough, you can set `force_col_wise=true`.\n",
      "[LightGBM] [Info] Total Bins 2789\n",
      "[LightGBM] [Info] Number of data points in the train set: 120000, number of used features: 26\n",
      "[LightGBM] [Info] [binary:BoostFromScore]: pavg=0.465400 -> initscore=-0.138622\n",
      "[LightGBM] [Info] Start training from score -0.138622\n",
      "[LightGBM] [Info] Number of positive: 55848, number of negative: 64152\n",
      "[LightGBM] [Info] Auto-choosing col-wise multi-threading, the overhead of testing was 0.021671 seconds.\n",
      "You can set `force_col_wise=true` to remove the overhead.\n",
      "[LightGBM] [Info] Total Bins 3887\n",
      "[LightGBM] [Info] Number of data points in the train set: 120000, number of used features: 29\n",
      "[LightGBM] [Info] [binary:BoostFromScore]: pavg=0.465400 -> initscore=-0.138622\n",
      "[LightGBM] [Info] Start training from score -0.138622\n",
      "[LightGBM] [Info] Number of positive: 55848, number of negative: 64152\n",
      "[LightGBM] [Info] Auto-choosing row-wise multi-threading, the overhead of testing was 0.003124 seconds.\n",
      "You can set `force_row_wise=true` to remove the overhead.\n",
      "And if memory is not enough, you can set `force_col_wise=true`.\n",
      "[LightGBM] [Info] Total Bins 3041\n",
      "[LightGBM] [Info] Number of data points in the train set: 120000, number of used features: 26\n",
      "[LightGBM] [Info] [binary:BoostFromScore]: pavg=0.465400 -> initscore=-0.138622\n",
      "[LightGBM] [Info] Start training from score -0.138622\n",
      "[LightGBM] [Info] Number of positive: 55848, number of negative: 64152\n",
      "[LightGBM] [Info] Auto-choosing row-wise multi-threading, the overhead of testing was 0.003169 seconds.\n",
      "You can set `force_row_wise=true` to remove the overhead.\n",
      "And if memory is not enough, you can set `force_col_wise=true`.\n",
      "[LightGBM] [Info] Total Bins 3470\n",
      "[LightGBM] [Info] Number of data points in the train set: 120000, number of used features: 26\n",
      "[LightGBM] [Info] [binary:BoostFromScore]: pavg=0.465400 -> initscore=-0.138622\n",
      "[LightGBM] [Info] Start training from score -0.138622\n",
      "[LightGBM] [Info] Number of positive: 55848, number of negative: 64152\n",
      "[LightGBM] [Info] Auto-choosing col-wise multi-threading, the overhead of testing was 0.022950 seconds.\n",
      "You can set `force_col_wise=true` to remove the overhead.\n",
      "[LightGBM] [Info] Total Bins 3646\n",
      "[LightGBM] [Info] Number of data points in the train set: 120000, number of used features: 29\n",
      "[LightGBM] [Info] [binary:BoostFromScore]: pavg=0.465400 -> initscore=-0.138622\n",
      "[LightGBM] [Info] Start training from score -0.138622\n",
      "[LightGBM] [Info] Number of positive: 55848, number of negative: 64152\n",
      "[LightGBM] [Info] Auto-choosing row-wise multi-threading, the overhead of testing was 0.003186 seconds.\n",
      "You can set `force_row_wise=true` to remove the overhead.\n",
      "And if memory is not enough, you can set `force_col_wise=true`.\n",
      "[LightGBM] [Info] Total Bins 3073\n",
      "[LightGBM] [Info] Number of data points in the train set: 120000, number of used features: 27\n",
      "[LightGBM] [Info] [binary:BoostFromScore]: pavg=0.465400 -> initscore=-0.138622\n",
      "[LightGBM] [Info] Start training from score -0.138622\n",
      "[LightGBM] [Info] Number of positive: 55848, number of negative: 64152\n",
      "[LightGBM] [Info] Auto-choosing row-wise multi-threading, the overhead of testing was 0.002884 seconds.\n",
      "You can set `force_row_wise=true` to remove the overhead.\n",
      "And if memory is not enough, you can set `force_col_wise=true`.\n",
      "[LightGBM] [Info] Total Bins 3128\n",
      "[LightGBM] [Info] Number of data points in the train set: 120000, number of used features: 28\n",
      "[LightGBM] [Info] [binary:BoostFromScore]: pavg=0.465400 -> initscore=-0.138622\n",
      "[LightGBM] [Info] Start training from score -0.138622\n",
      "[LightGBM] [Info] Number of positive: 55848, number of negative: 64152\n",
      "[LightGBM] [Info] Auto-choosing col-wise multi-threading, the overhead of testing was 0.024037 seconds.\n",
      "You can set `force_col_wise=true` to remove the overhead.\n",
      "[LightGBM] [Info] Total Bins 4393\n",
      "[LightGBM] [Info] Number of data points in the train set: 120000, number of used features: 29\n",
      "[LightGBM] [Info] [binary:BoostFromScore]: pavg=0.465400 -> initscore=-0.138622\n",
      "[LightGBM] [Info] Start training from score -0.138622\n",
      "[LightGBM] [Info] Number of positive: 55848, number of negative: 64152\n",
      "[LightGBM] [Info] Auto-choosing row-wise multi-threading, the overhead of testing was 0.003853 seconds.\n",
      "You can set `force_row_wise=true` to remove the overhead.\n",
      "And if memory is not enough, you can set `force_col_wise=true`.\n",
      "[LightGBM] [Info] Total Bins 4336\n",
      "[LightGBM] [Info] Number of data points in the train set: 120000, number of used features: 31\n",
      "[LightGBM] [Info] [binary:BoostFromScore]: pavg=0.465400 -> initscore=-0.138622\n",
      "[LightGBM] [Info] Start training from score -0.138622\n",
      "[LightGBM] [Info] Number of positive: 55848, number of negative: 64152\n",
      "[LightGBM] [Info] Auto-choosing row-wise multi-threading, the overhead of testing was 0.003600 seconds.\n",
      "You can set `force_row_wise=true` to remove the overhead.\n",
      "And if memory is not enough, you can set `force_col_wise=true`.\n",
      "[LightGBM] [Info] Total Bins 4124\n",
      "[LightGBM] [Info] Number of data points in the train set: 120000, number of used features: 29\n",
      "[LightGBM] [Info] [binary:BoostFromScore]: pavg=0.465400 -> initscore=-0.138622\n",
      "[LightGBM] [Info] Start training from score -0.138622\n",
      "[LightGBM] [Info] Number of positive: 55848, number of negative: 64152\n",
      "[LightGBM] [Info] Auto-choosing row-wise multi-threading, the overhead of testing was 0.002511 seconds.\n",
      "You can set `force_row_wise=true` to remove the overhead.\n",
      "And if memory is not enough, you can set `force_col_wise=true`.\n",
      "[LightGBM] [Info] Total Bins 3326\n",
      "[LightGBM] [Info] Number of data points in the train set: 120000, number of used features: 30\n",
      "[LightGBM] [Info] [binary:BoostFromScore]: pavg=0.465400 -> initscore=-0.138622\n",
      "[LightGBM] [Info] Start training from score -0.138622\n",
      "[LightGBM] [Info] Number of positive: 55848, number of negative: 64152\n",
      "[LightGBM] [Info] Auto-choosing row-wise multi-threading, the overhead of testing was 0.003285 seconds.\n",
      "You can set `force_row_wise=true` to remove the overhead.\n",
      "And if memory is not enough, you can set `force_col_wise=true`.\n",
      "[LightGBM] [Info] Total Bins 4188\n",
      "[LightGBM] [Info] Number of data points in the train set: 120000, number of used features: 33\n",
      "[LightGBM] [Info] [binary:BoostFromScore]: pavg=0.465400 -> initscore=-0.138622\n",
      "[LightGBM] [Info] Start training from score -0.138622\n",
      "[LightGBM] [Info] Number of positive: 55848, number of negative: 64152\n",
      "[LightGBM] [Info] Auto-choosing row-wise multi-threading, the overhead of testing was 0.003354 seconds.\n",
      "You can set `force_row_wise=true` to remove the overhead.\n",
      "And if memory is not enough, you can set `force_col_wise=true`.\n",
      "[LightGBM] [Info] Total Bins 3557\n",
      "[LightGBM] [Info] Number of data points in the train set: 120000, number of used features: 31\n",
      "[LightGBM] [Info] [binary:BoostFromScore]: pavg=0.465400 -> initscore=-0.138622\n",
      "[LightGBM] [Info] Start training from score -0.138622\n",
      "[LightGBM] [Info] Number of positive: 55848, number of negative: 64152\n",
      "[LightGBM] [Info] Auto-choosing row-wise multi-threading, the overhead of testing was 0.003289 seconds.\n",
      "You can set `force_row_wise=true` to remove the overhead.\n",
      "And if memory is not enough, you can set `force_col_wise=true`.\n",
      "[LightGBM] [Info] Total Bins 4439\n",
      "[LightGBM] [Info] Number of data points in the train set: 120000, number of used features: 32\n",
      "[LightGBM] [Info] [binary:BoostFromScore]: pavg=0.465400 -> initscore=-0.138622\n",
      "[LightGBM] [Info] Start training from score -0.138622\n"
     ]
    },
    {
     "name": "stderr",
     "output_type": "stream",
     "text": [
      "\u001b[32m [ 2024-11-18 23:23:16,092 ] \u001b[0mFinished iteration #4 with objective value -0.9568971669164347. Current best value is -0.957161216621448 \u001b[0m\n"
     ]
    },
    {
     "name": "stdout",
     "output_type": "stream",
     "text": [
      "[LightGBM] [Info] Number of positive: 55848, number of negative: 64152\n",
      "[LightGBM] [Info] Auto-choosing row-wise multi-threading, the overhead of testing was 0.003247 seconds.\n",
      "You can set `force_row_wise=true` to remove the overhead.\n",
      "And if memory is not enough, you can set `force_col_wise=true`.\n",
      "[LightGBM] [Info] Total Bins 4338\n",
      "[LightGBM] [Info] Number of data points in the train set: 120000, number of used features: 30\n",
      "[LightGBM] [Info] [binary:BoostFromScore]: pavg=0.465400 -> initscore=-0.138622\n",
      "[LightGBM] [Info] Start training from score -0.138622\n",
      "[LightGBM] [Info] Number of positive: 55848, number of negative: 64152\n",
      "[LightGBM] [Info] Auto-choosing row-wise multi-threading, the overhead of testing was 0.001828 seconds.\n",
      "You can set `force_row_wise=true` to remove the overhead.\n",
      "And if memory is not enough, you can set `force_col_wise=true`.\n",
      "[LightGBM] [Info] Total Bins 2928\n",
      "[LightGBM] [Info] Number of data points in the train set: 120000, number of used features: 22\n",
      "[LightGBM] [Info] [binary:BoostFromScore]: pavg=0.465400 -> initscore=-0.138622\n",
      "[LightGBM] [Info] Start training from score -0.138622\n",
      "[LightGBM] [Info] Number of positive: 55848, number of negative: 64152\n",
      "[LightGBM] [Info] Auto-choosing row-wise multi-threading, the overhead of testing was 0.003212 seconds.\n",
      "You can set `force_row_wise=true` to remove the overhead.\n",
      "And if memory is not enough, you can set `force_col_wise=true`.\n",
      "[LightGBM] [Info] Total Bins 3417\n",
      "[LightGBM] [Info] Number of data points in the train set: 120000, number of used features: 27\n",
      "[LightGBM] [Info] [binary:BoostFromScore]: pavg=0.465400 -> initscore=-0.138622\n",
      "[LightGBM] [Info] Start training from score -0.138622\n",
      "[LightGBM] [Info] Number of positive: 55848, number of negative: 64152\n",
      "[LightGBM] [Info] Auto-choosing col-wise multi-threading, the overhead of testing was 0.023824 seconds.\n",
      "You can set `force_col_wise=true` to remove the overhead.\n",
      "[LightGBM] [Info] Total Bins 3999\n",
      "[LightGBM] [Info] Number of data points in the train set: 120000, number of used features: 30\n",
      "[LightGBM] [Info] [binary:BoostFromScore]: pavg=0.465400 -> initscore=-0.138622\n",
      "[LightGBM] [Info] Start training from score -0.138622\n",
      "[LightGBM] [Info] Number of positive: 55848, number of negative: 64152\n",
      "[LightGBM] [Info] Auto-choosing row-wise multi-threading, the overhead of testing was 0.002584 seconds.\n",
      "You can set `force_row_wise=true` to remove the overhead.\n",
      "And if memory is not enough, you can set `force_col_wise=true`.\n",
      "[LightGBM] [Info] Total Bins 2230\n",
      "[LightGBM] [Info] Number of data points in the train set: 120000, number of used features: 18\n",
      "[LightGBM] [Info] [binary:BoostFromScore]: pavg=0.465400 -> initscore=-0.138622\n",
      "[LightGBM] [Info] Start training from score -0.138622\n",
      "[LightGBM] [Info] Number of positive: 55848, number of negative: 64152\n",
      "[LightGBM] [Info] Auto-choosing row-wise multi-threading, the overhead of testing was 0.003535 seconds.\n",
      "You can set `force_row_wise=true` to remove the overhead.\n",
      "And if memory is not enough, you can set `force_col_wise=true`.\n",
      "[LightGBM] [Info] Total Bins 3381\n",
      "[LightGBM] [Info] Number of data points in the train set: 120000, number of used features: 28\n",
      "[LightGBM] [Info] [binary:BoostFromScore]: pavg=0.465400 -> initscore=-0.138622\n",
      "[LightGBM] [Info] Start training from score -0.138622\n",
      "[LightGBM] [Info] Number of positive: 55848, number of negative: 64152\n",
      "[LightGBM] [Info] Auto-choosing row-wise multi-threading, the overhead of testing was 0.003261 seconds.\n",
      "You can set `force_row_wise=true` to remove the overhead.\n",
      "And if memory is not enough, you can set `force_col_wise=true`.\n",
      "[LightGBM] [Info] Total Bins 3840\n",
      "[LightGBM] [Info] Number of data points in the train set: 120000, number of used features: 24\n",
      "[LightGBM] [Info] [binary:BoostFromScore]: pavg=0.465400 -> initscore=-0.138622\n",
      "[LightGBM] [Info] Start training from score -0.138622\n",
      "[LightGBM] [Info] Number of positive: 55848, number of negative: 64152\n",
      "[LightGBM] [Info] Auto-choosing row-wise multi-threading, the overhead of testing was 0.003430 seconds.\n",
      "You can set `force_row_wise=true` to remove the overhead.\n",
      "And if memory is not enough, you can set `force_col_wise=true`.\n",
      "[LightGBM] [Info] Total Bins 3797\n",
      "[LightGBM] [Info] Number of data points in the train set: 120000, number of used features: 29\n",
      "[LightGBM] [Info] [binary:BoostFromScore]: pavg=0.465400 -> initscore=-0.138622\n",
      "[LightGBM] [Info] Start training from score -0.138622\n",
      "[LightGBM] [Info] Number of positive: 55848, number of negative: 64152\n",
      "[LightGBM] [Info] Auto-choosing row-wise multi-threading, the overhead of testing was 0.003356 seconds.\n",
      "You can set `force_row_wise=true` to remove the overhead.\n",
      "And if memory is not enough, you can set `force_col_wise=true`.\n",
      "[LightGBM] [Info] Total Bins 3353\n",
      "[LightGBM] [Info] Number of data points in the train set: 120000, number of used features: 28\n",
      "[LightGBM] [Info] [binary:BoostFromScore]: pavg=0.465400 -> initscore=-0.138622\n",
      "[LightGBM] [Info] Start training from score -0.138622\n",
      "[LightGBM] [Info] Number of positive: 55848, number of negative: 64152\n",
      "[LightGBM] [Info] Auto-choosing row-wise multi-threading, the overhead of testing was 0.002500 seconds.\n",
      "You can set `force_row_wise=true` to remove the overhead.\n",
      "And if memory is not enough, you can set `force_col_wise=true`.\n",
      "[LightGBM] [Info] Total Bins 3066\n",
      "[LightGBM] [Info] Number of data points in the train set: 120000, number of used features: 26\n",
      "[LightGBM] [Info] [binary:BoostFromScore]: pavg=0.465400 -> initscore=-0.138622\n",
      "[LightGBM] [Info] Start training from score -0.138622\n",
      "[LightGBM] [Info] Number of positive: 55848, number of negative: 64152\n",
      "[LightGBM] [Info] Auto-choosing col-wise multi-threading, the overhead of testing was 0.011727 seconds.\n",
      "You can set `force_col_wise=true` to remove the overhead.\n",
      "[LightGBM] [Info] Total Bins 3956\n",
      "[LightGBM] [Info] Number of data points in the train set: 120000, number of used features: 28\n",
      "[LightGBM] [Info] [binary:BoostFromScore]: pavg=0.465400 -> initscore=-0.138622\n",
      "[LightGBM] [Info] Start training from score -0.138622\n",
      "[LightGBM] [Info] Number of positive: 55848, number of negative: 64152\n",
      "[LightGBM] [Info] Auto-choosing row-wise multi-threading, the overhead of testing was 0.003283 seconds.\n",
      "You can set `force_row_wise=true` to remove the overhead.\n",
      "And if memory is not enough, you can set `force_col_wise=true`.\n",
      "[LightGBM] [Info] Total Bins 3851\n",
      "[LightGBM] [Info] Number of data points in the train set: 120000, number of used features: 27\n",
      "[LightGBM] [Info] [binary:BoostFromScore]: pavg=0.465400 -> initscore=-0.138622\n",
      "[LightGBM] [Info] Start training from score -0.138622\n",
      "[LightGBM] [Info] Number of positive: 55848, number of negative: 64152\n",
      "[LightGBM] [Info] Auto-choosing row-wise multi-threading, the overhead of testing was 0.003643 seconds.\n",
      "You can set `force_row_wise=true` to remove the overhead.\n",
      "And if memory is not enough, you can set `force_col_wise=true`.\n",
      "[LightGBM] [Info] Total Bins 2628\n",
      "[LightGBM] [Info] Number of data points in the train set: 120000, number of used features: 18\n",
      "[LightGBM] [Info] [binary:BoostFromScore]: pavg=0.465400 -> initscore=-0.138622\n",
      "[LightGBM] [Info] Start training from score -0.138622\n",
      "[LightGBM] [Info] Number of positive: 55848, number of negative: 64152\n",
      "[LightGBM] [Info] Auto-choosing col-wise multi-threading, the overhead of testing was 0.022474 seconds.\n",
      "You can set `force_col_wise=true` to remove the overhead.\n",
      "[LightGBM] [Info] Total Bins 4409\n",
      "[LightGBM] [Info] Number of data points in the train set: 120000, number of used features: 33\n",
      "[LightGBM] [Info] [binary:BoostFromScore]: pavg=0.465400 -> initscore=-0.138622\n",
      "[LightGBM] [Info] Start training from score -0.138622\n",
      "[LightGBM] [Info] Number of positive: 55848, number of negative: 64152\n",
      "[LightGBM] [Info] Auto-choosing row-wise multi-threading, the overhead of testing was 0.002756 seconds.\n",
      "You can set `force_row_wise=true` to remove the overhead.\n",
      "And if memory is not enough, you can set `force_col_wise=true`.\n",
      "[LightGBM] [Info] Total Bins 3914\n",
      "[LightGBM] [Info] Number of data points in the train set: 120000, number of used features: 26\n",
      "[LightGBM] [Info] [binary:BoostFromScore]: pavg=0.465400 -> initscore=-0.138622\n",
      "[LightGBM] [Info] Start training from score -0.138622\n",
      "[LightGBM] [Info] Number of positive: 55848, number of negative: 64152\n",
      "[LightGBM] [Info] Auto-choosing row-wise multi-threading, the overhead of testing was 0.002598 seconds.\n",
      "You can set `force_row_wise=true` to remove the overhead.\n",
      "And if memory is not enough, you can set `force_col_wise=true`.\n",
      "[LightGBM] [Info] Total Bins 2973\n",
      "[LightGBM] [Info] Number of data points in the train set: 120000, number of used features: 23\n",
      "[LightGBM] [Info] [binary:BoostFromScore]: pavg=0.465400 -> initscore=-0.138622\n",
      "[LightGBM] [Info] Start training from score -0.138622\n",
      "[LightGBM] [Info] Number of positive: 55848, number of negative: 64152\n",
      "[LightGBM] [Info] Auto-choosing col-wise multi-threading, the overhead of testing was 0.005619 seconds.\n",
      "You can set `force_col_wise=true` to remove the overhead.\n",
      "[LightGBM] [Info] Total Bins 3681\n",
      "[LightGBM] [Info] Number of data points in the train set: 120000, number of used features: 28\n",
      "[LightGBM] [Info] [binary:BoostFromScore]: pavg=0.465400 -> initscore=-0.138622\n",
      "[LightGBM] [Info] Start training from score -0.138622\n",
      "[LightGBM] [Info] Number of positive: 55848, number of negative: 64152\n",
      "[LightGBM] [Info] Auto-choosing row-wise multi-threading, the overhead of testing was 0.003621 seconds.\n",
      "You can set `force_row_wise=true` to remove the overhead.\n",
      "And if memory is not enough, you can set `force_col_wise=true`.\n",
      "[LightGBM] [Info] Total Bins 3320\n",
      "[LightGBM] [Info] Number of data points in the train set: 120000, number of used features: 29\n",
      "[LightGBM] [Info] [binary:BoostFromScore]: pavg=0.465400 -> initscore=-0.138622\n",
      "[LightGBM] [Info] Start training from score -0.138622\n",
      "[LightGBM] [Info] Number of positive: 55848, number of negative: 64152\n",
      "[LightGBM] [Info] Auto-choosing row-wise multi-threading, the overhead of testing was 0.003152 seconds.\n",
      "You can set `force_row_wise=true` to remove the overhead.\n",
      "And if memory is not enough, you can set `force_col_wise=true`.\n",
      "[LightGBM] [Info] Total Bins 3677\n",
      "[LightGBM] [Info] Number of data points in the train set: 120000, number of used features: 30\n",
      "[LightGBM] [Info] [binary:BoostFromScore]: pavg=0.465400 -> initscore=-0.138622\n",
      "[LightGBM] [Info] Start training from score -0.138622\n",
      "[LightGBM] [Info] Number of positive: 55848, number of negative: 64152\n",
      "[LightGBM] [Info] Auto-choosing col-wise multi-threading, the overhead of testing was 0.006922 seconds.\n",
      "You can set `force_col_wise=true` to remove the overhead.\n",
      "[LightGBM] [Info] Total Bins 4083\n",
      "[LightGBM] [Info] Number of data points in the train set: 120000, number of used features: 29\n",
      "[LightGBM] [Info] [binary:BoostFromScore]: pavg=0.465400 -> initscore=-0.138622\n",
      "[LightGBM] [Info] Start training from score -0.138622\n",
      "[LightGBM] [Info] Number of positive: 55848, number of negative: 64152\n",
      "[LightGBM] [Info] Auto-choosing row-wise multi-threading, the overhead of testing was 0.003495 seconds.\n",
      "You can set `force_row_wise=true` to remove the overhead.\n",
      "And if memory is not enough, you can set `force_col_wise=true`.\n",
      "[LightGBM] [Info] Total Bins 4013\n",
      "[LightGBM] [Info] Number of data points in the train set: 120000, number of used features: 26\n",
      "[LightGBM] [Info] [binary:BoostFromScore]: pavg=0.465400 -> initscore=-0.138622\n",
      "[LightGBM] [Info] Start training from score -0.138622\n",
      "[LightGBM] [Info] Number of positive: 55848, number of negative: 64152\n",
      "[LightGBM] [Info] Auto-choosing row-wise multi-threading, the overhead of testing was 0.002467 seconds.\n",
      "You can set `force_row_wise=true` to remove the overhead.\n",
      "And if memory is not enough, you can set `force_col_wise=true`.\n",
      "[LightGBM] [Info] Total Bins 2129\n",
      "[LightGBM] [Info] Number of data points in the train set: 120000, number of used features: 22\n",
      "[LightGBM] [Info] [binary:BoostFromScore]: pavg=0.465400 -> initscore=-0.138622\n",
      "[LightGBM] [Info] Start training from score -0.138622\n",
      "[LightGBM] [Info] Number of positive: 55848, number of negative: 64152\n",
      "[LightGBM] [Info] Auto-choosing row-wise multi-threading, the overhead of testing was 0.003287 seconds.\n",
      "You can set `force_row_wise=true` to remove the overhead.\n",
      "And if memory is not enough, you can set `force_col_wise=true`.\n",
      "[LightGBM] [Info] Total Bins 4404\n",
      "[LightGBM] [Info] Number of data points in the train set: 120000, number of used features: 34\n",
      "[LightGBM] [Info] [binary:BoostFromScore]: pavg=0.465400 -> initscore=-0.138622\n",
      "[LightGBM] [Info] Start training from score -0.138622\n",
      "[LightGBM] [Info] Number of positive: 55848, number of negative: 64152\n",
      "[LightGBM] [Info] Auto-choosing row-wise multi-threading, the overhead of testing was 0.003046 seconds.\n",
      "You can set `force_row_wise=true` to remove the overhead.\n",
      "And if memory is not enough, you can set `force_col_wise=true`.\n",
      "[LightGBM] [Info] Total Bins 3292\n",
      "[LightGBM] [Info] Number of data points in the train set: 120000, number of used features: 29\n",
      "[LightGBM] [Info] [binary:BoostFromScore]: pavg=0.465400 -> initscore=-0.138622\n",
      "[LightGBM] [Info] Start training from score -0.138622\n",
      "[LightGBM] [Info] Number of positive: 55848, number of negative: 64152\n",
      "[LightGBM] [Info] Auto-choosing row-wise multi-threading, the overhead of testing was 0.003879 seconds.\n",
      "You can set `force_row_wise=true` to remove the overhead.\n",
      "And if memory is not enough, you can set `force_col_wise=true`.\n",
      "[LightGBM] [Info] Total Bins 3961\n",
      "[LightGBM] [Info] Number of data points in the train set: 120000, number of used features: 31\n",
      "[LightGBM] [Info] [binary:BoostFromScore]: pavg=0.465400 -> initscore=-0.138622\n",
      "[LightGBM] [Info] Start training from score -0.138622\n",
      "[LightGBM] [Info] Number of positive: 55848, number of negative: 64152\n",
      "[LightGBM] [Info] Auto-choosing col-wise multi-threading, the overhead of testing was 0.023850 seconds.\n",
      "You can set `force_col_wise=true` to remove the overhead.\n",
      "[LightGBM] [Info] Total Bins 4336\n",
      "[LightGBM] [Info] Number of data points in the train set: 120000, number of used features: 29\n",
      "[LightGBM] [Info] [binary:BoostFromScore]: pavg=0.465400 -> initscore=-0.138622\n",
      "[LightGBM] [Info] Start training from score -0.138622\n",
      "[LightGBM] [Info] Number of positive: 55848, number of negative: 64152\n",
      "[LightGBM] [Info] Auto-choosing row-wise multi-threading, the overhead of testing was 0.003295 seconds.\n",
      "You can set `force_row_wise=true` to remove the overhead.\n",
      "And if memory is not enough, you can set `force_col_wise=true`.\n",
      "[LightGBM] [Info] Total Bins 3929\n",
      "[LightGBM] [Info] Number of data points in the train set: 120000, number of used features: 30\n",
      "[LightGBM] [Info] [binary:BoostFromScore]: pavg=0.465400 -> initscore=-0.138622\n",
      "[LightGBM] [Info] Start training from score -0.138622\n",
      "[LightGBM] [Info] Number of positive: 55848, number of negative: 64152\n",
      "[LightGBM] [Info] Auto-choosing row-wise multi-threading, the overhead of testing was 0.003184 seconds.\n",
      "You can set `force_row_wise=true` to remove the overhead.\n",
      "And if memory is not enough, you can set `force_col_wise=true`.\n",
      "[LightGBM] [Info] Total Bins 3707\n",
      "[LightGBM] [Info] Number of data points in the train set: 120000, number of used features: 28\n",
      "[LightGBM] [Info] [binary:BoostFromScore]: pavg=0.465400 -> initscore=-0.138622\n",
      "[LightGBM] [Info] Start training from score -0.138622\n",
      "[LightGBM] [Info] Number of positive: 55848, number of negative: 64152\n",
      "[LightGBM] [Info] Auto-choosing row-wise multi-threading, the overhead of testing was 0.003029 seconds.\n",
      "You can set `force_row_wise=true` to remove the overhead.\n",
      "And if memory is not enough, you can set `force_col_wise=true`.\n",
      "[LightGBM] [Info] Total Bins 2508\n",
      "[LightGBM] [Info] Number of data points in the train set: 120000, number of used features: 22\n",
      "[LightGBM] [Info] [binary:BoostFromScore]: pavg=0.465400 -> initscore=-0.138622\n",
      "[LightGBM] [Info] Start training from score -0.138622\n",
      "[LightGBM] [Info] Number of positive: 55848, number of negative: 64152\n",
      "[LightGBM] [Info] Auto-choosing col-wise multi-threading, the overhead of testing was 0.027313 seconds.\n",
      "You can set `force_col_wise=true` to remove the overhead.\n",
      "[LightGBM] [Info] Total Bins 4674\n",
      "[LightGBM] [Info] Number of data points in the train set: 120000, number of used features: 32\n",
      "[LightGBM] [Info] [binary:BoostFromScore]: pavg=0.465400 -> initscore=-0.138622\n",
      "[LightGBM] [Info] Start training from score -0.138622\n",
      "[LightGBM] [Info] Number of positive: 55848, number of negative: 64152\n",
      "[LightGBM] [Info] Auto-choosing row-wise multi-threading, the overhead of testing was 0.003312 seconds.\n",
      "You can set `force_row_wise=true` to remove the overhead.\n",
      "And if memory is not enough, you can set `force_col_wise=true`.\n",
      "[LightGBM] [Info] Total Bins 3538\n",
      "[LightGBM] [Info] Number of data points in the train set: 120000, number of used features: 26\n",
      "[LightGBM] [Info] [binary:BoostFromScore]: pavg=0.465400 -> initscore=-0.138622\n",
      "[LightGBM] [Info] Start training from score -0.138622\n",
      "[LightGBM] [Info] Number of positive: 55848, number of negative: 64152\n",
      "[LightGBM] [Info] Auto-choosing row-wise multi-threading, the overhead of testing was 0.002697 seconds.\n",
      "You can set `force_row_wise=true` to remove the overhead.\n",
      "And if memory is not enough, you can set `force_col_wise=true`.\n",
      "[LightGBM] [Info] Total Bins 3311\n",
      "[LightGBM] [Info] Number of data points in the train set: 120000, number of used features: 24\n",
      "[LightGBM] [Info] [binary:BoostFromScore]: pavg=0.465400 -> initscore=-0.138622\n",
      "[LightGBM] [Info] Start training from score -0.138622\n",
      "[LightGBM] [Info] Number of positive: 55848, number of negative: 64152\n",
      "[LightGBM] [Info] Auto-choosing row-wise multi-threading, the overhead of testing was 0.003475 seconds.\n",
      "You can set `force_row_wise=true` to remove the overhead.\n",
      "And if memory is not enough, you can set `force_col_wise=true`.\n",
      "[LightGBM] [Info] Total Bins 2525\n",
      "[LightGBM] [Info] Number of data points in the train set: 120000, number of used features: 25\n",
      "[LightGBM] [Info] [binary:BoostFromScore]: pavg=0.465400 -> initscore=-0.138622\n",
      "[LightGBM] [Info] Start training from score -0.138622\n",
      "[LightGBM] [Info] Number of positive: 55848, number of negative: 64152\n",
      "[LightGBM] [Info] Auto-choosing row-wise multi-threading, the overhead of testing was 0.003613 seconds.\n",
      "You can set `force_row_wise=true` to remove the overhead.\n",
      "And if memory is not enough, you can set `force_col_wise=true`.\n",
      "[LightGBM] [Info] Total Bins 3931\n",
      "[LightGBM] [Info] Number of data points in the train set: 120000, number of used features: 31\n",
      "[LightGBM] [Info] [binary:BoostFromScore]: pavg=0.465400 -> initscore=-0.138622\n",
      "[LightGBM] [Info] Start training from score -0.138622\n",
      "[LightGBM] [Info] Number of positive: 55848, number of negative: 64152\n",
      "[LightGBM] [Info] Auto-choosing row-wise multi-threading, the overhead of testing was 0.003381 seconds.\n",
      "You can set `force_row_wise=true` to remove the overhead.\n",
      "And if memory is not enough, you can set `force_col_wise=true`.\n",
      "[LightGBM] [Info] Total Bins 3676\n",
      "[LightGBM] [Info] Number of data points in the train set: 120000, number of used features: 30\n",
      "[LightGBM] [Info] [binary:BoostFromScore]: pavg=0.465400 -> initscore=-0.138622\n",
      "[LightGBM] [Info] Start training from score -0.138622\n",
      "[LightGBM] [Info] Number of positive: 55848, number of negative: 64152\n",
      "[LightGBM] [Info] Auto-choosing row-wise multi-threading, the overhead of testing was 0.003418 seconds.\n",
      "You can set `force_row_wise=true` to remove the overhead.\n",
      "And if memory is not enough, you can set `force_col_wise=true`.\n",
      "[LightGBM] [Info] Total Bins 3937\n",
      "[LightGBM] [Info] Number of data points in the train set: 120000, number of used features: 29\n",
      "[LightGBM] [Info] [binary:BoostFromScore]: pavg=0.465400 -> initscore=-0.138622\n",
      "[LightGBM] [Info] Start training from score -0.138622\n",
      "[LightGBM] [Info] Number of positive: 55848, number of negative: 64152\n",
      "[LightGBM] [Info] Auto-choosing row-wise multi-threading, the overhead of testing was 0.003517 seconds.\n",
      "You can set `force_row_wise=true` to remove the overhead.\n",
      "And if memory is not enough, you can set `force_col_wise=true`.\n",
      "[LightGBM] [Info] Total Bins 3672\n",
      "[LightGBM] [Info] Number of data points in the train set: 120000, number of used features: 28\n",
      "[LightGBM] [Info] [binary:BoostFromScore]: pavg=0.465400 -> initscore=-0.138622\n",
      "[LightGBM] [Info] Start training from score -0.138622\n",
      "[LightGBM] [Info] Number of positive: 55848, number of negative: 64152\n",
      "[LightGBM] [Info] Auto-choosing row-wise multi-threading, the overhead of testing was 0.002679 seconds.\n",
      "You can set `force_row_wise=true` to remove the overhead.\n",
      "And if memory is not enough, you can set `force_col_wise=true`.\n",
      "[LightGBM] [Info] Total Bins 2485\n",
      "[LightGBM] [Info] Number of data points in the train set: 120000, number of used features: 24\n",
      "[LightGBM] [Info] [binary:BoostFromScore]: pavg=0.465400 -> initscore=-0.138622\n",
      "[LightGBM] [Info] Start training from score -0.138622\n",
      "[LightGBM] [Info] Number of positive: 55848, number of negative: 64152\n",
      "[LightGBM] [Info] Auto-choosing row-wise multi-threading, the overhead of testing was 0.003097 seconds.\n",
      "You can set `force_row_wise=true` to remove the overhead.\n",
      "And if memory is not enough, you can set `force_col_wise=true`.\n",
      "[LightGBM] [Info] Total Bins 3801\n",
      "[LightGBM] [Info] Number of data points in the train set: 120000, number of used features: 31\n",
      "[LightGBM] [Info] [binary:BoostFromScore]: pavg=0.465400 -> initscore=-0.138622\n",
      "[LightGBM] [Info] Start training from score -0.138622\n",
      "[LightGBM] [Info] Number of positive: 55848, number of negative: 64152\n",
      "[LightGBM] [Info] Auto-choosing row-wise multi-threading, the overhead of testing was 0.003599 seconds.\n",
      "You can set `force_row_wise=true` to remove the overhead.\n",
      "And if memory is not enough, you can set `force_col_wise=true`.\n",
      "[LightGBM] [Info] Total Bins 3757\n",
      "[LightGBM] [Info] Number of data points in the train set: 120000, number of used features: 29\n",
      "[LightGBM] [Info] [binary:BoostFromScore]: pavg=0.465400 -> initscore=-0.138622\n",
      "[LightGBM] [Info] Start training from score -0.138622\n",
      "[LightGBM] [Info] Number of positive: 55848, number of negative: 64152\n",
      "[LightGBM] [Info] Auto-choosing row-wise multi-threading, the overhead of testing was 0.003000 seconds.\n",
      "You can set `force_row_wise=true` to remove the overhead.\n",
      "And if memory is not enough, you can set `force_col_wise=true`.\n",
      "[LightGBM] [Info] Total Bins 3645\n",
      "[LightGBM] [Info] Number of data points in the train set: 120000, number of used features: 30\n",
      "[LightGBM] [Info] [binary:BoostFromScore]: pavg=0.465400 -> initscore=-0.138622\n",
      "[LightGBM] [Info] Start training from score -0.138622\n",
      "[LightGBM] [Info] Number of positive: 55848, number of negative: 64152\n",
      "[LightGBM] [Info] Auto-choosing row-wise multi-threading, the overhead of testing was 0.003816 seconds.\n",
      "You can set `force_row_wise=true` to remove the overhead.\n",
      "And if memory is not enough, you can set `force_col_wise=true`.\n",
      "[LightGBM] [Info] Total Bins 3893\n",
      "[LightGBM] [Info] Number of data points in the train set: 120000, number of used features: 32\n",
      "[LightGBM] [Info] [binary:BoostFromScore]: pavg=0.465400 -> initscore=-0.138622\n",
      "[LightGBM] [Info] Start training from score -0.138622\n",
      "[LightGBM] [Info] Number of positive: 55848, number of negative: 64152\n",
      "[LightGBM] [Info] Auto-choosing row-wise multi-threading, the overhead of testing was 0.002924 seconds.\n",
      "You can set `force_row_wise=true` to remove the overhead.\n",
      "And if memory is not enough, you can set `force_col_wise=true`.\n",
      "[LightGBM] [Info] Total Bins 3246\n",
      "[LightGBM] [Info] Number of data points in the train set: 120000, number of used features: 25\n",
      "[LightGBM] [Info] [binary:BoostFromScore]: pavg=0.465400 -> initscore=-0.138622\n",
      "[LightGBM] [Info] Start training from score -0.138622\n",
      "[LightGBM] [Info] Number of positive: 55848, number of negative: 64152\n",
      "[LightGBM] [Info] Auto-choosing row-wise multi-threading, the overhead of testing was 0.003365 seconds.\n",
      "You can set `force_row_wise=true` to remove the overhead.\n",
      "And if memory is not enough, you can set `force_col_wise=true`.\n",
      "[LightGBM] [Info] Total Bins 4568\n",
      "[LightGBM] [Info] Number of data points in the train set: 120000, number of used features: 34\n",
      "[LightGBM] [Info] [binary:BoostFromScore]: pavg=0.465400 -> initscore=-0.138622\n",
      "[LightGBM] [Info] Start training from score -0.138622\n",
      "[LightGBM] [Info] Number of positive: 55848, number of negative: 64152\n",
      "[LightGBM] [Info] Auto-choosing row-wise multi-threading, the overhead of testing was 0.003234 seconds.\n",
      "You can set `force_row_wise=true` to remove the overhead.\n",
      "And if memory is not enough, you can set `force_col_wise=true`.\n",
      "[LightGBM] [Info] Total Bins 4255\n",
      "[LightGBM] [Info] Number of data points in the train set: 120000, number of used features: 32\n",
      "[LightGBM] [Info] [binary:BoostFromScore]: pavg=0.465400 -> initscore=-0.138622\n",
      "[LightGBM] [Info] Start training from score -0.138622\n",
      "[LightGBM] [Info] Number of positive: 55848, number of negative: 64152\n",
      "[LightGBM] [Info] Auto-choosing row-wise multi-threading, the overhead of testing was 0.003780 seconds.\n",
      "You can set `force_row_wise=true` to remove the overhead.\n",
      "And if memory is not enough, you can set `force_col_wise=true`.\n",
      "[LightGBM] [Info] Total Bins 3749\n",
      "[LightGBM] [Info] Number of data points in the train set: 120000, number of used features: 32\n",
      "[LightGBM] [Info] [binary:BoostFromScore]: pavg=0.465400 -> initscore=-0.138622\n",
      "[LightGBM] [Info] Start training from score -0.138622\n",
      "[LightGBM] [Info] Number of positive: 55848, number of negative: 64152\n",
      "[LightGBM] [Info] Auto-choosing row-wise multi-threading, the overhead of testing was 0.003723 seconds.\n",
      "You can set `force_row_wise=true` to remove the overhead.\n",
      "And if memory is not enough, you can set `force_col_wise=true`.\n",
      "[LightGBM] [Info] Total Bins 4083\n",
      "[LightGBM] [Info] Number of data points in the train set: 120000, number of used features: 29\n",
      "[LightGBM] [Info] [binary:BoostFromScore]: pavg=0.465400 -> initscore=-0.138622\n",
      "[LightGBM] [Info] Start training from score -0.138622\n",
      "[LightGBM] [Info] Number of positive: 55848, number of negative: 64152\n",
      "[LightGBM] [Info] Auto-choosing row-wise multi-threading, the overhead of testing was 0.003502 seconds.\n",
      "You can set `force_row_wise=true` to remove the overhead.\n",
      "And if memory is not enough, you can set `force_col_wise=true`.\n",
      "[LightGBM] [Info] Total Bins 3747\n",
      "[LightGBM] [Info] Number of data points in the train set: 120000, number of used features: 28\n",
      "[LightGBM] [Info] [binary:BoostFromScore]: pavg=0.465400 -> initscore=-0.138622\n",
      "[LightGBM] [Info] Start training from score -0.138622\n",
      "[LightGBM] [Info] Number of positive: 55848, number of negative: 64152\n",
      "[LightGBM] [Info] Auto-choosing row-wise multi-threading, the overhead of testing was 0.003123 seconds.\n",
      "You can set `force_row_wise=true` to remove the overhead.\n",
      "And if memory is not enough, you can set `force_col_wise=true`.\n",
      "[LightGBM] [Info] Total Bins 4235\n",
      "[LightGBM] [Info] Number of data points in the train set: 120000, number of used features: 31\n",
      "[LightGBM] [Info] [binary:BoostFromScore]: pavg=0.465400 -> initscore=-0.138622\n",
      "[LightGBM] [Info] Start training from score -0.138622\n",
      "[LightGBM] [Info] Number of positive: 55848, number of negative: 64152\n",
      "[LightGBM] [Info] Auto-choosing row-wise multi-threading, the overhead of testing was 0.003663 seconds.\n",
      "You can set `force_row_wise=true` to remove the overhead.\n",
      "And if memory is not enough, you can set `force_col_wise=true`.\n",
      "[LightGBM] [Info] Total Bins 3894\n",
      "[LightGBM] [Info] Number of data points in the train set: 120000, number of used features: 32\n",
      "[LightGBM] [Info] [binary:BoostFromScore]: pavg=0.465400 -> initscore=-0.138622\n",
      "[LightGBM] [Info] Start training from score -0.138622\n",
      "[LightGBM] [Info] Number of positive: 55848, number of negative: 64152\n",
      "[LightGBM] [Info] Auto-choosing row-wise multi-threading, the overhead of testing was 0.003179 seconds.\n",
      "You can set `force_row_wise=true` to remove the overhead.\n",
      "And if memory is not enough, you can set `force_col_wise=true`.\n",
      "[LightGBM] [Info] Total Bins 3686\n",
      "[LightGBM] [Info] Number of data points in the train set: 120000, number of used features: 30\n",
      "[LightGBM] [Info] [binary:BoostFromScore]: pavg=0.465400 -> initscore=-0.138622\n",
      "[LightGBM] [Info] Start training from score -0.138622\n"
     ]
    },
    {
     "name": "stderr",
     "output_type": "stream",
     "text": [
      "\u001b[32m [ 2024-11-18 23:23:40,555 ] \u001b[0mFinished iteration #5 with objective value -0.9570652950421489. Current best value is -0.957161216621448 \u001b[0m\n"
     ]
    },
    {
     "name": "stdout",
     "output_type": "stream",
     "text": [
      "[LightGBM] [Info] Number of positive: 55848, number of negative: 64152\n",
      "[LightGBM] [Info] Auto-choosing row-wise multi-threading, the overhead of testing was 0.003161 seconds.\n",
      "You can set `force_row_wise=true` to remove the overhead.\n",
      "And if memory is not enough, you can set `force_col_wise=true`.\n",
      "[LightGBM] [Info] Total Bins 3432\n",
      "[LightGBM] [Info] Number of data points in the train set: 120000, number of used features: 30\n",
      "[LightGBM] [Info] [binary:BoostFromScore]: pavg=0.465400 -> initscore=-0.138622\n",
      "[LightGBM] [Info] Start training from score -0.138622\n",
      "[LightGBM] [Info] Number of positive: 55848, number of negative: 64152\n",
      "[LightGBM] [Info] Auto-choosing col-wise multi-threading, the overhead of testing was 0.021986 seconds.\n",
      "You can set `force_col_wise=true` to remove the overhead.\n",
      "[LightGBM] [Info] Total Bins 3663\n",
      "[LightGBM] [Info] Number of data points in the train set: 120000, number of used features: 26\n",
      "[LightGBM] [Info] [binary:BoostFromScore]: pavg=0.465400 -> initscore=-0.138622\n",
      "[LightGBM] [Info] Start training from score -0.138622\n",
      "[LightGBM] [Info] Number of positive: 55848, number of negative: 64152\n",
      "[LightGBM] [Info] Auto-choosing row-wise multi-threading, the overhead of testing was 0.002393 seconds.\n",
      "You can set `force_row_wise=true` to remove the overhead.\n",
      "And if memory is not enough, you can set `force_col_wise=true`.\n",
      "[LightGBM] [Info] Total Bins 3956\n",
      "[LightGBM] [Info] Number of data points in the train set: 120000, number of used features: 30\n",
      "[LightGBM] [Info] [binary:BoostFromScore]: pavg=0.465400 -> initscore=-0.138622\n",
      "[LightGBM] [Info] Start training from score -0.138622\n",
      "[LightGBM] [Info] Number of positive: 55848, number of negative: 64152\n",
      "[LightGBM] [Info] Auto-choosing col-wise multi-threading, the overhead of testing was 0.019193 seconds.\n",
      "You can set `force_col_wise=true` to remove the overhead.\n",
      "[LightGBM] [Info] Total Bins 3649\n",
      "[LightGBM] [Info] Number of data points in the train set: 120000, number of used features: 25\n",
      "[LightGBM] [Info] [binary:BoostFromScore]: pavg=0.465400 -> initscore=-0.138622\n",
      "[LightGBM] [Info] Start training from score -0.138622\n",
      "[LightGBM] [Info] Number of positive: 55848, number of negative: 64152\n",
      "[LightGBM] [Info] Auto-choosing row-wise multi-threading, the overhead of testing was 0.003151 seconds.\n",
      "You can set `force_row_wise=true` to remove the overhead.\n",
      "And if memory is not enough, you can set `force_col_wise=true`.\n",
      "[LightGBM] [Info] Total Bins 3122\n",
      "[LightGBM] [Info] Number of data points in the train set: 120000, number of used features: 25\n",
      "[LightGBM] [Info] [binary:BoostFromScore]: pavg=0.465400 -> initscore=-0.138622\n",
      "[LightGBM] [Info] Start training from score -0.138622\n",
      "[LightGBM] [Info] Number of positive: 55848, number of negative: 64152\n",
      "[LightGBM] [Info] Auto-choosing row-wise multi-threading, the overhead of testing was 0.002672 seconds.\n",
      "You can set `force_row_wise=true` to remove the overhead.\n",
      "And if memory is not enough, you can set `force_col_wise=true`.\n",
      "[LightGBM] [Info] Total Bins 1827\n",
      "[LightGBM] [Info] Number of data points in the train set: 120000, number of used features: 13\n",
      "[LightGBM] [Info] [binary:BoostFromScore]: pavg=0.465400 -> initscore=-0.138622\n",
      "[LightGBM] [Info] Start training from score -0.138622\n",
      "[LightGBM] [Info] Number of positive: 55848, number of negative: 64152\n",
      "[LightGBM] [Info] Auto-choosing row-wise multi-threading, the overhead of testing was 0.002615 seconds.\n",
      "You can set `force_row_wise=true` to remove the overhead.\n",
      "And if memory is not enough, you can set `force_col_wise=true`.\n",
      "[LightGBM] [Info] Total Bins 3274\n",
      "[LightGBM] [Info] Number of data points in the train set: 120000, number of used features: 26\n",
      "[LightGBM] [Info] [binary:BoostFromScore]: pavg=0.465400 -> initscore=-0.138622\n",
      "[LightGBM] [Info] Start training from score -0.138622\n",
      "[LightGBM] [Info] Number of positive: 55848, number of negative: 64152\n",
      "[LightGBM] [Info] Auto-choosing row-wise multi-threading, the overhead of testing was 0.003228 seconds.\n",
      "You can set `force_row_wise=true` to remove the overhead.\n",
      "And if memory is not enough, you can set `force_col_wise=true`.\n",
      "[LightGBM] [Info] Total Bins 3579\n",
      "[LightGBM] [Info] Number of data points in the train set: 120000, number of used features: 30\n",
      "[LightGBM] [Info] [binary:BoostFromScore]: pavg=0.465400 -> initscore=-0.138622\n",
      "[LightGBM] [Info] Start training from score -0.138622\n",
      "[LightGBM] [Info] Number of positive: 55848, number of negative: 64152\n",
      "[LightGBM] [Info] Auto-choosing row-wise multi-threading, the overhead of testing was 0.003421 seconds.\n",
      "You can set `force_row_wise=true` to remove the overhead.\n",
      "And if memory is not enough, you can set `force_col_wise=true`.\n",
      "[LightGBM] [Info] Total Bins 4005\n",
      "[LightGBM] [Info] Number of data points in the train set: 120000, number of used features: 29\n",
      "[LightGBM] [Info] [binary:BoostFromScore]: pavg=0.465400 -> initscore=-0.138622\n",
      "[LightGBM] [Info] Start training from score -0.138622\n",
      "[LightGBM] [Info] Number of positive: 55848, number of negative: 64152\n",
      "[LightGBM] [Info] Auto-choosing row-wise multi-threading, the overhead of testing was 0.003385 seconds.\n",
      "You can set `force_row_wise=true` to remove the overhead.\n",
      "And if memory is not enough, you can set `force_col_wise=true`.\n",
      "[LightGBM] [Info] Total Bins 3942\n",
      "[LightGBM] [Info] Number of data points in the train set: 120000, number of used features: 28\n",
      "[LightGBM] [Info] [binary:BoostFromScore]: pavg=0.465400 -> initscore=-0.138622\n",
      "[LightGBM] [Info] Start training from score -0.138622\n",
      "[LightGBM] [Info] Number of positive: 55848, number of negative: 64152\n",
      "[LightGBM] [Info] Auto-choosing row-wise multi-threading, the overhead of testing was 0.003247 seconds.\n",
      "You can set `force_row_wise=true` to remove the overhead.\n",
      "And if memory is not enough, you can set `force_col_wise=true`.\n",
      "[LightGBM] [Info] Total Bins 3549\n",
      "[LightGBM] [Info] Number of data points in the train set: 120000, number of used features: 29\n",
      "[LightGBM] [Info] [binary:BoostFromScore]: pavg=0.465400 -> initscore=-0.138622\n",
      "[LightGBM] [Info] Start training from score -0.138622\n",
      "[LightGBM] [Info] Number of positive: 55848, number of negative: 64152\n",
      "[LightGBM] [Info] Auto-choosing col-wise multi-threading, the overhead of testing was 0.006472 seconds.\n",
      "You can set `force_col_wise=true` to remove the overhead.\n",
      "[LightGBM] [Info] Total Bins 4085\n",
      "[LightGBM] [Info] Number of data points in the train set: 120000, number of used features: 30\n",
      "[LightGBM] [Info] [binary:BoostFromScore]: pavg=0.465400 -> initscore=-0.138622\n",
      "[LightGBM] [Info] Start training from score -0.138622\n",
      "[LightGBM] [Info] Number of positive: 55848, number of negative: 64152\n",
      "[LightGBM] [Info] Auto-choosing row-wise multi-threading, the overhead of testing was 0.002875 seconds.\n",
      "You can set `force_row_wise=true` to remove the overhead.\n",
      "And if memory is not enough, you can set `force_col_wise=true`.\n",
      "[LightGBM] [Info] Total Bins 3747\n",
      "[LightGBM] [Info] Number of data points in the train set: 120000, number of used features: 26\n",
      "[LightGBM] [Info] [binary:BoostFromScore]: pavg=0.465400 -> initscore=-0.138622\n",
      "[LightGBM] [Info] Start training from score -0.138622\n",
      "[LightGBM] [Info] Number of positive: 55848, number of negative: 64152\n",
      "[LightGBM] [Info] Auto-choosing row-wise multi-threading, the overhead of testing was 0.003385 seconds.\n",
      "You can set `force_row_wise=true` to remove the overhead.\n",
      "And if memory is not enough, you can set `force_col_wise=true`.\n",
      "[LightGBM] [Info] Total Bins 3235\n",
      "[LightGBM] [Info] Number of data points in the train set: 120000, number of used features: 28\n",
      "[LightGBM] [Info] [binary:BoostFromScore]: pavg=0.465400 -> initscore=-0.138622\n",
      "[LightGBM] [Info] Start training from score -0.138622\n",
      "[LightGBM] [Info] Number of positive: 55848, number of negative: 64152\n",
      "[LightGBM] [Info] Auto-choosing col-wise multi-threading, the overhead of testing was 0.020484 seconds.\n",
      "You can set `force_col_wise=true` to remove the overhead.\n",
      "[LightGBM] [Info] Total Bins 3489\n",
      "[LightGBM] [Info] Number of data points in the train set: 120000, number of used features: 28\n",
      "[LightGBM] [Info] [binary:BoostFromScore]: pavg=0.465400 -> initscore=-0.138622\n",
      "[LightGBM] [Info] Start training from score -0.138622\n",
      "[LightGBM] [Info] Number of positive: 55848, number of negative: 64152\n",
      "[LightGBM] [Info] Auto-choosing row-wise multi-threading, the overhead of testing was 0.004142 seconds.\n",
      "You can set `force_row_wise=true` to remove the overhead.\n",
      "And if memory is not enough, you can set `force_col_wise=true`.\n",
      "[LightGBM] [Info] Total Bins 3808\n",
      "[LightGBM] [Info] Number of data points in the train set: 120000, number of used features: 30\n",
      "[LightGBM] [Info] [binary:BoostFromScore]: pavg=0.465400 -> initscore=-0.138622\n",
      "[LightGBM] [Info] Start training from score -0.138622\n",
      "[LightGBM] [Info] Number of positive: 55848, number of negative: 64152\n",
      "[LightGBM] [Info] Auto-choosing row-wise multi-threading, the overhead of testing was 0.002961 seconds.\n",
      "You can set `force_row_wise=true` to remove the overhead.\n",
      "And if memory is not enough, you can set `force_col_wise=true`.\n",
      "[LightGBM] [Info] Total Bins 2729\n",
      "[LightGBM] [Info] Number of data points in the train set: 120000, number of used features: 28\n",
      "[LightGBM] [Info] [binary:BoostFromScore]: pavg=0.465400 -> initscore=-0.138622\n",
      "[LightGBM] [Info] Start training from score -0.138622\n",
      "[LightGBM] [Info] Number of positive: 55848, number of negative: 64152\n",
      "[LightGBM] [Info] Auto-choosing row-wise multi-threading, the overhead of testing was 0.003508 seconds.\n",
      "You can set `force_row_wise=true` to remove the overhead.\n",
      "And if memory is not enough, you can set `force_col_wise=true`.\n",
      "[LightGBM] [Info] Total Bins 4002\n",
      "[LightGBM] [Info] Number of data points in the train set: 120000, number of used features: 32\n",
      "[LightGBM] [Info] [binary:BoostFromScore]: pavg=0.465400 -> initscore=-0.138622\n",
      "[LightGBM] [Info] Start training from score -0.138622\n",
      "[LightGBM] [Info] Number of positive: 55848, number of negative: 64152\n",
      "[LightGBM] [Info] Auto-choosing row-wise multi-threading, the overhead of testing was 0.003213 seconds.\n",
      "You can set `force_row_wise=true` to remove the overhead.\n",
      "And if memory is not enough, you can set `force_col_wise=true`.\n",
      "[LightGBM] [Info] Total Bins 2659\n",
      "[LightGBM] [Info] Number of data points in the train set: 120000, number of used features: 27\n",
      "[LightGBM] [Info] [binary:BoostFromScore]: pavg=0.465400 -> initscore=-0.138622\n",
      "[LightGBM] [Info] Start training from score -0.138622\n",
      "[LightGBM] [Info] Number of positive: 55848, number of negative: 64152\n",
      "[LightGBM] [Info] Auto-choosing col-wise multi-threading, the overhead of testing was 0.006419 seconds.\n",
      "You can set `force_col_wise=true` to remove the overhead.\n",
      "[LightGBM] [Info] Total Bins 4333\n",
      "[LightGBM] [Info] Number of data points in the train set: 120000, number of used features: 27\n",
      "[LightGBM] [Info] [binary:BoostFromScore]: pavg=0.465400 -> initscore=-0.138622\n",
      "[LightGBM] [Info] Start training from score -0.138622\n",
      "[LightGBM] [Info] Number of positive: 55848, number of negative: 64152\n",
      "[LightGBM] [Info] Auto-choosing row-wise multi-threading, the overhead of testing was 0.003259 seconds.\n",
      "You can set `force_row_wise=true` to remove the overhead.\n",
      "And if memory is not enough, you can set `force_col_wise=true`.\n",
      "[LightGBM] [Info] Total Bins 2960\n",
      "[LightGBM] [Info] Number of data points in the train set: 120000, number of used features: 23\n",
      "[LightGBM] [Info] [binary:BoostFromScore]: pavg=0.465400 -> initscore=-0.138622\n",
      "[LightGBM] [Info] Start training from score -0.138622\n",
      "[LightGBM] [Info] Number of positive: 55848, number of negative: 64152\n",
      "[LightGBM] [Info] Auto-choosing row-wise multi-threading, the overhead of testing was 0.002322 seconds.\n",
      "You can set `force_row_wise=true` to remove the overhead.\n",
      "And if memory is not enough, you can set `force_col_wise=true`.\n",
      "[LightGBM] [Info] Total Bins 2629\n",
      "[LightGBM] [Info] Number of data points in the train set: 120000, number of used features: 21\n",
      "[LightGBM] [Info] [binary:BoostFromScore]: pavg=0.465400 -> initscore=-0.138622\n",
      "[LightGBM] [Info] Start training from score -0.138622\n",
      "[LightGBM] [Info] Number of positive: 55848, number of negative: 64152\n",
      "[LightGBM] [Info] Auto-choosing row-wise multi-threading, the overhead of testing was 0.002885 seconds.\n",
      "You can set `force_row_wise=true` to remove the overhead.\n",
      "And if memory is not enough, you can set `force_col_wise=true`.\n",
      "[LightGBM] [Info] Total Bins 4146\n",
      "[LightGBM] [Info] Number of data points in the train set: 120000, number of used features: 31\n",
      "[LightGBM] [Info] [binary:BoostFromScore]: pavg=0.465400 -> initscore=-0.138622\n",
      "[LightGBM] [Info] Start training from score -0.138622\n",
      "[LightGBM] [Info] Number of positive: 55848, number of negative: 64152\n",
      "[LightGBM] [Info] Auto-choosing row-wise multi-threading, the overhead of testing was 0.002818 seconds.\n",
      "You can set `force_row_wise=true` to remove the overhead.\n",
      "And if memory is not enough, you can set `force_col_wise=true`.\n",
      "[LightGBM] [Info] Total Bins 3318\n",
      "[LightGBM] [Info] Number of data points in the train set: 120000, number of used features: 26\n",
      "[LightGBM] [Info] [binary:BoostFromScore]: pavg=0.465400 -> initscore=-0.138622\n",
      "[LightGBM] [Info] Start training from score -0.138622\n",
      "[LightGBM] [Info] Number of positive: 55848, number of negative: 64152\n",
      "[LightGBM] [Info] Auto-choosing col-wise multi-threading, the overhead of testing was 0.025510 seconds.\n",
      "You can set `force_col_wise=true` to remove the overhead.\n",
      "[LightGBM] [Info] Total Bins 4693\n",
      "[LightGBM] [Info] Number of data points in the train set: 120000, number of used features: 32\n",
      "[LightGBM] [Info] [binary:BoostFromScore]: pavg=0.465400 -> initscore=-0.138622\n",
      "[LightGBM] [Info] Start training from score -0.138622\n",
      "[LightGBM] [Info] Number of positive: 55848, number of negative: 64152\n",
      "[LightGBM] [Info] Auto-choosing row-wise multi-threading, the overhead of testing was 0.002843 seconds.\n",
      "You can set `force_row_wise=true` to remove the overhead.\n",
      "And if memory is not enough, you can set `force_col_wise=true`.\n",
      "[LightGBM] [Info] Total Bins 2993\n",
      "[LightGBM] [Info] Number of data points in the train set: 120000, number of used features: 26\n",
      "[LightGBM] [Info] [binary:BoostFromScore]: pavg=0.465400 -> initscore=-0.138622\n",
      "[LightGBM] [Info] Start training from score -0.138622\n",
      "[LightGBM] [Info] Number of positive: 55848, number of negative: 64152\n",
      "[LightGBM] [Info] Auto-choosing row-wise multi-threading, the overhead of testing was 0.003488 seconds.\n",
      "You can set `force_row_wise=true` to remove the overhead.\n",
      "And if memory is not enough, you can set `force_col_wise=true`.\n",
      "[LightGBM] [Info] Total Bins 4058\n",
      "[LightGBM] [Info] Number of data points in the train set: 120000, number of used features: 33\n",
      "[LightGBM] [Info] [binary:BoostFromScore]: pavg=0.465400 -> initscore=-0.138622\n",
      "[LightGBM] [Info] Start training from score -0.138622\n",
      "[LightGBM] [Info] Number of positive: 55848, number of negative: 64152\n",
      "[LightGBM] [Info] Auto-choosing row-wise multi-threading, the overhead of testing was 0.003931 seconds.\n",
      "You can set `force_row_wise=true` to remove the overhead.\n",
      "And if memory is not enough, you can set `force_col_wise=true`.\n",
      "[LightGBM] [Info] Total Bins 3933\n",
      "[LightGBM] [Info] Number of data points in the train set: 120000, number of used features: 32\n",
      "[LightGBM] [Info] [binary:BoostFromScore]: pavg=0.465400 -> initscore=-0.138622\n",
      "[LightGBM] [Info] Start training from score -0.138622\n",
      "[LightGBM] [Info] Number of positive: 55848, number of negative: 64152\n",
      "[LightGBM] [Info] Auto-choosing row-wise multi-threading, the overhead of testing was 0.004251 seconds.\n",
      "You can set `force_row_wise=true` to remove the overhead.\n",
      "And if memory is not enough, you can set `force_col_wise=true`.\n",
      "[LightGBM] [Info] Total Bins 3830\n",
      "[LightGBM] [Info] Number of data points in the train set: 120000, number of used features: 31\n",
      "[LightGBM] [Info] [binary:BoostFromScore]: pavg=0.465400 -> initscore=-0.138622\n",
      "[LightGBM] [Info] Start training from score -0.138622\n",
      "[LightGBM] [Info] Number of positive: 55848, number of negative: 64152\n",
      "[LightGBM] [Info] Auto-choosing row-wise multi-threading, the overhead of testing was 0.003323 seconds.\n",
      "You can set `force_row_wise=true` to remove the overhead.\n",
      "And if memory is not enough, you can set `force_col_wise=true`.\n",
      "[LightGBM] [Info] Total Bins 3895\n",
      "[LightGBM] [Info] Number of data points in the train set: 120000, number of used features: 29\n",
      "[LightGBM] [Info] [binary:BoostFromScore]: pavg=0.465400 -> initscore=-0.138622\n",
      "[LightGBM] [Info] Start training from score -0.138622\n",
      "[LightGBM] [Info] Number of positive: 55848, number of negative: 64152\n",
      "[LightGBM] [Info] Auto-choosing row-wise multi-threading, the overhead of testing was 0.003489 seconds.\n",
      "You can set `force_row_wise=true` to remove the overhead.\n",
      "And if memory is not enough, you can set `force_col_wise=true`.\n",
      "[LightGBM] [Info] Total Bins 3839\n",
      "[LightGBM] [Info] Number of data points in the train set: 120000, number of used features: 31\n",
      "[LightGBM] [Info] [binary:BoostFromScore]: pavg=0.465400 -> initscore=-0.138622\n",
      "[LightGBM] [Info] Start training from score -0.138622\n",
      "[LightGBM] [Info] Number of positive: 55848, number of negative: 64152\n",
      "[LightGBM] [Info] Auto-choosing row-wise multi-threading, the overhead of testing was 0.002736 seconds.\n",
      "You can set `force_row_wise=true` to remove the overhead.\n",
      "And if memory is not enough, you can set `force_col_wise=true`.\n",
      "[LightGBM] [Info] Total Bins 3383\n",
      "[LightGBM] [Info] Number of data points in the train set: 120000, number of used features: 29\n",
      "[LightGBM] [Info] [binary:BoostFromScore]: pavg=0.465400 -> initscore=-0.138622\n",
      "[LightGBM] [Info] Start training from score -0.138622\n",
      "[LightGBM] [Info] Number of positive: 55848, number of negative: 64152\n",
      "[LightGBM] [Info] Auto-choosing row-wise multi-threading, the overhead of testing was 0.003683 seconds.\n",
      "You can set `force_row_wise=true` to remove the overhead.\n",
      "And if memory is not enough, you can set `force_col_wise=true`.\n",
      "[LightGBM] [Info] Total Bins 3839\n",
      "[LightGBM] [Info] Number of data points in the train set: 120000, number of used features: 31\n",
      "[LightGBM] [Info] [binary:BoostFromScore]: pavg=0.465400 -> initscore=-0.138622\n",
      "[LightGBM] [Info] Start training from score -0.138622\n",
      "[LightGBM] [Info] Number of positive: 55848, number of negative: 64152\n",
      "[LightGBM] [Info] Auto-choosing row-wise multi-threading, the overhead of testing was 0.002750 seconds.\n",
      "You can set `force_row_wise=true` to remove the overhead.\n",
      "And if memory is not enough, you can set `force_col_wise=true`.\n",
      "[LightGBM] [Info] Total Bins 3643\n",
      "[LightGBM] [Info] Number of data points in the train set: 120000, number of used features: 29\n",
      "[LightGBM] [Info] [binary:BoostFromScore]: pavg=0.465400 -> initscore=-0.138622\n",
      "[LightGBM] [Info] Start training from score -0.138622\n",
      "[LightGBM] [Info] Number of positive: 55848, number of negative: 64152\n",
      "[LightGBM] [Info] Auto-choosing row-wise multi-threading, the overhead of testing was 0.003576 seconds.\n",
      "You can set `force_row_wise=true` to remove the overhead.\n",
      "And if memory is not enough, you can set `force_col_wise=true`.\n",
      "[LightGBM] [Info] Total Bins 4775\n",
      "[LightGBM] [Info] Number of data points in the train set: 120000, number of used features: 32\n",
      "[LightGBM] [Info] [binary:BoostFromScore]: pavg=0.465400 -> initscore=-0.138622\n",
      "[LightGBM] [Info] Start training from score -0.138622\n",
      "[LightGBM] [Info] Number of positive: 55848, number of negative: 64152\n",
      "[LightGBM] [Info] Auto-choosing row-wise multi-threading, the overhead of testing was 0.004239 seconds.\n",
      "You can set `force_row_wise=true` to remove the overhead.\n",
      "And if memory is not enough, you can set `force_col_wise=true`.\n",
      "[LightGBM] [Info] Total Bins 4443\n",
      "[LightGBM] [Info] Number of data points in the train set: 120000, number of used features: 34\n",
      "[LightGBM] [Info] [binary:BoostFromScore]: pavg=0.465400 -> initscore=-0.138622\n",
      "[LightGBM] [Info] Start training from score -0.138622\n",
      "[LightGBM] [Info] Number of positive: 55848, number of negative: 64152\n",
      "[LightGBM] [Info] Auto-choosing col-wise multi-threading, the overhead of testing was 0.025224 seconds.\n",
      "You can set `force_col_wise=true` to remove the overhead.\n",
      "[LightGBM] [Info] Total Bins 4508\n",
      "[LightGBM] [Info] Number of data points in the train set: 120000, number of used features: 32\n",
      "[LightGBM] [Info] [binary:BoostFromScore]: pavg=0.465400 -> initscore=-0.138622\n",
      "[LightGBM] [Info] Start training from score -0.138622\n",
      "[LightGBM] [Info] Number of positive: 55848, number of negative: 64152\n",
      "[LightGBM] [Info] Auto-choosing col-wise multi-threading, the overhead of testing was 0.005869 seconds.\n",
      "You can set `force_col_wise=true` to remove the overhead.\n",
      "[LightGBM] [Info] Total Bins 4554\n",
      "[LightGBM] [Info] Number of data points in the train set: 120000, number of used features: 27\n",
      "[LightGBM] [Info] [binary:BoostFromScore]: pavg=0.465400 -> initscore=-0.138622\n",
      "[LightGBM] [Info] Start training from score -0.138622\n"
     ]
    },
    {
     "name": "stderr",
     "output_type": "stream",
     "text": [
      "\u001b[32m [ 2024-11-18 23:23:58,991 ] \u001b[0mFinished iteration #6 with objective value -0.9570652950421489. Current best value is -0.957161216621448 \u001b[0m\n"
     ]
    },
    {
     "name": "stdout",
     "output_type": "stream",
     "text": [
      "[LightGBM] [Info] Number of positive: 55848, number of negative: 64152\n",
      "[LightGBM] [Info] Auto-choosing row-wise multi-threading, the overhead of testing was 0.002735 seconds.\n",
      "You can set `force_row_wise=true` to remove the overhead.\n",
      "And if memory is not enough, you can set `force_col_wise=true`.\n",
      "[LightGBM] [Info] Total Bins 3755\n",
      "[LightGBM] [Info] Number of data points in the train set: 120000, number of used features: 28\n",
      "[LightGBM] [Info] [binary:BoostFromScore]: pavg=0.465400 -> initscore=-0.138622\n",
      "[LightGBM] [Info] Start training from score -0.138622\n",
      "[LightGBM] [Info] Number of positive: 55848, number of negative: 64152\n",
      "[LightGBM] [Info] Auto-choosing row-wise multi-threading, the overhead of testing was 0.003707 seconds.\n",
      "You can set `force_row_wise=true` to remove the overhead.\n",
      "And if memory is not enough, you can set `force_col_wise=true`.\n",
      "[LightGBM] [Info] Total Bins 3462\n",
      "[LightGBM] [Info] Number of data points in the train set: 120000, number of used features: 27\n",
      "[LightGBM] [Info] [binary:BoostFromScore]: pavg=0.465400 -> initscore=-0.138622\n",
      "[LightGBM] [Info] Start training from score -0.138622\n",
      "[LightGBM] [Info] Number of positive: 55848, number of negative: 64152\n",
      "[LightGBM] [Info] Auto-choosing row-wise multi-threading, the overhead of testing was 0.002937 seconds.\n",
      "You can set `force_row_wise=true` to remove the overhead.\n",
      "And if memory is not enough, you can set `force_col_wise=true`.\n",
      "[LightGBM] [Info] Total Bins 3931\n",
      "[LightGBM] [Info] Number of data points in the train set: 120000, number of used features: 31\n",
      "[LightGBM] [Info] [binary:BoostFromScore]: pavg=0.465400 -> initscore=-0.138622\n",
      "[LightGBM] [Info] Start training from score -0.138622\n",
      "[LightGBM] [Info] Number of positive: 55848, number of negative: 64152\n",
      "[LightGBM] [Info] Auto-choosing row-wise multi-threading, the overhead of testing was 0.003389 seconds.\n",
      "You can set `force_row_wise=true` to remove the overhead.\n",
      "And if memory is not enough, you can set `force_col_wise=true`.\n",
      "[LightGBM] [Info] Total Bins 3537\n",
      "[LightGBM] [Info] Number of data points in the train set: 120000, number of used features: 29\n",
      "[LightGBM] [Info] [binary:BoostFromScore]: pavg=0.465400 -> initscore=-0.138622\n",
      "[LightGBM] [Info] Start training from score -0.138622\n",
      "[LightGBM] [Info] Number of positive: 55848, number of negative: 64152\n",
      "[LightGBM] [Info] Auto-choosing row-wise multi-threading, the overhead of testing was 0.002354 seconds.\n",
      "You can set `force_row_wise=true` to remove the overhead.\n",
      "And if memory is not enough, you can set `force_col_wise=true`.\n",
      "[LightGBM] [Info] Total Bins 2348\n",
      "[LightGBM] [Info] Number of data points in the train set: 120000, number of used features: 17\n",
      "[LightGBM] [Info] [binary:BoostFromScore]: pavg=0.465400 -> initscore=-0.138622\n",
      "[LightGBM] [Info] Start training from score -0.138622\n",
      "[LightGBM] [Info] Number of positive: 55848, number of negative: 64152\n",
      "[LightGBM] [Info] Auto-choosing row-wise multi-threading, the overhead of testing was 0.003504 seconds.\n",
      "You can set `force_row_wise=true` to remove the overhead.\n",
      "And if memory is not enough, you can set `force_col_wise=true`.\n",
      "[LightGBM] [Info] Total Bins 4951\n",
      "[LightGBM] [Info] Number of data points in the train set: 120000, number of used features: 35\n",
      "[LightGBM] [Info] [binary:BoostFromScore]: pavg=0.465400 -> initscore=-0.138622\n",
      "[LightGBM] [Info] Start training from score -0.138622\n",
      "[LightGBM] [Info] Number of positive: 55848, number of negative: 64152\n",
      "[LightGBM] [Info] Auto-choosing row-wise multi-threading, the overhead of testing was 0.003011 seconds.\n",
      "You can set `force_row_wise=true` to remove the overhead.\n",
      "And if memory is not enough, you can set `force_col_wise=true`.\n",
      "[LightGBM] [Info] Total Bins 3532\n",
      "[LightGBM] [Info] Number of data points in the train set: 120000, number of used features: 28\n",
      "[LightGBM] [Info] [binary:BoostFromScore]: pavg=0.465400 -> initscore=-0.138622\n",
      "[LightGBM] [Info] Start training from score -0.138622\n",
      "[LightGBM] [Info] Number of positive: 55848, number of negative: 64152\n",
      "[LightGBM] [Info] Auto-choosing col-wise multi-threading, the overhead of testing was 0.019392 seconds.\n",
      "You can set `force_col_wise=true` to remove the overhead.\n",
      "[LightGBM] [Info] Total Bins 3424\n",
      "[LightGBM] [Info] Number of data points in the train set: 120000, number of used features: 30\n",
      "[LightGBM] [Info] [binary:BoostFromScore]: pavg=0.465400 -> initscore=-0.138622\n",
      "[LightGBM] [Info] Start training from score -0.138622\n",
      "[LightGBM] [Info] Number of positive: 55848, number of negative: 64152\n",
      "[LightGBM] [Info] Auto-choosing col-wise multi-threading, the overhead of testing was 0.003629 seconds.\n",
      "You can set `force_col_wise=true` to remove the overhead.\n",
      "[LightGBM] [Info] Total Bins 2190\n",
      "[LightGBM] [Info] Number of data points in the train set: 120000, number of used features: 15\n",
      "[LightGBM] [Info] [binary:BoostFromScore]: pavg=0.465400 -> initscore=-0.138622\n",
      "[LightGBM] [Info] Start training from score -0.138622\n",
      "[LightGBM] [Info] Number of positive: 55848, number of negative: 64152\n",
      "[LightGBM] [Info] Auto-choosing col-wise multi-threading, the overhead of testing was 0.015621 seconds.\n",
      "You can set `force_col_wise=true` to remove the overhead.\n",
      "[LightGBM] [Info] Total Bins 2721\n",
      "[LightGBM] [Info] Number of data points in the train set: 120000, number of used features: 24\n",
      "[LightGBM] [Info] [binary:BoostFromScore]: pavg=0.465400 -> initscore=-0.138622\n",
      "[LightGBM] [Info] Start training from score -0.138622\n",
      "[LightGBM] [Info] Number of positive: 55848, number of negative: 64152\n",
      "[LightGBM] [Info] Auto-choosing row-wise multi-threading, the overhead of testing was 0.003372 seconds.\n",
      "You can set `force_row_wise=true` to remove the overhead.\n",
      "And if memory is not enough, you can set `force_col_wise=true`.\n",
      "[LightGBM] [Info] Total Bins 3099\n",
      "[LightGBM] [Info] Number of data points in the train set: 120000, number of used features: 25\n",
      "[LightGBM] [Info] [binary:BoostFromScore]: pavg=0.465400 -> initscore=-0.138622\n",
      "[LightGBM] [Info] Start training from score -0.138622\n",
      "[LightGBM] [Info] Number of positive: 55848, number of negative: 64152\n",
      "[LightGBM] [Info] Auto-choosing row-wise multi-threading, the overhead of testing was 0.003278 seconds.\n",
      "You can set `force_row_wise=true` to remove the overhead.\n",
      "And if memory is not enough, you can set `force_col_wise=true`.\n",
      "[LightGBM] [Info] Total Bins 2987\n",
      "[LightGBM] [Info] Number of data points in the train set: 120000, number of used features: 26\n",
      "[LightGBM] [Info] [binary:BoostFromScore]: pavg=0.465400 -> initscore=-0.138622\n",
      "[LightGBM] [Info] Start training from score -0.138622\n",
      "[LightGBM] [Info] Number of positive: 55848, number of negative: 64152\n",
      "[LightGBM] [Info] Auto-choosing col-wise multi-threading, the overhead of testing was 0.018897 seconds.\n",
      "You can set `force_col_wise=true` to remove the overhead.\n",
      "[LightGBM] [Info] Total Bins 3502\n",
      "[LightGBM] [Info] Number of data points in the train set: 120000, number of used features: 23\n",
      "[LightGBM] [Info] [binary:BoostFromScore]: pavg=0.465400 -> initscore=-0.138622\n",
      "[LightGBM] [Info] Start training from score -0.138622\n",
      "[LightGBM] [Info] Number of positive: 55848, number of negative: 64152\n",
      "[LightGBM] [Info] Auto-choosing row-wise multi-threading, the overhead of testing was 0.003355 seconds.\n",
      "You can set `force_row_wise=true` to remove the overhead.\n",
      "And if memory is not enough, you can set `force_col_wise=true`.\n",
      "[LightGBM] [Info] Total Bins 3745\n",
      "[LightGBM] [Info] Number of data points in the train set: 120000, number of used features: 30\n",
      "[LightGBM] [Info] [binary:BoostFromScore]: pavg=0.465400 -> initscore=-0.138622\n",
      "[LightGBM] [Info] Start training from score -0.138622\n",
      "[LightGBM] [Info] Number of positive: 55848, number of negative: 64152\n",
      "[LightGBM] [Info] Auto-choosing row-wise multi-threading, the overhead of testing was 0.003063 seconds.\n",
      "You can set `force_row_wise=true` to remove the overhead.\n",
      "And if memory is not enough, you can set `force_col_wise=true`.\n",
      "[LightGBM] [Info] Total Bins 3645\n",
      "[LightGBM] [Info] Number of data points in the train set: 120000, number of used features: 29\n",
      "[LightGBM] [Info] [binary:BoostFromScore]: pavg=0.465400 -> initscore=-0.138622\n",
      "[LightGBM] [Info] Start training from score -0.138622\n",
      "[LightGBM] [Info] Number of positive: 55848, number of negative: 64152\n",
      "[LightGBM] [Info] Auto-choosing row-wise multi-threading, the overhead of testing was 0.002223 seconds.\n",
      "You can set `force_row_wise=true` to remove the overhead.\n",
      "And if memory is not enough, you can set `force_col_wise=true`.\n",
      "[LightGBM] [Info] Total Bins 2679\n",
      "[LightGBM] [Info] Number of data points in the train set: 120000, number of used features: 22\n",
      "[LightGBM] [Info] [binary:BoostFromScore]: pavg=0.465400 -> initscore=-0.138622\n",
      "[LightGBM] [Info] Start training from score -0.138622\n",
      "[LightGBM] [Info] Number of positive: 55848, number of negative: 64152\n",
      "[LightGBM] [Info] Auto-choosing row-wise multi-threading, the overhead of testing was 0.003539 seconds.\n",
      "You can set `force_row_wise=true` to remove the overhead.\n",
      "And if memory is not enough, you can set `force_col_wise=true`.\n",
      "[LightGBM] [Info] Total Bins 3719\n",
      "[LightGBM] [Info] Number of data points in the train set: 120000, number of used features: 29\n",
      "[LightGBM] [Info] [binary:BoostFromScore]: pavg=0.465400 -> initscore=-0.138622\n",
      "[LightGBM] [Info] Start training from score -0.138622\n",
      "[LightGBM] [Info] Number of positive: 55848, number of negative: 64152\n",
      "[LightGBM] [Info] Auto-choosing row-wise multi-threading, the overhead of testing was 0.002808 seconds.\n",
      "You can set `force_row_wise=true` to remove the overhead.\n",
      "And if memory is not enough, you can set `force_col_wise=true`.\n",
      "[LightGBM] [Info] Total Bins 2943\n",
      "[LightGBM] [Info] Number of data points in the train set: 120000, number of used features: 28\n",
      "[LightGBM] [Info] [binary:BoostFromScore]: pavg=0.465400 -> initscore=-0.138622\n",
      "[LightGBM] [Info] Start training from score -0.138622\n",
      "[LightGBM] [Info] Number of positive: 55848, number of negative: 64152\n",
      "[LightGBM] [Info] Auto-choosing row-wise multi-threading, the overhead of testing was 0.003849 seconds.\n",
      "You can set `force_row_wise=true` to remove the overhead.\n",
      "And if memory is not enough, you can set `force_col_wise=true`.\n",
      "[LightGBM] [Info] Total Bins 4338\n",
      "[LightGBM] [Info] Number of data points in the train set: 120000, number of used features: 32\n",
      "[LightGBM] [Info] [binary:BoostFromScore]: pavg=0.465400 -> initscore=-0.138622\n",
      "[LightGBM] [Info] Start training from score -0.138622\n",
      "[LightGBM] [Info] Number of positive: 55848, number of negative: 64152\n",
      "[LightGBM] [Info] Auto-choosing row-wise multi-threading, the overhead of testing was 0.002577 seconds.\n",
      "You can set `force_row_wise=true` to remove the overhead.\n",
      "And if memory is not enough, you can set `force_col_wise=true`.\n",
      "[LightGBM] [Info] Total Bins 3131\n",
      "[LightGBM] [Info] Number of data points in the train set: 120000, number of used features: 24\n",
      "[LightGBM] [Info] [binary:BoostFromScore]: pavg=0.465400 -> initscore=-0.138622\n",
      "[LightGBM] [Info] Start training from score -0.138622\n",
      "[LightGBM] [Info] Number of positive: 55848, number of negative: 64152\n",
      "[LightGBM] [Info] Auto-choosing col-wise multi-threading, the overhead of testing was 0.006319 seconds.\n",
      "You can set `force_col_wise=true` to remove the overhead.\n",
      "[LightGBM] [Info] Total Bins 3831\n",
      "[LightGBM] [Info] Number of data points in the train set: 120000, number of used features: 29\n",
      "[LightGBM] [Info] [binary:BoostFromScore]: pavg=0.465400 -> initscore=-0.138622\n",
      "[LightGBM] [Info] Start training from score -0.138622\n",
      "[LightGBM] [Info] Number of positive: 55848, number of negative: 64152\n",
      "[LightGBM] [Info] Auto-choosing row-wise multi-threading, the overhead of testing was 0.003354 seconds.\n",
      "You can set `force_row_wise=true` to remove the overhead.\n",
      "And if memory is not enough, you can set `force_col_wise=true`.\n",
      "[LightGBM] [Info] Total Bins 3318\n",
      "[LightGBM] [Info] Number of data points in the train set: 120000, number of used features: 26\n",
      "[LightGBM] [Info] [binary:BoostFromScore]: pavg=0.465400 -> initscore=-0.138622\n",
      "[LightGBM] [Info] Start training from score -0.138622\n",
      "[LightGBM] [Info] Number of positive: 55848, number of negative: 64152\n",
      "[LightGBM] [Info] Auto-choosing row-wise multi-threading, the overhead of testing was 0.003332 seconds.\n",
      "You can set `force_row_wise=true` to remove the overhead.\n",
      "And if memory is not enough, you can set `force_col_wise=true`.\n",
      "[LightGBM] [Info] Total Bins 2988\n",
      "[LightGBM] [Info] Number of data points in the train set: 120000, number of used features: 24\n",
      "[LightGBM] [Info] [binary:BoostFromScore]: pavg=0.465400 -> initscore=-0.138622\n",
      "[LightGBM] [Info] Start training from score -0.138622\n",
      "[LightGBM] [Info] Number of positive: 55848, number of negative: 64152\n",
      "[LightGBM] [Info] Auto-choosing row-wise multi-threading, the overhead of testing was 0.003551 seconds.\n",
      "You can set `force_row_wise=true` to remove the overhead.\n",
      "And if memory is not enough, you can set `force_col_wise=true`.\n",
      "[LightGBM] [Info] Total Bins 3075\n",
      "[LightGBM] [Info] Number of data points in the train set: 120000, number of used features: 28\n",
      "[LightGBM] [Info] [binary:BoostFromScore]: pavg=0.465400 -> initscore=-0.138622\n",
      "[LightGBM] [Info] Start training from score -0.138622\n",
      "[LightGBM] [Info] Number of positive: 55848, number of negative: 64152\n",
      "[LightGBM] [Info] Auto-choosing row-wise multi-threading, the overhead of testing was 0.002929 seconds.\n",
      "You can set `force_row_wise=true` to remove the overhead.\n",
      "And if memory is not enough, you can set `force_col_wise=true`.\n",
      "[LightGBM] [Info] Total Bins 3808\n",
      "[LightGBM] [Info] Number of data points in the train set: 120000, number of used features: 30\n",
      "[LightGBM] [Info] [binary:BoostFromScore]: pavg=0.465400 -> initscore=-0.138622\n",
      "[LightGBM] [Info] Start training from score -0.138622\n",
      "[LightGBM] [Info] Number of positive: 55848, number of negative: 64152\n",
      "[LightGBM] [Info] Auto-choosing row-wise multi-threading, the overhead of testing was 0.003289 seconds.\n",
      "You can set `force_row_wise=true` to remove the overhead.\n",
      "And if memory is not enough, you can set `force_col_wise=true`.\n",
      "[LightGBM] [Info] Total Bins 3607\n",
      "[LightGBM] [Info] Number of data points in the train set: 120000, number of used features: 26\n",
      "[LightGBM] [Info] [binary:BoostFromScore]: pavg=0.465400 -> initscore=-0.138622\n",
      "[LightGBM] [Info] Start training from score -0.138622\n",
      "[LightGBM] [Info] Number of positive: 55848, number of negative: 64152\n",
      "[LightGBM] [Info] Auto-choosing row-wise multi-threading, the overhead of testing was 0.003717 seconds.\n",
      "You can set `force_row_wise=true` to remove the overhead.\n",
      "And if memory is not enough, you can set `force_col_wise=true`.\n",
      "[LightGBM] [Info] Total Bins 3573\n",
      "[LightGBM] [Info] Number of data points in the train set: 120000, number of used features: 27\n",
      "[LightGBM] [Info] [binary:BoostFromScore]: pavg=0.465400 -> initscore=-0.138622\n",
      "[LightGBM] [Info] Start training from score -0.138622\n",
      "[LightGBM] [Info] Number of positive: 55848, number of negative: 64152\n",
      "[LightGBM] [Info] Auto-choosing row-wise multi-threading, the overhead of testing was 0.003425 seconds.\n",
      "You can set `force_row_wise=true` to remove the overhead.\n",
      "And if memory is not enough, you can set `force_col_wise=true`.\n",
      "[LightGBM] [Info] Total Bins 3423\n",
      "[LightGBM] [Info] Number of data points in the train set: 120000, number of used features: 30\n",
      "[LightGBM] [Info] [binary:BoostFromScore]: pavg=0.465400 -> initscore=-0.138622\n",
      "[LightGBM] [Info] Start training from score -0.138622\n",
      "[LightGBM] [Info] Number of positive: 55848, number of negative: 64152\n",
      "[LightGBM] [Info] Auto-choosing row-wise multi-threading, the overhead of testing was 0.003112 seconds.\n",
      "You can set `force_row_wise=true` to remove the overhead.\n",
      "And if memory is not enough, you can set `force_col_wise=true`.\n",
      "[LightGBM] [Info] Total Bins 3336\n",
      "[LightGBM] [Info] Number of data points in the train set: 120000, number of used features: 22\n",
      "[LightGBM] [Info] [binary:BoostFromScore]: pavg=0.465400 -> initscore=-0.138622\n",
      "[LightGBM] [Info] Start training from score -0.138622\n",
      "[LightGBM] [Info] Number of positive: 55848, number of negative: 64152\n",
      "[LightGBM] [Info] Auto-choosing row-wise multi-threading, the overhead of testing was 0.003036 seconds.\n",
      "You can set `force_row_wise=true` to remove the overhead.\n",
      "And if memory is not enough, you can set `force_col_wise=true`.\n",
      "[LightGBM] [Info] Total Bins 2983\n",
      "[LightGBM] [Info] Number of data points in the train set: 120000, number of used features: 24\n",
      "[LightGBM] [Info] [binary:BoostFromScore]: pavg=0.465400 -> initscore=-0.138622\n",
      "[LightGBM] [Info] Start training from score -0.138622\n",
      "[LightGBM] [Info] Number of positive: 55848, number of negative: 64152\n",
      "[LightGBM] [Info] Auto-choosing row-wise multi-threading, the overhead of testing was 0.002953 seconds.\n",
      "You can set `force_row_wise=true` to remove the overhead.\n",
      "And if memory is not enough, you can set `force_col_wise=true`.\n",
      "[LightGBM] [Info] Total Bins 3497\n",
      "[LightGBM] [Info] Number of data points in the train set: 120000, number of used features: 28\n",
      "[LightGBM] [Info] [binary:BoostFromScore]: pavg=0.465400 -> initscore=-0.138622\n",
      "[LightGBM] [Info] Start training from score -0.138622\n",
      "[LightGBM] [Info] Number of positive: 55848, number of negative: 64152\n",
      "[LightGBM] [Info] Auto-choosing col-wise multi-threading, the overhead of testing was 0.014672 seconds.\n",
      "You can set `force_col_wise=true` to remove the overhead.\n",
      "[LightGBM] [Info] Total Bins 3938\n",
      "[LightGBM] [Info] Number of data points in the train set: 120000, number of used features: 30\n",
      "[LightGBM] [Info] [binary:BoostFromScore]: pavg=0.465400 -> initscore=-0.138622\n",
      "[LightGBM] [Info] Start training from score -0.138622\n",
      "[LightGBM] [Info] Number of positive: 55848, number of negative: 64152\n",
      "[LightGBM] [Info] Auto-choosing row-wise multi-threading, the overhead of testing was 0.003600 seconds.\n",
      "You can set `force_row_wise=true` to remove the overhead.\n",
      "And if memory is not enough, you can set `force_col_wise=true`.\n",
      "[LightGBM] [Info] Total Bins 4257\n",
      "[LightGBM] [Info] Number of data points in the train set: 120000, number of used features: 33\n",
      "[LightGBM] [Info] [binary:BoostFromScore]: pavg=0.465400 -> initscore=-0.138622\n",
      "[LightGBM] [Info] Start training from score -0.138622\n",
      "[LightGBM] [Info] Number of positive: 55848, number of negative: 64152\n",
      "[LightGBM] [Info] Auto-choosing col-wise multi-threading, the overhead of testing was 0.014084 seconds.\n",
      "You can set `force_col_wise=true` to remove the overhead.\n",
      "[LightGBM] [Info] Total Bins 4399\n",
      "[LightGBM] [Info] Number of data points in the train set: 120000, number of used features: 32\n",
      "[LightGBM] [Info] [binary:BoostFromScore]: pavg=0.465400 -> initscore=-0.138622\n",
      "[LightGBM] [Info] Start training from score -0.138622\n",
      "[LightGBM] [Info] Number of positive: 55848, number of negative: 64152\n",
      "[LightGBM] [Info] Auto-choosing col-wise multi-threading, the overhead of testing was 0.013095 seconds.\n",
      "You can set `force_col_wise=true` to remove the overhead.\n",
      "[LightGBM] [Info] Total Bins 4397\n",
      "[LightGBM] [Info] Number of data points in the train set: 120000, number of used features: 30\n",
      "[LightGBM] [Info] [binary:BoostFromScore]: pavg=0.465400 -> initscore=-0.138622\n",
      "[LightGBM] [Info] Start training from score -0.138622\n",
      "[LightGBM] [Info] Number of positive: 55848, number of negative: 64152\n",
      "[LightGBM] [Info] Auto-choosing row-wise multi-threading, the overhead of testing was 0.003823 seconds.\n",
      "You can set `force_row_wise=true` to remove the overhead.\n",
      "And if memory is not enough, you can set `force_col_wise=true`.\n",
      "[LightGBM] [Info] Total Bins 4443\n",
      "[LightGBM] [Info] Number of data points in the train set: 120000, number of used features: 34\n",
      "[LightGBM] [Info] [binary:BoostFromScore]: pavg=0.465400 -> initscore=-0.138622\n",
      "[LightGBM] [Info] Start training from score -0.138622\n",
      "[LightGBM] [Info] Number of positive: 55848, number of negative: 64152\n",
      "[LightGBM] [Info] Auto-choosing row-wise multi-threading, the overhead of testing was 0.003015 seconds.\n",
      "You can set `force_row_wise=true` to remove the overhead.\n",
      "And if memory is not enough, you can set `force_col_wise=true`.\n",
      "[LightGBM] [Info] Total Bins 3606\n",
      "[LightGBM] [Info] Number of data points in the train set: 120000, number of used features: 29\n",
      "[LightGBM] [Info] [binary:BoostFromScore]: pavg=0.465400 -> initscore=-0.138622\n",
      "[LightGBM] [Info] Start training from score -0.138622\n",
      "[LightGBM] [Info] Number of positive: 55848, number of negative: 64152\n",
      "[LightGBM] [Info] Auto-choosing row-wise multi-threading, the overhead of testing was 0.003556 seconds.\n",
      "You can set `force_row_wise=true` to remove the overhead.\n",
      "And if memory is not enough, you can set `force_col_wise=true`.\n",
      "[LightGBM] [Info] Total Bins 3679\n",
      "[LightGBM] [Info] Number of data points in the train set: 120000, number of used features: 31\n",
      "[LightGBM] [Info] [binary:BoostFromScore]: pavg=0.465400 -> initscore=-0.138622\n",
      "[LightGBM] [Info] Start training from score -0.138622\n",
      "[LightGBM] [Info] Number of positive: 55848, number of negative: 64152\n",
      "[LightGBM] [Info] Auto-choosing row-wise multi-threading, the overhead of testing was 0.003523 seconds.\n",
      "You can set `force_row_wise=true` to remove the overhead.\n",
      "And if memory is not enough, you can set `force_col_wise=true`.\n",
      "[LightGBM] [Info] Total Bins 3384\n",
      "[LightGBM] [Info] Number of data points in the train set: 120000, number of used features: 29\n",
      "[LightGBM] [Info] [binary:BoostFromScore]: pavg=0.465400 -> initscore=-0.138622\n",
      "[LightGBM] [Info] Start training from score -0.138622\n",
      "[LightGBM] [Info] Number of positive: 55848, number of negative: 64152\n",
      "[LightGBM] [Info] Auto-choosing col-wise multi-threading, the overhead of testing was 0.013798 seconds.\n",
      "You can set `force_col_wise=true` to remove the overhead.\n",
      "[LightGBM] [Info] Total Bins 3841\n",
      "[LightGBM] [Info] Number of data points in the train set: 120000, number of used features: 30\n",
      "[LightGBM] [Info] [binary:BoostFromScore]: pavg=0.465400 -> initscore=-0.138622\n",
      "[LightGBM] [Info] Start training from score -0.138622\n",
      "[LightGBM] [Info] Number of positive: 55848, number of negative: 64152\n",
      "[LightGBM] [Info] Auto-choosing row-wise multi-threading, the overhead of testing was 0.003616 seconds.\n",
      "You can set `force_row_wise=true` to remove the overhead.\n",
      "And if memory is not enough, you can set `force_col_wise=true`.\n",
      "[LightGBM] [Info] Total Bins 4253\n",
      "[LightGBM] [Info] Number of data points in the train set: 120000, number of used features: 31\n",
      "[LightGBM] [Info] [binary:BoostFromScore]: pavg=0.465400 -> initscore=-0.138622\n",
      "[LightGBM] [Info] Start training from score -0.138622\n",
      "[LightGBM] [Info] Number of positive: 55848, number of negative: 64152\n",
      "[LightGBM] [Info] Auto-choosing row-wise multi-threading, the overhead of testing was 0.003246 seconds.\n",
      "You can set `force_row_wise=true` to remove the overhead.\n",
      "And if memory is not enough, you can set `force_col_wise=true`.\n",
      "[LightGBM] [Info] Total Bins 4089\n",
      "[LightGBM] [Info] Number of data points in the train set: 120000, number of used features: 32\n",
      "[LightGBM] [Info] [binary:BoostFromScore]: pavg=0.465400 -> initscore=-0.138622\n",
      "[LightGBM] [Info] Start training from score -0.138622\n",
      "[LightGBM] [Info] Number of positive: 55848, number of negative: 64152\n",
      "[LightGBM] [Info] Auto-choosing row-wise multi-threading, the overhead of testing was 0.002665 seconds.\n",
      "You can set `force_row_wise=true` to remove the overhead.\n",
      "And if memory is not enough, you can set `force_col_wise=true`.\n",
      "[LightGBM] [Info] Total Bins 4081\n",
      "[LightGBM] [Info] Number of data points in the train set: 120000, number of used features: 30\n",
      "[LightGBM] [Info] [binary:BoostFromScore]: pavg=0.465400 -> initscore=-0.138622\n",
      "[LightGBM] [Info] Start training from score -0.138622\n",
      "[LightGBM] [Info] Number of positive: 55848, number of negative: 64152\n",
      "[LightGBM] [Info] Auto-choosing row-wise multi-threading, the overhead of testing was 0.003744 seconds.\n",
      "You can set `force_row_wise=true` to remove the overhead.\n",
      "And if memory is not enough, you can set `force_col_wise=true`.\n",
      "[LightGBM] [Info] Total Bins 4399\n",
      "[LightGBM] [Info] Number of data points in the train set: 120000, number of used features: 31\n",
      "[LightGBM] [Info] [binary:BoostFromScore]: pavg=0.465400 -> initscore=-0.138622\n",
      "[LightGBM] [Info] Start training from score -0.138622\n",
      "[LightGBM] [Info] Number of positive: 55848, number of negative: 64152\n",
      "[LightGBM] [Info] Auto-choosing row-wise multi-threading, the overhead of testing was 0.003630 seconds.\n",
      "You can set `force_row_wise=true` to remove the overhead.\n",
      "And if memory is not enough, you can set `force_col_wise=true`.\n",
      "[LightGBM] [Info] Total Bins 3448\n",
      "[LightGBM] [Info] Number of data points in the train set: 120000, number of used features: 28\n",
      "[LightGBM] [Info] [binary:BoostFromScore]: pavg=0.465400 -> initscore=-0.138622\n",
      "[LightGBM] [Info] Start training from score -0.138622\n",
      "[LightGBM] [Info] Number of positive: 55848, number of negative: 64152\n",
      "[LightGBM] [Info] Auto-choosing row-wise multi-threading, the overhead of testing was 0.003628 seconds.\n",
      "You can set `force_row_wise=true` to remove the overhead.\n",
      "And if memory is not enough, you can set `force_col_wise=true`.\n",
      "[LightGBM] [Info] Total Bins 3636\n",
      "[LightGBM] [Info] Number of data points in the train set: 120000, number of used features: 30\n",
      "[LightGBM] [Info] [binary:BoostFromScore]: pavg=0.465400 -> initscore=-0.138622\n",
      "[LightGBM] [Info] Start training from score -0.138622\n",
      "[LightGBM] [Info] Number of positive: 55848, number of negative: 64152\n",
      "[LightGBM] [Info] Auto-choosing row-wise multi-threading, the overhead of testing was 0.004122 seconds.\n",
      "You can set `force_row_wise=true` to remove the overhead.\n",
      "And if memory is not enough, you can set `force_col_wise=true`.\n",
      "[LightGBM] [Info] Total Bins 5164\n",
      "[LightGBM] [Info] Number of data points in the train set: 120000, number of used features: 35\n",
      "[LightGBM] [Info] [binary:BoostFromScore]: pavg=0.465400 -> initscore=-0.138622\n",
      "[LightGBM] [Info] Start training from score -0.138622\n",
      "[LightGBM] [Info] Number of positive: 55848, number of negative: 64152\n",
      "[LightGBM] [Info] Auto-choosing row-wise multi-threading, the overhead of testing was 0.002832 seconds.\n",
      "You can set `force_row_wise=true` to remove the overhead.\n",
      "And if memory is not enough, you can set `force_col_wise=true`.\n",
      "[LightGBM] [Info] Total Bins 3891\n",
      "[LightGBM] [Info] Number of data points in the train set: 120000, number of used features: 30\n",
      "[LightGBM] [Info] [binary:BoostFromScore]: pavg=0.465400 -> initscore=-0.138622\n",
      "[LightGBM] [Info] Start training from score -0.138622\n"
     ]
    },
    {
     "name": "stderr",
     "output_type": "stream",
     "text": [
      "\u001b[32m [ 2024-11-18 23:24:22,610 ] \u001b[0mFinished iteration #7 with objective value -0.9566456485340743. Current best value is -0.957161216621448 \u001b[0m\n"
     ]
    },
    {
     "name": "stdout",
     "output_type": "stream",
     "text": [
      "[LightGBM] [Info] Number of positive: 55848, number of negative: 64152\n",
      "[LightGBM] [Info] Auto-choosing row-wise multi-threading, the overhead of testing was 0.003505 seconds.\n",
      "You can set `force_row_wise=true` to remove the overhead.\n",
      "And if memory is not enough, you can set `force_col_wise=true`.\n",
      "[LightGBM] [Info] Total Bins 3786\n",
      "[LightGBM] [Info] Number of data points in the train set: 120000, number of used features: 28\n",
      "[LightGBM] [Info] [binary:BoostFromScore]: pavg=0.465400 -> initscore=-0.138622\n",
      "[LightGBM] [Info] Start training from score -0.138622\n",
      "[LightGBM] [Info] Number of positive: 55848, number of negative: 64152\n",
      "[LightGBM] [Info] Auto-choosing row-wise multi-threading, the overhead of testing was 0.002940 seconds.\n",
      "You can set `force_row_wise=true` to remove the overhead.\n",
      "And if memory is not enough, you can set `force_col_wise=true`.\n",
      "[LightGBM] [Info] Total Bins 3184\n",
      "[LightGBM] [Info] Number of data points in the train set: 120000, number of used features: 26\n",
      "[LightGBM] [Info] [binary:BoostFromScore]: pavg=0.465400 -> initscore=-0.138622\n",
      "[LightGBM] [Info] Start training from score -0.138622\n",
      "[LightGBM] [Info] Number of positive: 55848, number of negative: 64152\n",
      "[LightGBM] [Info] Auto-choosing row-wise multi-threading, the overhead of testing was 0.002965 seconds.\n",
      "You can set `force_row_wise=true` to remove the overhead.\n",
      "And if memory is not enough, you can set `force_col_wise=true`.\n",
      "[LightGBM] [Info] Total Bins 3635\n",
      "[LightGBM] [Info] Number of data points in the train set: 120000, number of used features: 29\n",
      "[LightGBM] [Info] [binary:BoostFromScore]: pavg=0.465400 -> initscore=-0.138622\n",
      "[LightGBM] [Info] Start training from score -0.138622\n",
      "[LightGBM] [Info] Number of positive: 55848, number of negative: 64152\n",
      "[LightGBM] [Info] Auto-choosing row-wise multi-threading, the overhead of testing was 0.003641 seconds.\n",
      "You can set `force_row_wise=true` to remove the overhead.\n",
      "And if memory is not enough, you can set `force_col_wise=true`.\n",
      "[LightGBM] [Info] Total Bins 3162\n",
      "[LightGBM] [Info] Number of data points in the train set: 120000, number of used features: 26\n",
      "[LightGBM] [Info] [binary:BoostFromScore]: pavg=0.465400 -> initscore=-0.138622\n",
      "[LightGBM] [Info] Start training from score -0.138622\n",
      "[LightGBM] [Info] Number of positive: 55848, number of negative: 64152\n",
      "[LightGBM] [Info] Auto-choosing row-wise multi-threading, the overhead of testing was 0.003390 seconds.\n",
      "You can set `force_row_wise=true` to remove the overhead.\n",
      "And if memory is not enough, you can set `force_col_wise=true`.\n",
      "[LightGBM] [Info] Total Bins 4041\n",
      "[LightGBM] [Info] Number of data points in the train set: 120000, number of used features: 30\n",
      "[LightGBM] [Info] [binary:BoostFromScore]: pavg=0.465400 -> initscore=-0.138622\n",
      "[LightGBM] [Info] Start training from score -0.138622\n",
      "[LightGBM] [Info] Number of positive: 55848, number of negative: 64152\n",
      "[LightGBM] [Info] Auto-choosing row-wise multi-threading, the overhead of testing was 0.003195 seconds.\n",
      "You can set `force_row_wise=true` to remove the overhead.\n",
      "And if memory is not enough, you can set `force_col_wise=true`.\n",
      "[LightGBM] [Info] Total Bins 3985\n",
      "[LightGBM] [Info] Number of data points in the train set: 120000, number of used features: 30\n",
      "[LightGBM] [Info] [binary:BoostFromScore]: pavg=0.465400 -> initscore=-0.138622\n",
      "[LightGBM] [Info] Start training from score -0.138622\n",
      "[LightGBM] [Info] Number of positive: 55848, number of negative: 64152\n",
      "[LightGBM] [Info] Auto-choosing row-wise multi-threading, the overhead of testing was 0.003969 seconds.\n",
      "You can set `force_row_wise=true` to remove the overhead.\n",
      "And if memory is not enough, you can set `force_col_wise=true`.\n",
      "[LightGBM] [Info] Total Bins 3677\n",
      "[LightGBM] [Info] Number of data points in the train set: 120000, number of used features: 30\n",
      "[LightGBM] [Info] [binary:BoostFromScore]: pavg=0.465400 -> initscore=-0.138622\n",
      "[LightGBM] [Info] Start training from score -0.138622\n",
      "[LightGBM] [Info] Number of positive: 55848, number of negative: 64152\n",
      "[LightGBM] [Info] Auto-choosing row-wise multi-threading, the overhead of testing was 0.003202 seconds.\n",
      "You can set `force_row_wise=true` to remove the overhead.\n",
      "And if memory is not enough, you can set `force_col_wise=true`.\n",
      "[LightGBM] [Info] Total Bins 2592\n",
      "[LightGBM] [Info] Number of data points in the train set: 120000, number of used features: 24\n",
      "[LightGBM] [Info] [binary:BoostFromScore]: pavg=0.465400 -> initscore=-0.138622\n",
      "[LightGBM] [Info] Start training from score -0.138622\n",
      "[LightGBM] [Info] Number of positive: 55848, number of negative: 64152\n",
      "[LightGBM] [Info] Auto-choosing row-wise multi-threading, the overhead of testing was 0.003777 seconds.\n",
      "You can set `force_row_wise=true` to remove the overhead.\n",
      "And if memory is not enough, you can set `force_col_wise=true`.\n",
      "[LightGBM] [Info] Total Bins 3426\n",
      "[LightGBM] [Info] Number of data points in the train set: 120000, number of used features: 27\n",
      "[LightGBM] [Info] [binary:BoostFromScore]: pavg=0.465400 -> initscore=-0.138622\n",
      "[LightGBM] [Info] Start training from score -0.138622\n",
      "[LightGBM] [Info] Number of positive: 55848, number of negative: 64152\n",
      "[LightGBM] [Info] Auto-choosing col-wise multi-threading, the overhead of testing was 0.011437 seconds.\n",
      "You can set `force_col_wise=true` to remove the overhead.\n",
      "[LightGBM] [Info] Total Bins 3440\n",
      "[LightGBM] [Info] Number of data points in the train set: 120000, number of used features: 27\n",
      "[LightGBM] [Info] [binary:BoostFromScore]: pavg=0.465400 -> initscore=-0.138622\n",
      "[LightGBM] [Info] Start training from score -0.138622\n",
      "[LightGBM] [Info] Number of positive: 55848, number of negative: 64152\n",
      "[LightGBM] [Info] Auto-choosing col-wise multi-threading, the overhead of testing was 0.021527 seconds.\n",
      "You can set `force_col_wise=true` to remove the overhead.\n",
      "[LightGBM] [Info] Total Bins 3426\n",
      "[LightGBM] [Info] Number of data points in the train set: 120000, number of used features: 27\n",
      "[LightGBM] [Info] [binary:BoostFromScore]: pavg=0.465400 -> initscore=-0.138622\n",
      "[LightGBM] [Info] Start training from score -0.138622\n",
      "[LightGBM] [Info] Number of positive: 55848, number of negative: 64152\n",
      "[LightGBM] [Info] Auto-choosing row-wise multi-threading, the overhead of testing was 0.002955 seconds.\n",
      "You can set `force_row_wise=true` to remove the overhead.\n",
      "And if memory is not enough, you can set `force_col_wise=true`.\n",
      "[LightGBM] [Info] Total Bins 2934\n",
      "[LightGBM] [Info] Number of data points in the train set: 120000, number of used features: 25\n",
      "[LightGBM] [Info] [binary:BoostFromScore]: pavg=0.465400 -> initscore=-0.138622\n",
      "[LightGBM] [Info] Start training from score -0.138622\n",
      "[LightGBM] [Info] Number of positive: 55848, number of negative: 64152\n",
      "[LightGBM] [Info] Auto-choosing col-wise multi-threading, the overhead of testing was 0.017999 seconds.\n",
      "You can set `force_col_wise=true` to remove the overhead.\n",
      "[LightGBM] [Info] Total Bins 3668\n",
      "[LightGBM] [Info] Number of data points in the train set: 120000, number of used features: 26\n",
      "[LightGBM] [Info] [binary:BoostFromScore]: pavg=0.465400 -> initscore=-0.138622\n",
      "[LightGBM] [Info] Start training from score -0.138622\n",
      "[LightGBM] [Info] Number of positive: 55848, number of negative: 64152\n",
      "[LightGBM] [Info] Auto-choosing row-wise multi-threading, the overhead of testing was 0.003804 seconds.\n",
      "You can set `force_row_wise=true` to remove the overhead.\n",
      "And if memory is not enough, you can set `force_col_wise=true`.\n",
      "[LightGBM] [Info] Total Bins 4450\n",
      "[LightGBM] [Info] Number of data points in the train set: 120000, number of used features: 33\n",
      "[LightGBM] [Info] [binary:BoostFromScore]: pavg=0.465400 -> initscore=-0.138622\n",
      "[LightGBM] [Info] Start training from score -0.138622\n",
      "[LightGBM] [Info] Number of positive: 55848, number of negative: 64152\n",
      "[LightGBM] [Info] Auto-choosing row-wise multi-threading, the overhead of testing was 0.002925 seconds.\n",
      "You can set `force_row_wise=true` to remove the overhead.\n",
      "And if memory is not enough, you can set `force_col_wise=true`.\n",
      "[LightGBM] [Info] Total Bins 3576\n",
      "[LightGBM] [Info] Number of data points in the train set: 120000, number of used features: 28\n",
      "[LightGBM] [Info] [binary:BoostFromScore]: pavg=0.465400 -> initscore=-0.138622\n",
      "[LightGBM] [Info] Start training from score -0.138622\n",
      "[LightGBM] [Info] Number of positive: 55848, number of negative: 64152\n",
      "[LightGBM] [Info] Auto-choosing col-wise multi-threading, the overhead of testing was 0.017079 seconds.\n",
      "You can set `force_col_wise=true` to remove the overhead.\n",
      "[LightGBM] [Info] Total Bins 2811\n",
      "[LightGBM] [Info] Number of data points in the train set: 120000, number of used features: 26\n",
      "[LightGBM] [Info] [binary:BoostFromScore]: pavg=0.465400 -> initscore=-0.138622\n",
      "[LightGBM] [Info] Start training from score -0.138622\n",
      "[LightGBM] [Info] Number of positive: 55848, number of negative: 64152\n",
      "[LightGBM] [Info] Auto-choosing row-wise multi-threading, the overhead of testing was 0.003398 seconds.\n",
      "You can set `force_row_wise=true` to remove the overhead.\n",
      "And if memory is not enough, you can set `force_col_wise=true`.\n",
      "[LightGBM] [Info] Total Bins 4262\n",
      "[LightGBM] [Info] Number of data points in the train set: 120000, number of used features: 31\n",
      "[LightGBM] [Info] [binary:BoostFromScore]: pavg=0.465400 -> initscore=-0.138622\n",
      "[LightGBM] [Info] Start training from score -0.138622\n",
      "[LightGBM] [Info] Number of positive: 55848, number of negative: 64152\n",
      "[LightGBM] [Info] Auto-choosing col-wise multi-threading, the overhead of testing was 0.004780 seconds.\n",
      "You can set `force_col_wise=true` to remove the overhead.\n",
      "[LightGBM] [Info] Total Bins 3342\n",
      "[LightGBM] [Info] Number of data points in the train set: 120000, number of used features: 27\n",
      "[LightGBM] [Info] [binary:BoostFromScore]: pavg=0.465400 -> initscore=-0.138622\n",
      "[LightGBM] [Info] Start training from score -0.138622\n",
      "[LightGBM] [Info] Number of positive: 55848, number of negative: 64152\n",
      "[LightGBM] [Info] Auto-choosing row-wise multi-threading, the overhead of testing was 0.003718 seconds.\n",
      "You can set `force_row_wise=true` to remove the overhead.\n",
      "And if memory is not enough, you can set `force_col_wise=true`.\n",
      "[LightGBM] [Info] Total Bins 4138\n",
      "[LightGBM] [Info] Number of data points in the train set: 120000, number of used features: 27\n",
      "[LightGBM] [Info] [binary:BoostFromScore]: pavg=0.465400 -> initscore=-0.138622\n",
      "[LightGBM] [Info] Start training from score -0.138622\n",
      "[LightGBM] [Info] Number of positive: 55848, number of negative: 64152\n",
      "[LightGBM] [Info] Auto-choosing row-wise multi-threading, the overhead of testing was 0.003870 seconds.\n",
      "You can set `force_row_wise=true` to remove the overhead.\n",
      "And if memory is not enough, you can set `force_col_wise=true`.\n",
      "[LightGBM] [Info] Total Bins 4182\n",
      "[LightGBM] [Info] Number of data points in the train set: 120000, number of used features: 30\n",
      "[LightGBM] [Info] [binary:BoostFromScore]: pavg=0.465400 -> initscore=-0.138622\n",
      "[LightGBM] [Info] Start training from score -0.138622\n",
      "[LightGBM] [Info] Number of positive: 55848, number of negative: 64152\n",
      "[LightGBM] [Info] Auto-choosing row-wise multi-threading, the overhead of testing was 0.003685 seconds.\n",
      "You can set `force_row_wise=true` to remove the overhead.\n",
      "And if memory is not enough, you can set `force_col_wise=true`.\n",
      "[LightGBM] [Info] Total Bins 4106\n",
      "[LightGBM] [Info] Number of data points in the train set: 120000, number of used features: 31\n",
      "[LightGBM] [Info] [binary:BoostFromScore]: pavg=0.465400 -> initscore=-0.138622\n",
      "[LightGBM] [Info] Start training from score -0.138622\n",
      "[LightGBM] [Info] Number of positive: 55848, number of negative: 64152\n",
      "[LightGBM] [Info] Auto-choosing row-wise multi-threading, the overhead of testing was 0.003040 seconds.\n",
      "You can set `force_row_wise=true` to remove the overhead.\n",
      "And if memory is not enough, you can set `force_col_wise=true`.\n",
      "[LightGBM] [Info] Total Bins 3293\n",
      "[LightGBM] [Info] Number of data points in the train set: 120000, number of used features: 29\n",
      "[LightGBM] [Info] [binary:BoostFromScore]: pavg=0.465400 -> initscore=-0.138622\n",
      "[LightGBM] [Info] Start training from score -0.138622\n",
      "[LightGBM] [Info] Number of positive: 55848, number of negative: 64152\n",
      "[LightGBM] [Info] Auto-choosing row-wise multi-threading, the overhead of testing was 0.003446 seconds.\n",
      "You can set `force_row_wise=true` to remove the overhead.\n",
      "And if memory is not enough, you can set `force_col_wise=true`.\n",
      "[LightGBM] [Info] Total Bins 3289\n",
      "[LightGBM] [Info] Number of data points in the train set: 120000, number of used features: 26\n",
      "[LightGBM] [Info] [binary:BoostFromScore]: pavg=0.465400 -> initscore=-0.138622\n",
      "[LightGBM] [Info] Start training from score -0.138622\n",
      "[LightGBM] [Info] Number of positive: 55848, number of negative: 64152\n",
      "[LightGBM] [Info] Auto-choosing row-wise multi-threading, the overhead of testing was 0.003756 seconds.\n",
      "You can set `force_row_wise=true` to remove the overhead.\n",
      "And if memory is not enough, you can set `force_col_wise=true`.\n",
      "[LightGBM] [Info] Total Bins 2987\n",
      "[LightGBM] [Info] Number of data points in the train set: 120000, number of used features: 23\n",
      "[LightGBM] [Info] [binary:BoostFromScore]: pavg=0.465400 -> initscore=-0.138622\n",
      "[LightGBM] [Info] Start training from score -0.138622\n",
      "[LightGBM] [Info] Number of positive: 55848, number of negative: 64152\n",
      "[LightGBM] [Info] Auto-choosing row-wise multi-threading, the overhead of testing was 0.003754 seconds.\n",
      "You can set `force_row_wise=true` to remove the overhead.\n",
      "And if memory is not enough, you can set `force_col_wise=true`.\n",
      "[LightGBM] [Info] Total Bins 3676\n",
      "[LightGBM] [Info] Number of data points in the train set: 120000, number of used features: 30\n",
      "[LightGBM] [Info] [binary:BoostFromScore]: pavg=0.465400 -> initscore=-0.138622\n",
      "[LightGBM] [Info] Start training from score -0.138622\n",
      "[LightGBM] [Info] Number of positive: 55848, number of negative: 64152\n",
      "[LightGBM] [Info] Auto-choosing row-wise multi-threading, the overhead of testing was 0.003216 seconds.\n",
      "You can set `force_row_wise=true` to remove the overhead.\n",
      "And if memory is not enough, you can set `force_col_wise=true`.\n",
      "[LightGBM] [Info] Total Bins 3178\n",
      "[LightGBM] [Info] Number of data points in the train set: 120000, number of used features: 23\n",
      "[LightGBM] [Info] [binary:BoostFromScore]: pavg=0.465400 -> initscore=-0.138622\n",
      "[LightGBM] [Info] Start training from score -0.138622\n",
      "[LightGBM] [Info] Number of positive: 55848, number of negative: 64152\n",
      "[LightGBM] [Info] Auto-choosing row-wise multi-threading, the overhead of testing was 0.003492 seconds.\n",
      "You can set `force_row_wise=true` to remove the overhead.\n",
      "And if memory is not enough, you can set `force_col_wise=true`.\n",
      "[LightGBM] [Info] Total Bins 4083\n",
      "[LightGBM] [Info] Number of data points in the train set: 120000, number of used features: 31\n",
      "[LightGBM] [Info] [binary:BoostFromScore]: pavg=0.465400 -> initscore=-0.138622\n",
      "[LightGBM] [Info] Start training from score -0.138622\n",
      "[LightGBM] [Info] Number of positive: 55848, number of negative: 64152\n",
      "[LightGBM] [Info] Auto-choosing row-wise multi-threading, the overhead of testing was 0.003902 seconds.\n",
      "You can set `force_row_wise=true` to remove the overhead.\n",
      "And if memory is not enough, you can set `force_col_wise=true`.\n",
      "[LightGBM] [Info] Total Bins 4947\n",
      "[LightGBM] [Info] Number of data points in the train set: 120000, number of used features: 33\n",
      "[LightGBM] [Info] [binary:BoostFromScore]: pavg=0.465400 -> initscore=-0.138622\n",
      "[LightGBM] [Info] Start training from score -0.138622\n",
      "[LightGBM] [Info] Number of positive: 55848, number of negative: 64152\n",
      "[LightGBM] [Info] Auto-choosing col-wise multi-threading, the overhead of testing was 0.006028 seconds.\n",
      "You can set `force_col_wise=true` to remove the overhead.\n",
      "[LightGBM] [Info] Total Bins 4254\n",
      "[LightGBM] [Info] Number of data points in the train set: 120000, number of used features: 27\n",
      "[LightGBM] [Info] [binary:BoostFromScore]: pavg=0.465400 -> initscore=-0.138622\n",
      "[LightGBM] [Info] Start training from score -0.138622\n",
      "[LightGBM] [Info] Number of positive: 55848, number of negative: 64152\n",
      "[LightGBM] [Info] Auto-choosing row-wise multi-threading, the overhead of testing was 0.003872 seconds.\n",
      "You can set `force_row_wise=true` to remove the overhead.\n",
      "And if memory is not enough, you can set `force_col_wise=true`.\n",
      "[LightGBM] [Info] Total Bins 3754\n",
      "[LightGBM] [Info] Number of data points in the train set: 120000, number of used features: 30\n",
      "[LightGBM] [Info] [binary:BoostFromScore]: pavg=0.465400 -> initscore=-0.138622\n",
      "[LightGBM] [Info] Start training from score -0.138622\n",
      "[LightGBM] [Info] Number of positive: 55848, number of negative: 64152\n",
      "[LightGBM] [Info] Auto-choosing row-wise multi-threading, the overhead of testing was 0.003080 seconds.\n",
      "You can set `force_row_wise=true` to remove the overhead.\n",
      "And if memory is not enough, you can set `force_col_wise=true`.\n",
      "[LightGBM] [Info] Total Bins 4454\n",
      "[LightGBM] [Info] Number of data points in the train set: 120000, number of used features: 31\n",
      "[LightGBM] [Info] [binary:BoostFromScore]: pavg=0.465400 -> initscore=-0.138622\n",
      "[LightGBM] [Info] Start training from score -0.138622\n",
      "[LightGBM] [Info] Number of positive: 55848, number of negative: 64152\n",
      "[LightGBM] [Info] Auto-choosing col-wise multi-threading, the overhead of testing was 0.020585 seconds.\n",
      "You can set `force_col_wise=true` to remove the overhead.\n",
      "[LightGBM] [Info] Total Bins 3448\n",
      "[LightGBM] [Info] Number of data points in the train set: 120000, number of used features: 27\n",
      "[LightGBM] [Info] [binary:BoostFromScore]: pavg=0.465400 -> initscore=-0.138622\n",
      "[LightGBM] [Info] Start training from score -0.138622\n",
      "[LightGBM] [Info] Number of positive: 55848, number of negative: 64152\n",
      "[LightGBM] [Info] Auto-choosing row-wise multi-threading, the overhead of testing was 0.004101 seconds.\n",
      "You can set `force_row_wise=true` to remove the overhead.\n",
      "And if memory is not enough, you can set `force_col_wise=true`.\n",
      "[LightGBM] [Info] Total Bins 4445\n",
      "[LightGBM] [Info] Number of data points in the train set: 120000, number of used features: 35\n",
      "[LightGBM] [Info] [binary:BoostFromScore]: pavg=0.465400 -> initscore=-0.138622\n",
      "[LightGBM] [Info] Start training from score -0.138622\n",
      "[LightGBM] [Info] Number of positive: 55848, number of negative: 64152\n",
      "[LightGBM] [Info] Auto-choosing row-wise multi-threading, the overhead of testing was 0.004125 seconds.\n",
      "You can set `force_row_wise=true` to remove the overhead.\n",
      "And if memory is not enough, you can set `force_col_wise=true`.\n",
      "[LightGBM] [Info] Total Bins 3685\n",
      "[LightGBM] [Info] Number of data points in the train set: 120000, number of used features: 30\n",
      "[LightGBM] [Info] [binary:BoostFromScore]: pavg=0.465400 -> initscore=-0.138622\n",
      "[LightGBM] [Info] Start training from score -0.138622\n",
      "[LightGBM] [Info] Number of positive: 55848, number of negative: 64152\n",
      "[LightGBM] [Info] Auto-choosing row-wise multi-threading, the overhead of testing was 0.003782 seconds.\n",
      "You can set `force_row_wise=true` to remove the overhead.\n",
      "And if memory is not enough, you can set `force_col_wise=true`.\n",
      "[LightGBM] [Info] Total Bins 4117\n",
      "[LightGBM] [Info] Number of data points in the train set: 120000, number of used features: 32\n",
      "[LightGBM] [Info] [binary:BoostFromScore]: pavg=0.465400 -> initscore=-0.138622\n",
      "[LightGBM] [Info] Start training from score -0.138622\n",
      "[LightGBM] [Info] Number of positive: 55848, number of negative: 64152\n",
      "[LightGBM] [Info] Auto-choosing col-wise multi-threading, the overhead of testing was 0.007447 seconds.\n",
      "You can set `force_col_wise=true` to remove the overhead.\n",
      "[LightGBM] [Info] Total Bins 3337\n",
      "[LightGBM] [Info] Number of data points in the train set: 120000, number of used features: 24\n",
      "[LightGBM] [Info] [binary:BoostFromScore]: pavg=0.465400 -> initscore=-0.138622\n",
      "[LightGBM] [Info] Start training from score -0.138622\n",
      "[LightGBM] [Info] Number of positive: 55848, number of negative: 64152\n",
      "[LightGBM] [Info] Auto-choosing row-wise multi-threading, the overhead of testing was 0.004460 seconds.\n",
      "You can set `force_row_wise=true` to remove the overhead.\n",
      "And if memory is not enough, you can set `force_col_wise=true`.\n",
      "[LightGBM] [Info] Total Bins 4447\n",
      "[LightGBM] [Info] Number of data points in the train set: 120000, number of used features: 36\n",
      "[LightGBM] [Info] [binary:BoostFromScore]: pavg=0.465400 -> initscore=-0.138622\n",
      "[LightGBM] [Info] Start training from score -0.138622\n",
      "[LightGBM] [Info] Number of positive: 55848, number of negative: 64152\n",
      "[LightGBM] [Info] Auto-choosing row-wise multi-threading, the overhead of testing was 0.003424 seconds.\n",
      "You can set `force_row_wise=true` to remove the overhead.\n",
      "And if memory is not enough, you can set `force_col_wise=true`.\n",
      "[LightGBM] [Info] Total Bins 3517\n",
      "[LightGBM] [Info] Number of data points in the train set: 120000, number of used features: 30\n",
      "[LightGBM] [Info] [binary:BoostFromScore]: pavg=0.465400 -> initscore=-0.138622\n",
      "[LightGBM] [Info] Start training from score -0.138622\n",
      "[LightGBM] [Info] Number of positive: 55848, number of negative: 64152\n",
      "[LightGBM] [Info] Auto-choosing row-wise multi-threading, the overhead of testing was 0.003434 seconds.\n",
      "You can set `force_row_wise=true` to remove the overhead.\n",
      "And if memory is not enough, you can set `force_col_wise=true`.\n",
      "[LightGBM] [Info] Total Bins 3435\n",
      "[LightGBM] [Info] Number of data points in the train set: 120000, number of used features: 25\n",
      "[LightGBM] [Info] [binary:BoostFromScore]: pavg=0.465400 -> initscore=-0.138622\n",
      "[LightGBM] [Info] Start training from score -0.138622\n",
      "[LightGBM] [Info] Number of positive: 55848, number of negative: 64152\n",
      "[LightGBM] [Info] Auto-choosing row-wise multi-threading, the overhead of testing was 0.003587 seconds.\n",
      "You can set `force_row_wise=true` to remove the overhead.\n",
      "And if memory is not enough, you can set `force_col_wise=true`.\n",
      "[LightGBM] [Info] Total Bins 3747\n",
      "[LightGBM] [Info] Number of data points in the train set: 120000, number of used features: 31\n",
      "[LightGBM] [Info] [binary:BoostFromScore]: pavg=0.465400 -> initscore=-0.138622\n",
      "[LightGBM] [Info] Start training from score -0.138622\n"
     ]
    },
    {
     "name": "stderr",
     "output_type": "stream",
     "text": [
      "\u001b[32m [ 2024-11-18 23:24:43,416 ] \u001b[0mFinished iteration #8 with objective value -0.9567453655748831. Current best value is -0.957161216621448 \u001b[0m\n"
     ]
    },
    {
     "name": "stdout",
     "output_type": "stream",
     "text": [
      "[LightGBM] [Info] Number of positive: 55848, number of negative: 64152\n",
      "[LightGBM] [Info] Auto-choosing row-wise multi-threading, the overhead of testing was 0.004498 seconds.\n",
      "You can set `force_row_wise=true` to remove the overhead.\n",
      "And if memory is not enough, you can set `force_col_wise=true`.\n",
      "[LightGBM] [Info] Total Bins 3593\n",
      "[LightGBM] [Info] Number of data points in the train set: 120000, number of used features: 27\n",
      "[LightGBM] [Info] [binary:BoostFromScore]: pavg=0.465400 -> initscore=-0.138622\n",
      "[LightGBM] [Info] Start training from score -0.138622\n",
      "[LightGBM] [Info] Number of positive: 55848, number of negative: 64152\n",
      "[LightGBM] [Info] Auto-choosing row-wise multi-threading, the overhead of testing was 0.003542 seconds.\n",
      "You can set `force_row_wise=true` to remove the overhead.\n",
      "And if memory is not enough, you can set `force_col_wise=true`.\n",
      "[LightGBM] [Info] Total Bins 3242\n",
      "[LightGBM] [Info] Number of data points in the train set: 120000, number of used features: 27\n",
      "[LightGBM] [Info] [binary:BoostFromScore]: pavg=0.465400 -> initscore=-0.138622\n",
      "[LightGBM] [Info] Start training from score -0.138622\n",
      "[LightGBM] [Info] Number of positive: 55848, number of negative: 64152\n",
      "[LightGBM] [Info] Auto-choosing row-wise multi-threading, the overhead of testing was 0.003451 seconds.\n",
      "You can set `force_row_wise=true` to remove the overhead.\n",
      "And if memory is not enough, you can set `force_col_wise=true`.\n",
      "[LightGBM] [Info] Total Bins 3030\n",
      "[LightGBM] [Info] Number of data points in the train set: 120000, number of used features: 25\n",
      "[LightGBM] [Info] [binary:BoostFromScore]: pavg=0.465400 -> initscore=-0.138622\n",
      "[LightGBM] [Info] Start training from score -0.138622\n",
      "[LightGBM] [Info] Number of positive: 55848, number of negative: 64152\n",
      "[LightGBM] [Info] Auto-choosing col-wise multi-threading, the overhead of testing was 0.023891 seconds.\n",
      "You can set `force_col_wise=true` to remove the overhead.\n",
      "[LightGBM] [Info] Total Bins 4318\n",
      "[LightGBM] [Info] Number of data points in the train set: 120000, number of used features: 28\n",
      "[LightGBM] [Info] [binary:BoostFromScore]: pavg=0.465400 -> initscore=-0.138622\n",
      "[LightGBM] [Info] Start training from score -0.138622\n",
      "[LightGBM] [Info] Number of positive: 55848, number of negative: 64152\n",
      "[LightGBM] [Info] Auto-choosing row-wise multi-threading, the overhead of testing was 0.003658 seconds.\n",
      "You can set `force_row_wise=true` to remove the overhead.\n",
      "And if memory is not enough, you can set `force_col_wise=true`.\n",
      "[LightGBM] [Info] Total Bins 3539\n",
      "[LightGBM] [Info] Number of data points in the train set: 120000, number of used features: 26\n",
      "[LightGBM] [Info] [binary:BoostFromScore]: pavg=0.465400 -> initscore=-0.138622\n",
      "[LightGBM] [Info] Start training from score -0.138622\n",
      "[LightGBM] [Info] Number of positive: 55848, number of negative: 64152\n",
      "[LightGBM] [Info] Auto-choosing col-wise multi-threading, the overhead of testing was 0.018912 seconds.\n",
      "You can set `force_col_wise=true` to remove the overhead.\n",
      "[LightGBM] [Info] Total Bins 3197\n",
      "[LightGBM] [Info] Number of data points in the train set: 120000, number of used features: 26\n",
      "[LightGBM] [Info] [binary:BoostFromScore]: pavg=0.465400 -> initscore=-0.138622\n",
      "[LightGBM] [Info] Start training from score -0.138622\n",
      "[LightGBM] [Info] Number of positive: 55848, number of negative: 64152\n",
      "[LightGBM] [Info] Auto-choosing row-wise multi-threading, the overhead of testing was 0.002455 seconds.\n",
      "You can set `force_row_wise=true` to remove the overhead.\n",
      "And if memory is not enough, you can set `force_col_wise=true`.\n",
      "[LightGBM] [Info] Total Bins 3385\n",
      "[LightGBM] [Info] Number of data points in the train set: 120000, number of used features: 26\n",
      "[LightGBM] [Info] [binary:BoostFromScore]: pavg=0.465400 -> initscore=-0.138622\n",
      "[LightGBM] [Info] Start training from score -0.138622\n",
      "[LightGBM] [Info] Number of positive: 55848, number of negative: 64152\n",
      "[LightGBM] [Info] Auto-choosing row-wise multi-threading, the overhead of testing was 0.004024 seconds.\n",
      "You can set `force_row_wise=true` to remove the overhead.\n",
      "And if memory is not enough, you can set `force_col_wise=true`.\n",
      "[LightGBM] [Info] Total Bins 3417\n",
      "[LightGBM] [Info] Number of data points in the train set: 120000, number of used features: 27\n",
      "[LightGBM] [Info] [binary:BoostFromScore]: pavg=0.465400 -> initscore=-0.138622\n",
      "[LightGBM] [Info] Start training from score -0.138622\n",
      "[LightGBM] [Info] Number of positive: 55848, number of negative: 64152\n",
      "[LightGBM] [Info] Auto-choosing row-wise multi-threading, the overhead of testing was 0.003309 seconds.\n",
      "You can set `force_row_wise=true` to remove the overhead.\n",
      "And if memory is not enough, you can set `force_col_wise=true`.\n",
      "[LightGBM] [Info] Total Bins 3570\n",
      "[LightGBM] [Info] Number of data points in the train set: 120000, number of used features: 27\n",
      "[LightGBM] [Info] [binary:BoostFromScore]: pavg=0.465400 -> initscore=-0.138622\n",
      "[LightGBM] [Info] Start training from score -0.138622\n",
      "[LightGBM] [Info] Number of positive: 55848, number of negative: 64152\n",
      "[LightGBM] [Info] Auto-choosing row-wise multi-threading, the overhead of testing was 0.004007 seconds.\n",
      "You can set `force_row_wise=true` to remove the overhead.\n",
      "And if memory is not enough, you can set `force_col_wise=true`.\n",
      "[LightGBM] [Info] Total Bins 4190\n",
      "[LightGBM] [Info] Number of data points in the train set: 120000, number of used features: 29\n",
      "[LightGBM] [Info] [binary:BoostFromScore]: pavg=0.465400 -> initscore=-0.138622\n",
      "[LightGBM] [Info] Start training from score -0.138622\n",
      "[LightGBM] [Info] Number of positive: 55848, number of negative: 64152\n",
      "[LightGBM] [Info] Auto-choosing col-wise multi-threading, the overhead of testing was 0.005096 seconds.\n",
      "You can set `force_col_wise=true` to remove the overhead.\n",
      "[LightGBM] [Info] Total Bins 3598\n",
      "[LightGBM] [Info] Number of data points in the train set: 120000, number of used features: 24\n",
      "[LightGBM] [Info] [binary:BoostFromScore]: pavg=0.465400 -> initscore=-0.138622\n",
      "[LightGBM] [Info] Start training from score -0.138622\n",
      "[LightGBM] [Info] Number of positive: 55848, number of negative: 64152\n",
      "[LightGBM] [Info] Auto-choosing col-wise multi-threading, the overhead of testing was 0.016224 seconds.\n",
      "You can set `force_col_wise=true` to remove the overhead.\n",
      "[LightGBM] [Info] Total Bins 3301\n",
      "[LightGBM] [Info] Number of data points in the train set: 120000, number of used features: 24\n",
      "[LightGBM] [Info] [binary:BoostFromScore]: pavg=0.465400 -> initscore=-0.138622\n",
      "[LightGBM] [Info] Start training from score -0.138622\n",
      "[LightGBM] [Info] Number of positive: 55848, number of negative: 64152\n",
      "[LightGBM] [Info] Auto-choosing row-wise multi-threading, the overhead of testing was 0.003992 seconds.\n",
      "You can set `force_row_wise=true` to remove the overhead.\n",
      "And if memory is not enough, you can set `force_col_wise=true`.\n",
      "[LightGBM] [Info] Total Bins 4213\n",
      "[LightGBM] [Info] Number of data points in the train set: 120000, number of used features: 31\n",
      "[LightGBM] [Info] [binary:BoostFromScore]: pavg=0.465400 -> initscore=-0.138622\n",
      "[LightGBM] [Info] Start training from score -0.138622\n",
      "[LightGBM] [Info] Number of positive: 55848, number of negative: 64152\n",
      "[LightGBM] [Info] Auto-choosing row-wise multi-threading, the overhead of testing was 0.003937 seconds.\n",
      "You can set `force_row_wise=true` to remove the overhead.\n",
      "And if memory is not enough, you can set `force_col_wise=true`.\n",
      "[LightGBM] [Info] Total Bins 3845\n",
      "[LightGBM] [Info] Number of data points in the train set: 120000, number of used features: 27\n",
      "[LightGBM] [Info] [binary:BoostFromScore]: pavg=0.465400 -> initscore=-0.138622\n",
      "[LightGBM] [Info] Start training from score -0.138622\n",
      "[LightGBM] [Info] Number of positive: 55848, number of negative: 64152\n",
      "[LightGBM] [Info] Auto-choosing row-wise multi-threading, the overhead of testing was 0.003077 seconds.\n",
      "You can set `force_row_wise=true` to remove the overhead.\n",
      "And if memory is not enough, you can set `force_col_wise=true`.\n",
      "[LightGBM] [Info] Total Bins 3698\n",
      "[LightGBM] [Info] Number of data points in the train set: 120000, number of used features: 29\n",
      "[LightGBM] [Info] [binary:BoostFromScore]: pavg=0.465400 -> initscore=-0.138622\n",
      "[LightGBM] [Info] Start training from score -0.138622\n",
      "[LightGBM] [Info] Number of positive: 55848, number of negative: 64152\n",
      "[LightGBM] [Info] Auto-choosing row-wise multi-threading, the overhead of testing was 0.003874 seconds.\n",
      "You can set `force_row_wise=true` to remove the overhead.\n",
      "And if memory is not enough, you can set `force_col_wise=true`.\n",
      "[LightGBM] [Info] Total Bins 2919\n",
      "[LightGBM] [Info] Number of data points in the train set: 120000, number of used features: 26\n",
      "[LightGBM] [Info] [binary:BoostFromScore]: pavg=0.465400 -> initscore=-0.138622\n",
      "[LightGBM] [Info] Start training from score -0.138622\n",
      "[LightGBM] [Info] Number of positive: 55848, number of negative: 64152\n",
      "[LightGBM] [Info] Auto-choosing row-wise multi-threading, the overhead of testing was 0.003175 seconds.\n",
      "You can set `force_row_wise=true` to remove the overhead.\n",
      "And if memory is not enough, you can set `force_col_wise=true`.\n",
      "[LightGBM] [Info] Total Bins 3430\n",
      "[LightGBM] [Info] Number of data points in the train set: 120000, number of used features: 26\n",
      "[LightGBM] [Info] [binary:BoostFromScore]: pavg=0.465400 -> initscore=-0.138622\n",
      "[LightGBM] [Info] Start training from score -0.138622\n",
      "[LightGBM] [Info] Number of positive: 55848, number of negative: 64152\n",
      "[LightGBM] [Info] Auto-choosing row-wise multi-threading, the overhead of testing was 0.002864 seconds.\n",
      "You can set `force_row_wise=true` to remove the overhead.\n",
      "And if memory is not enough, you can set `force_col_wise=true`.\n",
      "[LightGBM] [Info] Total Bins 3938\n",
      "[LightGBM] [Info] Number of data points in the train set: 120000, number of used features: 27\n",
      "[LightGBM] [Info] [binary:BoostFromScore]: pavg=0.465400 -> initscore=-0.138622\n",
      "[LightGBM] [Info] Start training from score -0.138622\n",
      "[LightGBM] [Info] Number of positive: 55848, number of negative: 64152\n",
      "[LightGBM] [Info] Auto-choosing row-wise multi-threading, the overhead of testing was 0.003504 seconds.\n",
      "You can set `force_row_wise=true` to remove the overhead.\n",
      "And if memory is not enough, you can set `force_col_wise=true`.\n",
      "[LightGBM] [Info] Total Bins 3383\n",
      "[LightGBM] [Info] Number of data points in the train set: 120000, number of used features: 30\n",
      "[LightGBM] [Info] [binary:BoostFromScore]: pavg=0.465400 -> initscore=-0.138622\n",
      "[LightGBM] [Info] Start training from score -0.138622\n",
      "[LightGBM] [Info] Number of positive: 55848, number of negative: 64152\n",
      "[LightGBM] [Info] Auto-choosing row-wise multi-threading, the overhead of testing was 0.003806 seconds.\n",
      "You can set `force_row_wise=true` to remove the overhead.\n",
      "And if memory is not enough, you can set `force_col_wise=true`.\n",
      "[LightGBM] [Info] Total Bins 3088\n",
      "[LightGBM] [Info] Number of data points in the train set: 120000, number of used features: 25\n",
      "[LightGBM] [Info] [binary:BoostFromScore]: pavg=0.465400 -> initscore=-0.138622\n",
      "[LightGBM] [Info] Start training from score -0.138622\n",
      "[LightGBM] [Info] Number of positive: 55848, number of negative: 64152\n",
      "[LightGBM] [Info] Auto-choosing row-wise multi-threading, the overhead of testing was 0.003637 seconds.\n",
      "You can set `force_row_wise=true` to remove the overhead.\n",
      "And if memory is not enough, you can set `force_col_wise=true`.\n",
      "[LightGBM] [Info] Total Bins 4190\n",
      "[LightGBM] [Info] Number of data points in the train set: 120000, number of used features: 34\n",
      "[LightGBM] [Info] [binary:BoostFromScore]: pavg=0.465400 -> initscore=-0.138622\n",
      "[LightGBM] [Info] Start training from score -0.138622\n",
      "[LightGBM] [Info] Number of positive: 55848, number of negative: 64152\n",
      "[LightGBM] [Info] Auto-choosing col-wise multi-threading, the overhead of testing was 0.028608 seconds.\n",
      "You can set `force_col_wise=true` to remove the overhead.\n",
      "[LightGBM] [Info] Total Bins 4560\n",
      "[LightGBM] [Info] Number of data points in the train set: 120000, number of used features: 31\n",
      "[LightGBM] [Info] [binary:BoostFromScore]: pavg=0.465400 -> initscore=-0.138622\n",
      "[LightGBM] [Info] Start training from score -0.138622\n",
      "[LightGBM] [Info] Number of positive: 55848, number of negative: 64152\n",
      "[LightGBM] [Info] Auto-choosing row-wise multi-threading, the overhead of testing was 0.003801 seconds.\n",
      "You can set `force_row_wise=true` to remove the overhead.\n",
      "And if memory is not enough, you can set `force_col_wise=true`.\n",
      "[LightGBM] [Info] Total Bins 3136\n",
      "[LightGBM] [Info] Number of data points in the train set: 120000, number of used features: 27\n",
      "[LightGBM] [Info] [binary:BoostFromScore]: pavg=0.465400 -> initscore=-0.138622\n",
      "[LightGBM] [Info] Start training from score -0.138622\n",
      "[LightGBM] [Info] Number of positive: 55848, number of negative: 64152\n",
      "[LightGBM] [Info] Auto-choosing row-wise multi-threading, the overhead of testing was 0.003667 seconds.\n",
      "You can set `force_row_wise=true` to remove the overhead.\n",
      "And if memory is not enough, you can set `force_col_wise=true`.\n",
      "[LightGBM] [Info] Total Bins 3634\n",
      "[LightGBM] [Info] Number of data points in the train set: 120000, number of used features: 28\n",
      "[LightGBM] [Info] [binary:BoostFromScore]: pavg=0.465400 -> initscore=-0.138622\n",
      "[LightGBM] [Info] Start training from score -0.138622\n",
      "[LightGBM] [Info] Number of positive: 55848, number of negative: 64152\n",
      "[LightGBM] [Info] Auto-choosing row-wise multi-threading, the overhead of testing was 0.003088 seconds.\n",
      "You can set `force_row_wise=true` to remove the overhead.\n",
      "And if memory is not enough, you can set `force_col_wise=true`.\n",
      "[LightGBM] [Info] Total Bins 3166\n",
      "[LightGBM] [Info] Number of data points in the train set: 120000, number of used features: 28\n",
      "[LightGBM] [Info] [binary:BoostFromScore]: pavg=0.465400 -> initscore=-0.138622\n",
      "[LightGBM] [Info] Start training from score -0.138622\n",
      "[LightGBM] [Info] Number of positive: 55848, number of negative: 64152\n",
      "[LightGBM] [Info] Auto-choosing row-wise multi-threading, the overhead of testing was 0.003855 seconds.\n",
      "You can set `force_row_wise=true` to remove the overhead.\n",
      "And if memory is not enough, you can set `force_col_wise=true`.\n",
      "[LightGBM] [Info] Total Bins 2656\n",
      "[LightGBM] [Info] Number of data points in the train set: 120000, number of used features: 26\n",
      "[LightGBM] [Info] [binary:BoostFromScore]: pavg=0.465400 -> initscore=-0.138622\n",
      "[LightGBM] [Info] Start training from score -0.138622\n",
      "[LightGBM] [Info] Number of positive: 55848, number of negative: 64152\n",
      "[LightGBM] [Info] Auto-choosing row-wise multi-threading, the overhead of testing was 0.002796 seconds.\n",
      "You can set `force_row_wise=true` to remove the overhead.\n",
      "And if memory is not enough, you can set `force_col_wise=true`.\n",
      "[LightGBM] [Info] Total Bins 3631\n",
      "[LightGBM] [Info] Number of data points in the train set: 120000, number of used features: 25\n",
      "[LightGBM] [Info] [binary:BoostFromScore]: pavg=0.465400 -> initscore=-0.138622\n",
      "[LightGBM] [Info] Start training from score -0.138622\n",
      "[LightGBM] [Info] Number of positive: 55848, number of negative: 64152\n",
      "[LightGBM] [Info] Auto-choosing row-wise multi-threading, the overhead of testing was 0.003422 seconds.\n",
      "You can set `force_row_wise=true` to remove the overhead.\n",
      "And if memory is not enough, you can set `force_col_wise=true`.\n",
      "[LightGBM] [Info] Total Bins 3905\n",
      "[LightGBM] [Info] Number of data points in the train set: 120000, number of used features: 32\n",
      "[LightGBM] [Info] [binary:BoostFromScore]: pavg=0.465400 -> initscore=-0.138622\n",
      "[LightGBM] [Info] Start training from score -0.138622\n",
      "[LightGBM] [Info] Number of positive: 55848, number of negative: 64152\n",
      "[LightGBM] [Info] Auto-choosing row-wise multi-threading, the overhead of testing was 0.003862 seconds.\n",
      "You can set `force_row_wise=true` to remove the overhead.\n",
      "And if memory is not enough, you can set `force_col_wise=true`.\n",
      "[LightGBM] [Info] Total Bins 4311\n",
      "[LightGBM] [Info] Number of data points in the train set: 120000, number of used features: 33\n",
      "[LightGBM] [Info] [binary:BoostFromScore]: pavg=0.465400 -> initscore=-0.138622\n",
      "[LightGBM] [Info] Start training from score -0.138622\n",
      "[LightGBM] [Info] Number of positive: 55848, number of negative: 64152\n",
      "[LightGBM] [Info] Auto-choosing row-wise multi-threading, the overhead of testing was 0.003218 seconds.\n",
      "You can set `force_row_wise=true` to remove the overhead.\n",
      "And if memory is not enough, you can set `force_col_wise=true`.\n",
      "[LightGBM] [Info] Total Bins 3757\n",
      "[LightGBM] [Info] Number of data points in the train set: 120000, number of used features: 29\n",
      "[LightGBM] [Info] [binary:BoostFromScore]: pavg=0.465400 -> initscore=-0.138622\n",
      "[LightGBM] [Info] Start training from score -0.138622\n",
      "[LightGBM] [Info] Number of positive: 55848, number of negative: 64152\n",
      "[LightGBM] [Info] Auto-choosing row-wise multi-threading, the overhead of testing was 0.002519 seconds.\n",
      "You can set `force_row_wise=true` to remove the overhead.\n",
      "And if memory is not enough, you can set `force_col_wise=true`.\n",
      "[LightGBM] [Info] Total Bins 3746\n",
      "[LightGBM] [Info] Number of data points in the train set: 120000, number of used features: 26\n",
      "[LightGBM] [Info] [binary:BoostFromScore]: pavg=0.465400 -> initscore=-0.138622\n",
      "[LightGBM] [Info] Start training from score -0.138622\n",
      "[LightGBM] [Info] Number of positive: 55848, number of negative: 64152\n",
      "[LightGBM] [Info] Auto-choosing row-wise multi-threading, the overhead of testing was 0.004150 seconds.\n",
      "You can set `force_row_wise=true` to remove the overhead.\n",
      "And if memory is not enough, you can set `force_col_wise=true`.\n",
      "[LightGBM] [Info] Total Bins 3683\n",
      "[LightGBM] [Info] Number of data points in the train set: 120000, number of used features: 29\n",
      "[LightGBM] [Info] [binary:BoostFromScore]: pavg=0.465400 -> initscore=-0.138622\n",
      "[LightGBM] [Info] Start training from score -0.138622\n",
      "[LightGBM] [Info] Number of positive: 55848, number of negative: 64152\n",
      "[LightGBM] [Info] Auto-choosing row-wise multi-threading, the overhead of testing was 0.003330 seconds.\n",
      "You can set `force_row_wise=true` to remove the overhead.\n",
      "And if memory is not enough, you can set `force_col_wise=true`.\n",
      "[LightGBM] [Info] Total Bins 2940\n",
      "[LightGBM] [Info] Number of data points in the train set: 120000, number of used features: 26\n",
      "[LightGBM] [Info] [binary:BoostFromScore]: pavg=0.465400 -> initscore=-0.138622\n",
      "[LightGBM] [Info] Start training from score -0.138622\n",
      "[LightGBM] [Info] Number of positive: 55848, number of negative: 64152\n",
      "[LightGBM] [Info] Auto-choosing row-wise multi-threading, the overhead of testing was 0.003120 seconds.\n",
      "You can set `force_row_wise=true` to remove the overhead.\n",
      "And if memory is not enough, you can set `force_col_wise=true`.\n",
      "[LightGBM] [Info] Total Bins 3898\n",
      "[LightGBM] [Info] Number of data points in the train set: 120000, number of used features: 30\n",
      "[LightGBM] [Info] [binary:BoostFromScore]: pavg=0.465400 -> initscore=-0.138622\n",
      "[LightGBM] [Info] Start training from score -0.138622\n",
      "[LightGBM] [Info] Number of positive: 55848, number of negative: 64152\n",
      "[LightGBM] [Info] Auto-choosing col-wise multi-threading, the overhead of testing was 0.026323 seconds.\n",
      "You can set `force_col_wise=true` to remove the overhead.\n",
      "[LightGBM] [Info] Total Bins 4191\n",
      "[LightGBM] [Info] Number of data points in the train set: 120000, number of used features: 30\n",
      "[LightGBM] [Info] [binary:BoostFromScore]: pavg=0.465400 -> initscore=-0.138622\n",
      "[LightGBM] [Info] Start training from score -0.138622\n",
      "[LightGBM] [Info] Number of positive: 55848, number of negative: 64152\n",
      "[LightGBM] [Info] Auto-choosing row-wise multi-threading, the overhead of testing was 0.003212 seconds.\n",
      "You can set `force_row_wise=true` to remove the overhead.\n",
      "And if memory is not enough, you can set `force_col_wise=true`.\n",
      "[LightGBM] [Info] Total Bins 3868\n",
      "[LightGBM] [Info] Number of data points in the train set: 120000, number of used features: 30\n",
      "[LightGBM] [Info] [binary:BoostFromScore]: pavg=0.465400 -> initscore=-0.138622\n",
      "[LightGBM] [Info] Start training from score -0.138622\n",
      "[LightGBM] [Info] Number of positive: 55848, number of negative: 64152\n",
      "[LightGBM] [Info] Auto-choosing row-wise multi-threading, the overhead of testing was 0.003302 seconds.\n",
      "You can set `force_row_wise=true` to remove the overhead.\n",
      "And if memory is not enough, you can set `force_col_wise=true`.\n",
      "[LightGBM] [Info] Total Bins 3947\n",
      "[LightGBM] [Info] Number of data points in the train set: 120000, number of used features: 28\n",
      "[LightGBM] [Info] [binary:BoostFromScore]: pavg=0.465400 -> initscore=-0.138622\n",
      "[LightGBM] [Info] Start training from score -0.138622\n",
      "[LightGBM] [Info] Number of positive: 55848, number of negative: 64152\n",
      "[LightGBM] [Info] Auto-choosing row-wise multi-threading, the overhead of testing was 0.003825 seconds.\n",
      "You can set `force_row_wise=true` to remove the overhead.\n",
      "And if memory is not enough, you can set `force_col_wise=true`.\n",
      "[LightGBM] [Info] Total Bins 4767\n",
      "[LightGBM] [Info] Number of data points in the train set: 120000, number of used features: 35\n",
      "[LightGBM] [Info] [binary:BoostFromScore]: pavg=0.465400 -> initscore=-0.138622\n",
      "[LightGBM] [Info] Start training from score -0.138622\n",
      "[LightGBM] [Info] Number of positive: 55848, number of negative: 64152\n",
      "[LightGBM] [Info] Auto-choosing row-wise multi-threading, the overhead of testing was 0.003021 seconds.\n",
      "You can set `force_row_wise=true` to remove the overhead.\n",
      "And if memory is not enough, you can set `force_col_wise=true`.\n",
      "[LightGBM] [Info] Total Bins 3671\n",
      "[LightGBM] [Info] Number of data points in the train set: 120000, number of used features: 27\n",
      "[LightGBM] [Info] [binary:BoostFromScore]: pavg=0.465400 -> initscore=-0.138622\n",
      "[LightGBM] [Info] Start training from score -0.138622\n",
      "[LightGBM] [Info] Number of positive: 55848, number of negative: 64152\n",
      "[LightGBM] [Info] Auto-choosing row-wise multi-threading, the overhead of testing was 0.003603 seconds.\n",
      "You can set `force_row_wise=true` to remove the overhead.\n",
      "And if memory is not enough, you can set `force_col_wise=true`.\n",
      "[LightGBM] [Info] Total Bins 4068\n",
      "[LightGBM] [Info] Number of data points in the train set: 120000, number of used features: 30\n",
      "[LightGBM] [Info] [binary:BoostFromScore]: pavg=0.465400 -> initscore=-0.138622\n",
      "[LightGBM] [Info] Start training from score -0.138622\n",
      "[LightGBM] [Info] Number of positive: 55848, number of negative: 64152\n",
      "[LightGBM] [Info] Auto-choosing row-wise multi-threading, the overhead of testing was 0.003222 seconds.\n",
      "You can set `force_row_wise=true` to remove the overhead.\n",
      "And if memory is not enough, you can set `force_col_wise=true`.\n",
      "[LightGBM] [Info] Total Bins 3835\n",
      "[LightGBM] [Info] Number of data points in the train set: 120000, number of used features: 31\n",
      "[LightGBM] [Info] [binary:BoostFromScore]: pavg=0.465400 -> initscore=-0.138622\n",
      "[LightGBM] [Info] Start training from score -0.138622\n",
      "[LightGBM] [Info] Number of positive: 55848, number of negative: 64152\n",
      "[LightGBM] [Info] Auto-choosing row-wise multi-threading, the overhead of testing was 0.003426 seconds.\n",
      "You can set `force_row_wise=true` to remove the overhead.\n",
      "And if memory is not enough, you can set `force_col_wise=true`.\n",
      "[LightGBM] [Info] Total Bins 4698\n",
      "[LightGBM] [Info] Number of data points in the train set: 120000, number of used features: 35\n",
      "[LightGBM] [Info] [binary:BoostFromScore]: pavg=0.465400 -> initscore=-0.138622\n",
      "[LightGBM] [Info] Start training from score -0.138622\n",
      "[LightGBM] [Info] Number of positive: 55848, number of negative: 64152\n",
      "[LightGBM] [Info] Auto-choosing row-wise multi-threading, the overhead of testing was 0.002354 seconds.\n",
      "You can set `force_row_wise=true` to remove the overhead.\n",
      "And if memory is not enough, you can set `force_col_wise=true`.\n",
      "[LightGBM] [Info] Total Bins 3323\n",
      "[LightGBM] [Info] Number of data points in the train set: 120000, number of used features: 28\n",
      "[LightGBM] [Info] [binary:BoostFromScore]: pavg=0.465400 -> initscore=-0.138622\n",
      "[LightGBM] [Info] Start training from score -0.138622\n",
      "[LightGBM] [Info] Number of positive: 55848, number of negative: 64152\n",
      "[LightGBM] [Info] Auto-choosing row-wise multi-threading, the overhead of testing was 0.002902 seconds.\n",
      "You can set `force_row_wise=true` to remove the overhead.\n",
      "And if memory is not enough, you can set `force_col_wise=true`.\n",
      "[LightGBM] [Info] Total Bins 3259\n",
      "[LightGBM] [Info] Number of data points in the train set: 120000, number of used features: 24\n",
      "[LightGBM] [Info] [binary:BoostFromScore]: pavg=0.465400 -> initscore=-0.138622\n",
      "[LightGBM] [Info] Start training from score -0.138622\n",
      "[LightGBM] [Info] Number of positive: 55848, number of negative: 64152\n",
      "[LightGBM] [Info] Auto-choosing row-wise multi-threading, the overhead of testing was 0.003426 seconds.\n",
      "You can set `force_row_wise=true` to remove the overhead.\n",
      "And if memory is not enough, you can set `force_col_wise=true`.\n",
      "[LightGBM] [Info] Total Bins 3681\n",
      "[LightGBM] [Info] Number of data points in the train set: 120000, number of used features: 28\n",
      "[LightGBM] [Info] [binary:BoostFromScore]: pavg=0.465400 -> initscore=-0.138622\n",
      "[LightGBM] [Info] Start training from score -0.138622\n"
     ]
    },
    {
     "name": "stderr",
     "output_type": "stream",
     "text": [
      "\u001b[32m [ 2024-11-18 23:25:05,956 ] \u001b[0mFinished iteration #9 with objective value -0.95680422675996. Current best value is -0.957161216621448 \u001b[0m\n"
     ]
    },
    {
     "data": {
      "application/vnd.plotly.v1+json": {
       "config": {
        "plotlyServerURL": "https://plot.ly"
       },
       "data": [
        {
         "mode": "markers",
         "name": "objective_score",
         "type": "scatter",
         "x": [
          0,
          1,
          2,
          3,
          4,
          5,
          6,
          7,
          8,
          9
         ],
         "y": [
          -0.9522281639928698,
          -0.9568971669164347,
          -0.957161216621448,
          -0.957161216621448,
          -0.9568971669164347,
          -0.9570652950421489,
          -0.9570652950421489,
          -0.9566456485340743,
          -0.9567453655748831,
          -0.95680422675996
         ]
        },
        {
         "mode": "lines+markers",
         "name": "best_score",
         "type": "scatter",
         "x": [
          0,
          1,
          2,
          3,
          4,
          5,
          6,
          7,
          8,
          9
         ],
         "y": [
          -0.9522281639928698,
          -0.9568971669164347,
          -0.957161216621448,
          -0.957161216621448,
          -0.957161216621448,
          -0.957161216621448,
          -0.957161216621448,
          -0.957161216621448,
          -0.957161216621448,
          -0.957161216621448
         ]
        }
       ],
       "layout": {
        "template": {
         "data": {
          "bar": [
           {
            "error_x": {
             "color": "#2a3f5f"
            },
            "error_y": {
             "color": "#2a3f5f"
            },
            "marker": {
             "line": {
              "color": "#E5ECF6",
              "width": 0.5
             },
             "pattern": {
              "fillmode": "overlay",
              "size": 10,
              "solidity": 0.2
             }
            },
            "type": "bar"
           }
          ],
          "barpolar": [
           {
            "marker": {
             "line": {
              "color": "#E5ECF6",
              "width": 0.5
             },
             "pattern": {
              "fillmode": "overlay",
              "size": 10,
              "solidity": 0.2
             }
            },
            "type": "barpolar"
           }
          ],
          "carpet": [
           {
            "aaxis": {
             "endlinecolor": "#2a3f5f",
             "gridcolor": "white",
             "linecolor": "white",
             "minorgridcolor": "white",
             "startlinecolor": "#2a3f5f"
            },
            "baxis": {
             "endlinecolor": "#2a3f5f",
             "gridcolor": "white",
             "linecolor": "white",
             "minorgridcolor": "white",
             "startlinecolor": "#2a3f5f"
            },
            "type": "carpet"
           }
          ],
          "choropleth": [
           {
            "colorbar": {
             "outlinewidth": 0,
             "ticks": ""
            },
            "type": "choropleth"
           }
          ],
          "contour": [
           {
            "colorbar": {
             "outlinewidth": 0,
             "ticks": ""
            },
            "colorscale": [
             [
              0,
              "#0d0887"
             ],
             [
              0.1111111111111111,
              "#46039f"
             ],
             [
              0.2222222222222222,
              "#7201a8"
             ],
             [
              0.3333333333333333,
              "#9c179e"
             ],
             [
              0.4444444444444444,
              "#bd3786"
             ],
             [
              0.5555555555555556,
              "#d8576b"
             ],
             [
              0.6666666666666666,
              "#ed7953"
             ],
             [
              0.7777777777777778,
              "#fb9f3a"
             ],
             [
              0.8888888888888888,
              "#fdca26"
             ],
             [
              1,
              "#f0f921"
             ]
            ],
            "type": "contour"
           }
          ],
          "contourcarpet": [
           {
            "colorbar": {
             "outlinewidth": 0,
             "ticks": ""
            },
            "type": "contourcarpet"
           }
          ],
          "heatmap": [
           {
            "colorbar": {
             "outlinewidth": 0,
             "ticks": ""
            },
            "colorscale": [
             [
              0,
              "#0d0887"
             ],
             [
              0.1111111111111111,
              "#46039f"
             ],
             [
              0.2222222222222222,
              "#7201a8"
             ],
             [
              0.3333333333333333,
              "#9c179e"
             ],
             [
              0.4444444444444444,
              "#bd3786"
             ],
             [
              0.5555555555555556,
              "#d8576b"
             ],
             [
              0.6666666666666666,
              "#ed7953"
             ],
             [
              0.7777777777777778,
              "#fb9f3a"
             ],
             [
              0.8888888888888888,
              "#fdca26"
             ],
             [
              1,
              "#f0f921"
             ]
            ],
            "type": "heatmap"
           }
          ],
          "heatmapgl": [
           {
            "colorbar": {
             "outlinewidth": 0,
             "ticks": ""
            },
            "colorscale": [
             [
              0,
              "#0d0887"
             ],
             [
              0.1111111111111111,
              "#46039f"
             ],
             [
              0.2222222222222222,
              "#7201a8"
             ],
             [
              0.3333333333333333,
              "#9c179e"
             ],
             [
              0.4444444444444444,
              "#bd3786"
             ],
             [
              0.5555555555555556,
              "#d8576b"
             ],
             [
              0.6666666666666666,
              "#ed7953"
             ],
             [
              0.7777777777777778,
              "#fb9f3a"
             ],
             [
              0.8888888888888888,
              "#fdca26"
             ],
             [
              1,
              "#f0f921"
             ]
            ],
            "type": "heatmapgl"
           }
          ],
          "histogram": [
           {
            "marker": {
             "pattern": {
              "fillmode": "overlay",
              "size": 10,
              "solidity": 0.2
             }
            },
            "type": "histogram"
           }
          ],
          "histogram2d": [
           {
            "colorbar": {
             "outlinewidth": 0,
             "ticks": ""
            },
            "colorscale": [
             [
              0,
              "#0d0887"
             ],
             [
              0.1111111111111111,
              "#46039f"
             ],
             [
              0.2222222222222222,
              "#7201a8"
             ],
             [
              0.3333333333333333,
              "#9c179e"
             ],
             [
              0.4444444444444444,
              "#bd3786"
             ],
             [
              0.5555555555555556,
              "#d8576b"
             ],
             [
              0.6666666666666666,
              "#ed7953"
             ],
             [
              0.7777777777777778,
              "#fb9f3a"
             ],
             [
              0.8888888888888888,
              "#fdca26"
             ],
             [
              1,
              "#f0f921"
             ]
            ],
            "type": "histogram2d"
           }
          ],
          "histogram2dcontour": [
           {
            "colorbar": {
             "outlinewidth": 0,
             "ticks": ""
            },
            "colorscale": [
             [
              0,
              "#0d0887"
             ],
             [
              0.1111111111111111,
              "#46039f"
             ],
             [
              0.2222222222222222,
              "#7201a8"
             ],
             [
              0.3333333333333333,
              "#9c179e"
             ],
             [
              0.4444444444444444,
              "#bd3786"
             ],
             [
              0.5555555555555556,
              "#d8576b"
             ],
             [
              0.6666666666666666,
              "#ed7953"
             ],
             [
              0.7777777777777778,
              "#fb9f3a"
             ],
             [
              0.8888888888888888,
              "#fdca26"
             ],
             [
              1,
              "#f0f921"
             ]
            ],
            "type": "histogram2dcontour"
           }
          ],
          "mesh3d": [
           {
            "colorbar": {
             "outlinewidth": 0,
             "ticks": ""
            },
            "type": "mesh3d"
           }
          ],
          "parcoords": [
           {
            "line": {
             "colorbar": {
              "outlinewidth": 0,
              "ticks": ""
             }
            },
            "type": "parcoords"
           }
          ],
          "pie": [
           {
            "automargin": true,
            "type": "pie"
           }
          ],
          "scatter": [
           {
            "fillpattern": {
             "fillmode": "overlay",
             "size": 10,
             "solidity": 0.2
            },
            "type": "scatter"
           }
          ],
          "scatter3d": [
           {
            "line": {
             "colorbar": {
              "outlinewidth": 0,
              "ticks": ""
             }
            },
            "marker": {
             "colorbar": {
              "outlinewidth": 0,
              "ticks": ""
             }
            },
            "type": "scatter3d"
           }
          ],
          "scattercarpet": [
           {
            "marker": {
             "colorbar": {
              "outlinewidth": 0,
              "ticks": ""
             }
            },
            "type": "scattercarpet"
           }
          ],
          "scattergeo": [
           {
            "marker": {
             "colorbar": {
              "outlinewidth": 0,
              "ticks": ""
             }
            },
            "type": "scattergeo"
           }
          ],
          "scattergl": [
           {
            "marker": {
             "colorbar": {
              "outlinewidth": 0,
              "ticks": ""
             }
            },
            "type": "scattergl"
           }
          ],
          "scattermapbox": [
           {
            "marker": {
             "colorbar": {
              "outlinewidth": 0,
              "ticks": ""
             }
            },
            "type": "scattermapbox"
           }
          ],
          "scatterpolar": [
           {
            "marker": {
             "colorbar": {
              "outlinewidth": 0,
              "ticks": ""
             }
            },
            "type": "scatterpolar"
           }
          ],
          "scatterpolargl": [
           {
            "marker": {
             "colorbar": {
              "outlinewidth": 0,
              "ticks": ""
             }
            },
            "type": "scatterpolargl"
           }
          ],
          "scatterternary": [
           {
            "marker": {
             "colorbar": {
              "outlinewidth": 0,
              "ticks": ""
             }
            },
            "type": "scatterternary"
           }
          ],
          "surface": [
           {
            "colorbar": {
             "outlinewidth": 0,
             "ticks": ""
            },
            "colorscale": [
             [
              0,
              "#0d0887"
             ],
             [
              0.1111111111111111,
              "#46039f"
             ],
             [
              0.2222222222222222,
              "#7201a8"
             ],
             [
              0.3333333333333333,
              "#9c179e"
             ],
             [
              0.4444444444444444,
              "#bd3786"
             ],
             [
              0.5555555555555556,
              "#d8576b"
             ],
             [
              0.6666666666666666,
              "#ed7953"
             ],
             [
              0.7777777777777778,
              "#fb9f3a"
             ],
             [
              0.8888888888888888,
              "#fdca26"
             ],
             [
              1,
              "#f0f921"
             ]
            ],
            "type": "surface"
           }
          ],
          "table": [
           {
            "cells": {
             "fill": {
              "color": "#EBF0F8"
             },
             "line": {
              "color": "white"
             }
            },
            "header": {
             "fill": {
              "color": "#C8D4E3"
             },
             "line": {
              "color": "white"
             }
            },
            "type": "table"
           }
          ]
         },
         "layout": {
          "annotationdefaults": {
           "arrowcolor": "#2a3f5f",
           "arrowhead": 0,
           "arrowwidth": 1
          },
          "autotypenumbers": "strict",
          "coloraxis": {
           "colorbar": {
            "outlinewidth": 0,
            "ticks": ""
           }
          },
          "colorscale": {
           "diverging": [
            [
             0,
             "#8e0152"
            ],
            [
             0.1,
             "#c51b7d"
            ],
            [
             0.2,
             "#de77ae"
            ],
            [
             0.3,
             "#f1b6da"
            ],
            [
             0.4,
             "#fde0ef"
            ],
            [
             0.5,
             "#f7f7f7"
            ],
            [
             0.6,
             "#e6f5d0"
            ],
            [
             0.7,
             "#b8e186"
            ],
            [
             0.8,
             "#7fbc41"
            ],
            [
             0.9,
             "#4d9221"
            ],
            [
             1,
             "#276419"
            ]
           ],
           "sequential": [
            [
             0,
             "#0d0887"
            ],
            [
             0.1111111111111111,
             "#46039f"
            ],
            [
             0.2222222222222222,
             "#7201a8"
            ],
            [
             0.3333333333333333,
             "#9c179e"
            ],
            [
             0.4444444444444444,
             "#bd3786"
            ],
            [
             0.5555555555555556,
             "#d8576b"
            ],
            [
             0.6666666666666666,
             "#ed7953"
            ],
            [
             0.7777777777777778,
             "#fb9f3a"
            ],
            [
             0.8888888888888888,
             "#fdca26"
            ],
            [
             1,
             "#f0f921"
            ]
           ],
           "sequentialminus": [
            [
             0,
             "#0d0887"
            ],
            [
             0.1111111111111111,
             "#46039f"
            ],
            [
             0.2222222222222222,
             "#7201a8"
            ],
            [
             0.3333333333333333,
             "#9c179e"
            ],
            [
             0.4444444444444444,
             "#bd3786"
            ],
            [
             0.5555555555555556,
             "#d8576b"
            ],
            [
             0.6666666666666666,
             "#ed7953"
            ],
            [
             0.7777777777777778,
             "#fb9f3a"
            ],
            [
             0.8888888888888888,
             "#fdca26"
            ],
            [
             1,
             "#f0f921"
            ]
           ]
          },
          "colorway": [
           "#636efa",
           "#EF553B",
           "#00cc96",
           "#ab63fa",
           "#FFA15A",
           "#19d3f3",
           "#FF6692",
           "#B6E880",
           "#FF97FF",
           "#FECB52"
          ],
          "font": {
           "color": "#2a3f5f"
          },
          "geo": {
           "bgcolor": "white",
           "lakecolor": "white",
           "landcolor": "#E5ECF6",
           "showlakes": true,
           "showland": true,
           "subunitcolor": "white"
          },
          "hoverlabel": {
           "align": "left"
          },
          "hovermode": "closest",
          "mapbox": {
           "style": "light"
          },
          "paper_bgcolor": "white",
          "plot_bgcolor": "#E5ECF6",
          "polar": {
           "angularaxis": {
            "gridcolor": "white",
            "linecolor": "white",
            "ticks": ""
           },
           "bgcolor": "#E5ECF6",
           "radialaxis": {
            "gridcolor": "white",
            "linecolor": "white",
            "ticks": ""
           }
          },
          "scene": {
           "xaxis": {
            "backgroundcolor": "#E5ECF6",
            "gridcolor": "white",
            "gridwidth": 2,
            "linecolor": "white",
            "showbackground": true,
            "ticks": "",
            "zerolinecolor": "white"
           },
           "yaxis": {
            "backgroundcolor": "#E5ECF6",
            "gridcolor": "white",
            "gridwidth": 2,
            "linecolor": "white",
            "showbackground": true,
            "ticks": "",
            "zerolinecolor": "white"
           },
           "zaxis": {
            "backgroundcolor": "#E5ECF6",
            "gridcolor": "white",
            "gridwidth": 2,
            "linecolor": "white",
            "showbackground": true,
            "ticks": "",
            "zerolinecolor": "white"
           }
          },
          "shapedefaults": {
           "line": {
            "color": "#2a3f5f"
           }
          },
          "ternary": {
           "aaxis": {
            "gridcolor": "white",
            "linecolor": "white",
            "ticks": ""
           },
           "baxis": {
            "gridcolor": "white",
            "linecolor": "white",
            "ticks": ""
           },
           "bgcolor": "#E5ECF6",
           "caxis": {
            "gridcolor": "white",
            "linecolor": "white",
            "ticks": ""
           }
          },
          "title": {
           "x": 0.05
          },
          "xaxis": {
           "automargin": true,
           "gridcolor": "white",
           "linecolor": "white",
           "ticks": "",
           "title": {
            "standoff": 15
           },
           "zerolinecolor": "white",
           "zerolinewidth": 2
          },
          "yaxis": {
           "automargin": true,
           "gridcolor": "white",
           "linecolor": "white",
           "ticks": "",
           "title": {
            "standoff": 15
           },
           "zerolinecolor": "white",
           "zerolinewidth": 2
          }
         }
        },
        "title": {
         "text": "Optimization History Plot"
        },
        "xaxis": {
         "title": {
          "text": "Iteration"
         }
        },
        "yaxis": {
         "title": {
          "text": "objective_score"
         }
        }
       }
      }
     },
     "metadata": {},
     "output_type": "display_data"
    },
    {
     "data": {
      "text/plain": [
       "['flow_duration',\n",
       " 'Header_Length',\n",
       " 'Protocol_Type',\n",
       " 'Duration',\n",
       " 'Rate',\n",
       " 'Srate',\n",
       " 'Drate',\n",
       " 'fin_flag_number',\n",
       " 'syn_flag_number',\n",
       " 'rst_flag_number',\n",
       " 'psh_flag_number',\n",
       " 'ack_flag_number',\n",
       " 'ece_flag_number',\n",
       " 'ack_count',\n",
       " 'syn_count',\n",
       " 'fin_count',\n",
       " 'urg_count',\n",
       " 'HTTP',\n",
       " 'HTTPS',\n",
       " 'DNS',\n",
       " 'Telnet',\n",
       " 'SMTP',\n",
       " 'SSH',\n",
       " 'IRC',\n",
       " 'TCP',\n",
       " 'UDP',\n",
       " 'DHCP',\n",
       " 'ARP',\n",
       " 'ICMP',\n",
       " 'IPv',\n",
       " 'LLC',\n",
       " 'Min',\n",
       " 'Max',\n",
       " 'Std',\n",
       " 'Tot_size',\n",
       " 'IAT',\n",
       " 'Number',\n",
       " 'Radius',\n",
       " 'Covariance',\n",
       " 'Variance',\n",
       " 'Weight']"
      ]
     },
     "metadata": {},
     "output_type": "display_data"
    }
   ],
   "source": [
    "from zoofs import HarrisHawkOptimization\n",
    "\n",
    "def objective_function_topass_harris(model,X_train, y_train, X_valid, y_valid):      \n",
    "    model.fit(X_train,y_train)  \n",
    "    P=f1_score(y_valid,model.predict_proba(X_valid))\n",
    "    return -P\n",
    "\n",
    "# import an algorithm !  \n",
    "\n",
    "\n",
    "# create object of algorithm\n",
    "algo_object_haris=HarrisHawkOptimization(objective_function_topass,\n",
    "                                   n_iteration=10,\n",
    "                                   population_size=30,\n",
    "                                   minimize=True)\n",
    "\n",
    "# fit the algorithm\n",
    "algo_object_haris.fit(lgb_model,X_train, y_train, X_test, y_test,verbose=True)\n",
    "\n",
    "#plot your results\n",
    "algo_object_haris.plot_history()\n",
    "\n",
    "# extract the best  feature set\n",
    "algo_object_haris.best_feature_list "
   ]
  },
  {
   "cell_type": "code",
   "execution_count": null,
   "metadata": {},
   "outputs": [
    {
     "data": {
      "application/vnd.plotly.v1+json": {
       "config": {
        "plotlyServerURL": "https://plot.ly"
       },
       "data": [
        {
         "mode": "markers",
         "name": "objective_score",
         "type": "scatter",
         "x": [
          0,
          1,
          2,
          3,
          4,
          5,
          6,
          7,
          8,
          9
         ],
         "y": [
          -0.9522281639928698,
          -0.9568971669164347,
          -0.957161216621448,
          -0.957161216621448,
          -0.9568971669164347,
          -0.9570652950421489,
          -0.9570652950421489,
          -0.9566456485340743,
          -0.9567453655748831,
          -0.95680422675996
         ]
        },
        {
         "mode": "lines+markers",
         "name": "best_score",
         "type": "scatter",
         "x": [
          0,
          1,
          2,
          3,
          4,
          5,
          6,
          7,
          8,
          9
         ],
         "y": [
          -0.9522281639928698,
          -0.9568971669164347,
          -0.957161216621448,
          -0.957161216621448,
          -0.957161216621448,
          -0.957161216621448,
          -0.957161216621448,
          -0.957161216621448,
          -0.957161216621448,
          -0.957161216621448
         ]
        }
       ],
       "layout": {
        "template": {
         "data": {
          "bar": [
           {
            "error_x": {
             "color": "#2a3f5f"
            },
            "error_y": {
             "color": "#2a3f5f"
            },
            "marker": {
             "line": {
              "color": "#E5ECF6",
              "width": 0.5
             },
             "pattern": {
              "fillmode": "overlay",
              "size": 10,
              "solidity": 0.2
             }
            },
            "type": "bar"
           }
          ],
          "barpolar": [
           {
            "marker": {
             "line": {
              "color": "#E5ECF6",
              "width": 0.5
             },
             "pattern": {
              "fillmode": "overlay",
              "size": 10,
              "solidity": 0.2
             }
            },
            "type": "barpolar"
           }
          ],
          "carpet": [
           {
            "aaxis": {
             "endlinecolor": "#2a3f5f",
             "gridcolor": "white",
             "linecolor": "white",
             "minorgridcolor": "white",
             "startlinecolor": "#2a3f5f"
            },
            "baxis": {
             "endlinecolor": "#2a3f5f",
             "gridcolor": "white",
             "linecolor": "white",
             "minorgridcolor": "white",
             "startlinecolor": "#2a3f5f"
            },
            "type": "carpet"
           }
          ],
          "choropleth": [
           {
            "colorbar": {
             "outlinewidth": 0,
             "ticks": ""
            },
            "type": "choropleth"
           }
          ],
          "contour": [
           {
            "colorbar": {
             "outlinewidth": 0,
             "ticks": ""
            },
            "colorscale": [
             [
              0,
              "#0d0887"
             ],
             [
              0.1111111111111111,
              "#46039f"
             ],
             [
              0.2222222222222222,
              "#7201a8"
             ],
             [
              0.3333333333333333,
              "#9c179e"
             ],
             [
              0.4444444444444444,
              "#bd3786"
             ],
             [
              0.5555555555555556,
              "#d8576b"
             ],
             [
              0.6666666666666666,
              "#ed7953"
             ],
             [
              0.7777777777777778,
              "#fb9f3a"
             ],
             [
              0.8888888888888888,
              "#fdca26"
             ],
             [
              1,
              "#f0f921"
             ]
            ],
            "type": "contour"
           }
          ],
          "contourcarpet": [
           {
            "colorbar": {
             "outlinewidth": 0,
             "ticks": ""
            },
            "type": "contourcarpet"
           }
          ],
          "heatmap": [
           {
            "colorbar": {
             "outlinewidth": 0,
             "ticks": ""
            },
            "colorscale": [
             [
              0,
              "#0d0887"
             ],
             [
              0.1111111111111111,
              "#46039f"
             ],
             [
              0.2222222222222222,
              "#7201a8"
             ],
             [
              0.3333333333333333,
              "#9c179e"
             ],
             [
              0.4444444444444444,
              "#bd3786"
             ],
             [
              0.5555555555555556,
              "#d8576b"
             ],
             [
              0.6666666666666666,
              "#ed7953"
             ],
             [
              0.7777777777777778,
              "#fb9f3a"
             ],
             [
              0.8888888888888888,
              "#fdca26"
             ],
             [
              1,
              "#f0f921"
             ]
            ],
            "type": "heatmap"
           }
          ],
          "heatmapgl": [
           {
            "colorbar": {
             "outlinewidth": 0,
             "ticks": ""
            },
            "colorscale": [
             [
              0,
              "#0d0887"
             ],
             [
              0.1111111111111111,
              "#46039f"
             ],
             [
              0.2222222222222222,
              "#7201a8"
             ],
             [
              0.3333333333333333,
              "#9c179e"
             ],
             [
              0.4444444444444444,
              "#bd3786"
             ],
             [
              0.5555555555555556,
              "#d8576b"
             ],
             [
              0.6666666666666666,
              "#ed7953"
             ],
             [
              0.7777777777777778,
              "#fb9f3a"
             ],
             [
              0.8888888888888888,
              "#fdca26"
             ],
             [
              1,
              "#f0f921"
             ]
            ],
            "type": "heatmapgl"
           }
          ],
          "histogram": [
           {
            "marker": {
             "pattern": {
              "fillmode": "overlay",
              "size": 10,
              "solidity": 0.2
             }
            },
            "type": "histogram"
           }
          ],
          "histogram2d": [
           {
            "colorbar": {
             "outlinewidth": 0,
             "ticks": ""
            },
            "colorscale": [
             [
              0,
              "#0d0887"
             ],
             [
              0.1111111111111111,
              "#46039f"
             ],
             [
              0.2222222222222222,
              "#7201a8"
             ],
             [
              0.3333333333333333,
              "#9c179e"
             ],
             [
              0.4444444444444444,
              "#bd3786"
             ],
             [
              0.5555555555555556,
              "#d8576b"
             ],
             [
              0.6666666666666666,
              "#ed7953"
             ],
             [
              0.7777777777777778,
              "#fb9f3a"
             ],
             [
              0.8888888888888888,
              "#fdca26"
             ],
             [
              1,
              "#f0f921"
             ]
            ],
            "type": "histogram2d"
           }
          ],
          "histogram2dcontour": [
           {
            "colorbar": {
             "outlinewidth": 0,
             "ticks": ""
            },
            "colorscale": [
             [
              0,
              "#0d0887"
             ],
             [
              0.1111111111111111,
              "#46039f"
             ],
             [
              0.2222222222222222,
              "#7201a8"
             ],
             [
              0.3333333333333333,
              "#9c179e"
             ],
             [
              0.4444444444444444,
              "#bd3786"
             ],
             [
              0.5555555555555556,
              "#d8576b"
             ],
             [
              0.6666666666666666,
              "#ed7953"
             ],
             [
              0.7777777777777778,
              "#fb9f3a"
             ],
             [
              0.8888888888888888,
              "#fdca26"
             ],
             [
              1,
              "#f0f921"
             ]
            ],
            "type": "histogram2dcontour"
           }
          ],
          "mesh3d": [
           {
            "colorbar": {
             "outlinewidth": 0,
             "ticks": ""
            },
            "type": "mesh3d"
           }
          ],
          "parcoords": [
           {
            "line": {
             "colorbar": {
              "outlinewidth": 0,
              "ticks": ""
             }
            },
            "type": "parcoords"
           }
          ],
          "pie": [
           {
            "automargin": true,
            "type": "pie"
           }
          ],
          "scatter": [
           {
            "fillpattern": {
             "fillmode": "overlay",
             "size": 10,
             "solidity": 0.2
            },
            "type": "scatter"
           }
          ],
          "scatter3d": [
           {
            "line": {
             "colorbar": {
              "outlinewidth": 0,
              "ticks": ""
             }
            },
            "marker": {
             "colorbar": {
              "outlinewidth": 0,
              "ticks": ""
             }
            },
            "type": "scatter3d"
           }
          ],
          "scattercarpet": [
           {
            "marker": {
             "colorbar": {
              "outlinewidth": 0,
              "ticks": ""
             }
            },
            "type": "scattercarpet"
           }
          ],
          "scattergeo": [
           {
            "marker": {
             "colorbar": {
              "outlinewidth": 0,
              "ticks": ""
             }
            },
            "type": "scattergeo"
           }
          ],
          "scattergl": [
           {
            "marker": {
             "colorbar": {
              "outlinewidth": 0,
              "ticks": ""
             }
            },
            "type": "scattergl"
           }
          ],
          "scattermapbox": [
           {
            "marker": {
             "colorbar": {
              "outlinewidth": 0,
              "ticks": ""
             }
            },
            "type": "scattermapbox"
           }
          ],
          "scatterpolar": [
           {
            "marker": {
             "colorbar": {
              "outlinewidth": 0,
              "ticks": ""
             }
            },
            "type": "scatterpolar"
           }
          ],
          "scatterpolargl": [
           {
            "marker": {
             "colorbar": {
              "outlinewidth": 0,
              "ticks": ""
             }
            },
            "type": "scatterpolargl"
           }
          ],
          "scatterternary": [
           {
            "marker": {
             "colorbar": {
              "outlinewidth": 0,
              "ticks": ""
             }
            },
            "type": "scatterternary"
           }
          ],
          "surface": [
           {
            "colorbar": {
             "outlinewidth": 0,
             "ticks": ""
            },
            "colorscale": [
             [
              0,
              "#0d0887"
             ],
             [
              0.1111111111111111,
              "#46039f"
             ],
             [
              0.2222222222222222,
              "#7201a8"
             ],
             [
              0.3333333333333333,
              "#9c179e"
             ],
             [
              0.4444444444444444,
              "#bd3786"
             ],
             [
              0.5555555555555556,
              "#d8576b"
             ],
             [
              0.6666666666666666,
              "#ed7953"
             ],
             [
              0.7777777777777778,
              "#fb9f3a"
             ],
             [
              0.8888888888888888,
              "#fdca26"
             ],
             [
              1,
              "#f0f921"
             ]
            ],
            "type": "surface"
           }
          ],
          "table": [
           {
            "cells": {
             "fill": {
              "color": "#EBF0F8"
             },
             "line": {
              "color": "white"
             }
            },
            "header": {
             "fill": {
              "color": "#C8D4E3"
             },
             "line": {
              "color": "white"
             }
            },
            "type": "table"
           }
          ]
         },
         "layout": {
          "annotationdefaults": {
           "arrowcolor": "#2a3f5f",
           "arrowhead": 0,
           "arrowwidth": 1
          },
          "autotypenumbers": "strict",
          "coloraxis": {
           "colorbar": {
            "outlinewidth": 0,
            "ticks": ""
           }
          },
          "colorscale": {
           "diverging": [
            [
             0,
             "#8e0152"
            ],
            [
             0.1,
             "#c51b7d"
            ],
            [
             0.2,
             "#de77ae"
            ],
            [
             0.3,
             "#f1b6da"
            ],
            [
             0.4,
             "#fde0ef"
            ],
            [
             0.5,
             "#f7f7f7"
            ],
            [
             0.6,
             "#e6f5d0"
            ],
            [
             0.7,
             "#b8e186"
            ],
            [
             0.8,
             "#7fbc41"
            ],
            [
             0.9,
             "#4d9221"
            ],
            [
             1,
             "#276419"
            ]
           ],
           "sequential": [
            [
             0,
             "#0d0887"
            ],
            [
             0.1111111111111111,
             "#46039f"
            ],
            [
             0.2222222222222222,
             "#7201a8"
            ],
            [
             0.3333333333333333,
             "#9c179e"
            ],
            [
             0.4444444444444444,
             "#bd3786"
            ],
            [
             0.5555555555555556,
             "#d8576b"
            ],
            [
             0.6666666666666666,
             "#ed7953"
            ],
            [
             0.7777777777777778,
             "#fb9f3a"
            ],
            [
             0.8888888888888888,
             "#fdca26"
            ],
            [
             1,
             "#f0f921"
            ]
           ],
           "sequentialminus": [
            [
             0,
             "#0d0887"
            ],
            [
             0.1111111111111111,
             "#46039f"
            ],
            [
             0.2222222222222222,
             "#7201a8"
            ],
            [
             0.3333333333333333,
             "#9c179e"
            ],
            [
             0.4444444444444444,
             "#bd3786"
            ],
            [
             0.5555555555555556,
             "#d8576b"
            ],
            [
             0.6666666666666666,
             "#ed7953"
            ],
            [
             0.7777777777777778,
             "#fb9f3a"
            ],
            [
             0.8888888888888888,
             "#fdca26"
            ],
            [
             1,
             "#f0f921"
            ]
           ]
          },
          "colorway": [
           "#636efa",
           "#EF553B",
           "#00cc96",
           "#ab63fa",
           "#FFA15A",
           "#19d3f3",
           "#FF6692",
           "#B6E880",
           "#FF97FF",
           "#FECB52"
          ],
          "font": {
           "color": "#2a3f5f"
          },
          "geo": {
           "bgcolor": "white",
           "lakecolor": "white",
           "landcolor": "#E5ECF6",
           "showlakes": true,
           "showland": true,
           "subunitcolor": "white"
          },
          "hoverlabel": {
           "align": "left"
          },
          "hovermode": "closest",
          "mapbox": {
           "style": "light"
          },
          "paper_bgcolor": "white",
          "plot_bgcolor": "#E5ECF6",
          "polar": {
           "angularaxis": {
            "gridcolor": "white",
            "linecolor": "white",
            "ticks": ""
           },
           "bgcolor": "#E5ECF6",
           "radialaxis": {
            "gridcolor": "white",
            "linecolor": "white",
            "ticks": ""
           }
          },
          "scene": {
           "xaxis": {
            "backgroundcolor": "#E5ECF6",
            "gridcolor": "white",
            "gridwidth": 2,
            "linecolor": "white",
            "showbackground": true,
            "ticks": "",
            "zerolinecolor": "white"
           },
           "yaxis": {
            "backgroundcolor": "#E5ECF6",
            "gridcolor": "white",
            "gridwidth": 2,
            "linecolor": "white",
            "showbackground": true,
            "ticks": "",
            "zerolinecolor": "white"
           },
           "zaxis": {
            "backgroundcolor": "#E5ECF6",
            "gridcolor": "white",
            "gridwidth": 2,
            "linecolor": "white",
            "showbackground": true,
            "ticks": "",
            "zerolinecolor": "white"
           }
          },
          "shapedefaults": {
           "line": {
            "color": "#2a3f5f"
           }
          },
          "ternary": {
           "aaxis": {
            "gridcolor": "white",
            "linecolor": "white",
            "ticks": ""
           },
           "baxis": {
            "gridcolor": "white",
            "linecolor": "white",
            "ticks": ""
           },
           "bgcolor": "#E5ECF6",
           "caxis": {
            "gridcolor": "white",
            "linecolor": "white",
            "ticks": ""
           }
          },
          "title": {
           "x": 0.05
          },
          "xaxis": {
           "automargin": true,
           "gridcolor": "white",
           "linecolor": "white",
           "ticks": "",
           "title": {
            "standoff": 15
           },
           "zerolinecolor": "white",
           "zerolinewidth": 2
          },
          "yaxis": {
           "automargin": true,
           "gridcolor": "white",
           "linecolor": "white",
           "ticks": "",
           "title": {
            "standoff": 15
           },
           "zerolinecolor": "white",
           "zerolinewidth": 2
          }
         }
        },
        "title": {
         "text": "Optimization History Plot"
        },
        "xaxis": {
         "title": {
          "text": "Iteration"
         }
        },
        "yaxis": {
         "title": {
          "text": "objective_score"
         }
        }
       }
      }
     },
     "metadata": {},
     "output_type": "display_data"
    }
   ],
   "source": [
    "algo_object_haris.plot_history()"
   ]
  },
  {
   "cell_type": "code",
   "execution_count": null,
   "metadata": {},
   "outputs": [
    {
     "data": {
      "text/plain": [
       "['flow_duration',\n",
       " 'Header_Length',\n",
       " 'Protocol_Type',\n",
       " 'Duration',\n",
       " 'Rate',\n",
       " 'Srate',\n",
       " 'Drate',\n",
       " 'fin_flag_number',\n",
       " 'syn_flag_number',\n",
       " 'rst_flag_number',\n",
       " 'psh_flag_number',\n",
       " 'ack_flag_number',\n",
       " 'ece_flag_number',\n",
       " 'ack_count',\n",
       " 'syn_count',\n",
       " 'fin_count',\n",
       " 'urg_count',\n",
       " 'HTTP',\n",
       " 'HTTPS',\n",
       " 'DNS',\n",
       " 'Telnet',\n",
       " 'SMTP',\n",
       " 'SSH',\n",
       " 'IRC',\n",
       " 'TCP',\n",
       " 'UDP',\n",
       " 'DHCP',\n",
       " 'ARP',\n",
       " 'ICMP',\n",
       " 'IPv',\n",
       " 'LLC',\n",
       " 'Min',\n",
       " 'Max',\n",
       " 'Std',\n",
       " 'Tot_size',\n",
       " 'IAT',\n",
       " 'Number',\n",
       " 'Radius',\n",
       " 'Covariance',\n",
       " 'Variance',\n",
       " 'Weight']"
      ]
     },
     "metadata": {},
     "output_type": "display_data"
    }
   ],
   "source": [
    "algo_object_haris.best_feature_list "
   ]
  },
  {
   "cell_type": "code",
   "execution_count": null,
   "metadata": {},
   "outputs": [],
   "source": [
    "feat_hawk = algo_object_haris.best_feature_list"
   ]
  },
  {
   "cell_type": "code",
   "execution_count": null,
   "metadata": {},
   "outputs": [
    {
     "name": "stdout",
     "output_type": "stream",
     "text": [
      "[LightGBM] [Info] Number of positive: 55848, number of negative: 64152\n",
      "[LightGBM] [Info] Auto-choosing row-wise multi-threading, the overhead of testing was 0.003136 seconds.\n",
      "You can set `force_row_wise=true` to remove the overhead.\n",
      "And if memory is not enough, you can set `force_col_wise=true`.\n",
      "[LightGBM] [Info] Total Bins 4192\n",
      "[LightGBM] [Info] Number of data points in the train set: 120000, number of used features: 35\n",
      "[LightGBM] [Info] [binary:BoostFromScore]: pavg=0.465400 -> initscore=-0.138622\n",
      "[LightGBM] [Info] Start training from score -0.138622\n",
      "LightGBM Model accuracy score: 0.9600\n"
     ]
    }
   ],
   "source": [
    "clf = lgb.LGBMClassifier()\n",
    "clf.fit(X_train[feat_hawk], y_train)\n",
    "y_pred=clf.predict(X_test[feat_hawk])\n",
    "\n",
    "accuracy=accuracy_score(y_pred, y_test)\n",
    "print('LightGBM Model accuracy score: {0:0.4f}'.format(accuracy_score(y_test, y_pred)))"
   ]
  },
  {
   "cell_type": "code",
   "execution_count": null,
   "metadata": {},
   "outputs": [],
   "source": []
  }
 ],
 "metadata": {
  "kernelspec": {
   "display_name": "Python 3",
   "language": "python",
   "name": "python3"
  },
  "language_info": {
   "codemirror_mode": {
    "name": "ipython",
    "version": 3
   },
   "file_extension": ".py",
   "mimetype": "text/x-python",
   "name": "python",
   "nbconvert_exporter": "python",
   "pygments_lexer": "ipython3",
   "version": "3.12.5"
  }
 },
 "nbformat": 4,
 "nbformat_minor": 2
}
