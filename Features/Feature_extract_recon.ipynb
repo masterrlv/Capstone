{
 "cells": [
  {
   "cell_type": "code",
   "execution_count": 1,
   "metadata": {},
   "outputs": [],
   "source": [
    "import pandas as pd\n",
    "from sklearn.model_selection import train_test_split\n",
    "from zoofs import ParticleSwarmOptimization\n",
    "import lightgbm as lgb\n",
    "from sklearn.metrics import log_loss, accuracy_score, classification_report, f1_score"
   ]
  },
  {
   "cell_type": "code",
   "execution_count": 12,
   "metadata": {},
   "outputs": [],
   "source": [
    "df  = pd.read_csv(r'F:\\Projects\\Cap_github\\Capstone\\Data\\recon.csv')"
   ]
  },
  {
   "cell_type": "code",
   "execution_count": 13,
   "metadata": {},
   "outputs": [],
   "source": [
    "df.columns = df.columns.str.replace(' ', '_')"
   ]
  },
  {
   "cell_type": "code",
   "execution_count": 14,
   "metadata": {},
   "outputs": [],
   "source": [
    "df['label'] = df['label'].apply(lambda x: 0 if 'Recon' in str(x) else 1)  # Use -1 for unmatched labels if needed\n"
   ]
  },
  {
   "cell_type": "code",
   "execution_count": 15,
   "metadata": {},
   "outputs": [
    {
     "data": {
      "text/plain": [
       "array([1, 0], dtype=int64)"
      ]
     },
     "execution_count": 15,
     "metadata": {},
     "output_type": "execute_result"
    }
   ],
   "source": [
    "df.label.unique()"
   ]
  },
  {
   "cell_type": "code",
   "execution_count": 16,
   "metadata": {},
   "outputs": [],
   "source": [
    "X = df.drop(['label'],axis=1)\n",
    "y = df['label']\n",
    "\n",
    "X_train, X_test, y_train, y_test = train_test_split(X,y, train_size = 0.8, test_size = 0.2, shuffle=True,random_state = 0)"
   ]
  },
  {
   "cell_type": "code",
   "execution_count": null,
   "metadata": {},
   "outputs": [],
   "source": [
    "def objective_function_topass(model,X_train, y_train, X_valid, y_valid):      \n",
    "    model.fit(X_train,y_train)  \n",
    "    P = log_loss(y_valid,model.predict_proba(X_valid))\n",
    "    return P"
   ]
  },
  {
   "cell_type": "code",
   "execution_count": 7,
   "metadata": {},
   "outputs": [
    {
     "name": "stderr",
     "output_type": "stream",
     "text": [
      "\u001b[32m [ 2024-11-25 17:20:59,575 ] \u001b[0mFinished iteration #0 with objective value -0.9427277847257911. Current best value is -0.9427277847257911 \u001b[0m\n",
      "\u001b[32m [ 2024-11-25 17:21:15,156 ] \u001b[0mFinished iteration #1 with objective value -0.9453643861753509. Current best value is -0.9453643861753509 \u001b[0m\n",
      "\u001b[32m [ 2024-11-25 17:21:26,551 ] \u001b[0mFinished iteration #2 with objective value -0.9454463443312853. Current best value is -0.9454463443312853 \u001b[0m\n",
      "\u001b[32m [ 2024-11-25 17:21:57,642 ] \u001b[0mFinished iteration #3 with objective value -0.9463276650736833. Current best value is -0.9463276650736833 \u001b[0m\n",
      "\u001b[32m [ 2024-11-25 17:22:13,554 ] \u001b[0mFinished iteration #4 with objective value -0.9465185971909343. Current best value is -0.9465185971909343 \u001b[0m\n",
      "\u001b[32m [ 2024-11-25 17:22:48,479 ] \u001b[0mFinished iteration #5 with objective value -0.9467337799358869. Current best value is -0.9467337799358869 \u001b[0m\n",
      "\u001b[32m [ 2024-11-25 17:23:07,202 ] \u001b[0mFinished iteration #6 with objective value -0.9470564990902958. Current best value is -0.9470564990902958 \u001b[0m\n",
      "\u001b[32m [ 2024-11-25 17:23:15,266 ] \u001b[0mFinished iteration #7 with objective value -0.9466336400751406. Current best value is -0.9470564990902958 \u001b[0m\n",
      "\u001b[32m [ 2024-11-25 17:23:23,389 ] \u001b[0mFinished iteration #8 with objective value -0.9457886024930812. Current best value is -0.9470564990902958 \u001b[0m\n",
      "\u001b[32m [ 2024-11-25 17:23:31,327 ] \u001b[0mFinished iteration #9 with objective value -0.9492229146158528. Current best value is -0.9492229146158528 \u001b[0m\n",
      "\u001b[32m [ 2024-11-25 17:23:38,213 ] \u001b[0mFinished iteration #10 with objective value -0.9470782101219491. Current best value is -0.9492229146158528 \u001b[0m\n",
      "\u001b[32m [ 2024-11-25 17:23:46,232 ] \u001b[0mFinished iteration #11 with objective value -0.9476600327887492. Current best value is -0.9492229146158528 \u001b[0m\n",
      "\u001b[32m [ 2024-11-25 17:23:54,609 ] \u001b[0mFinished iteration #12 with objective value -0.9480903387635025. Current best value is -0.9492229146158528 \u001b[0m\n",
      "\u001b[32m [ 2024-11-25 17:24:02,947 ] \u001b[0mFinished iteration #13 with objective value -0.9480447766476318. Current best value is -0.9492229146158528 \u001b[0m\n",
      "\u001b[32m [ 2024-11-25 17:24:11,150 ] \u001b[0mFinished iteration #14 with objective value -0.9477218977472268. Current best value is -0.9492229146158528 \u001b[0m\n"
     ]
    },
    {
     "data": {
      "text/plain": [
       "['flow_duration',\n",
       " 'Header_Length',\n",
       " 'Duration',\n",
       " 'Rate',\n",
       " 'Drate',\n",
       " 'psh_flag_number',\n",
       " 'ack_count',\n",
       " 'syn_count',\n",
       " 'fin_count',\n",
       " 'urg_count',\n",
       " 'HTTP',\n",
       " 'HTTPS',\n",
       " 'Telnet',\n",
       " 'SSH',\n",
       " 'TCP',\n",
       " 'ARP',\n",
       " 'Tot_sum',\n",
       " 'Min',\n",
       " 'AVG',\n",
       " 'Std',\n",
       " 'Tot_size',\n",
       " 'IAT',\n",
       " 'Radius',\n",
       " 'Covariance',\n",
       " 'Variance']"
      ]
     },
     "execution_count": 7,
     "metadata": {},
     "output_type": "execute_result"
    }
   ],
   "source": [
    "from xgboost import XGBClassifier\n",
    "from sklearn.metrics import f1_score\n",
    "\n",
    "def objective_function_topass(model, X_train, y_train, X_valid, y_valid):      \n",
    "    \"\"\"\n",
    "    Objective function for optimization. Trains the model and evaluates F1 score.\n",
    "    Returns the negative F1 score to maximize it.\n",
    "    \"\"\"\n",
    "    model.fit(X_train, y_train)\n",
    "    y_pred = model.predict(X_valid)  \n",
    "    P = f1_score(y_valid, y_pred, average='weighted')  # Weighted F1 score\n",
    "    return -P  # Negative F1 score to maximize it\n",
    "\n",
    "# Assuming ParticleSwarmOptimization is implemented and imported\n",
    "algo_object = ParticleSwarmOptimization(\n",
    "    objective_function_topass,\n",
    "    n_iteration=15,\n",
    "    population_size=30,\n",
    "    minimize=True\n",
    ")\n",
    "\n",
    "# Replace LightGBM model with XGBoost\n",
    "xgb_model = XGBClassifier(\n",
    "    eval_metric=\"logloss\"  # Evaluation metric for XGBoost\n",
    ")\n",
    "\n",
    "# Fit the optimization algorithm\n",
    "algo_object.fit(xgb_model, X_train, y_train, X_test, y_test, verbose=True)\n",
    "\n",
    "# Plot your results (if your ParticleSwarmOptimization class supports it)\n",
    "# algo_object.plot()\n"
   ]
  },
  {
   "cell_type": "code",
   "execution_count": 8,
   "metadata": {},
   "outputs": [
    {
     "name": "stdout",
     "output_type": "stream",
     "text": [
      "[LightGBM] [Info] Number of positive: 13893, number of negative: 14107\n",
      "[LightGBM] [Info] Auto-choosing col-wise multi-threading, the overhead of testing was 0.006343 seconds.\n",
      "You can set `force_col_wise=true` to remove the overhead.\n",
      "[LightGBM] [Info] Total Bins 4876\n",
      "[LightGBM] [Info] Number of data points in the train set: 28000, number of used features: 38\n",
      "[LightGBM] [Info] [binary:BoostFromScore]: pavg=0.496179 -> initscore=-0.015286\n",
      "[LightGBM] [Info] Start training from score -0.015286\n",
      "[LightGBM] [Info] Number of positive: 13893, number of negative: 14107\n",
      "[LightGBM] [Info] Auto-choosing col-wise multi-threading, the overhead of testing was 0.004878 seconds.\n",
      "You can set `force_col_wise=true` to remove the overhead.\n",
      "[LightGBM] [Info] Total Bins 2400\n",
      "[LightGBM] [Info] Number of data points in the train set: 28000, number of used features: 17\n",
      "[LightGBM] [Info] [binary:BoostFromScore]: pavg=0.496179 -> initscore=-0.015286\n",
      "[LightGBM] [Info] Start training from score -0.015286\n",
      "[LightGBM] [Info] Number of positive: 13893, number of negative: 14107\n",
      "[LightGBM] [Info] Auto-choosing col-wise multi-threading, the overhead of testing was 0.003707 seconds.\n",
      "You can set `force_col_wise=true` to remove the overhead.\n",
      "[LightGBM] [Info] Total Bins 2084\n",
      "[LightGBM] [Info] Number of data points in the train set: 28000, number of used features: 14\n",
      "[LightGBM] [Info] [binary:BoostFromScore]: pavg=0.496179 -> initscore=-0.015286\n",
      "[LightGBM] [Info] Start training from score -0.015286\n",
      "[LightGBM] [Info] Number of positive: 13893, number of negative: 14107\n",
      "[LightGBM] [Info] Auto-choosing col-wise multi-threading, the overhead of testing was 0.005044 seconds.\n",
      "You can set `force_col_wise=true` to remove the overhead.\n",
      "[LightGBM] [Info] Total Bins 2520\n",
      "[LightGBM] [Info] Number of data points in the train set: 28000, number of used features: 20\n",
      "[LightGBM] [Info] [binary:BoostFromScore]: pavg=0.496179 -> initscore=-0.015286\n",
      "[LightGBM] [Info] Start training from score -0.015286\n",
      "[LightGBM] [Info] Number of positive: 13893, number of negative: 14107\n",
      "[LightGBM] [Info] Auto-choosing col-wise multi-threading, the overhead of testing was 0.003920 seconds.\n",
      "You can set `force_col_wise=true` to remove the overhead.\n",
      "[LightGBM] [Info] Total Bins 1955\n",
      "[LightGBM] [Info] Number of data points in the train set: 28000, number of used features: 21\n",
      "[LightGBM] [Info] [binary:BoostFromScore]: pavg=0.496179 -> initscore=-0.015286\n",
      "[LightGBM] [Info] Start training from score -0.015286\n",
      "[LightGBM] [Info] Number of positive: 13893, number of negative: 14107\n",
      "[LightGBM] [Info] Auto-choosing col-wise multi-threading, the overhead of testing was 0.004198 seconds.\n",
      "You can set `force_col_wise=true` to remove the overhead.\n",
      "[LightGBM] [Info] Total Bins 2746\n",
      "[LightGBM] [Info] Number of data points in the train set: 28000, number of used features: 19\n",
      "[LightGBM] [Info] [binary:BoostFromScore]: pavg=0.496179 -> initscore=-0.015286\n",
      "[LightGBM] [Info] Start training from score -0.015286\n",
      "[LightGBM] [Info] Number of positive: 13893, number of negative: 14107\n",
      "[LightGBM] [Info] Auto-choosing col-wise multi-threading, the overhead of testing was 0.004263 seconds.\n",
      "You can set `force_col_wise=true` to remove the overhead.\n",
      "[LightGBM] [Info] Total Bins 2567\n",
      "[LightGBM] [Info] Number of data points in the train set: 28000, number of used features: 15\n",
      "[LightGBM] [Info] [binary:BoostFromScore]: pavg=0.496179 -> initscore=-0.015286\n",
      "[LightGBM] [Info] Start training from score -0.015286\n",
      "[LightGBM] [Info] Number of positive: 13893, number of negative: 14107\n",
      "[LightGBM] [Info] Auto-choosing col-wise multi-threading, the overhead of testing was 0.004728 seconds.\n",
      "You can set `force_col_wise=true` to remove the overhead.\n",
      "[LightGBM] [Info] Total Bins 3091\n",
      "[LightGBM] [Info] Number of data points in the train set: 28000, number of used features: 25\n",
      "[LightGBM] [Info] [binary:BoostFromScore]: pavg=0.496179 -> initscore=-0.015286\n",
      "[LightGBM] [Info] Start training from score -0.015286\n",
      "[LightGBM] [Info] Number of positive: 13893, number of negative: 14107\n",
      "[LightGBM] [Info] Auto-choosing col-wise multi-threading, the overhead of testing was 0.004986 seconds.\n",
      "You can set `force_col_wise=true` to remove the overhead.\n",
      "[LightGBM] [Info] Total Bins 2449\n",
      "[LightGBM] [Info] Number of data points in the train set: 28000, number of used features: 21\n",
      "[LightGBM] [Info] [binary:BoostFromScore]: pavg=0.496179 -> initscore=-0.015286\n",
      "[LightGBM] [Info] Start training from score -0.015286\n",
      "[LightGBM] [Info] Number of positive: 13893, number of negative: 14107\n",
      "[LightGBM] [Info] Auto-choosing col-wise multi-threading, the overhead of testing was 0.003749 seconds.\n",
      "You can set `force_col_wise=true` to remove the overhead.\n",
      "[LightGBM] [Info] Total Bins 2500\n",
      "[LightGBM] [Info] Number of data points in the train set: 28000, number of used features: 18\n",
      "[LightGBM] [Info] [binary:BoostFromScore]: pavg=0.496179 -> initscore=-0.015286\n",
      "[LightGBM] [Info] Start training from score -0.015286\n",
      "[LightGBM] [Info] Number of positive: 13893, number of negative: 14107\n",
      "[LightGBM] [Info] Auto-choosing col-wise multi-threading, the overhead of testing was 0.004952 seconds.\n",
      "You can set `force_col_wise=true` to remove the overhead.\n",
      "[LightGBM] [Info] Total Bins 3138\n",
      "[LightGBM] [Info] Number of data points in the train set: 28000, number of used features: 22\n",
      "[LightGBM] [Info] [binary:BoostFromScore]: pavg=0.496179 -> initscore=-0.015286\n",
      "[LightGBM] [Info] Start training from score -0.015286\n",
      "[LightGBM] [Info] Number of positive: 13893, number of negative: 14107\n",
      "[LightGBM] [Info] Auto-choosing col-wise multi-threading, the overhead of testing was 0.001478 seconds.\n",
      "You can set `force_col_wise=true` to remove the overhead.\n",
      "[LightGBM] [Info] Total Bins 2920\n",
      "[LightGBM] [Info] Number of data points in the train set: 28000, number of used features: 17\n",
      "[LightGBM] [Info] [binary:BoostFromScore]: pavg=0.496179 -> initscore=-0.015286\n",
      "[LightGBM] [Info] Start training from score -0.015286\n",
      "[LightGBM] [Info] Number of positive: 13893, number of negative: 14107\n",
      "[LightGBM] [Info] Auto-choosing col-wise multi-threading, the overhead of testing was 0.004077 seconds.\n",
      "You can set `force_col_wise=true` to remove the overhead.\n",
      "[LightGBM] [Info] Total Bins 2315\n",
      "[LightGBM] [Info] Number of data points in the train set: 28000, number of used features: 16\n",
      "[LightGBM] [Info] [binary:BoostFromScore]: pavg=0.496179 -> initscore=-0.015286\n",
      "[LightGBM] [Info] Start training from score -0.015286\n",
      "[LightGBM] [Info] Number of positive: 13893, number of negative: 14107\n",
      "[LightGBM] [Info] Auto-choosing col-wise multi-threading, the overhead of testing was 0.004182 seconds.\n",
      "You can set `force_col_wise=true` to remove the overhead.\n",
      "[LightGBM] [Info] Total Bins 2573\n",
      "[LightGBM] [Info] Number of data points in the train set: 28000, number of used features: 19\n",
      "[LightGBM] [Info] [binary:BoostFromScore]: pavg=0.496179 -> initscore=-0.015286\n",
      "[LightGBM] [Info] Start training from score -0.015286\n",
      "[LightGBM] [Info] Number of positive: 13893, number of negative: 14107\n",
      "[LightGBM] [Info] Auto-choosing col-wise multi-threading, the overhead of testing was 0.005030 seconds.\n",
      "You can set `force_col_wise=true` to remove the overhead.\n",
      "[LightGBM] [Info] Total Bins 2922\n",
      "[LightGBM] [Info] Number of data points in the train set: 28000, number of used features: 25\n",
      "[LightGBM] [Info] [binary:BoostFromScore]: pavg=0.496179 -> initscore=-0.015286\n",
      "[LightGBM] [Info] Start training from score -0.015286\n",
      "[LightGBM] [Info] Number of positive: 13893, number of negative: 14107\n",
      "[LightGBM] [Info] Auto-choosing col-wise multi-threading, the overhead of testing was 0.003530 seconds.\n",
      "You can set `force_col_wise=true` to remove the overhead.\n",
      "[LightGBM] [Info] Total Bins 2013\n",
      "[LightGBM] [Info] Number of data points in the train set: 28000, number of used features: 17\n",
      "[LightGBM] [Info] [binary:BoostFromScore]: pavg=0.496179 -> initscore=-0.015286\n",
      "[LightGBM] [Info] Start training from score -0.015286\n",
      "[LightGBM] [Info] Number of positive: 13893, number of negative: 14107\n",
      "[LightGBM] [Info] Auto-choosing col-wise multi-threading, the overhead of testing was 0.004559 seconds.\n",
      "You can set `force_col_wise=true` to remove the overhead.\n",
      "[LightGBM] [Info] Total Bins 2109\n",
      "[LightGBM] [Info] Number of data points in the train set: 28000, number of used features: 17\n",
      "[LightGBM] [Info] [binary:BoostFromScore]: pavg=0.496179 -> initscore=-0.015286\n",
      "[LightGBM] [Info] Start training from score -0.015286\n",
      "[LightGBM] [Info] Number of positive: 13893, number of negative: 14107\n",
      "[LightGBM] [Info] Auto-choosing col-wise multi-threading, the overhead of testing was 0.004329 seconds.\n",
      "You can set `force_col_wise=true` to remove the overhead.\n",
      "[LightGBM] [Info] Total Bins 2435\n",
      "[LightGBM] [Info] Number of data points in the train set: 28000, number of used features: 21\n",
      "[LightGBM] [Info] [binary:BoostFromScore]: pavg=0.496179 -> initscore=-0.015286\n",
      "[LightGBM] [Info] Start training from score -0.015286\n",
      "[LightGBM] [Info] Number of positive: 13893, number of negative: 14107\n",
      "[LightGBM] [Info] Auto-choosing col-wise multi-threading, the overhead of testing was 0.001190 seconds.\n",
      "You can set `force_col_wise=true` to remove the overhead.\n",
      "[LightGBM] [Info] Total Bins 2409\n",
      "[LightGBM] [Info] Number of data points in the train set: 28000, number of used features: 16\n",
      "[LightGBM] [Info] [binary:BoostFromScore]: pavg=0.496179 -> initscore=-0.015286\n",
      "[LightGBM] [Info] Start training from score -0.015286\n",
      "[LightGBM] [Info] Number of positive: 13893, number of negative: 14107\n",
      "[LightGBM] [Info] Auto-choosing col-wise multi-threading, the overhead of testing was 0.004966 seconds.\n",
      "You can set `force_col_wise=true` to remove the overhead.\n",
      "[LightGBM] [Info] Total Bins 3330\n",
      "[LightGBM] [Info] Number of data points in the train set: 28000, number of used features: 25\n",
      "[LightGBM] [Info] [binary:BoostFromScore]: pavg=0.496179 -> initscore=-0.015286\n",
      "[LightGBM] [Info] Start training from score -0.015286\n",
      "[LightGBM] [Info] Number of positive: 13893, number of negative: 14107\n",
      "[LightGBM] [Info] Auto-choosing row-wise multi-threading, the overhead of testing was 0.001347 seconds.\n",
      "You can set `force_row_wise=true` to remove the overhead.\n",
      "And if memory is not enough, you can set `force_col_wise=true`.\n",
      "[LightGBM] [Info] Total Bins 1793\n",
      "[LightGBM] [Info] Number of data points in the train set: 28000, number of used features: 17\n",
      "[LightGBM] [Info] [binary:BoostFromScore]: pavg=0.496179 -> initscore=-0.015286\n",
      "[LightGBM] [Info] Start training from score -0.015286\n",
      "[LightGBM] [Info] Number of positive: 13893, number of negative: 14107\n",
      "[LightGBM] [Info] Auto-choosing col-wise multi-threading, the overhead of testing was 0.005580 seconds.\n",
      "You can set `force_col_wise=true` to remove the overhead.\n",
      "[LightGBM] [Info] Total Bins 2877\n",
      "[LightGBM] [Info] Number of data points in the train set: 28000, number of used features: 20\n",
      "[LightGBM] [Info] [binary:BoostFromScore]: pavg=0.496179 -> initscore=-0.015286\n",
      "[LightGBM] [Info] Start training from score -0.015286\n",
      "[LightGBM] [Info] Number of positive: 13893, number of negative: 14107\n",
      "[LightGBM] [Info] Auto-choosing col-wise multi-threading, the overhead of testing was 0.002844 seconds.\n",
      "You can set `force_col_wise=true` to remove the overhead.\n",
      "[LightGBM] [Info] Total Bins 1643\n",
      "[LightGBM] [Info] Number of data points in the train set: 28000, number of used features: 12\n",
      "[LightGBM] [Info] [binary:BoostFromScore]: pavg=0.496179 -> initscore=-0.015286\n",
      "[LightGBM] [Info] Start training from score -0.015286\n",
      "[LightGBM] [Info] Number of positive: 13893, number of negative: 14107\n",
      "[LightGBM] [Info] Auto-choosing col-wise multi-threading, the overhead of testing was 0.001443 seconds.\n",
      "You can set `force_col_wise=true` to remove the overhead.\n",
      "[LightGBM] [Info] Total Bins 3515\n",
      "[LightGBM] [Info] Number of data points in the train set: 28000, number of used features: 24\n",
      "[LightGBM] [Info] [binary:BoostFromScore]: pavg=0.496179 -> initscore=-0.015286\n",
      "[LightGBM] [Info] Start training from score -0.015286\n",
      "[LightGBM] [Info] Number of positive: 13893, number of negative: 14107\n",
      "[LightGBM] [Info] Auto-choosing col-wise multi-threading, the overhead of testing was 0.003468 seconds.\n",
      "You can set `force_col_wise=true` to remove the overhead.\n",
      "[LightGBM] [Info] Total Bins 2157\n",
      "[LightGBM] [Info] Number of data points in the train set: 28000, number of used features: 16\n",
      "[LightGBM] [Info] [binary:BoostFromScore]: pavg=0.496179 -> initscore=-0.015286\n",
      "[LightGBM] [Info] Start training from score -0.015286\n",
      "[LightGBM] [Info] Number of positive: 13893, number of negative: 14107\n",
      "[LightGBM] [Info] Auto-choosing col-wise multi-threading, the overhead of testing was 0.004576 seconds.\n",
      "You can set `force_col_wise=true` to remove the overhead.\n",
      "[LightGBM] [Info] Total Bins 2874\n",
      "[LightGBM] [Info] Number of data points in the train set: 28000, number of used features: 20\n",
      "[LightGBM] [Info] [binary:BoostFromScore]: pavg=0.496179 -> initscore=-0.015286\n",
      "[LightGBM] [Info] Start training from score -0.015286\n",
      "[LightGBM] [Info] Number of positive: 13893, number of negative: 14107\n",
      "[LightGBM] [Info] Auto-choosing col-wise multi-threading, the overhead of testing was 0.004502 seconds.\n",
      "You can set `force_col_wise=true` to remove the overhead.\n",
      "[LightGBM] [Info] Total Bins 2918\n",
      "[LightGBM] [Info] Number of data points in the train set: 28000, number of used features: 23\n",
      "[LightGBM] [Info] [binary:BoostFromScore]: pavg=0.496179 -> initscore=-0.015286\n",
      "[LightGBM] [Info] Start training from score -0.015286\n",
      "[LightGBM] [Info] Number of positive: 13893, number of negative: 14107\n",
      "[LightGBM] [Info] Auto-choosing col-wise multi-threading, the overhead of testing was 0.004462 seconds.\n",
      "You can set `force_col_wise=true` to remove the overhead.\n",
      "[LightGBM] [Info] Total Bins 2158\n",
      "[LightGBM] [Info] Number of data points in the train set: 28000, number of used features: 15\n",
      "[LightGBM] [Info] [binary:BoostFromScore]: pavg=0.496179 -> initscore=-0.015286\n",
      "[LightGBM] [Info] Start training from score -0.015286\n",
      "[LightGBM] [Info] Number of positive: 13893, number of negative: 14107\n",
      "[LightGBM] [Info] Auto-choosing col-wise multi-threading, the overhead of testing was 0.004067 seconds.\n",
      "You can set `force_col_wise=true` to remove the overhead.\n",
      "[LightGBM] [Info] Total Bins 2279\n",
      "[LightGBM] [Info] Number of data points in the train set: 28000, number of used features: 16\n",
      "[LightGBM] [Info] [binary:BoostFromScore]: pavg=0.496179 -> initscore=-0.015286\n",
      "[LightGBM] [Info] Start training from score -0.015286\n",
      "[LightGBM] [Info] Number of positive: 13893, number of negative: 14107\n",
      "[LightGBM] [Info] Auto-choosing col-wise multi-threading, the overhead of testing was 0.004364 seconds.\n",
      "You can set `force_col_wise=true` to remove the overhead.\n",
      "[LightGBM] [Info] Total Bins 2523\n",
      "[LightGBM] [Info] Number of data points in the train set: 28000, number of used features: 20\n",
      "[LightGBM] [Info] [binary:BoostFromScore]: pavg=0.496179 -> initscore=-0.015286\n",
      "[LightGBM] [Info] Start training from score -0.015286\n",
      "[LightGBM] [Info] Number of positive: 13893, number of negative: 14107\n",
      "[LightGBM] [Info] Auto-choosing row-wise multi-threading, the overhead of testing was 0.001480 seconds.\n",
      "You can set `force_row_wise=true` to remove the overhead.\n",
      "And if memory is not enough, you can set `force_col_wise=true`.\n",
      "[LightGBM] [Info] Total Bins 3392\n",
      "[LightGBM] [Info] Number of data points in the train set: 28000, number of used features: 24\n",
      "[LightGBM] [Info] [binary:BoostFromScore]: pavg=0.496179 -> initscore=-0.015286\n",
      "[LightGBM] [Info] Start training from score -0.015286\n"
     ]
    },
    {
     "name": "stderr",
     "output_type": "stream",
     "text": [
      "\u001b[32m [ 2024-11-25 17:26:13,373 ] \u001b[0mFinished iteration #0 with objective value -0.9365326495100283. Current best value is -0.9365326495100283 \u001b[0m\n"
     ]
    },
    {
     "name": "stdout",
     "output_type": "stream",
     "text": [
      "[LightGBM] [Info] Number of positive: 13893, number of negative: 14107\n",
      "[LightGBM] [Info] Auto-choosing col-wise multi-threading, the overhead of testing was 0.004596 seconds.\n",
      "You can set `force_col_wise=true` to remove the overhead.\n",
      "[LightGBM] [Info] Total Bins 3351\n",
      "[LightGBM] [Info] Number of data points in the train set: 28000, number of used features: 22\n",
      "[LightGBM] [Info] [binary:BoostFromScore]: pavg=0.496179 -> initscore=-0.015286\n",
      "[LightGBM] [Info] Start training from score -0.015286\n",
      "[LightGBM] [Info] Number of positive: 13893, number of negative: 14107\n",
      "[LightGBM] [Info] Auto-choosing col-wise multi-threading, the overhead of testing was 0.003853 seconds.\n",
      "You can set `force_col_wise=true` to remove the overhead.\n",
      "[LightGBM] [Info] Total Bins 2525\n",
      "[LightGBM] [Info] Number of data points in the train set: 28000, number of used features: 22\n",
      "[LightGBM] [Info] [binary:BoostFromScore]: pavg=0.496179 -> initscore=-0.015286\n",
      "[LightGBM] [Info] Start training from score -0.015286\n",
      "[LightGBM] [Info] Number of positive: 13893, number of negative: 14107\n",
      "[LightGBM] [Info] Auto-choosing col-wise multi-threading, the overhead of testing was 0.001285 seconds.\n",
      "You can set `force_col_wise=true` to remove the overhead.\n",
      "[LightGBM] [Info] Total Bins 2399\n",
      "[LightGBM] [Info] Number of data points in the train set: 28000, number of used features: 17\n",
      "[LightGBM] [Info] [binary:BoostFromScore]: pavg=0.496179 -> initscore=-0.015286\n",
      "[LightGBM] [Info] Start training from score -0.015286\n",
      "[LightGBM] [Info] Number of positive: 13893, number of negative: 14107\n",
      "[LightGBM] [Info] Auto-choosing row-wise multi-threading, the overhead of testing was 0.001675 seconds.\n",
      "You can set `force_row_wise=true` to remove the overhead.\n",
      "And if memory is not enough, you can set `force_col_wise=true`.\n",
      "[LightGBM] [Info] Total Bins 2129\n",
      "[LightGBM] [Info] Number of data points in the train set: 28000, number of used features: 16\n",
      "[LightGBM] [Info] [binary:BoostFromScore]: pavg=0.496179 -> initscore=-0.015286\n",
      "[LightGBM] [Info] Start training from score -0.015286\n",
      "[LightGBM] [Info] Number of positive: 13893, number of negative: 14107\n",
      "[LightGBM] [Info] Auto-choosing col-wise multi-threading, the overhead of testing was 0.004322 seconds.\n",
      "You can set `force_col_wise=true` to remove the overhead.\n",
      "[LightGBM] [Info] Total Bins 3158\n",
      "[LightGBM] [Info] Number of data points in the train set: 28000, number of used features: 22\n",
      "[LightGBM] [Info] [binary:BoostFromScore]: pavg=0.496179 -> initscore=-0.015286\n",
      "[LightGBM] [Info] Start training from score -0.015286\n",
      "[LightGBM] [Info] Number of positive: 13893, number of negative: 14107\n",
      "[LightGBM] [Info] Auto-choosing col-wise multi-threading, the overhead of testing was 0.004473 seconds.\n",
      "You can set `force_col_wise=true` to remove the overhead.\n",
      "[LightGBM] [Info] Total Bins 2366\n",
      "[LightGBM] [Info] Number of data points in the train set: 28000, number of used features: 22\n",
      "[LightGBM] [Info] [binary:BoostFromScore]: pavg=0.496179 -> initscore=-0.015286\n",
      "[LightGBM] [Info] Start training from score -0.015286\n",
      "[LightGBM] [Info] Number of positive: 13893, number of negative: 14107\n",
      "[LightGBM] [Info] Auto-choosing col-wise multi-threading, the overhead of testing was 0.004271 seconds.\n",
      "You can set `force_col_wise=true` to remove the overhead.\n",
      "[LightGBM] [Info] Total Bins 2643\n",
      "[LightGBM] [Info] Number of data points in the train set: 28000, number of used features: 17\n",
      "[LightGBM] [Info] [binary:BoostFromScore]: pavg=0.496179 -> initscore=-0.015286\n",
      "[LightGBM] [Info] Start training from score -0.015286\n",
      "[LightGBM] [Info] Number of positive: 13893, number of negative: 14107\n",
      "[LightGBM] [Info] Auto-choosing col-wise multi-threading, the overhead of testing was 0.004246 seconds.\n",
      "You can set `force_col_wise=true` to remove the overhead.\n",
      "[LightGBM] [Info] Total Bins 2362\n",
      "[LightGBM] [Info] Number of data points in the train set: 28000, number of used features: 17\n",
      "[LightGBM] [Info] [binary:BoostFromScore]: pavg=0.496179 -> initscore=-0.015286\n",
      "[LightGBM] [Info] Start training from score -0.015286\n",
      "[LightGBM] [Info] Number of positive: 13893, number of negative: 14107\n",
      "[LightGBM] [Info] Auto-choosing col-wise multi-threading, the overhead of testing was 0.003377 seconds.\n",
      "You can set `force_col_wise=true` to remove the overhead.\n",
      "[LightGBM] [Info] Total Bins 2174\n",
      "[LightGBM] [Info] Number of data points in the train set: 28000, number of used features: 15\n",
      "[LightGBM] [Info] [binary:BoostFromScore]: pavg=0.496179 -> initscore=-0.015286\n",
      "[LightGBM] [Info] Start training from score -0.015286\n",
      "[LightGBM] [Info] Number of positive: 13893, number of negative: 14107\n",
      "[LightGBM] [Info] Auto-choosing col-wise multi-threading, the overhead of testing was 0.001053 seconds.\n",
      "You can set `force_col_wise=true` to remove the overhead.\n",
      "[LightGBM] [Info] Total Bins 2633\n",
      "[LightGBM] [Info] Number of data points in the train set: 28000, number of used features: 16\n",
      "[LightGBM] [Info] [binary:BoostFromScore]: pavg=0.496179 -> initscore=-0.015286\n",
      "[LightGBM] [Info] Start training from score -0.015286\n",
      "[LightGBM] [Info] Number of positive: 13893, number of negative: 14107\n",
      "[LightGBM] [Info] Auto-choosing col-wise multi-threading, the overhead of testing was 0.003835 seconds.\n",
      "You can set `force_col_wise=true` to remove the overhead.\n",
      "[LightGBM] [Info] Total Bins 2229\n",
      "[LightGBM] [Info] Number of data points in the train set: 28000, number of used features: 20\n",
      "[LightGBM] [Info] [binary:BoostFromScore]: pavg=0.496179 -> initscore=-0.015286\n",
      "[LightGBM] [Info] Start training from score -0.015286\n",
      "[LightGBM] [Info] Number of positive: 13893, number of negative: 14107\n",
      "[LightGBM] [Info] Auto-choosing row-wise multi-threading, the overhead of testing was 0.001336 seconds.\n",
      "You can set `force_row_wise=true` to remove the overhead.\n",
      "And if memory is not enough, you can set `force_col_wise=true`.\n",
      "[LightGBM] [Info] Total Bins 3007\n",
      "[LightGBM] [Info] Number of data points in the train set: 28000, number of used features: 23\n",
      "[LightGBM] [Info] [binary:BoostFromScore]: pavg=0.496179 -> initscore=-0.015286\n",
      "[LightGBM] [Info] Start training from score -0.015286\n",
      "[LightGBM] [Info] Number of positive: 13893, number of negative: 14107\n",
      "[LightGBM] [Info] Auto-choosing col-wise multi-threading, the overhead of testing was 0.001729 seconds.\n",
      "You can set `force_col_wise=true` to remove the overhead.\n",
      "[LightGBM] [Info] Total Bins 2624\n",
      "[LightGBM] [Info] Number of data points in the train set: 28000, number of used features: 21\n",
      "[LightGBM] [Info] [binary:BoostFromScore]: pavg=0.496179 -> initscore=-0.015286\n",
      "[LightGBM] [Info] Start training from score -0.015286\n",
      "[LightGBM] [Info] Number of positive: 13893, number of negative: 14107\n",
      "[LightGBM] [Info] Auto-choosing col-wise multi-threading, the overhead of testing was 0.004001 seconds.\n",
      "You can set `force_col_wise=true` to remove the overhead.\n",
      "[LightGBM] [Info] Total Bins 2479\n",
      "[LightGBM] [Info] Number of data points in the train set: 28000, number of used features: 19\n",
      "[LightGBM] [Info] [binary:BoostFromScore]: pavg=0.496179 -> initscore=-0.015286\n",
      "[LightGBM] [Info] Start training from score -0.015286\n",
      "[LightGBM] [Info] Number of positive: 13893, number of negative: 14107\n",
      "[LightGBM] [Info] Auto-choosing col-wise multi-threading, the overhead of testing was 0.004589 seconds.\n",
      "You can set `force_col_wise=true` to remove the overhead.\n",
      "[LightGBM] [Info] Total Bins 2876\n",
      "[LightGBM] [Info] Number of data points in the train set: 28000, number of used features: 24\n",
      "[LightGBM] [Info] [binary:BoostFromScore]: pavg=0.496179 -> initscore=-0.015286\n",
      "[LightGBM] [Info] Start training from score -0.015286\n",
      "[LightGBM] [Info] Number of positive: 13893, number of negative: 14107\n",
      "[LightGBM] [Info] Auto-choosing col-wise multi-threading, the overhead of testing was 0.003939 seconds.\n",
      "You can set `force_col_wise=true` to remove the overhead.\n",
      "[LightGBM] [Info] Total Bins 1901\n",
      "[LightGBM] [Info] Number of data points in the train set: 28000, number of used features: 19\n",
      "[LightGBM] [Info] [binary:BoostFromScore]: pavg=0.496179 -> initscore=-0.015286\n",
      "[LightGBM] [Info] Start training from score -0.015286\n",
      "[LightGBM] [Info] Number of positive: 13893, number of negative: 14107\n",
      "[LightGBM] [Info] Auto-choosing col-wise multi-threading, the overhead of testing was 0.004497 seconds.\n",
      "You can set `force_col_wise=true` to remove the overhead.\n",
      "[LightGBM] [Info] Total Bins 2057\n",
      "[LightGBM] [Info] Number of data points in the train set: 28000, number of used features: 21\n",
      "[LightGBM] [Info] [binary:BoostFromScore]: pavg=0.496179 -> initscore=-0.015286\n",
      "[LightGBM] [Info] Start training from score -0.015286\n",
      "[LightGBM] [Info] Number of positive: 13893, number of negative: 14107\n",
      "[LightGBM] [Info] Auto-choosing col-wise multi-threading, the overhead of testing was 0.004245 seconds.\n",
      "You can set `force_col_wise=true` to remove the overhead.\n",
      "[LightGBM] [Info] Total Bins 3357\n",
      "[LightGBM] [Info] Number of data points in the train set: 28000, number of used features: 25\n",
      "[LightGBM] [Info] [binary:BoostFromScore]: pavg=0.496179 -> initscore=-0.015286\n",
      "[LightGBM] [Info] Start training from score -0.015286\n",
      "[LightGBM] [Info] Number of positive: 13893, number of negative: 14107\n",
      "[LightGBM] [Info] Auto-choosing col-wise multi-threading, the overhead of testing was 0.004269 seconds.\n",
      "You can set `force_col_wise=true` to remove the overhead.\n",
      "[LightGBM] [Info] Total Bins 2509\n",
      "[LightGBM] [Info] Number of data points in the train set: 28000, number of used features: 19\n",
      "[LightGBM] [Info] [binary:BoostFromScore]: pavg=0.496179 -> initscore=-0.015286\n",
      "[LightGBM] [Info] Start training from score -0.015286\n",
      "[LightGBM] [Info] Number of positive: 13893, number of negative: 14107\n",
      "[LightGBM] [Info] Auto-choosing col-wise multi-threading, the overhead of testing was 0.004179 seconds.\n",
      "You can set `force_col_wise=true` to remove the overhead.\n",
      "[LightGBM] [Info] Total Bins 2212\n",
      "[LightGBM] [Info] Number of data points in the train set: 28000, number of used features: 19\n",
      "[LightGBM] [Info] [binary:BoostFromScore]: pavg=0.496179 -> initscore=-0.015286\n",
      "[LightGBM] [Info] Start training from score -0.015286\n",
      "[LightGBM] [Info] Number of positive: 13893, number of negative: 14107\n",
      "[LightGBM] [Info] Auto-choosing row-wise multi-threading, the overhead of testing was 0.001345 seconds.\n",
      "You can set `force_row_wise=true` to remove the overhead.\n",
      "And if memory is not enough, you can set `force_col_wise=true`.\n",
      "[LightGBM] [Info] Total Bins 1881\n",
      "[LightGBM] [Info] Number of data points in the train set: 28000, number of used features: 18\n",
      "[LightGBM] [Info] [binary:BoostFromScore]: pavg=0.496179 -> initscore=-0.015286\n",
      "[LightGBM] [Info] Start training from score -0.015286\n",
      "[LightGBM] [Info] Number of positive: 13893, number of negative: 14107\n",
      "[LightGBM] [Info] Auto-choosing col-wise multi-threading, the overhead of testing was 0.001218 seconds.\n",
      "You can set `force_col_wise=true` to remove the overhead.\n",
      "[LightGBM] [Info] Total Bins 2752\n",
      "[LightGBM] [Info] Number of data points in the train set: 28000, number of used features: 14\n",
      "[LightGBM] [Info] [binary:BoostFromScore]: pavg=0.496179 -> initscore=-0.015286\n",
      "[LightGBM] [Info] Start training from score -0.015286\n",
      "[LightGBM] [Info] Number of positive: 13893, number of negative: 14107\n",
      "[LightGBM] [Info] Auto-choosing col-wise multi-threading, the overhead of testing was 0.004035 seconds.\n",
      "You can set `force_col_wise=true` to remove the overhead.\n",
      "[LightGBM] [Info] Total Bins 2263\n",
      "[LightGBM] [Info] Number of data points in the train set: 28000, number of used features: 19\n",
      "[LightGBM] [Info] [binary:BoostFromScore]: pavg=0.496179 -> initscore=-0.015286\n",
      "[LightGBM] [Info] Start training from score -0.015286\n",
      "[LightGBM] [Info] Number of positive: 13893, number of negative: 14107\n",
      "[LightGBM] [Info] Auto-choosing col-wise multi-threading, the overhead of testing was 0.004622 seconds.\n",
      "You can set `force_col_wise=true` to remove the overhead.\n",
      "[LightGBM] [Info] Total Bins 2567\n",
      "[LightGBM] [Info] Number of data points in the train set: 28000, number of used features: 23\n",
      "[LightGBM] [Info] [binary:BoostFromScore]: pavg=0.496179 -> initscore=-0.015286\n",
      "[LightGBM] [Info] Start training from score -0.015286\n",
      "[LightGBM] [Info] Number of positive: 13893, number of negative: 14107\n",
      "[LightGBM] [Info] Auto-choosing col-wise multi-threading, the overhead of testing was 0.003944 seconds.\n",
      "You can set `force_col_wise=true` to remove the overhead.\n",
      "[LightGBM] [Info] Total Bins 2788\n",
      "[LightGBM] [Info] Number of data points in the train set: 28000, number of used features: 22\n",
      "[LightGBM] [Info] [binary:BoostFromScore]: pavg=0.496179 -> initscore=-0.015286\n",
      "[LightGBM] [Info] Start training from score -0.015286\n",
      "[LightGBM] [Info] Number of positive: 13893, number of negative: 14107\n",
      "[LightGBM] [Info] Auto-choosing col-wise multi-threading, the overhead of testing was 0.004056 seconds.\n",
      "You can set `force_col_wise=true` to remove the overhead.\n",
      "[LightGBM] [Info] Total Bins 2010\n",
      "[LightGBM] [Info] Number of data points in the train set: 28000, number of used features: 18\n",
      "[LightGBM] [Info] [binary:BoostFromScore]: pavg=0.496179 -> initscore=-0.015286\n",
      "[LightGBM] [Info] Start training from score -0.015286\n",
      "[LightGBM] [Info] Number of positive: 13893, number of negative: 14107\n",
      "[LightGBM] [Info] Auto-choosing col-wise multi-threading, the overhead of testing was 0.004111 seconds.\n",
      "You can set `force_col_wise=true` to remove the overhead.\n",
      "[LightGBM] [Info] Total Bins 2627\n",
      "[LightGBM] [Info] Number of data points in the train set: 28000, number of used features: 23\n",
      "[LightGBM] [Info] [binary:BoostFromScore]: pavg=0.496179 -> initscore=-0.015286\n",
      "[LightGBM] [Info] Start training from score -0.015286\n",
      "[LightGBM] [Info] Number of positive: 13893, number of negative: 14107\n",
      "[LightGBM] [Info] Auto-choosing col-wise multi-threading, the overhead of testing was 0.005509 seconds.\n",
      "You can set `force_col_wise=true` to remove the overhead.\n",
      "[LightGBM] [Info] Total Bins 3267\n",
      "[LightGBM] [Info] Number of data points in the train set: 28000, number of used features: 26\n",
      "[LightGBM] [Info] [binary:BoostFromScore]: pavg=0.496179 -> initscore=-0.015286\n",
      "[LightGBM] [Info] Start training from score -0.015286\n",
      "[LightGBM] [Info] Number of positive: 13893, number of negative: 14107\n",
      "[LightGBM] [Info] Auto-choosing col-wise multi-threading, the overhead of testing was 0.003956 seconds.\n",
      "You can set `force_col_wise=true` to remove the overhead.\n",
      "[LightGBM] [Info] Total Bins 2000\n",
      "[LightGBM] [Info] Number of data points in the train set: 28000, number of used features: 17\n",
      "[LightGBM] [Info] [binary:BoostFromScore]: pavg=0.496179 -> initscore=-0.015286\n",
      "[LightGBM] [Info] Start training from score -0.015286\n",
      "[LightGBM] [Info] Number of positive: 13893, number of negative: 14107\n",
      "[LightGBM] [Info] Auto-choosing col-wise multi-threading, the overhead of testing was 0.004703 seconds.\n",
      "You can set `force_col_wise=true` to remove the overhead.\n",
      "[LightGBM] [Info] Total Bins 2765\n",
      "[LightGBM] [Info] Number of data points in the train set: 28000, number of used features: 19\n",
      "[LightGBM] [Info] [binary:BoostFromScore]: pavg=0.496179 -> initscore=-0.015286\n",
      "[LightGBM] [Info] Start training from score -0.015286\n"
     ]
    },
    {
     "name": "stderr",
     "output_type": "stream",
     "text": [
      "\u001b[32m [ 2024-11-25 17:26:23,580 ] \u001b[0mFinished iteration #1 with objective value -0.9368513696871906. Current best value is -0.9368513696871906 \u001b[0m\n"
     ]
    },
    {
     "name": "stdout",
     "output_type": "stream",
     "text": [
      "[LightGBM] [Info] Number of positive: 13893, number of negative: 14107\n",
      "[LightGBM] [Info] Auto-choosing col-wise multi-threading, the overhead of testing was 0.001873 seconds.\n",
      "You can set `force_col_wise=true` to remove the overhead.\n",
      "[LightGBM] [Info] Total Bins 3075\n",
      "[LightGBM] [Info] Number of data points in the train set: 28000, number of used features: 23\n",
      "[LightGBM] [Info] [binary:BoostFromScore]: pavg=0.496179 -> initscore=-0.015286\n",
      "[LightGBM] [Info] Start training from score -0.015286\n",
      "[LightGBM] [Info] Number of positive: 13893, number of negative: 14107\n",
      "[LightGBM] [Info] Auto-choosing col-wise multi-threading, the overhead of testing was 0.005344 seconds.\n",
      "You can set `force_col_wise=true` to remove the overhead.\n",
      "[LightGBM] [Info] Total Bins 3043\n",
      "[LightGBM] [Info] Number of data points in the train set: 28000, number of used features: 23\n",
      "[LightGBM] [Info] [binary:BoostFromScore]: pavg=0.496179 -> initscore=-0.015286\n",
      "[LightGBM] [Info] Start training from score -0.015286\n",
      "[LightGBM] [Info] Number of positive: 13893, number of negative: 14107\n",
      "[LightGBM] [Info] Auto-choosing col-wise multi-threading, the overhead of testing was 0.004868 seconds.\n",
      "You can set `force_col_wise=true` to remove the overhead.\n",
      "[LightGBM] [Info] Total Bins 3054\n",
      "[LightGBM] [Info] Number of data points in the train set: 28000, number of used features: 23\n",
      "[LightGBM] [Info] [binary:BoostFromScore]: pavg=0.496179 -> initscore=-0.015286\n",
      "[LightGBM] [Info] Start training from score -0.015286\n",
      "[LightGBM] [Info] Number of positive: 13893, number of negative: 14107\n",
      "[LightGBM] [Info] Auto-choosing col-wise multi-threading, the overhead of testing was 0.003879 seconds.\n",
      "You can set `force_col_wise=true` to remove the overhead.\n",
      "[LightGBM] [Info] Total Bins 2373\n",
      "[LightGBM] [Info] Number of data points in the train set: 28000, number of used features: 21\n",
      "[LightGBM] [Info] [binary:BoostFromScore]: pavg=0.496179 -> initscore=-0.015286\n",
      "[LightGBM] [Info] Start training from score -0.015286\n",
      "[LightGBM] [Info] Number of positive: 13893, number of negative: 14107\n",
      "[LightGBM] [Info] Auto-choosing col-wise multi-threading, the overhead of testing was 0.003902 seconds.\n",
      "You can set `force_col_wise=true` to remove the overhead.\n",
      "[LightGBM] [Info] Total Bins 2643\n",
      "[LightGBM] [Info] Number of data points in the train set: 28000, number of used features: 21\n",
      "[LightGBM] [Info] [binary:BoostFromScore]: pavg=0.496179 -> initscore=-0.015286\n",
      "[LightGBM] [Info] Start training from score -0.015286\n",
      "[LightGBM] [Info] Number of positive: 13893, number of negative: 14107\n",
      "[LightGBM] [Info] Auto-choosing col-wise multi-threading, the overhead of testing was 0.004687 seconds.\n",
      "You can set `force_col_wise=true` to remove the overhead.\n",
      "[LightGBM] [Info] Total Bins 3354\n",
      "[LightGBM] [Info] Number of data points in the train set: 28000, number of used features: 23\n",
      "[LightGBM] [Info] [binary:BoostFromScore]: pavg=0.496179 -> initscore=-0.015286\n",
      "[LightGBM] [Info] Start training from score -0.015286\n",
      "[LightGBM] [Info] Number of positive: 13893, number of negative: 14107\n",
      "[LightGBM] [Info] Auto-choosing col-wise multi-threading, the overhead of testing was 0.004694 seconds.\n",
      "You can set `force_col_wise=true` to remove the overhead.\n",
      "[LightGBM] [Info] Total Bins 2945\n",
      "[LightGBM] [Info] Number of data points in the train set: 28000, number of used features: 21\n",
      "[LightGBM] [Info] [binary:BoostFromScore]: pavg=0.496179 -> initscore=-0.015286\n",
      "[LightGBM] [Info] Start training from score -0.015286\n",
      "[LightGBM] [Info] Number of positive: 13893, number of negative: 14107\n",
      "[LightGBM] [Info] Auto-choosing col-wise multi-threading, the overhead of testing was 0.003320 seconds.\n",
      "You can set `force_col_wise=true` to remove the overhead.\n",
      "[LightGBM] [Info] Total Bins 2626\n",
      "[LightGBM] [Info] Number of data points in the train set: 28000, number of used features: 21\n",
      "[LightGBM] [Info] [binary:BoostFromScore]: pavg=0.496179 -> initscore=-0.015286\n",
      "[LightGBM] [Info] Start training from score -0.015286\n",
      "[LightGBM] [Info] Number of positive: 13893, number of negative: 14107\n",
      "[LightGBM] [Info] Auto-choosing col-wise multi-threading, the overhead of testing was 0.003545 seconds.\n",
      "You can set `force_col_wise=true` to remove the overhead.\n",
      "[LightGBM] [Info] Total Bins 3098\n",
      "[LightGBM] [Info] Number of data points in the train set: 28000, number of used features: 22\n",
      "[LightGBM] [Info] [binary:BoostFromScore]: pavg=0.496179 -> initscore=-0.015286\n",
      "[LightGBM] [Info] Start training from score -0.015286\n",
      "[LightGBM] [Info] Number of positive: 13893, number of negative: 14107\n",
      "[LightGBM] [Info] Auto-choosing col-wise multi-threading, the overhead of testing was 0.003847 seconds.\n",
      "You can set `force_col_wise=true` to remove the overhead.\n",
      "[LightGBM] [Info] Total Bins 1981\n",
      "[LightGBM] [Info] Number of data points in the train set: 28000, number of used features: 19\n",
      "[LightGBM] [Info] [binary:BoostFromScore]: pavg=0.496179 -> initscore=-0.015286\n",
      "[LightGBM] [Info] Start training from score -0.015286\n",
      "[LightGBM] [Info] Number of positive: 13893, number of negative: 14107\n",
      "[LightGBM] [Info] Auto-choosing col-wise multi-threading, the overhead of testing was 0.004619 seconds.\n",
      "You can set `force_col_wise=true` to remove the overhead.\n",
      "[LightGBM] [Info] Total Bins 2362\n",
      "[LightGBM] [Info] Number of data points in the train set: 28000, number of used features: 18\n",
      "[LightGBM] [Info] [binary:BoostFromScore]: pavg=0.496179 -> initscore=-0.015286\n",
      "[LightGBM] [Info] Start training from score -0.015286\n",
      "[LightGBM] [Info] Number of positive: 13893, number of negative: 14107\n",
      "[LightGBM] [Info] Auto-choosing col-wise multi-threading, the overhead of testing was 0.001514 seconds.\n",
      "You can set `force_col_wise=true` to remove the overhead.\n",
      "[LightGBM] [Info] Total Bins 3210\n",
      "[LightGBM] [Info] Number of data points in the train set: 28000, number of used features: 21\n",
      "[LightGBM] [Info] [binary:BoostFromScore]: pavg=0.496179 -> initscore=-0.015286\n",
      "[LightGBM] [Info] Start training from score -0.015286\n",
      "[LightGBM] [Info] Number of positive: 13893, number of negative: 14107\n",
      "[LightGBM] [Info] Auto-choosing col-wise multi-threading, the overhead of testing was 0.001156 seconds.\n",
      "You can set `force_col_wise=true` to remove the overhead.\n",
      "[LightGBM] [Info] Total Bins 2574\n",
      "[LightGBM] [Info] Number of data points in the train set: 28000, number of used features: 18\n",
      "[LightGBM] [Info] [binary:BoostFromScore]: pavg=0.496179 -> initscore=-0.015286\n",
      "[LightGBM] [Info] Start training from score -0.015286\n",
      "[LightGBM] [Info] Number of positive: 13893, number of negative: 14107\n",
      "[LightGBM] [Info] Auto-choosing col-wise multi-threading, the overhead of testing was 0.004063 seconds.\n",
      "You can set `force_col_wise=true` to remove the overhead.\n",
      "[LightGBM] [Info] Total Bins 2539\n",
      "[LightGBM] [Info] Number of data points in the train set: 28000, number of used features: 18\n",
      "[LightGBM] [Info] [binary:BoostFromScore]: pavg=0.496179 -> initscore=-0.015286\n",
      "[LightGBM] [Info] Start training from score -0.015286\n",
      "[LightGBM] [Info] Number of positive: 13893, number of negative: 14107\n",
      "[LightGBM] [Info] Auto-choosing col-wise multi-threading, the overhead of testing was 0.004305 seconds.\n",
      "You can set `force_col_wise=true` to remove the overhead.\n",
      "[LightGBM] [Info] Total Bins 3278\n",
      "[LightGBM] [Info] Number of data points in the train set: 28000, number of used features: 21\n",
      "[LightGBM] [Info] [binary:BoostFromScore]: pavg=0.496179 -> initscore=-0.015286\n",
      "[LightGBM] [Info] Start training from score -0.015286\n",
      "[LightGBM] [Info] Number of positive: 13893, number of negative: 14107\n",
      "[LightGBM] [Info] Auto-choosing col-wise multi-threading, the overhead of testing was 0.003777 seconds.\n",
      "You can set `force_col_wise=true` to remove the overhead.\n",
      "[LightGBM] [Info] Total Bins 3378\n",
      "[LightGBM] [Info] Number of data points in the train set: 28000, number of used features: 22\n",
      "[LightGBM] [Info] [binary:BoostFromScore]: pavg=0.496179 -> initscore=-0.015286\n",
      "[LightGBM] [Info] Start training from score -0.015286\n",
      "[LightGBM] [Info] Number of positive: 13893, number of negative: 14107\n",
      "[LightGBM] [Info] Auto-choosing col-wise multi-threading, the overhead of testing was 0.003845 seconds.\n",
      "You can set `force_col_wise=true` to remove the overhead.\n",
      "[LightGBM] [Info] Total Bins 2955\n",
      "[LightGBM] [Info] Number of data points in the train set: 28000, number of used features: 21\n",
      "[LightGBM] [Info] [binary:BoostFromScore]: pavg=0.496179 -> initscore=-0.015286\n",
      "[LightGBM] [Info] Start training from score -0.015286\n",
      "[LightGBM] [Info] Number of positive: 13893, number of negative: 14107\n",
      "[LightGBM] [Info] Auto-choosing col-wise multi-threading, the overhead of testing was 0.004028 seconds.\n",
      "You can set `force_col_wise=true` to remove the overhead.\n",
      "[LightGBM] [Info] Total Bins 3068\n",
      "[LightGBM] [Info] Number of data points in the train set: 28000, number of used features: 21\n",
      "[LightGBM] [Info] [binary:BoostFromScore]: pavg=0.496179 -> initscore=-0.015286\n",
      "[LightGBM] [Info] Start training from score -0.015286\n",
      "[LightGBM] [Info] Number of positive: 13893, number of negative: 14107\n",
      "[LightGBM] [Info] Auto-choosing col-wise multi-threading, the overhead of testing was 0.003902 seconds.\n",
      "You can set `force_col_wise=true` to remove the overhead.\n",
      "[LightGBM] [Info] Total Bins 2314\n",
      "[LightGBM] [Info] Number of data points in the train set: 28000, number of used features: 16\n",
      "[LightGBM] [Info] [binary:BoostFromScore]: pavg=0.496179 -> initscore=-0.015286\n",
      "[LightGBM] [Info] Start training from score -0.015286\n",
      "[LightGBM] [Info] Number of positive: 13893, number of negative: 14107\n",
      "[LightGBM] [Info] Auto-choosing col-wise multi-threading, the overhead of testing was 0.004911 seconds.\n",
      "You can set `force_col_wise=true` to remove the overhead.\n",
      "[LightGBM] [Info] Total Bins 3292\n",
      "[LightGBM] [Info] Number of data points in the train set: 28000, number of used features: 25\n",
      "[LightGBM] [Info] [binary:BoostFromScore]: pavg=0.496179 -> initscore=-0.015286\n",
      "[LightGBM] [Info] Start training from score -0.015286\n",
      "[LightGBM] [Info] Number of positive: 13893, number of negative: 14107\n",
      "[LightGBM] [Info] Auto-choosing col-wise multi-threading, the overhead of testing was 0.004660 seconds.\n",
      "You can set `force_col_wise=true` to remove the overhead.\n",
      "[LightGBM] [Info] Total Bins 2736\n",
      "[LightGBM] [Info] Number of data points in the train set: 28000, number of used features: 21\n",
      "[LightGBM] [Info] [binary:BoostFromScore]: pavg=0.496179 -> initscore=-0.015286\n",
      "[LightGBM] [Info] Start training from score -0.015286\n",
      "[LightGBM] [Info] Number of positive: 13893, number of negative: 14107\n",
      "[LightGBM] [Info] Auto-choosing col-wise multi-threading, the overhead of testing was 0.004896 seconds.\n",
      "You can set `force_col_wise=true` to remove the overhead.\n",
      "[LightGBM] [Info] Total Bins 3348\n",
      "[LightGBM] [Info] Number of data points in the train set: 28000, number of used features: 22\n",
      "[LightGBM] [Info] [binary:BoostFromScore]: pavg=0.496179 -> initscore=-0.015286\n",
      "[LightGBM] [Info] Start training from score -0.015286\n",
      "[LightGBM] [Info] Number of positive: 13893, number of negative: 14107\n",
      "[LightGBM] [Info] Auto-choosing col-wise multi-threading, the overhead of testing was 0.004081 seconds.\n",
      "You can set `force_col_wise=true` to remove the overhead.\n",
      "[LightGBM] [Info] Total Bins 2543\n",
      "[LightGBM] [Info] Number of data points in the train set: 28000, number of used features: 19\n",
      "[LightGBM] [Info] [binary:BoostFromScore]: pavg=0.496179 -> initscore=-0.015286\n",
      "[LightGBM] [Info] Start training from score -0.015286\n",
      "[LightGBM] [Info] Number of positive: 13893, number of negative: 14107\n",
      "[LightGBM] [Info] Auto-choosing col-wise multi-threading, the overhead of testing was 0.006158 seconds.\n",
      "You can set `force_col_wise=true` to remove the overhead.\n",
      "[LightGBM] [Info] Total Bins 3344\n",
      "[LightGBM] [Info] Number of data points in the train set: 28000, number of used features: 23\n",
      "[LightGBM] [Info] [binary:BoostFromScore]: pavg=0.496179 -> initscore=-0.015286\n",
      "[LightGBM] [Info] Start training from score -0.015286\n",
      "[LightGBM] [Info] Number of positive: 13893, number of negative: 14107\n",
      "[LightGBM] [Info] Auto-choosing col-wise multi-threading, the overhead of testing was 0.004474 seconds.\n",
      "You can set `force_col_wise=true` to remove the overhead.\n",
      "[LightGBM] [Info] Total Bins 2476\n",
      "[LightGBM] [Info] Number of data points in the train set: 28000, number of used features: 23\n",
      "[LightGBM] [Info] [binary:BoostFromScore]: pavg=0.496179 -> initscore=-0.015286\n",
      "[LightGBM] [Info] Start training from score -0.015286\n",
      "[LightGBM] [Info] Number of positive: 13893, number of negative: 14107\n",
      "[LightGBM] [Info] Auto-choosing col-wise multi-threading, the overhead of testing was 0.005109 seconds.\n",
      "You can set `force_col_wise=true` to remove the overhead.\n",
      "[LightGBM] [Info] Total Bins 3796\n",
      "[LightGBM] [Info] Number of data points in the train set: 28000, number of used features: 22\n",
      "[LightGBM] [Info] [binary:BoostFromScore]: pavg=0.496179 -> initscore=-0.015286\n",
      "[LightGBM] [Info] Start training from score -0.015286\n",
      "[LightGBM] [Info] Number of positive: 13893, number of negative: 14107\n",
      "[LightGBM] [Info] Auto-choosing col-wise multi-threading, the overhead of testing was 0.001266 seconds.\n",
      "You can set `force_col_wise=true` to remove the overhead.\n",
      "[LightGBM] [Info] Total Bins 2732\n",
      "[LightGBM] [Info] Number of data points in the train set: 28000, number of used features: 17\n",
      "[LightGBM] [Info] [binary:BoostFromScore]: pavg=0.496179 -> initscore=-0.015286\n",
      "[LightGBM] [Info] Start training from score -0.015286\n",
      "[LightGBM] [Info] Number of positive: 13893, number of negative: 14107\n",
      "[LightGBM] [Info] Auto-choosing col-wise multi-threading, the overhead of testing was 0.005081 seconds.\n",
      "You can set `force_col_wise=true` to remove the overhead.\n",
      "[LightGBM] [Info] Total Bins 2843\n",
      "[LightGBM] [Info] Number of data points in the train set: 28000, number of used features: 21\n",
      "[LightGBM] [Info] [binary:BoostFromScore]: pavg=0.496179 -> initscore=-0.015286\n",
      "[LightGBM] [Info] Start training from score -0.015286\n",
      "[LightGBM] [Info] Number of positive: 13893, number of negative: 14107\n",
      "[LightGBM] [Info] Auto-choosing col-wise multi-threading, the overhead of testing was 0.004973 seconds.\n",
      "You can set `force_col_wise=true` to remove the overhead.\n",
      "[LightGBM] [Info] Total Bins 2883\n",
      "[LightGBM] [Info] Number of data points in the train set: 28000, number of used features: 21\n",
      "[LightGBM] [Info] [binary:BoostFromScore]: pavg=0.496179 -> initscore=-0.015286\n",
      "[LightGBM] [Info] Start training from score -0.015286\n",
      "[LightGBM] [Info] Number of positive: 13893, number of negative: 14107\n",
      "[LightGBM] [Info] Auto-choosing col-wise multi-threading, the overhead of testing was 0.004518 seconds.\n",
      "You can set `force_col_wise=true` to remove the overhead.\n",
      "[LightGBM] [Info] Total Bins 2855\n",
      "[LightGBM] [Info] Number of data points in the train set: 28000, number of used features: 25\n",
      "[LightGBM] [Info] [binary:BoostFromScore]: pavg=0.496179 -> initscore=-0.015286\n",
      "[LightGBM] [Info] Start training from score -0.015286\n"
     ]
    },
    {
     "name": "stderr",
     "output_type": "stream",
     "text": [
      "\u001b[32m [ 2024-11-25 17:26:33,540 ] \u001b[0mFinished iteration #2 with objective value -0.9356086295067544. Current best value is -0.9368513696871906 \u001b[0m\n"
     ]
    },
    {
     "name": "stdout",
     "output_type": "stream",
     "text": [
      "[LightGBM] [Info] Number of positive: 13893, number of negative: 14107\n",
      "[LightGBM] [Info] Auto-choosing row-wise multi-threading, the overhead of testing was 0.001217 seconds.\n",
      "You can set `force_row_wise=true` to remove the overhead.\n",
      "And if memory is not enough, you can set `force_col_wise=true`.\n",
      "[LightGBM] [Info] Total Bins 1874\n",
      "[LightGBM] [Info] Number of data points in the train set: 28000, number of used features: 16\n",
      "[LightGBM] [Info] [binary:BoostFromScore]: pavg=0.496179 -> initscore=-0.015286\n",
      "[LightGBM] [Info] Start training from score -0.015286\n",
      "[LightGBM] [Info] Number of positive: 13893, number of negative: 14107\n",
      "[LightGBM] [Info] Auto-choosing row-wise multi-threading, the overhead of testing was 0.001255 seconds.\n",
      "You can set `force_row_wise=true` to remove the overhead.\n",
      "And if memory is not enough, you can set `force_col_wise=true`.\n",
      "[LightGBM] [Info] Total Bins 2874\n",
      "[LightGBM] [Info] Number of data points in the train set: 28000, number of used features: 20\n",
      "[LightGBM] [Info] [binary:BoostFromScore]: pavg=0.496179 -> initscore=-0.015286\n",
      "[LightGBM] [Info] Start training from score -0.015286\n",
      "[LightGBM] [Info] Number of positive: 13893, number of negative: 14107\n",
      "[LightGBM] [Info] Auto-choosing row-wise multi-threading, the overhead of testing was 0.001087 seconds.\n",
      "You can set `force_row_wise=true` to remove the overhead.\n",
      "And if memory is not enough, you can set `force_col_wise=true`.\n",
      "[LightGBM] [Info] Total Bins 2556\n",
      "[LightGBM] [Info] Number of data points in the train set: 28000, number of used features: 19\n",
      "[LightGBM] [Info] [binary:BoostFromScore]: pavg=0.496179 -> initscore=-0.015286\n",
      "[LightGBM] [Info] Start training from score -0.015286\n",
      "[LightGBM] [Info] Number of positive: 13893, number of negative: 14107\n",
      "[LightGBM] [Info] Auto-choosing col-wise multi-threading, the overhead of testing was 0.004802 seconds.\n",
      "You can set `force_col_wise=true` to remove the overhead.\n",
      "[LightGBM] [Info] Total Bins 3225\n",
      "[LightGBM] [Info] Number of data points in the train set: 28000, number of used features: 20\n",
      "[LightGBM] [Info] [binary:BoostFromScore]: pavg=0.496179 -> initscore=-0.015286\n",
      "[LightGBM] [Info] Start training from score -0.015286\n",
      "[LightGBM] [Info] Number of positive: 13893, number of negative: 14107\n",
      "[LightGBM] [Info] Auto-choosing row-wise multi-threading, the overhead of testing was 0.001259 seconds.\n",
      "You can set `force_row_wise=true` to remove the overhead.\n",
      "And if memory is not enough, you can set `force_col_wise=true`.\n",
      "[LightGBM] [Info] Total Bins 2112\n",
      "[LightGBM] [Info] Number of data points in the train set: 28000, number of used features: 18\n",
      "[LightGBM] [Info] [binary:BoostFromScore]: pavg=0.496179 -> initscore=-0.015286\n",
      "[LightGBM] [Info] Start training from score -0.015286\n",
      "[LightGBM] [Info] Number of positive: 13893, number of negative: 14107\n",
      "[LightGBM] [Info] Auto-choosing col-wise multi-threading, the overhead of testing was 0.004628 seconds.\n",
      "You can set `force_col_wise=true` to remove the overhead.\n",
      "[LightGBM] [Info] Total Bins 3225\n",
      "[LightGBM] [Info] Number of data points in the train set: 28000, number of used features: 23\n",
      "[LightGBM] [Info] [binary:BoostFromScore]: pavg=0.496179 -> initscore=-0.015286\n",
      "[LightGBM] [Info] Start training from score -0.015286\n",
      "[LightGBM] [Info] Number of positive: 13893, number of negative: 14107\n",
      "[LightGBM] [Info] Auto-choosing col-wise multi-threading, the overhead of testing was 0.004687 seconds.\n",
      "You can set `force_col_wise=true` to remove the overhead.\n",
      "[LightGBM] [Info] Total Bins 2785\n",
      "[LightGBM] [Info] Number of data points in the train set: 28000, number of used features: 22\n",
      "[LightGBM] [Info] [binary:BoostFromScore]: pavg=0.496179 -> initscore=-0.015286\n",
      "[LightGBM] [Info] Start training from score -0.015286\n",
      "[LightGBM] [Info] Number of positive: 13893, number of negative: 14107\n",
      "[LightGBM] [Info] Auto-choosing col-wise multi-threading, the overhead of testing was 0.005545 seconds.\n",
      "You can set `force_col_wise=true` to remove the overhead.\n",
      "[LightGBM] [Info] Total Bins 3673\n",
      "[LightGBM] [Info] Number of data points in the train set: 28000, number of used features: 25\n",
      "[LightGBM] [Info] [binary:BoostFromScore]: pavg=0.496179 -> initscore=-0.015286\n",
      "[LightGBM] [Info] Start training from score -0.015286\n",
      "[LightGBM] [Info] Number of positive: 13893, number of negative: 14107\n",
      "[LightGBM] [Info] Auto-choosing row-wise multi-threading, the overhead of testing was 0.001430 seconds.\n",
      "You can set `force_row_wise=true` to remove the overhead.\n",
      "And if memory is not enough, you can set `force_col_wise=true`.\n",
      "[LightGBM] [Info] Total Bins 3122\n",
      "[LightGBM] [Info] Number of data points in the train set: 28000, number of used features: 24\n",
      "[LightGBM] [Info] [binary:BoostFromScore]: pavg=0.496179 -> initscore=-0.015286\n",
      "[LightGBM] [Info] Start training from score -0.015286\n",
      "[LightGBM] [Info] Number of positive: 13893, number of negative: 14107\n",
      "[LightGBM] [Info] Auto-choosing row-wise multi-threading, the overhead of testing was 0.001040 seconds.\n",
      "You can set `force_row_wise=true` to remove the overhead.\n",
      "And if memory is not enough, you can set `force_col_wise=true`.\n",
      "[LightGBM] [Info] Total Bins 2787\n",
      "[LightGBM] [Info] Number of data points in the train set: 28000, number of used features: 22\n",
      "[LightGBM] [Info] [binary:BoostFromScore]: pavg=0.496179 -> initscore=-0.015286\n",
      "[LightGBM] [Info] Start training from score -0.015286\n",
      "[LightGBM] [Info] Number of positive: 13893, number of negative: 14107\n",
      "[LightGBM] [Info] Auto-choosing row-wise multi-threading, the overhead of testing was 0.001197 seconds.\n",
      "You can set `force_row_wise=true` to remove the overhead.\n",
      "And if memory is not enough, you can set `force_col_wise=true`.\n",
      "[LightGBM] [Info] Total Bins 3065\n",
      "[LightGBM] [Info] Number of data points in the train set: 28000, number of used features: 21\n",
      "[LightGBM] [Info] [binary:BoostFromScore]: pavg=0.496179 -> initscore=-0.015286\n",
      "[LightGBM] [Info] Start training from score -0.015286\n",
      "[LightGBM] [Info] Number of positive: 13893, number of negative: 14107\n",
      "[LightGBM] [Info] Auto-choosing col-wise multi-threading, the overhead of testing was 0.004911 seconds.\n",
      "You can set `force_col_wise=true` to remove the overhead.\n",
      "[LightGBM] [Info] Total Bins 3891\n",
      "[LightGBM] [Info] Number of data points in the train set: 28000, number of used features: 24\n",
      "[LightGBM] [Info] [binary:BoostFromScore]: pavg=0.496179 -> initscore=-0.015286\n",
      "[LightGBM] [Info] Start training from score -0.015286\n",
      "[LightGBM] [Info] Number of positive: 13893, number of negative: 14107\n",
      "[LightGBM] [Info] Auto-choosing col-wise multi-threading, the overhead of testing was 0.004576 seconds.\n",
      "You can set `force_col_wise=true` to remove the overhead.\n",
      "[LightGBM] [Info] Total Bins 2745\n",
      "[LightGBM] [Info] Number of data points in the train set: 28000, number of used features: 20\n",
      "[LightGBM] [Info] [binary:BoostFromScore]: pavg=0.496179 -> initscore=-0.015286\n",
      "[LightGBM] [Info] Start training from score -0.015286\n",
      "[LightGBM] [Info] Number of positive: 13893, number of negative: 14107\n",
      "[LightGBM] [Info] Auto-choosing row-wise multi-threading, the overhead of testing was 0.001102 seconds.\n",
      "You can set `force_row_wise=true` to remove the overhead.\n",
      "And if memory is not enough, you can set `force_col_wise=true`.\n",
      "[LightGBM] [Info] Total Bins 2397\n",
      "[LightGBM] [Info] Number of data points in the train set: 28000, number of used features: 16\n",
      "[LightGBM] [Info] [binary:BoostFromScore]: pavg=0.496179 -> initscore=-0.015286\n",
      "[LightGBM] [Info] Start training from score -0.015286\n",
      "[LightGBM] [Info] Number of positive: 13893, number of negative: 14107\n",
      "[LightGBM] [Info] Auto-choosing col-wise multi-threading, the overhead of testing was 0.004271 seconds.\n",
      "You can set `force_col_wise=true` to remove the overhead.\n",
      "[LightGBM] [Info] Total Bins 2521\n",
      "[LightGBM] [Info] Number of data points in the train set: 28000, number of used features: 18\n",
      "[LightGBM] [Info] [binary:BoostFromScore]: pavg=0.496179 -> initscore=-0.015286\n",
      "[LightGBM] [Info] Start training from score -0.015286\n",
      "[LightGBM] [Info] Number of positive: 13893, number of negative: 14107\n",
      "[LightGBM] [Info] Auto-choosing col-wise multi-threading, the overhead of testing was 0.004049 seconds.\n",
      "You can set `force_col_wise=true` to remove the overhead.\n",
      "[LightGBM] [Info] Total Bins 3021\n",
      "[LightGBM] [Info] Number of data points in the train set: 28000, number of used features: 19\n",
      "[LightGBM] [Info] [binary:BoostFromScore]: pavg=0.496179 -> initscore=-0.015286\n",
      "[LightGBM] [Info] Start training from score -0.015286\n",
      "[LightGBM] [Info] Number of positive: 13893, number of negative: 14107\n",
      "[LightGBM] [Info] Auto-choosing col-wise multi-threading, the overhead of testing was 0.004934 seconds.\n",
      "You can set `force_col_wise=true` to remove the overhead.\n",
      "[LightGBM] [Info] Total Bins 3096\n",
      "[LightGBM] [Info] Number of data points in the train set: 28000, number of used features: 21\n",
      "[LightGBM] [Info] [binary:BoostFromScore]: pavg=0.496179 -> initscore=-0.015286\n",
      "[LightGBM] [Info] Start training from score -0.015286\n",
      "[LightGBM] [Info] Number of positive: 13893, number of negative: 14107\n",
      "[LightGBM] [Info] Auto-choosing col-wise multi-threading, the overhead of testing was 0.004367 seconds.\n",
      "You can set `force_col_wise=true` to remove the overhead.\n",
      "[LightGBM] [Info] Total Bins 2543\n",
      "[LightGBM] [Info] Number of data points in the train set: 28000, number of used features: 20\n",
      "[LightGBM] [Info] [binary:BoostFromScore]: pavg=0.496179 -> initscore=-0.015286\n",
      "[LightGBM] [Info] Start training from score -0.015286\n",
      "[LightGBM] [Info] Number of positive: 13893, number of negative: 14107\n",
      "[LightGBM] [Info] Auto-choosing col-wise multi-threading, the overhead of testing was 0.004957 seconds.\n",
      "You can set `force_col_wise=true` to remove the overhead.\n",
      "[LightGBM] [Info] Total Bins 3103\n",
      "[LightGBM] [Info] Number of data points in the train set: 28000, number of used features: 24\n",
      "[LightGBM] [Info] [binary:BoostFromScore]: pavg=0.496179 -> initscore=-0.015286\n",
      "[LightGBM] [Info] Start training from score -0.015286\n",
      "[LightGBM] [Info] Number of positive: 13893, number of negative: 14107\n",
      "[LightGBM] [Info] Auto-choosing col-wise multi-threading, the overhead of testing was 0.004913 seconds.\n",
      "You can set `force_col_wise=true` to remove the overhead.\n",
      "[LightGBM] [Info] Total Bins 3340\n",
      "[LightGBM] [Info] Number of data points in the train set: 28000, number of used features: 23\n",
      "[LightGBM] [Info] [binary:BoostFromScore]: pavg=0.496179 -> initscore=-0.015286\n",
      "[LightGBM] [Info] Start training from score -0.015286\n",
      "[LightGBM] [Info] Number of positive: 13893, number of negative: 14107\n",
      "[LightGBM] [Info] Auto-choosing col-wise multi-threading, the overhead of testing was 0.001252 seconds.\n",
      "You can set `force_col_wise=true` to remove the overhead.\n",
      "[LightGBM] [Info] Total Bins 3062\n",
      "[LightGBM] [Info] Number of data points in the train set: 28000, number of used features: 20\n",
      "[LightGBM] [Info] [binary:BoostFromScore]: pavg=0.496179 -> initscore=-0.015286\n",
      "[LightGBM] [Info] Start training from score -0.015286\n",
      "[LightGBM] [Info] Number of positive: 13893, number of negative: 14107\n",
      "[LightGBM] [Info] Auto-choosing row-wise multi-threading, the overhead of testing was 0.001589 seconds.\n",
      "You can set `force_row_wise=true` to remove the overhead.\n",
      "And if memory is not enough, you can set `force_col_wise=true`.\n",
      "[LightGBM] [Info] Total Bins 2574\n",
      "[LightGBM] [Info] Number of data points in the train set: 28000, number of used features: 25\n",
      "[LightGBM] [Info] [binary:BoostFromScore]: pavg=0.496179 -> initscore=-0.015286\n",
      "[LightGBM] [Info] Start training from score -0.015286\n",
      "[LightGBM] [Info] Number of positive: 13893, number of negative: 14107\n",
      "[LightGBM] [Info] Auto-choosing col-wise multi-threading, the overhead of testing was 0.004671 seconds.\n",
      "You can set `force_col_wise=true` to remove the overhead.\n",
      "[LightGBM] [Info] Total Bins 3416\n",
      "[LightGBM] [Info] Number of data points in the train set: 28000, number of used features: 23\n",
      "[LightGBM] [Info] [binary:BoostFromScore]: pavg=0.496179 -> initscore=-0.015286\n",
      "[LightGBM] [Info] Start training from score -0.015286\n",
      "[LightGBM] [Info] Number of positive: 13893, number of negative: 14107\n",
      "[LightGBM] [Info] Auto-choosing col-wise multi-threading, the overhead of testing was 0.005356 seconds.\n",
      "You can set `force_col_wise=true` to remove the overhead.\n",
      "[LightGBM] [Info] Total Bins 3538\n",
      "[LightGBM] [Info] Number of data points in the train set: 28000, number of used features: 23\n",
      "[LightGBM] [Info] [binary:BoostFromScore]: pavg=0.496179 -> initscore=-0.015286\n",
      "[LightGBM] [Info] Start training from score -0.015286\n",
      "[LightGBM] [Info] Number of positive: 13893, number of negative: 14107\n",
      "[LightGBM] [Info] Auto-choosing col-wise multi-threading, the overhead of testing was 0.001791 seconds.\n",
      "You can set `force_col_wise=true` to remove the overhead.\n",
      "[LightGBM] [Info] Total Bins 3334\n",
      "[LightGBM] [Info] Number of data points in the train set: 28000, number of used features: 20\n",
      "[LightGBM] [Info] [binary:BoostFromScore]: pavg=0.496179 -> initscore=-0.015286\n",
      "[LightGBM] [Info] Start training from score -0.015286\n",
      "[LightGBM] [Info] Number of positive: 13893, number of negative: 14107\n",
      "[LightGBM] [Info] Auto-choosing col-wise multi-threading, the overhead of testing was 0.004151 seconds.\n",
      "You can set `force_col_wise=true` to remove the overhead.\n",
      "[LightGBM] [Info] Total Bins 2569\n",
      "[LightGBM] [Info] Number of data points in the train set: 28000, number of used features: 18\n",
      "[LightGBM] [Info] [binary:BoostFromScore]: pavg=0.496179 -> initscore=-0.015286\n",
      "[LightGBM] [Info] Start training from score -0.015286\n",
      "[LightGBM] [Info] Number of positive: 13893, number of negative: 14107\n",
      "[LightGBM] [Info] Auto-choosing col-wise multi-threading, the overhead of testing was 0.003988 seconds.\n",
      "You can set `force_col_wise=true` to remove the overhead.\n",
      "[LightGBM] [Info] Total Bins 2111\n",
      "[LightGBM] [Info] Number of data points in the train set: 28000, number of used features: 19\n",
      "[LightGBM] [Info] [binary:BoostFromScore]: pavg=0.496179 -> initscore=-0.015286\n",
      "[LightGBM] [Info] Start training from score -0.015286\n",
      "[LightGBM] [Info] Number of positive: 13893, number of negative: 14107\n",
      "[LightGBM] [Info] Auto-choosing col-wise multi-threading, the overhead of testing was 0.000999 seconds.\n",
      "You can set `force_col_wise=true` to remove the overhead.\n",
      "[LightGBM] [Info] Total Bins 2470\n",
      "[LightGBM] [Info] Number of data points in the train set: 28000, number of used features: 16\n",
      "[LightGBM] [Info] [binary:BoostFromScore]: pavg=0.496179 -> initscore=-0.015286\n",
      "[LightGBM] [Info] Start training from score -0.015286\n",
      "[LightGBM] [Info] Number of positive: 13893, number of negative: 14107\n",
      "[LightGBM] [Info] Auto-choosing col-wise multi-threading, the overhead of testing was 0.004925 seconds.\n",
      "You can set `force_col_wise=true` to remove the overhead.\n",
      "[LightGBM] [Info] Total Bins 3017\n",
      "[LightGBM] [Info] Number of data points in the train set: 28000, number of used features: 22\n",
      "[LightGBM] [Info] [binary:BoostFromScore]: pavg=0.496179 -> initscore=-0.015286\n",
      "[LightGBM] [Info] Start training from score -0.015286\n",
      "[LightGBM] [Info] Number of positive: 13893, number of negative: 14107\n",
      "[LightGBM] [Info] Auto-choosing col-wise multi-threading, the overhead of testing was 0.004375 seconds.\n",
      "You can set `force_col_wise=true` to remove the overhead.\n",
      "[LightGBM] [Info] Total Bins 2871\n",
      "[LightGBM] [Info] Number of data points in the train set: 28000, number of used features: 18\n",
      "[LightGBM] [Info] [binary:BoostFromScore]: pavg=0.496179 -> initscore=-0.015286\n",
      "[LightGBM] [Info] Start training from score -0.015286\n"
     ]
    },
    {
     "name": "stderr",
     "output_type": "stream",
     "text": [
      "\u001b[32m [ 2024-11-25 17:26:43,926 ] \u001b[0mFinished iteration #3 with objective value -0.9362586647376084. Current best value is -0.9368513696871906 \u001b[0m\n"
     ]
    },
    {
     "name": "stdout",
     "output_type": "stream",
     "text": [
      "[LightGBM] [Info] Number of positive: 13893, number of negative: 14107\n",
      "[LightGBM] [Info] Auto-choosing col-wise multi-threading, the overhead of testing was 0.004506 seconds.\n",
      "You can set `force_col_wise=true` to remove the overhead.\n",
      "[LightGBM] [Info] Total Bins 2966\n",
      "[LightGBM] [Info] Number of data points in the train set: 28000, number of used features: 22\n",
      "[LightGBM] [Info] [binary:BoostFromScore]: pavg=0.496179 -> initscore=-0.015286\n",
      "[LightGBM] [Info] Start training from score -0.015286\n",
      "[LightGBM] [Info] Number of positive: 13893, number of negative: 14107\n",
      "[LightGBM] [Info] Auto-choosing col-wise multi-threading, the overhead of testing was 0.004926 seconds.\n",
      "You can set `force_col_wise=true` to remove the overhead.\n",
      "[LightGBM] [Info] Total Bins 3902\n",
      "[LightGBM] [Info] Number of data points in the train set: 28000, number of used features: 26\n",
      "[LightGBM] [Info] [binary:BoostFromScore]: pavg=0.496179 -> initscore=-0.015286\n",
      "[LightGBM] [Info] Start training from score -0.015286\n",
      "[LightGBM] [Info] Number of positive: 13893, number of negative: 14107\n",
      "[LightGBM] [Info] Auto-choosing col-wise multi-threading, the overhead of testing was 0.004416 seconds.\n",
      "You can set `force_col_wise=true` to remove the overhead.\n",
      "[LightGBM] [Info] Total Bins 2126\n",
      "[LightGBM] [Info] Number of data points in the train set: 28000, number of used features: 16\n",
      "[LightGBM] [Info] [binary:BoostFromScore]: pavg=0.496179 -> initscore=-0.015286\n",
      "[LightGBM] [Info] Start training from score -0.015286\n",
      "[LightGBM] [Info] Number of positive: 13893, number of negative: 14107\n",
      "[LightGBM] [Info] Auto-choosing col-wise multi-threading, the overhead of testing was 0.003977 seconds.\n",
      "You can set `force_col_wise=true` to remove the overhead.\n",
      "[LightGBM] [Info] Total Bins 2826\n",
      "[LightGBM] [Info] Number of data points in the train set: 28000, number of used features: 19\n",
      "[LightGBM] [Info] [binary:BoostFromScore]: pavg=0.496179 -> initscore=-0.015286\n",
      "[LightGBM] [Info] Start training from score -0.015286\n",
      "[LightGBM] [Info] Number of positive: 13893, number of negative: 14107\n",
      "[LightGBM] [Info] Auto-choosing col-wise multi-threading, the overhead of testing was 0.004354 seconds.\n",
      "You can set `force_col_wise=true` to remove the overhead.\n",
      "[LightGBM] [Info] Total Bins 3168\n",
      "[LightGBM] [Info] Number of data points in the train set: 28000, number of used features: 24\n",
      "[LightGBM] [Info] [binary:BoostFromScore]: pavg=0.496179 -> initscore=-0.015286\n",
      "[LightGBM] [Info] Start training from score -0.015286\n",
      "[LightGBM] [Info] Number of positive: 13893, number of negative: 14107\n",
      "[LightGBM] [Info] Auto-choosing col-wise multi-threading, the overhead of testing was 0.004830 seconds.\n",
      "You can set `force_col_wise=true` to remove the overhead.\n",
      "[LightGBM] [Info] Total Bins 3026\n",
      "[LightGBM] [Info] Number of data points in the train set: 28000, number of used features: 20\n",
      "[LightGBM] [Info] [binary:BoostFromScore]: pavg=0.496179 -> initscore=-0.015286\n",
      "[LightGBM] [Info] Start training from score -0.015286\n",
      "[LightGBM] [Info] Number of positive: 13893, number of negative: 14107\n",
      "[LightGBM] [Info] Auto-choosing col-wise multi-threading, the overhead of testing was 0.004425 seconds.\n",
      "You can set `force_col_wise=true` to remove the overhead.\n",
      "[LightGBM] [Info] Total Bins 2982\n",
      "[LightGBM] [Info] Number of data points in the train set: 28000, number of used features: 21\n",
      "[LightGBM] [Info] [binary:BoostFromScore]: pavg=0.496179 -> initscore=-0.015286\n",
      "[LightGBM] [Info] Start training from score -0.015286\n",
      "[LightGBM] [Info] Number of positive: 13893, number of negative: 14107\n",
      "[LightGBM] [Info] Auto-choosing col-wise multi-threading, the overhead of testing was 0.004180 seconds.\n",
      "You can set `force_col_wise=true` to remove the overhead.\n",
      "[LightGBM] [Info] Total Bins 2215\n",
      "[LightGBM] [Info] Number of data points in the train set: 28000, number of used features: 18\n",
      "[LightGBM] [Info] [binary:BoostFromScore]: pavg=0.496179 -> initscore=-0.015286\n",
      "[LightGBM] [Info] Start training from score -0.015286\n",
      "[LightGBM] [Info] Number of positive: 13893, number of negative: 14107\n",
      "[LightGBM] [Info] Auto-choosing col-wise multi-threading, the overhead of testing was 0.005161 seconds.\n",
      "You can set `force_col_wise=true` to remove the overhead.\n",
      "[LightGBM] [Info] Total Bins 2880\n",
      "[LightGBM] [Info] Number of data points in the train set: 28000, number of used features: 21\n",
      "[LightGBM] [Info] [binary:BoostFromScore]: pavg=0.496179 -> initscore=-0.015286\n",
      "[LightGBM] [Info] Start training from score -0.015286\n",
      "[LightGBM] [Info] Number of positive: 13893, number of negative: 14107\n",
      "[LightGBM] [Info] Auto-choosing col-wise multi-threading, the overhead of testing was 0.006228 seconds.\n",
      "You can set `force_col_wise=true` to remove the overhead.\n",
      "[LightGBM] [Info] Total Bins 3358\n",
      "[LightGBM] [Info] Number of data points in the train set: 28000, number of used features: 24\n",
      "[LightGBM] [Info] [binary:BoostFromScore]: pavg=0.496179 -> initscore=-0.015286\n",
      "[LightGBM] [Info] Start training from score -0.015286\n",
      "[LightGBM] [Info] Number of positive: 13893, number of negative: 14107\n",
      "[LightGBM] [Info] Auto-choosing col-wise multi-threading, the overhead of testing was 0.004785 seconds.\n",
      "You can set `force_col_wise=true` to remove the overhead.\n",
      "[LightGBM] [Info] Total Bins 2373\n",
      "[LightGBM] [Info] Number of data points in the train set: 28000, number of used features: 21\n",
      "[LightGBM] [Info] [binary:BoostFromScore]: pavg=0.496179 -> initscore=-0.015286\n",
      "[LightGBM] [Info] Start training from score -0.015286\n",
      "[LightGBM] [Info] Number of positive: 13893, number of negative: 14107\n",
      "[LightGBM] [Info] Auto-choosing col-wise multi-threading, the overhead of testing was 0.004124 seconds.\n",
      "You can set `force_col_wise=true` to remove the overhead.\n",
      "[LightGBM] [Info] Total Bins 2710\n",
      "[LightGBM] [Info] Number of data points in the train set: 28000, number of used features: 19\n",
      "[LightGBM] [Info] [binary:BoostFromScore]: pavg=0.496179 -> initscore=-0.015286\n",
      "[LightGBM] [Info] Start training from score -0.015286\n",
      "[LightGBM] [Info] Number of positive: 13893, number of negative: 14107\n",
      "[LightGBM] [Info] Auto-choosing col-wise multi-threading, the overhead of testing was 0.001275 seconds.\n",
      "You can set `force_col_wise=true` to remove the overhead.\n",
      "[LightGBM] [Info] Total Bins 2838\n",
      "[LightGBM] [Info] Number of data points in the train set: 28000, number of used features: 18\n",
      "[LightGBM] [Info] [binary:BoostFromScore]: pavg=0.496179 -> initscore=-0.015286\n",
      "[LightGBM] [Info] Start training from score -0.015286\n",
      "[LightGBM] [Info] Number of positive: 13893, number of negative: 14107\n",
      "[LightGBM] [Info] Auto-choosing col-wise multi-threading, the overhead of testing was 0.005349 seconds.\n",
      "You can set `force_col_wise=true` to remove the overhead.\n",
      "[LightGBM] [Info] Total Bins 3009\n",
      "[LightGBM] [Info] Number of data points in the train set: 28000, number of used features: 24\n",
      "[LightGBM] [Info] [binary:BoostFromScore]: pavg=0.496179 -> initscore=-0.015286\n",
      "[LightGBM] [Info] Start training from score -0.015286\n",
      "[LightGBM] [Info] Number of positive: 13893, number of negative: 14107\n",
      "[LightGBM] [Info] Auto-choosing col-wise multi-threading, the overhead of testing was 0.004283 seconds.\n",
      "You can set `force_col_wise=true` to remove the overhead.\n",
      "[LightGBM] [Info] Total Bins 2354\n",
      "[LightGBM] [Info] Number of data points in the train set: 28000, number of used features: 16\n",
      "[LightGBM] [Info] [binary:BoostFromScore]: pavg=0.496179 -> initscore=-0.015286\n",
      "[LightGBM] [Info] Start training from score -0.015286\n",
      "[LightGBM] [Info] Number of positive: 13893, number of negative: 14107\n",
      "[LightGBM] [Info] Auto-choosing col-wise multi-threading, the overhead of testing was 0.004793 seconds.\n",
      "You can set `force_col_wise=true` to remove the overhead.\n",
      "[LightGBM] [Info] Total Bins 2813\n",
      "[LightGBM] [Info] Number of data points in the train set: 28000, number of used features: 22\n",
      "[LightGBM] [Info] [binary:BoostFromScore]: pavg=0.496179 -> initscore=-0.015286\n",
      "[LightGBM] [Info] Start training from score -0.015286\n",
      "[LightGBM] [Info] Number of positive: 13893, number of negative: 14107\n",
      "[LightGBM] [Info] Auto-choosing col-wise multi-threading, the overhead of testing was 0.004901 seconds.\n",
      "You can set `force_col_wise=true` to remove the overhead.\n",
      "[LightGBM] [Info] Total Bins 2979\n",
      "[LightGBM] [Info] Number of data points in the train set: 28000, number of used features: 22\n",
      "[LightGBM] [Info] [binary:BoostFromScore]: pavg=0.496179 -> initscore=-0.015286\n",
      "[LightGBM] [Info] Start training from score -0.015286\n",
      "[LightGBM] [Info] Number of positive: 13893, number of negative: 14107\n",
      "[LightGBM] [Info] Auto-choosing col-wise multi-threading, the overhead of testing was 0.001379 seconds.\n",
      "You can set `force_col_wise=true` to remove the overhead.\n",
      "[LightGBM] [Info] Total Bins 3060\n",
      "[LightGBM] [Info] Number of data points in the train set: 28000, number of used features: 19\n",
      "[LightGBM] [Info] [binary:BoostFromScore]: pavg=0.496179 -> initscore=-0.015286\n",
      "[LightGBM] [Info] Start training from score -0.015286\n",
      "[LightGBM] [Info] Number of positive: 13893, number of negative: 14107\n",
      "[LightGBM] [Info] Auto-choosing col-wise multi-threading, the overhead of testing was 0.004989 seconds.\n",
      "You can set `force_col_wise=true` to remove the overhead.\n",
      "[LightGBM] [Info] Total Bins 2883\n",
      "[LightGBM] [Info] Number of data points in the train set: 28000, number of used features: 24\n",
      "[LightGBM] [Info] [binary:BoostFromScore]: pavg=0.496179 -> initscore=-0.015286\n",
      "[LightGBM] [Info] Start training from score -0.015286\n",
      "[LightGBM] [Info] Number of positive: 13893, number of negative: 14107\n",
      "[LightGBM] [Info] Auto-choosing col-wise multi-threading, the overhead of testing was 0.004286 seconds.\n",
      "You can set `force_col_wise=true` to remove the overhead.\n",
      "[LightGBM] [Info] Total Bins 2773\n",
      "[LightGBM] [Info] Number of data points in the train set: 28000, number of used features: 20\n",
      "[LightGBM] [Info] [binary:BoostFromScore]: pavg=0.496179 -> initscore=-0.015286\n",
      "[LightGBM] [Info] Start training from score -0.015286\n",
      "[LightGBM] [Info] Number of positive: 13893, number of negative: 14107\n",
      "[LightGBM] [Info] Auto-choosing col-wise multi-threading, the overhead of testing was 0.004847 seconds.\n",
      "You can set `force_col_wise=true` to remove the overhead.\n",
      "[LightGBM] [Info] Total Bins 3344\n",
      "[LightGBM] [Info] Number of data points in the train set: 28000, number of used features: 20\n",
      "[LightGBM] [Info] [binary:BoostFromScore]: pavg=0.496179 -> initscore=-0.015286\n",
      "[LightGBM] [Info] Start training from score -0.015286\n",
      "[LightGBM] [Info] Number of positive: 13893, number of negative: 14107\n",
      "[LightGBM] [Info] Auto-choosing col-wise multi-threading, the overhead of testing was 0.004716 seconds.\n",
      "You can set `force_col_wise=true` to remove the overhead.\n",
      "[LightGBM] [Info] Total Bins 3102\n",
      "[LightGBM] [Info] Number of data points in the train set: 28000, number of used features: 24\n",
      "[LightGBM] [Info] [binary:BoostFromScore]: pavg=0.496179 -> initscore=-0.015286\n",
      "[LightGBM] [Info] Start training from score -0.015286\n",
      "[LightGBM] [Info] Number of positive: 13893, number of negative: 14107\n",
      "[LightGBM] [Info] Auto-choosing col-wise multi-threading, the overhead of testing was 0.005020 seconds.\n",
      "You can set `force_col_wise=true` to remove the overhead.\n",
      "[LightGBM] [Info] Total Bins 3068\n",
      "[LightGBM] [Info] Number of data points in the train set: 28000, number of used features: 21\n",
      "[LightGBM] [Info] [binary:BoostFromScore]: pavg=0.496179 -> initscore=-0.015286\n",
      "[LightGBM] [Info] Start training from score -0.015286\n",
      "[LightGBM] [Info] Number of positive: 13893, number of negative: 14107\n",
      "[LightGBM] [Info] Auto-choosing col-wise multi-threading, the overhead of testing was 0.002092 seconds.\n",
      "You can set `force_col_wise=true` to remove the overhead.\n",
      "[LightGBM] [Info] Total Bins 3587\n",
      "[LightGBM] [Info] Number of data points in the train set: 28000, number of used features: 26\n",
      "[LightGBM] [Info] [binary:BoostFromScore]: pavg=0.496179 -> initscore=-0.015286\n",
      "[LightGBM] [Info] Start training from score -0.015286\n",
      "[LightGBM] [Info] Number of positive: 13893, number of negative: 14107\n",
      "[LightGBM] [Info] Auto-choosing col-wise multi-threading, the overhead of testing was 0.001432 seconds.\n",
      "You can set `force_col_wise=true` to remove the overhead.\n",
      "[LightGBM] [Info] Total Bins 2791\n",
      "[LightGBM] [Info] Number of data points in the train set: 28000, number of used features: 18\n",
      "[LightGBM] [Info] [binary:BoostFromScore]: pavg=0.496179 -> initscore=-0.015286\n",
      "[LightGBM] [Info] Start training from score -0.015286\n",
      "[LightGBM] [Info] Number of positive: 13893, number of negative: 14107\n",
      "[LightGBM] [Info] Auto-choosing col-wise multi-threading, the overhead of testing was 0.004911 seconds.\n",
      "You can set `force_col_wise=true` to remove the overhead.\n",
      "[LightGBM] [Info] Total Bins 2411\n",
      "[LightGBM] [Info] Number of data points in the train set: 28000, number of used features: 21\n",
      "[LightGBM] [Info] [binary:BoostFromScore]: pavg=0.496179 -> initscore=-0.015286\n",
      "[LightGBM] [Info] Start training from score -0.015286\n",
      "[LightGBM] [Info] Number of positive: 13893, number of negative: 14107\n",
      "[LightGBM] [Info] Auto-choosing col-wise multi-threading, the overhead of testing was 0.004783 seconds.\n",
      "You can set `force_col_wise=true` to remove the overhead.\n",
      "[LightGBM] [Info] Total Bins 3243\n",
      "[LightGBM] [Info] Number of data points in the train set: 28000, number of used features: 20\n",
      "[LightGBM] [Info] [binary:BoostFromScore]: pavg=0.496179 -> initscore=-0.015286\n",
      "[LightGBM] [Info] Start training from score -0.015286\n",
      "[LightGBM] [Info] Number of positive: 13893, number of negative: 14107\n",
      "[LightGBM] [Info] Auto-choosing col-wise multi-threading, the overhead of testing was 0.004961 seconds.\n",
      "You can set `force_col_wise=true` to remove the overhead.\n",
      "[LightGBM] [Info] Total Bins 3388\n",
      "[LightGBM] [Info] Number of data points in the train set: 28000, number of used features: 24\n",
      "[LightGBM] [Info] [binary:BoostFromScore]: pavg=0.496179 -> initscore=-0.015286\n",
      "[LightGBM] [Info] Start training from score -0.015286\n",
      "[LightGBM] [Info] Number of positive: 13893, number of negative: 14107\n",
      "[LightGBM] [Info] Auto-choosing col-wise multi-threading, the overhead of testing was 0.004516 seconds.\n",
      "You can set `force_col_wise=true` to remove the overhead.\n",
      "[LightGBM] [Info] Total Bins 2367\n",
      "[LightGBM] [Info] Number of data points in the train set: 28000, number of used features: 21\n",
      "[LightGBM] [Info] [binary:BoostFromScore]: pavg=0.496179 -> initscore=-0.015286\n",
      "[LightGBM] [Info] Start training from score -0.015286\n",
      "[LightGBM] [Info] Number of positive: 13893, number of negative: 14107\n",
      "[LightGBM] [Info] Auto-choosing col-wise multi-threading, the overhead of testing was 0.004353 seconds.\n",
      "You can set `force_col_wise=true` to remove the overhead.\n",
      "[LightGBM] [Info] Total Bins 2848\n",
      "[LightGBM] [Info] Number of data points in the train set: 28000, number of used features: 23\n",
      "[LightGBM] [Info] [binary:BoostFromScore]: pavg=0.496179 -> initscore=-0.015286\n",
      "[LightGBM] [Info] Start training from score -0.015286\n"
     ]
    },
    {
     "name": "stderr",
     "output_type": "stream",
     "text": [
      "\u001b[32m [ 2024-11-25 17:26:54,081 ] \u001b[0mFinished iteration #4 with objective value -0.9365050286698298. Current best value is -0.9368513696871906 \u001b[0m\n"
     ]
    },
    {
     "name": "stdout",
     "output_type": "stream",
     "text": [
      "[LightGBM] [Info] Number of positive: 13893, number of negative: 14107\n",
      "[LightGBM] [Info] Auto-choosing col-wise multi-threading, the overhead of testing was 0.004685 seconds.\n",
      "You can set `force_col_wise=true` to remove the overhead.\n",
      "[LightGBM] [Info] Total Bins 3356\n",
      "[LightGBM] [Info] Number of data points in the train set: 28000, number of used features: 24\n",
      "[LightGBM] [Info] [binary:BoostFromScore]: pavg=0.496179 -> initscore=-0.015286\n",
      "[LightGBM] [Info] Start training from score -0.015286\n",
      "[LightGBM] [Info] Number of positive: 13893, number of negative: 14107\n",
      "[LightGBM] [Info] Auto-choosing col-wise multi-threading, the overhead of testing was 0.004330 seconds.\n",
      "You can set `force_col_wise=true` to remove the overhead.\n",
      "[LightGBM] [Info] Total Bins 2066\n",
      "[LightGBM] [Info] Number of data points in the train set: 28000, number of used features: 17\n",
      "[LightGBM] [Info] [binary:BoostFromScore]: pavg=0.496179 -> initscore=-0.015286\n",
      "[LightGBM] [Info] Start training from score -0.015286\n",
      "[LightGBM] [Info] Number of positive: 13893, number of negative: 14107\n",
      "[LightGBM] [Info] Auto-choosing col-wise multi-threading, the overhead of testing was 0.005148 seconds.\n",
      "You can set `force_col_wise=true` to remove the overhead.\n",
      "[LightGBM] [Info] Total Bins 3227\n",
      "[LightGBM] [Info] Number of data points in the train set: 28000, number of used features: 21\n",
      "[LightGBM] [Info] [binary:BoostFromScore]: pavg=0.496179 -> initscore=-0.015286\n",
      "[LightGBM] [Info] Start training from score -0.015286\n",
      "[LightGBM] [Info] Number of positive: 13893, number of negative: 14107\n",
      "[LightGBM] [Info] Auto-choosing col-wise multi-threading, the overhead of testing was 0.004765 seconds.\n",
      "You can set `force_col_wise=true` to remove the overhead.\n",
      "[LightGBM] [Info] Total Bins 2833\n",
      "[LightGBM] [Info] Number of data points in the train set: 28000, number of used features: 17\n",
      "[LightGBM] [Info] [binary:BoostFromScore]: pavg=0.496179 -> initscore=-0.015286\n",
      "[LightGBM] [Info] Start training from score -0.015286\n",
      "[LightGBM] [Info] Number of positive: 13893, number of negative: 14107\n",
      "[LightGBM] [Info] Auto-choosing col-wise multi-threading, the overhead of testing was 0.005871 seconds.\n",
      "You can set `force_col_wise=true` to remove the overhead.\n",
      "[LightGBM] [Info] Total Bins 3604\n",
      "[LightGBM] [Info] Number of data points in the train set: 28000, number of used features: 22\n",
      "[LightGBM] [Info] [binary:BoostFromScore]: pavg=0.496179 -> initscore=-0.015286\n",
      "[LightGBM] [Info] Start training from score -0.015286\n",
      "[LightGBM] [Info] Number of positive: 13893, number of negative: 14107\n",
      "[LightGBM] [Info] Auto-choosing col-wise multi-threading, the overhead of testing was 0.004951 seconds.\n",
      "You can set `force_col_wise=true` to remove the overhead.\n",
      "[LightGBM] [Info] Total Bins 3610\n",
      "[LightGBM] [Info] Number of data points in the train set: 28000, number of used features: 25\n",
      "[LightGBM] [Info] [binary:BoostFromScore]: pavg=0.496179 -> initscore=-0.015286\n",
      "[LightGBM] [Info] Start training from score -0.015286\n",
      "[LightGBM] [Info] Number of positive: 13893, number of negative: 14107\n",
      "[LightGBM] [Info] Auto-choosing col-wise multi-threading, the overhead of testing was 0.001578 seconds.\n",
      "You can set `force_col_wise=true` to remove the overhead.\n",
      "[LightGBM] [Info] Total Bins 2938\n",
      "[LightGBM] [Info] Number of data points in the train set: 28000, number of used features: 19\n",
      "[LightGBM] [Info] [binary:BoostFromScore]: pavg=0.496179 -> initscore=-0.015286\n",
      "[LightGBM] [Info] Start training from score -0.015286\n",
      "[LightGBM] [Info] Number of positive: 13893, number of negative: 14107\n",
      "[LightGBM] [Info] Auto-choosing col-wise multi-threading, the overhead of testing was 0.004182 seconds.\n",
      "You can set `force_col_wise=true` to remove the overhead.\n",
      "[LightGBM] [Info] Total Bins 2590\n",
      "[LightGBM] [Info] Number of data points in the train set: 28000, number of used features: 21\n",
      "[LightGBM] [Info] [binary:BoostFromScore]: pavg=0.496179 -> initscore=-0.015286\n",
      "[LightGBM] [Info] Start training from score -0.015286\n",
      "[LightGBM] [Info] Number of positive: 13893, number of negative: 14107\n",
      "[LightGBM] [Info] Auto-choosing row-wise multi-threading, the overhead of testing was 0.001230 seconds.\n",
      "You can set `force_row_wise=true` to remove the overhead.\n",
      "And if memory is not enough, you can set `force_col_wise=true`.\n",
      "[LightGBM] [Info] Total Bins 1920\n",
      "[LightGBM] [Info] Number of data points in the train set: 28000, number of used features: 16\n",
      "[LightGBM] [Info] [binary:BoostFromScore]: pavg=0.496179 -> initscore=-0.015286\n",
      "[LightGBM] [Info] Start training from score -0.015286\n",
      "[LightGBM] [Info] Number of positive: 13893, number of negative: 14107\n",
      "[LightGBM] [Info] Auto-choosing col-wise multi-threading, the overhead of testing was 0.005779 seconds.\n",
      "You can set `force_col_wise=true` to remove the overhead.\n",
      "[LightGBM] [Info] Total Bins 3645\n",
      "[LightGBM] [Info] Number of data points in the train set: 28000, number of used features: 24\n",
      "[LightGBM] [Info] [binary:BoostFromScore]: pavg=0.496179 -> initscore=-0.015286\n",
      "[LightGBM] [Info] Start training from score -0.015286\n",
      "[LightGBM] [Info] Number of positive: 13893, number of negative: 14107\n",
      "[LightGBM] [Info] Auto-choosing col-wise multi-threading, the overhead of testing was 0.004409 seconds.\n",
      "You can set `force_col_wise=true` to remove the overhead.\n",
      "[LightGBM] [Info] Total Bins 3235\n",
      "[LightGBM] [Info] Number of data points in the train set: 28000, number of used features: 19\n",
      "[LightGBM] [Info] [binary:BoostFromScore]: pavg=0.496179 -> initscore=-0.015286\n",
      "[LightGBM] [Info] Start training from score -0.015286\n",
      "[LightGBM] [Info] Number of positive: 13893, number of negative: 14107\n",
      "[LightGBM] [Info] Auto-choosing col-wise multi-threading, the overhead of testing was 0.004619 seconds.\n",
      "You can set `force_col_wise=true` to remove the overhead.\n",
      "[LightGBM] [Info] Total Bins 2590\n",
      "[LightGBM] [Info] Number of data points in the train set: 28000, number of used features: 21\n",
      "[LightGBM] [Info] [binary:BoostFromScore]: pavg=0.496179 -> initscore=-0.015286\n",
      "[LightGBM] [Info] Start training from score -0.015286\n",
      "[LightGBM] [Info] Number of positive: 13893, number of negative: 14107\n",
      "[LightGBM] [Info] Auto-choosing col-wise multi-threading, the overhead of testing was 0.004420 seconds.\n",
      "You can set `force_col_wise=true` to remove the overhead.\n",
      "[LightGBM] [Info] Total Bins 2557\n",
      "[LightGBM] [Info] Number of data points in the train set: 28000, number of used features: 18\n",
      "[LightGBM] [Info] [binary:BoostFromScore]: pavg=0.496179 -> initscore=-0.015286\n",
      "[LightGBM] [Info] Start training from score -0.015286\n",
      "[LightGBM] [Info] Number of positive: 13893, number of negative: 14107\n",
      "[LightGBM] [Info] Auto-choosing col-wise multi-threading, the overhead of testing was 0.004889 seconds.\n",
      "You can set `force_col_wise=true` to remove the overhead.\n",
      "[LightGBM] [Info] Total Bins 2797\n",
      "[LightGBM] [Info] Number of data points in the train set: 28000, number of used features: 21\n",
      "[LightGBM] [Info] [binary:BoostFromScore]: pavg=0.496179 -> initscore=-0.015286\n",
      "[LightGBM] [Info] Start training from score -0.015286\n",
      "[LightGBM] [Info] Number of positive: 13893, number of negative: 14107\n",
      "[LightGBM] [Info] Auto-choosing col-wise multi-threading, the overhead of testing was 0.004234 seconds.\n",
      "You can set `force_col_wise=true` to remove the overhead.\n",
      "[LightGBM] [Info] Total Bins 2825\n",
      "[LightGBM] [Info] Number of data points in the train set: 28000, number of used features: 20\n",
      "[LightGBM] [Info] [binary:BoostFromScore]: pavg=0.496179 -> initscore=-0.015286\n",
      "[LightGBM] [Info] Start training from score -0.015286\n",
      "[LightGBM] [Info] Number of positive: 13893, number of negative: 14107\n",
      "[LightGBM] [Info] Auto-choosing col-wise multi-threading, the overhead of testing was 0.004595 seconds.\n",
      "You can set `force_col_wise=true` to remove the overhead.\n",
      "[LightGBM] [Info] Total Bins 2937\n",
      "[LightGBM] [Info] Number of data points in the train set: 28000, number of used features: 19\n",
      "[LightGBM] [Info] [binary:BoostFromScore]: pavg=0.496179 -> initscore=-0.015286\n",
      "[LightGBM] [Info] Start training from score -0.015286\n",
      "[LightGBM] [Info] Number of positive: 13893, number of negative: 14107\n",
      "[LightGBM] [Info] Auto-choosing row-wise multi-threading, the overhead of testing was 0.001236 seconds.\n",
      "You can set `force_row_wise=true` to remove the overhead.\n",
      "And if memory is not enough, you can set `force_col_wise=true`.\n",
      "[LightGBM] [Info] Total Bins 2597\n",
      "[LightGBM] [Info] Number of data points in the train set: 28000, number of used features: 23\n",
      "[LightGBM] [Info] [binary:BoostFromScore]: pavg=0.496179 -> initscore=-0.015286\n",
      "[LightGBM] [Info] Start training from score -0.015286\n",
      "[LightGBM] [Info] Number of positive: 13893, number of negative: 14107\n",
      "[LightGBM] [Info] Auto-choosing col-wise multi-threading, the overhead of testing was 0.004361 seconds.\n",
      "You can set `force_col_wise=true` to remove the overhead.\n",
      "[LightGBM] [Info] Total Bins 2951\n",
      "[LightGBM] [Info] Number of data points in the train set: 28000, number of used features: 26\n",
      "[LightGBM] [Info] [binary:BoostFromScore]: pavg=0.496179 -> initscore=-0.015286\n",
      "[LightGBM] [Info] Start training from score -0.015286\n",
      "[LightGBM] [Info] Number of positive: 13893, number of negative: 14107\n",
      "[LightGBM] [Info] Auto-choosing col-wise multi-threading, the overhead of testing was 0.004381 seconds.\n",
      "You can set `force_col_wise=true` to remove the overhead.\n",
      "[LightGBM] [Info] Total Bins 3141\n",
      "[LightGBM] [Info] Number of data points in the train set: 28000, number of used features: 27\n",
      "[LightGBM] [Info] [binary:BoostFromScore]: pavg=0.496179 -> initscore=-0.015286\n",
      "[LightGBM] [Info] Start training from score -0.015286\n",
      "[LightGBM] [Info] Number of positive: 13893, number of negative: 14107\n",
      "[LightGBM] [Info] Auto-choosing col-wise multi-threading, the overhead of testing was 0.005357 seconds.\n",
      "You can set `force_col_wise=true` to remove the overhead.\n",
      "[LightGBM] [Info] Total Bins 2792\n",
      "[LightGBM] [Info] Number of data points in the train set: 28000, number of used features: 20\n",
      "[LightGBM] [Info] [binary:BoostFromScore]: pavg=0.496179 -> initscore=-0.015286\n",
      "[LightGBM] [Info] Start training from score -0.015286\n",
      "[LightGBM] [Info] Number of positive: 13893, number of negative: 14107\n",
      "[LightGBM] [Info] Auto-choosing col-wise multi-threading, the overhead of testing was 0.004442 seconds.\n",
      "You can set `force_col_wise=true` to remove the overhead.\n",
      "[LightGBM] [Info] Total Bins 2808\n",
      "[LightGBM] [Info] Number of data points in the train set: 28000, number of used features: 19\n",
      "[LightGBM] [Info] [binary:BoostFromScore]: pavg=0.496179 -> initscore=-0.015286\n",
      "[LightGBM] [Info] Start training from score -0.015286\n",
      "[LightGBM] [Info] Number of positive: 13893, number of negative: 14107\n",
      "[LightGBM] [Info] Auto-choosing col-wise multi-threading, the overhead of testing was 0.004523 seconds.\n",
      "You can set `force_col_wise=true` to remove the overhead.\n",
      "[LightGBM] [Info] Total Bins 2725\n",
      "[LightGBM] [Info] Number of data points in the train set: 28000, number of used features: 19\n",
      "[LightGBM] [Info] [binary:BoostFromScore]: pavg=0.496179 -> initscore=-0.015286\n",
      "[LightGBM] [Info] Start training from score -0.015286\n",
      "[LightGBM] [Info] Number of positive: 13893, number of negative: 14107\n",
      "[LightGBM] [Info] Auto-choosing col-wise multi-threading, the overhead of testing was 0.001746 seconds.\n",
      "You can set `force_col_wise=true` to remove the overhead.\n",
      "[LightGBM] [Info] Total Bins 3330\n",
      "[LightGBM] [Info] Number of data points in the train set: 28000, number of used features: 24\n",
      "[LightGBM] [Info] [binary:BoostFromScore]: pavg=0.496179 -> initscore=-0.015286\n",
      "[LightGBM] [Info] Start training from score -0.015286\n",
      "[LightGBM] [Info] Number of positive: 13893, number of negative: 14107\n",
      "[LightGBM] [Info] Auto-choosing col-wise multi-threading, the overhead of testing was 0.003941 seconds.\n",
      "You can set `force_col_wise=true` to remove the overhead.\n",
      "[LightGBM] [Info] Total Bins 2586\n",
      "[LightGBM] [Info] Number of data points in the train set: 28000, number of used features: 19\n",
      "[LightGBM] [Info] [binary:BoostFromScore]: pavg=0.496179 -> initscore=-0.015286\n",
      "[LightGBM] [Info] Start training from score -0.015286\n",
      "[LightGBM] [Info] Number of positive: 13893, number of negative: 14107\n",
      "[LightGBM] [Info] Auto-choosing col-wise multi-threading, the overhead of testing was 0.001100 seconds.\n",
      "You can set `force_col_wise=true` to remove the overhead.\n",
      "[LightGBM] [Info] Total Bins 2764\n",
      "[LightGBM] [Info] Number of data points in the train set: 28000, number of used features: 17\n",
      "[LightGBM] [Info] [binary:BoostFromScore]: pavg=0.496179 -> initscore=-0.015286\n",
      "[LightGBM] [Info] Start training from score -0.015286\n",
      "[LightGBM] [Info] Number of positive: 13893, number of negative: 14107\n",
      "[LightGBM] [Info] Auto-choosing col-wise multi-threading, the overhead of testing was 0.004628 seconds.\n",
      "You can set `force_col_wise=true` to remove the overhead.\n",
      "[LightGBM] [Info] Total Bins 2977\n",
      "[LightGBM] [Info] Number of data points in the train set: 28000, number of used features: 24\n",
      "[LightGBM] [Info] [binary:BoostFromScore]: pavg=0.496179 -> initscore=-0.015286\n",
      "[LightGBM] [Info] Start training from score -0.015286\n",
      "[LightGBM] [Info] Number of positive: 13893, number of negative: 14107\n",
      "[LightGBM] [Info] Auto-choosing col-wise multi-threading, the overhead of testing was 0.004335 seconds.\n",
      "You can set `force_col_wise=true` to remove the overhead.\n",
      "[LightGBM] [Info] Total Bins 2116\n",
      "[LightGBM] [Info] Number of data points in the train set: 28000, number of used features: 20\n",
      "[LightGBM] [Info] [binary:BoostFromScore]: pavg=0.496179 -> initscore=-0.015286\n",
      "[LightGBM] [Info] Start training from score -0.015286\n",
      "[LightGBM] [Info] Number of positive: 13893, number of negative: 14107\n",
      "[LightGBM] [Info] Auto-choosing col-wise multi-threading, the overhead of testing was 0.004101 seconds.\n",
      "You can set `force_col_wise=true` to remove the overhead.\n",
      "[LightGBM] [Info] Total Bins 2786\n",
      "[LightGBM] [Info] Number of data points in the train set: 28000, number of used features: 17\n",
      "[LightGBM] [Info] [binary:BoostFromScore]: pavg=0.496179 -> initscore=-0.015286\n",
      "[LightGBM] [Info] Start training from score -0.015286\n",
      "[LightGBM] [Info] Number of positive: 13893, number of negative: 14107\n",
      "[LightGBM] [Info] Auto-choosing col-wise multi-threading, the overhead of testing was 0.004475 seconds.\n",
      "You can set `force_col_wise=true` to remove the overhead.\n",
      "[LightGBM] [Info] Total Bins 2843\n",
      "[LightGBM] [Info] Number of data points in the train set: 28000, number of used features: 21\n",
      "[LightGBM] [Info] [binary:BoostFromScore]: pavg=0.496179 -> initscore=-0.015286\n",
      "[LightGBM] [Info] Start training from score -0.015286\n",
      "[LightGBM] [Info] Number of positive: 13893, number of negative: 14107\n",
      "[LightGBM] [Info] Auto-choosing col-wise multi-threading, the overhead of testing was 0.004579 seconds.\n",
      "You can set `force_col_wise=true` to remove the overhead.\n",
      "[LightGBM] [Info] Total Bins 3331\n",
      "[LightGBM] [Info] Number of data points in the train set: 28000, number of used features: 20\n",
      "[LightGBM] [Info] [binary:BoostFromScore]: pavg=0.496179 -> initscore=-0.015286\n",
      "[LightGBM] [Info] Start training from score -0.015286\n"
     ]
    },
    {
     "name": "stderr",
     "output_type": "stream",
     "text": [
      "\u001b[32m [ 2024-11-25 17:27:04,203 ] \u001b[0mFinished iteration #5 with objective value -0.9366110108716559. Current best value is -0.9368513696871906 \u001b[0m\n"
     ]
    },
    {
     "name": "stdout",
     "output_type": "stream",
     "text": [
      "[LightGBM] [Info] Number of positive: 13893, number of negative: 14107\n",
      "[LightGBM] [Info] Auto-choosing col-wise multi-threading, the overhead of testing was 0.004261 seconds.\n",
      "You can set `force_col_wise=true` to remove the overhead.\n",
      "[LightGBM] [Info] Total Bins 2793\n",
      "[LightGBM] [Info] Number of data points in the train set: 28000, number of used features: 19\n",
      "[LightGBM] [Info] [binary:BoostFromScore]: pavg=0.496179 -> initscore=-0.015286\n",
      "[LightGBM] [Info] Start training from score -0.015286\n",
      "[LightGBM] [Info] Number of positive: 13893, number of negative: 14107\n",
      "[LightGBM] [Info] Auto-choosing row-wise multi-threading, the overhead of testing was 0.000972 seconds.\n",
      "You can set `force_row_wise=true` to remove the overhead.\n",
      "And if memory is not enough, you can set `force_col_wise=true`.\n",
      "[LightGBM] [Info] Total Bins 2429\n",
      "[LightGBM] [Info] Number of data points in the train set: 28000, number of used features: 18\n",
      "[LightGBM] [Info] [binary:BoostFromScore]: pavg=0.496179 -> initscore=-0.015286\n",
      "[LightGBM] [Info] Start training from score -0.015286\n",
      "[LightGBM] [Info] Number of positive: 13893, number of negative: 14107\n",
      "[LightGBM] [Info] Auto-choosing col-wise multi-threading, the overhead of testing was 0.005534 seconds.\n",
      "You can set `force_col_wise=true` to remove the overhead.\n",
      "[LightGBM] [Info] Total Bins 3390\n",
      "[LightGBM] [Info] Number of data points in the train set: 28000, number of used features: 23\n",
      "[LightGBM] [Info] [binary:BoostFromScore]: pavg=0.496179 -> initscore=-0.015286\n",
      "[LightGBM] [Info] Start training from score -0.015286\n",
      "[LightGBM] [Info] Number of positive: 13893, number of negative: 14107\n",
      "[LightGBM] [Info] Auto-choosing row-wise multi-threading, the overhead of testing was 0.001165 seconds.\n",
      "You can set `force_row_wise=true` to remove the overhead.\n",
      "And if memory is not enough, you can set `force_col_wise=true`.\n",
      "[LightGBM] [Info] Total Bins 2366\n",
      "[LightGBM] [Info] Number of data points in the train set: 28000, number of used features: 20\n",
      "[LightGBM] [Info] [binary:BoostFromScore]: pavg=0.496179 -> initscore=-0.015286\n",
      "[LightGBM] [Info] Start training from score -0.015286\n",
      "[LightGBM] [Info] Number of positive: 13893, number of negative: 14107\n",
      "[LightGBM] [Info] Auto-choosing col-wise multi-threading, the overhead of testing was 0.005296 seconds.\n",
      "You can set `force_col_wise=true` to remove the overhead.\n",
      "[LightGBM] [Info] Total Bins 3580\n",
      "[LightGBM] [Info] Number of data points in the train set: 28000, number of used features: 24\n",
      "[LightGBM] [Info] [binary:BoostFromScore]: pavg=0.496179 -> initscore=-0.015286\n",
      "[LightGBM] [Info] Start training from score -0.015286\n",
      "[LightGBM] [Info] Number of positive: 13893, number of negative: 14107\n",
      "[LightGBM] [Info] Auto-choosing row-wise multi-threading, the overhead of testing was 0.001040 seconds.\n",
      "You can set `force_row_wise=true` to remove the overhead.\n",
      "And if memory is not enough, you can set `force_col_wise=true`.\n",
      "[LightGBM] [Info] Total Bins 2540\n",
      "[LightGBM] [Info] Number of data points in the train set: 28000, number of used features: 19\n",
      "[LightGBM] [Info] [binary:BoostFromScore]: pavg=0.496179 -> initscore=-0.015286\n",
      "[LightGBM] [Info] Start training from score -0.015286\n",
      "[LightGBM] [Info] Number of positive: 13893, number of negative: 14107\n",
      "[LightGBM] [Info] Auto-choosing col-wise multi-threading, the overhead of testing was 0.001460 seconds.\n",
      "You can set `force_col_wise=true` to remove the overhead.\n",
      "[LightGBM] [Info] Total Bins 2529\n",
      "[LightGBM] [Info] Number of data points in the train set: 28000, number of used features: 19\n",
      "[LightGBM] [Info] [binary:BoostFromScore]: pavg=0.496179 -> initscore=-0.015286\n",
      "[LightGBM] [Info] Start training from score -0.015286\n",
      "[LightGBM] [Info] Number of positive: 13893, number of negative: 14107\n",
      "[LightGBM] [Info] Auto-choosing col-wise multi-threading, the overhead of testing was 0.004659 seconds.\n",
      "You can set `force_col_wise=true` to remove the overhead.\n",
      "[LightGBM] [Info] Total Bins 2574\n",
      "[LightGBM] [Info] Number of data points in the train set: 28000, number of used features: 19\n",
      "[LightGBM] [Info] [binary:BoostFromScore]: pavg=0.496179 -> initscore=-0.015286\n",
      "[LightGBM] [Info] Start training from score -0.015286\n",
      "[LightGBM] [Info] Number of positive: 13893, number of negative: 14107\n",
      "[LightGBM] [Info] Auto-choosing col-wise multi-threading, the overhead of testing was 0.005936 seconds.\n",
      "You can set `force_col_wise=true` to remove the overhead.\n",
      "[LightGBM] [Info] Total Bins 3331\n",
      "[LightGBM] [Info] Number of data points in the train set: 28000, number of used features: 26\n",
      "[LightGBM] [Info] [binary:BoostFromScore]: pavg=0.496179 -> initscore=-0.015286\n",
      "[LightGBM] [Info] Start training from score -0.015286\n",
      "[LightGBM] [Info] Number of positive: 13893, number of negative: 14107\n",
      "[LightGBM] [Info] Auto-choosing col-wise multi-threading, the overhead of testing was 0.004988 seconds.\n",
      "You can set `force_col_wise=true` to remove the overhead.\n",
      "[LightGBM] [Info] Total Bins 3105\n",
      "[LightGBM] [Info] Number of data points in the train set: 28000, number of used features: 24\n",
      "[LightGBM] [Info] [binary:BoostFromScore]: pavg=0.496179 -> initscore=-0.015286\n",
      "[LightGBM] [Info] Start training from score -0.015286\n",
      "[LightGBM] [Info] Number of positive: 13893, number of negative: 14107\n",
      "[LightGBM] [Info] Auto-choosing col-wise multi-threading, the overhead of testing was 0.001334 seconds.\n",
      "You can set `force_col_wise=true` to remove the overhead.\n",
      "[LightGBM] [Info] Total Bins 3323\n",
      "[LightGBM] [Info] Number of data points in the train set: 28000, number of used features: 22\n",
      "[LightGBM] [Info] [binary:BoostFromScore]: pavg=0.496179 -> initscore=-0.015286\n",
      "[LightGBM] [Info] Start training from score -0.015286\n",
      "[LightGBM] [Info] Number of positive: 13893, number of negative: 14107\n",
      "[LightGBM] [Info] Auto-choosing col-wise multi-threading, the overhead of testing was 0.006299 seconds.\n",
      "You can set `force_col_wise=true` to remove the overhead.\n",
      "[LightGBM] [Info] Total Bins 3384\n",
      "[LightGBM] [Info] Number of data points in the train set: 28000, number of used features: 23\n",
      "[LightGBM] [Info] [binary:BoostFromScore]: pavg=0.496179 -> initscore=-0.015286\n",
      "[LightGBM] [Info] Start training from score -0.015286\n",
      "[LightGBM] [Info] Number of positive: 13893, number of negative: 14107\n",
      "[LightGBM] [Info] Auto-choosing col-wise multi-threading, the overhead of testing was 0.004633 seconds.\n",
      "You can set `force_col_wise=true` to remove the overhead.\n",
      "[LightGBM] [Info] Total Bins 2766\n",
      "[LightGBM] [Info] Number of data points in the train set: 28000, number of used features: 18\n",
      "[LightGBM] [Info] [binary:BoostFromScore]: pavg=0.496179 -> initscore=-0.015286\n",
      "[LightGBM] [Info] Start training from score -0.015286\n",
      "[LightGBM] [Info] Number of positive: 13893, number of negative: 14107\n",
      "[LightGBM] [Info] Auto-choosing col-wise multi-threading, the overhead of testing was 0.001803 seconds.\n",
      "You can set `force_col_wise=true` to remove the overhead.\n",
      "[LightGBM] [Info] Total Bins 3513\n",
      "[LightGBM] [Info] Number of data points in the train set: 28000, number of used features: 23\n",
      "[LightGBM] [Info] [binary:BoostFromScore]: pavg=0.496179 -> initscore=-0.015286\n",
      "[LightGBM] [Info] Start training from score -0.015286\n",
      "[LightGBM] [Info] Number of positive: 13893, number of negative: 14107\n",
      "[LightGBM] [Info] Auto-choosing col-wise multi-threading, the overhead of testing was 0.004831 seconds.\n",
      "You can set `force_col_wise=true` to remove the overhead.\n",
      "[LightGBM] [Info] Total Bins 3098\n",
      "[LightGBM] [Info] Number of data points in the train set: 28000, number of used features: 22\n",
      "[LightGBM] [Info] [binary:BoostFromScore]: pavg=0.496179 -> initscore=-0.015286\n",
      "[LightGBM] [Info] Start training from score -0.015286\n",
      "[LightGBM] [Info] Number of positive: 13893, number of negative: 14107\n",
      "[LightGBM] [Info] Auto-choosing col-wise multi-threading, the overhead of testing was 0.004739 seconds.\n",
      "You can set `force_col_wise=true` to remove the overhead.\n",
      "[LightGBM] [Info] Total Bins 2731\n",
      "[LightGBM] [Info] Number of data points in the train set: 28000, number of used features: 20\n",
      "[LightGBM] [Info] [binary:BoostFromScore]: pavg=0.496179 -> initscore=-0.015286\n",
      "[LightGBM] [Info] Start training from score -0.015286\n",
      "[LightGBM] [Info] Number of positive: 13893, number of negative: 14107\n",
      "[LightGBM] [Info] Auto-choosing col-wise multi-threading, the overhead of testing was 0.005721 seconds.\n",
      "You can set `force_col_wise=true` to remove the overhead.\n",
      "[LightGBM] [Info] Total Bins 3280\n",
      "[LightGBM] [Info] Number of data points in the train set: 28000, number of used features: 22\n",
      "[LightGBM] [Info] [binary:BoostFromScore]: pavg=0.496179 -> initscore=-0.015286\n",
      "[LightGBM] [Info] Start training from score -0.015286\n",
      "[LightGBM] [Info] Number of positive: 13893, number of negative: 14107\n",
      "[LightGBM] [Info] Auto-choosing col-wise multi-threading, the overhead of testing was 0.001320 seconds.\n",
      "You can set `force_col_wise=true` to remove the overhead.\n",
      "[LightGBM] [Info] Total Bins 3198\n",
      "[LightGBM] [Info] Number of data points in the train set: 28000, number of used features: 21\n",
      "[LightGBM] [Info] [binary:BoostFromScore]: pavg=0.496179 -> initscore=-0.015286\n",
      "[LightGBM] [Info] Start training from score -0.015286\n",
      "[LightGBM] [Info] Number of positive: 13893, number of negative: 14107\n",
      "[LightGBM] [Info] Auto-choosing col-wise multi-threading, the overhead of testing was 0.005140 seconds.\n",
      "You can set `force_col_wise=true` to remove the overhead.\n",
      "[LightGBM] [Info] Total Bins 3358\n",
      "[LightGBM] [Info] Number of data points in the train set: 28000, number of used features: 24\n",
      "[LightGBM] [Info] [binary:BoostFromScore]: pavg=0.496179 -> initscore=-0.015286\n",
      "[LightGBM] [Info] Start training from score -0.015286\n",
      "[LightGBM] [Info] Number of positive: 13893, number of negative: 14107\n",
      "[LightGBM] [Info] Auto-choosing col-wise multi-threading, the overhead of testing was 0.004553 seconds.\n",
      "You can set `force_col_wise=true` to remove the overhead.\n",
      "[LightGBM] [Info] Total Bins 2727\n",
      "[LightGBM] [Info] Number of data points in the train set: 28000, number of used features: 22\n",
      "[LightGBM] [Info] [binary:BoostFromScore]: pavg=0.496179 -> initscore=-0.015286\n",
      "[LightGBM] [Info] Start training from score -0.015286\n",
      "[LightGBM] [Info] Number of positive: 13893, number of negative: 14107\n",
      "[LightGBM] [Info] Auto-choosing col-wise multi-threading, the overhead of testing was 0.006052 seconds.\n",
      "You can set `force_col_wise=true` to remove the overhead.\n",
      "[LightGBM] [Info] Total Bins 3392\n",
      "[LightGBM] [Info] Number of data points in the train set: 28000, number of used features: 26\n",
      "[LightGBM] [Info] [binary:BoostFromScore]: pavg=0.496179 -> initscore=-0.015286\n",
      "[LightGBM] [Info] Start training from score -0.015286\n",
      "[LightGBM] [Info] Number of positive: 13893, number of negative: 14107\n",
      "[LightGBM] [Info] Auto-choosing row-wise multi-threading, the overhead of testing was 0.001196 seconds.\n",
      "You can set `force_row_wise=true` to remove the overhead.\n",
      "And if memory is not enough, you can set `force_col_wise=true`.\n",
      "[LightGBM] [Info] Total Bins 2583\n",
      "[LightGBM] [Info] Number of data points in the train set: 28000, number of used features: 19\n",
      "[LightGBM] [Info] [binary:BoostFromScore]: pavg=0.496179 -> initscore=-0.015286\n",
      "[LightGBM] [Info] Start training from score -0.015286\n",
      "[LightGBM] [Info] Number of positive: 13893, number of negative: 14107\n",
      "[LightGBM] [Info] Auto-choosing row-wise multi-threading, the overhead of testing was 0.001046 seconds.\n",
      "You can set `force_row_wise=true` to remove the overhead.\n",
      "And if memory is not enough, you can set `force_col_wise=true`.\n",
      "[LightGBM] [Info] Total Bins 2392\n",
      "[LightGBM] [Info] Number of data points in the train set: 28000, number of used features: 17\n",
      "[LightGBM] [Info] [binary:BoostFromScore]: pavg=0.496179 -> initscore=-0.015286\n",
      "[LightGBM] [Info] Start training from score -0.015286\n",
      "[LightGBM] [Info] Number of positive: 13893, number of negative: 14107\n",
      "[LightGBM] [Info] Auto-choosing col-wise multi-threading, the overhead of testing was 0.004943 seconds.\n",
      "You can set `force_col_wise=true` to remove the overhead.\n",
      "[LightGBM] [Info] Total Bins 3039\n",
      "[LightGBM] [Info] Number of data points in the train set: 28000, number of used features: 23\n",
      "[LightGBM] [Info] [binary:BoostFromScore]: pavg=0.496179 -> initscore=-0.015286\n",
      "[LightGBM] [Info] Start training from score -0.015286\n",
      "[LightGBM] [Info] Number of positive: 13893, number of negative: 14107\n",
      "[LightGBM] [Info] Auto-choosing row-wise multi-threading, the overhead of testing was 0.001436 seconds.\n",
      "You can set `force_row_wise=true` to remove the overhead.\n",
      "And if memory is not enough, you can set `force_col_wise=true`.\n",
      "[LightGBM] [Info] Total Bins 3129\n",
      "[LightGBM] [Info] Number of data points in the train set: 28000, number of used features: 21\n",
      "[LightGBM] [Info] [binary:BoostFromScore]: pavg=0.496179 -> initscore=-0.015286\n",
      "[LightGBM] [Info] Start training from score -0.015286\n",
      "[LightGBM] [Info] Number of positive: 13893, number of negative: 14107\n",
      "[LightGBM] [Info] Auto-choosing col-wise multi-threading, the overhead of testing was 0.005144 seconds.\n",
      "You can set `force_col_wise=true` to remove the overhead.\n",
      "[LightGBM] [Info] Total Bins 2825\n",
      "[LightGBM] [Info] Number of data points in the train set: 28000, number of used features: 20\n",
      "[LightGBM] [Info] [binary:BoostFromScore]: pavg=0.496179 -> initscore=-0.015286\n",
      "[LightGBM] [Info] Start training from score -0.015286\n",
      "[LightGBM] [Info] Number of positive: 13893, number of negative: 14107\n",
      "[LightGBM] [Info] Auto-choosing col-wise multi-threading, the overhead of testing was 0.003593 seconds.\n",
      "You can set `force_col_wise=true` to remove the overhead.\n",
      "[LightGBM] [Info] Total Bins 2988\n",
      "[LightGBM] [Info] Number of data points in the train set: 28000, number of used features: 20\n",
      "[LightGBM] [Info] [binary:BoostFromScore]: pavg=0.496179 -> initscore=-0.015286\n",
      "[LightGBM] [Info] Start training from score -0.015286\n",
      "[LightGBM] [Info] Number of positive: 13893, number of negative: 14107\n",
      "[LightGBM] [Info] Auto-choosing col-wise multi-threading, the overhead of testing was 0.003577 seconds.\n",
      "You can set `force_col_wise=true` to remove the overhead.\n",
      "[LightGBM] [Info] Total Bins 2946\n",
      "[LightGBM] [Info] Number of data points in the train set: 28000, number of used features: 22\n",
      "[LightGBM] [Info] [binary:BoostFromScore]: pavg=0.496179 -> initscore=-0.015286\n",
      "[LightGBM] [Info] Start training from score -0.015286\n",
      "[LightGBM] [Info] Number of positive: 13893, number of negative: 14107\n",
      "[LightGBM] [Info] Auto-choosing row-wise multi-threading, the overhead of testing was 0.001359 seconds.\n",
      "You can set `force_row_wise=true` to remove the overhead.\n",
      "And if memory is not enough, you can set `force_col_wise=true`.\n",
      "[LightGBM] [Info] Total Bins 2331\n",
      "[LightGBM] [Info] Number of data points in the train set: 28000, number of used features: 18\n",
      "[LightGBM] [Info] [binary:BoostFromScore]: pavg=0.496179 -> initscore=-0.015286\n",
      "[LightGBM] [Info] Start training from score -0.015286\n",
      "[LightGBM] [Info] Number of positive: 13893, number of negative: 14107\n",
      "[LightGBM] [Info] Auto-choosing col-wise multi-threading, the overhead of testing was 0.004687 seconds.\n",
      "You can set `force_col_wise=true` to remove the overhead.\n",
      "[LightGBM] [Info] Total Bins 3072\n",
      "[LightGBM] [Info] Number of data points in the train set: 28000, number of used features: 23\n",
      "[LightGBM] [Info] [binary:BoostFromScore]: pavg=0.496179 -> initscore=-0.015286\n",
      "[LightGBM] [Info] Start training from score -0.015286\n"
     ]
    },
    {
     "name": "stderr",
     "output_type": "stream",
     "text": [
      "\u001b[32m [ 2024-11-25 17:27:14,564 ] \u001b[0mFinished iteration #6 with objective value -0.9371877034225413. Current best value is -0.9371877034225413 \u001b[0m\n"
     ]
    },
    {
     "name": "stdout",
     "output_type": "stream",
     "text": [
      "[LightGBM] [Info] Number of positive: 13893, number of negative: 14107\n",
      "[LightGBM] [Info] Auto-choosing col-wise multi-threading, the overhead of testing was 0.004771 seconds.\n",
      "You can set `force_col_wise=true` to remove the overhead.\n",
      "[LightGBM] [Info] Total Bins 3863\n",
      "[LightGBM] [Info] Number of data points in the train set: 28000, number of used features: 25\n",
      "[LightGBM] [Info] [binary:BoostFromScore]: pavg=0.496179 -> initscore=-0.015286\n",
      "[LightGBM] [Info] Start training from score -0.015286\n",
      "[LightGBM] [Info] Number of positive: 13893, number of negative: 14107\n",
      "[LightGBM] [Info] Auto-choosing col-wise multi-threading, the overhead of testing was 0.004899 seconds.\n",
      "You can set `force_col_wise=true` to remove the overhead.\n",
      "[LightGBM] [Info] Total Bins 3584\n",
      "[LightGBM] [Info] Number of data points in the train set: 28000, number of used features: 26\n",
      "[LightGBM] [Info] [binary:BoostFromScore]: pavg=0.496179 -> initscore=-0.015286\n",
      "[LightGBM] [Info] Start training from score -0.015286\n",
      "[LightGBM] [Info] Number of positive: 13893, number of negative: 14107\n",
      "[LightGBM] [Info] Auto-choosing row-wise multi-threading, the overhead of testing was 0.001038 seconds.\n",
      "You can set `force_row_wise=true` to remove the overhead.\n",
      "And if memory is not enough, you can set `force_col_wise=true`.\n",
      "[LightGBM] [Info] Total Bins 2779\n",
      "[LightGBM] [Info] Number of data points in the train set: 28000, number of used features: 19\n",
      "[LightGBM] [Info] [binary:BoostFromScore]: pavg=0.496179 -> initscore=-0.015286\n",
      "[LightGBM] [Info] Start training from score -0.015286\n",
      "[LightGBM] [Info] Number of positive: 13893, number of negative: 14107\n",
      "[LightGBM] [Info] Auto-choosing col-wise multi-threading, the overhead of testing was 0.004800 seconds.\n",
      "You can set `force_col_wise=true` to remove the overhead.\n",
      "[LightGBM] [Info] Total Bins 3327\n",
      "[LightGBM] [Info] Number of data points in the train set: 28000, number of used features: 24\n",
      "[LightGBM] [Info] [binary:BoostFromScore]: pavg=0.496179 -> initscore=-0.015286\n",
      "[LightGBM] [Info] Start training from score -0.015286\n",
      "[LightGBM] [Info] Number of positive: 13893, number of negative: 14107\n",
      "[LightGBM] [Info] Auto-choosing row-wise multi-threading, the overhead of testing was 0.001257 seconds.\n",
      "You can set `force_row_wise=true` to remove the overhead.\n",
      "And if memory is not enough, you can set `force_col_wise=true`.\n",
      "[LightGBM] [Info] Total Bins 2837\n",
      "[LightGBM] [Info] Number of data points in the train set: 28000, number of used features: 18\n",
      "[LightGBM] [Info] [binary:BoostFromScore]: pavg=0.496179 -> initscore=-0.015286\n",
      "[LightGBM] [Info] Start training from score -0.015286\n",
      "[LightGBM] [Info] Number of positive: 13893, number of negative: 14107\n",
      "[LightGBM] [Info] Auto-choosing col-wise multi-threading, the overhead of testing was 0.001118 seconds.\n",
      "You can set `force_col_wise=true` to remove the overhead.\n",
      "[LightGBM] [Info] Total Bins 3323\n",
      "[LightGBM] [Info] Number of data points in the train set: 28000, number of used features: 22\n",
      "[LightGBM] [Info] [binary:BoostFromScore]: pavg=0.496179 -> initscore=-0.015286\n",
      "[LightGBM] [Info] Start training from score -0.015286\n",
      "[LightGBM] [Info] Number of positive: 13893, number of negative: 14107\n",
      "[LightGBM] [Info] Auto-choosing col-wise multi-threading, the overhead of testing was 0.004037 seconds.\n",
      "You can set `force_col_wise=true` to remove the overhead.\n",
      "[LightGBM] [Info] Total Bins 3130\n",
      "[LightGBM] [Info] Number of data points in the train set: 28000, number of used features: 19\n",
      "[LightGBM] [Info] [binary:BoostFromScore]: pavg=0.496179 -> initscore=-0.015286\n",
      "[LightGBM] [Info] Start training from score -0.015286\n",
      "[LightGBM] [Info] Number of positive: 13893, number of negative: 14107\n",
      "[LightGBM] [Info] Auto-choosing col-wise multi-threading, the overhead of testing was 0.005042 seconds.\n",
      "You can set `force_col_wise=true` to remove the overhead.\n",
      "[LightGBM] [Info] Total Bins 3490\n",
      "[LightGBM] [Info] Number of data points in the train set: 28000, number of used features: 20\n",
      "[LightGBM] [Info] [binary:BoostFromScore]: pavg=0.496179 -> initscore=-0.015286\n",
      "[LightGBM] [Info] Start training from score -0.015286\n",
      "[LightGBM] [Info] Number of positive: 13893, number of negative: 14107\n",
      "[LightGBM] [Info] Auto-choosing col-wise multi-threading, the overhead of testing was 0.004386 seconds.\n",
      "You can set `force_col_wise=true` to remove the overhead.\n",
      "[LightGBM] [Info] Total Bins 3381\n",
      "[LightGBM] [Info] Number of data points in the train set: 28000, number of used features: 22\n",
      "[LightGBM] [Info] [binary:BoostFromScore]: pavg=0.496179 -> initscore=-0.015286\n",
      "[LightGBM] [Info] Start training from score -0.015286\n",
      "[LightGBM] [Info] Number of positive: 13893, number of negative: 14107\n",
      "[LightGBM] [Info] Auto-choosing col-wise multi-threading, the overhead of testing was 0.005552 seconds.\n",
      "You can set `force_col_wise=true` to remove the overhead.\n",
      "[LightGBM] [Info] Total Bins 3329\n",
      "[LightGBM] [Info] Number of data points in the train set: 28000, number of used features: 23\n",
      "[LightGBM] [Info] [binary:BoostFromScore]: pavg=0.496179 -> initscore=-0.015286\n",
      "[LightGBM] [Info] Start training from score -0.015286\n",
      "[LightGBM] [Info] Number of positive: 13893, number of negative: 14107\n",
      "[LightGBM] [Info] Auto-choosing col-wise multi-threading, the overhead of testing was 0.004051 seconds.\n",
      "You can set `force_col_wise=true` to remove the overhead.\n",
      "[LightGBM] [Info] Total Bins 2463\n",
      "[LightGBM] [Info] Number of data points in the train set: 28000, number of used features: 20\n",
      "[LightGBM] [Info] [binary:BoostFromScore]: pavg=0.496179 -> initscore=-0.015286\n",
      "[LightGBM] [Info] Start training from score -0.015286\n",
      "[LightGBM] [Info] Number of positive: 13893, number of negative: 14107\n",
      "[LightGBM] [Info] Auto-choosing col-wise multi-threading, the overhead of testing was 0.001335 seconds.\n",
      "You can set `force_col_wise=true` to remove the overhead.\n",
      "[LightGBM] [Info] Total Bins 3498\n",
      "[LightGBM] [Info] Number of data points in the train set: 28000, number of used features: 21\n",
      "[LightGBM] [Info] [binary:BoostFromScore]: pavg=0.496179 -> initscore=-0.015286\n",
      "[LightGBM] [Info] Start training from score -0.015286\n",
      "[LightGBM] [Info] Number of positive: 13893, number of negative: 14107\n",
      "[LightGBM] [Info] Auto-choosing col-wise multi-threading, the overhead of testing was 0.004706 seconds.\n",
      "You can set `force_col_wise=true` to remove the overhead.\n",
      "[LightGBM] [Info] Total Bins 2914\n",
      "[LightGBM] [Info] Number of data points in the train set: 28000, number of used features: 21\n",
      "[LightGBM] [Info] [binary:BoostFromScore]: pavg=0.496179 -> initscore=-0.015286\n",
      "[LightGBM] [Info] Start training from score -0.015286\n",
      "[LightGBM] [Info] Number of positive: 13893, number of negative: 14107\n",
      "[LightGBM] [Info] Auto-choosing col-wise multi-threading, the overhead of testing was 0.003680 seconds.\n",
      "You can set `force_col_wise=true` to remove the overhead.\n",
      "[LightGBM] [Info] Total Bins 2444\n",
      "[LightGBM] [Info] Number of data points in the train set: 28000, number of used features: 19\n",
      "[LightGBM] [Info] [binary:BoostFromScore]: pavg=0.496179 -> initscore=-0.015286\n",
      "[LightGBM] [Info] Start training from score -0.015286\n",
      "[LightGBM] [Info] Number of positive: 13893, number of negative: 14107\n",
      "[LightGBM] [Info] Auto-choosing col-wise multi-threading, the overhead of testing was 0.003819 seconds.\n",
      "You can set `force_col_wise=true` to remove the overhead.\n",
      "[LightGBM] [Info] Total Bins 2622\n",
      "[LightGBM] [Info] Number of data points in the train set: 28000, number of used features: 20\n",
      "[LightGBM] [Info] [binary:BoostFromScore]: pavg=0.496179 -> initscore=-0.015286\n",
      "[LightGBM] [Info] Start training from score -0.015286\n",
      "[LightGBM] [Info] Number of positive: 13893, number of negative: 14107\n",
      "[LightGBM] [Info] Auto-choosing row-wise multi-threading, the overhead of testing was 0.001267 seconds.\n",
      "You can set `force_row_wise=true` to remove the overhead.\n",
      "And if memory is not enough, you can set `force_col_wise=true`.\n",
      "[LightGBM] [Info] Total Bins 2075\n",
      "[LightGBM] [Info] Number of data points in the train set: 28000, number of used features: 16\n",
      "[LightGBM] [Info] [binary:BoostFromScore]: pavg=0.496179 -> initscore=-0.015286\n",
      "[LightGBM] [Info] Start training from score -0.015286\n",
      "[LightGBM] [Info] Number of positive: 13893, number of negative: 14107\n",
      "[LightGBM] [Info] Auto-choosing col-wise multi-threading, the overhead of testing was 0.001859 seconds.\n",
      "You can set `force_col_wise=true` to remove the overhead.\n",
      "[LightGBM] [Info] Total Bins 2921\n",
      "[LightGBM] [Info] Number of data points in the train set: 28000, number of used features: 19\n",
      "[LightGBM] [Info] [binary:BoostFromScore]: pavg=0.496179 -> initscore=-0.015286\n",
      "[LightGBM] [Info] Start training from score -0.015286\n",
      "[LightGBM] [Info] Number of positive: 13893, number of negative: 14107\n",
      "[LightGBM] [Info] Auto-choosing col-wise multi-threading, the overhead of testing was 0.003513 seconds.\n",
      "You can set `force_col_wise=true` to remove the overhead.\n",
      "[LightGBM] [Info] Total Bins 2157\n",
      "[LightGBM] [Info] Number of data points in the train set: 28000, number of used features: 16\n",
      "[LightGBM] [Info] [binary:BoostFromScore]: pavg=0.496179 -> initscore=-0.015286\n",
      "[LightGBM] [Info] Start training from score -0.015286\n",
      "[LightGBM] [Info] Number of positive: 13893, number of negative: 14107\n",
      "[LightGBM] [Info] Auto-choosing col-wise multi-threading, the overhead of testing was 0.004658 seconds.\n",
      "You can set `force_col_wise=true` to remove the overhead.\n",
      "[LightGBM] [Info] Total Bins 3454\n",
      "[LightGBM] [Info] Number of data points in the train set: 28000, number of used features: 24\n",
      "[LightGBM] [Info] [binary:BoostFromScore]: pavg=0.496179 -> initscore=-0.015286\n",
      "[LightGBM] [Info] Start training from score -0.015286\n",
      "[LightGBM] [Info] Number of positive: 13893, number of negative: 14107\n",
      "[LightGBM] [Info] Auto-choosing col-wise multi-threading, the overhead of testing was 0.000937 seconds.\n",
      "You can set `force_col_wise=true` to remove the overhead.\n",
      "[LightGBM] [Info] Total Bins 2509\n",
      "[LightGBM] [Info] Number of data points in the train set: 28000, number of used features: 17\n",
      "[LightGBM] [Info] [binary:BoostFromScore]: pavg=0.496179 -> initscore=-0.015286\n",
      "[LightGBM] [Info] Start training from score -0.015286\n",
      "[LightGBM] [Info] Number of positive: 13893, number of negative: 14107\n",
      "[LightGBM] [Info] Auto-choosing row-wise multi-threading, the overhead of testing was 0.001255 seconds.\n",
      "You can set `force_row_wise=true` to remove the overhead.\n",
      "And if memory is not enough, you can set `force_col_wise=true`.\n",
      "[LightGBM] [Info] Total Bins 2722\n",
      "[LightGBM] [Info] Number of data points in the train set: 28000, number of used features: 20\n",
      "[LightGBM] [Info] [binary:BoostFromScore]: pavg=0.496179 -> initscore=-0.015286\n",
      "[LightGBM] [Info] Start training from score -0.015286\n",
      "[LightGBM] [Info] Number of positive: 13893, number of negative: 14107\n",
      "[LightGBM] [Info] Auto-choosing col-wise multi-threading, the overhead of testing was 0.005612 seconds.\n",
      "You can set `force_col_wise=true` to remove the overhead.\n",
      "[LightGBM] [Info] Total Bins 3382\n",
      "[LightGBM] [Info] Number of data points in the train set: 28000, number of used features: 21\n",
      "[LightGBM] [Info] [binary:BoostFromScore]: pavg=0.496179 -> initscore=-0.015286\n",
      "[LightGBM] [Info] Start training from score -0.015286\n",
      "[LightGBM] [Info] Number of positive: 13893, number of negative: 14107\n",
      "[LightGBM] [Info] Auto-choosing col-wise multi-threading, the overhead of testing was 0.005325 seconds.\n",
      "You can set `force_col_wise=true` to remove the overhead.\n",
      "[LightGBM] [Info] Total Bins 3573\n",
      "[LightGBM] [Info] Number of data points in the train set: 28000, number of used features: 24\n",
      "[LightGBM] [Info] [binary:BoostFromScore]: pavg=0.496179 -> initscore=-0.015286\n",
      "[LightGBM] [Info] Start training from score -0.015286\n",
      "[LightGBM] [Info] Number of positive: 13893, number of negative: 14107\n",
      "[LightGBM] [Info] Auto-choosing col-wise multi-threading, the overhead of testing was 0.004377 seconds.\n",
      "You can set `force_col_wise=true` to remove the overhead.\n",
      "[LightGBM] [Info] Total Bins 3336\n",
      "[LightGBM] [Info] Number of data points in the train set: 28000, number of used features: 21\n",
      "[LightGBM] [Info] [binary:BoostFromScore]: pavg=0.496179 -> initscore=-0.015286\n",
      "[LightGBM] [Info] Start training from score -0.015286\n",
      "[LightGBM] [Info] Number of positive: 13893, number of negative: 14107\n",
      "[LightGBM] [Info] Auto-choosing col-wise multi-threading, the overhead of testing was 0.004188 seconds.\n",
      "You can set `force_col_wise=true` to remove the overhead.\n",
      "[LightGBM] [Info] Total Bins 3076\n",
      "[LightGBM] [Info] Number of data points in the train set: 28000, number of used features: 25\n",
      "[LightGBM] [Info] [binary:BoostFromScore]: pavg=0.496179 -> initscore=-0.015286\n",
      "[LightGBM] [Info] Start training from score -0.015286\n",
      "[LightGBM] [Info] Number of positive: 13893, number of negative: 14107\n",
      "[LightGBM] [Info] Auto-choosing row-wise multi-threading, the overhead of testing was 0.001256 seconds.\n",
      "You can set `force_row_wise=true` to remove the overhead.\n",
      "And if memory is not enough, you can set `force_col_wise=true`.\n",
      "[LightGBM] [Info] Total Bins 2588\n",
      "[LightGBM] [Info] Number of data points in the train set: 28000, number of used features: 20\n",
      "[LightGBM] [Info] [binary:BoostFromScore]: pavg=0.496179 -> initscore=-0.015286\n",
      "[LightGBM] [Info] Start training from score -0.015286\n",
      "[LightGBM] [Info] Number of positive: 13893, number of negative: 14107\n",
      "[LightGBM] [Info] Auto-choosing col-wise multi-threading, the overhead of testing was 0.004500 seconds.\n",
      "You can set `force_col_wise=true` to remove the overhead.\n",
      "[LightGBM] [Info] Total Bins 2839\n",
      "[LightGBM] [Info] Number of data points in the train set: 28000, number of used features: 19\n",
      "[LightGBM] [Info] [binary:BoostFromScore]: pavg=0.496179 -> initscore=-0.015286\n",
      "[LightGBM] [Info] Start training from score -0.015286\n",
      "[LightGBM] [Info] Number of positive: 13893, number of negative: 14107\n",
      "[LightGBM] [Info] Auto-choosing col-wise multi-threading, the overhead of testing was 0.005018 seconds.\n",
      "You can set `force_col_wise=true` to remove the overhead.\n",
      "[LightGBM] [Info] Total Bins 3196\n",
      "[LightGBM] [Info] Number of data points in the train set: 28000, number of used features: 22\n",
      "[LightGBM] [Info] [binary:BoostFromScore]: pavg=0.496179 -> initscore=-0.015286\n",
      "[LightGBM] [Info] Start training from score -0.015286\n",
      "[LightGBM] [Info] Number of positive: 13893, number of negative: 14107\n",
      "[LightGBM] [Info] Auto-choosing col-wise multi-threading, the overhead of testing was 0.005519 seconds.\n",
      "You can set `force_col_wise=true` to remove the overhead.\n",
      "[LightGBM] [Info] Total Bins 3122\n",
      "[LightGBM] [Info] Number of data points in the train set: 28000, number of used features: 23\n",
      "[LightGBM] [Info] [binary:BoostFromScore]: pavg=0.496179 -> initscore=-0.015286\n",
      "[LightGBM] [Info] Start training from score -0.015286\n",
      "[LightGBM] [Info] Number of positive: 13893, number of negative: 14107\n",
      "[LightGBM] [Info] Auto-choosing col-wise multi-threading, the overhead of testing was 0.004408 seconds.\n",
      "You can set `force_col_wise=true` to remove the overhead.\n",
      "[LightGBM] [Info] Total Bins 3100\n",
      "[LightGBM] [Info] Number of data points in the train set: 28000, number of used features: 21\n",
      "[LightGBM] [Info] [binary:BoostFromScore]: pavg=0.496179 -> initscore=-0.015286\n",
      "[LightGBM] [Info] Start training from score -0.015286\n"
     ]
    },
    {
     "name": "stderr",
     "output_type": "stream",
     "text": [
      "\u001b[32m [ 2024-11-25 17:27:24,941 ] \u001b[0mFinished iteration #7 with objective value -0.9368498168498168. Current best value is -0.9371877034225413 \u001b[0m\n"
     ]
    },
    {
     "name": "stdout",
     "output_type": "stream",
     "text": [
      "[LightGBM] [Info] Number of positive: 13893, number of negative: 14107\n",
      "[LightGBM] [Info] Auto-choosing col-wise multi-threading, the overhead of testing was 0.001909 seconds.\n",
      "You can set `force_col_wise=true` to remove the overhead.\n",
      "[LightGBM] [Info] Total Bins 2971\n",
      "[LightGBM] [Info] Number of data points in the train set: 28000, number of used features: 21\n",
      "[LightGBM] [Info] [binary:BoostFromScore]: pavg=0.496179 -> initscore=-0.015286\n",
      "[LightGBM] [Info] Start training from score -0.015286\n",
      "[LightGBM] [Info] Number of positive: 13893, number of negative: 14107\n",
      "[LightGBM] [Info] Auto-choosing col-wise multi-threading, the overhead of testing was 0.003590 seconds.\n",
      "You can set `force_col_wise=true` to remove the overhead.\n",
      "[LightGBM] [Info] Total Bins 2359\n",
      "[LightGBM] [Info] Number of data points in the train set: 28000, number of used features: 17\n",
      "[LightGBM] [Info] [binary:BoostFromScore]: pavg=0.496179 -> initscore=-0.015286\n",
      "[LightGBM] [Info] Start training from score -0.015286\n",
      "[LightGBM] [Info] Number of positive: 13893, number of negative: 14107\n",
      "[LightGBM] [Info] Auto-choosing col-wise multi-threading, the overhead of testing was 0.004878 seconds.\n",
      "You can set `force_col_wise=true` to remove the overhead.\n",
      "[LightGBM] [Info] Total Bins 3323\n",
      "[LightGBM] [Info] Number of data points in the train set: 28000, number of used features: 24\n",
      "[LightGBM] [Info] [binary:BoostFromScore]: pavg=0.496179 -> initscore=-0.015286\n",
      "[LightGBM] [Info] Start training from score -0.015286\n",
      "[LightGBM] [Info] Number of positive: 13893, number of negative: 14107\n",
      "[LightGBM] [Info] Auto-choosing row-wise multi-threading, the overhead of testing was 0.001110 seconds.\n",
      "You can set `force_row_wise=true` to remove the overhead.\n",
      "And if memory is not enough, you can set `force_col_wise=true`.\n",
      "[LightGBM] [Info] Total Bins 2434\n",
      "[LightGBM] [Info] Number of data points in the train set: 28000, number of used features: 19\n",
      "[LightGBM] [Info] [binary:BoostFromScore]: pavg=0.496179 -> initscore=-0.015286\n",
      "[LightGBM] [Info] Start training from score -0.015286\n",
      "[LightGBM] [Info] Number of positive: 13893, number of negative: 14107\n",
      "[LightGBM] [Info] Auto-choosing col-wise multi-threading, the overhead of testing was 0.000849 seconds.\n",
      "You can set `force_col_wise=true` to remove the overhead.\n",
      "[LightGBM] [Info] Total Bins 2358\n",
      "[LightGBM] [Info] Number of data points in the train set: 28000, number of used features: 16\n",
      "[LightGBM] [Info] [binary:BoostFromScore]: pavg=0.496179 -> initscore=-0.015286\n",
      "[LightGBM] [Info] Start training from score -0.015286\n",
      "[LightGBM] [Info] Number of positive: 13893, number of negative: 14107\n",
      "[LightGBM] [Info] Auto-choosing col-wise multi-threading, the overhead of testing was 0.004852 seconds.\n",
      "You can set `force_col_wise=true` to remove the overhead.\n",
      "[LightGBM] [Info] Total Bins 3288\n",
      "[LightGBM] [Info] Number of data points in the train set: 28000, number of used features: 22\n",
      "[LightGBM] [Info] [binary:BoostFromScore]: pavg=0.496179 -> initscore=-0.015286\n",
      "[LightGBM] [Info] Start training from score -0.015286\n",
      "[LightGBM] [Info] Number of positive: 13893, number of negative: 14107\n",
      "[LightGBM] [Info] Auto-choosing col-wise multi-threading, the overhead of testing was 0.005015 seconds.\n",
      "You can set `force_col_wise=true` to remove the overhead.\n",
      "[LightGBM] [Info] Total Bins 2815\n",
      "[LightGBM] [Info] Number of data points in the train set: 28000, number of used features: 21\n",
      "[LightGBM] [Info] [binary:BoostFromScore]: pavg=0.496179 -> initscore=-0.015286\n",
      "[LightGBM] [Info] Start training from score -0.015286\n",
      "[LightGBM] [Info] Number of positive: 13893, number of negative: 14107\n",
      "[LightGBM] [Info] Auto-choosing col-wise multi-threading, the overhead of testing was 0.004052 seconds.\n",
      "You can set `force_col_wise=true` to remove the overhead.\n",
      "[LightGBM] [Info] Total Bins 2624\n",
      "[LightGBM] [Info] Number of data points in the train set: 28000, number of used features: 19\n",
      "[LightGBM] [Info] [binary:BoostFromScore]: pavg=0.496179 -> initscore=-0.015286\n",
      "[LightGBM] [Info] Start training from score -0.015286\n",
      "[LightGBM] [Info] Number of positive: 13893, number of negative: 14107\n",
      "[LightGBM] [Info] Auto-choosing col-wise multi-threading, the overhead of testing was 0.005207 seconds.\n",
      "You can set `force_col_wise=true` to remove the overhead.\n",
      "[LightGBM] [Info] Total Bins 3905\n",
      "[LightGBM] [Info] Number of data points in the train set: 28000, number of used features: 26\n",
      "[LightGBM] [Info] [binary:BoostFromScore]: pavg=0.496179 -> initscore=-0.015286\n",
      "[LightGBM] [Info] Start training from score -0.015286\n",
      "[LightGBM] [Info] Number of positive: 13893, number of negative: 14107\n",
      "[LightGBM] [Info] Auto-choosing col-wise multi-threading, the overhead of testing was 0.004181 seconds.\n",
      "You can set `force_col_wise=true` to remove the overhead.\n",
      "[LightGBM] [Info] Total Bins 2821\n",
      "[LightGBM] [Info] Number of data points in the train set: 28000, number of used features: 18\n",
      "[LightGBM] [Info] [binary:BoostFromScore]: pavg=0.496179 -> initscore=-0.015286\n",
      "[LightGBM] [Info] Start training from score -0.015286\n",
      "[LightGBM] [Info] Number of positive: 13893, number of negative: 14107\n",
      "[LightGBM] [Info] Auto-choosing row-wise multi-threading, the overhead of testing was 0.001117 seconds.\n",
      "You can set `force_row_wise=true` to remove the overhead.\n",
      "And if memory is not enough, you can set `force_col_wise=true`.\n",
      "[LightGBM] [Info] Total Bins 2523\n",
      "[LightGBM] [Info] Number of data points in the train set: 28000, number of used features: 18\n",
      "[LightGBM] [Info] [binary:BoostFromScore]: pavg=0.496179 -> initscore=-0.015286\n",
      "[LightGBM] [Info] Start training from score -0.015286\n",
      "[LightGBM] [Info] Number of positive: 13893, number of negative: 14107\n",
      "[LightGBM] [Info] Auto-choosing col-wise multi-threading, the overhead of testing was 0.004172 seconds.\n",
      "You can set `force_col_wise=true` to remove the overhead.\n",
      "[LightGBM] [Info] Total Bins 3154\n",
      "[LightGBM] [Info] Number of data points in the train set: 28000, number of used features: 20\n",
      "[LightGBM] [Info] [binary:BoostFromScore]: pavg=0.496179 -> initscore=-0.015286\n",
      "[LightGBM] [Info] Start training from score -0.015286\n",
      "[LightGBM] [Info] Number of positive: 13893, number of negative: 14107\n",
      "[LightGBM] [Info] Auto-choosing col-wise multi-threading, the overhead of testing was 0.000938 seconds.\n",
      "You can set `force_col_wise=true` to remove the overhead.\n",
      "[LightGBM] [Info] Total Bins 3552\n",
      "[LightGBM] [Info] Number of data points in the train set: 28000, number of used features: 19\n",
      "[LightGBM] [Info] [binary:BoostFromScore]: pavg=0.496179 -> initscore=-0.015286\n",
      "[LightGBM] [Info] Start training from score -0.015286\n",
      "[LightGBM] [Info] Number of positive: 13893, number of negative: 14107\n",
      "[LightGBM] [Info] Auto-choosing col-wise multi-threading, the overhead of testing was 0.004452 seconds.\n",
      "You can set `force_col_wise=true` to remove the overhead.\n",
      "[LightGBM] [Info] Total Bins 2884\n",
      "[LightGBM] [Info] Number of data points in the train set: 28000, number of used features: 23\n",
      "[LightGBM] [Info] [binary:BoostFromScore]: pavg=0.496179 -> initscore=-0.015286\n",
      "[LightGBM] [Info] Start training from score -0.015286\n",
      "[LightGBM] [Info] Number of positive: 13893, number of negative: 14107\n",
      "[LightGBM] [Info] Auto-choosing col-wise multi-threading, the overhead of testing was 0.001894 seconds.\n",
      "You can set `force_col_wise=true` to remove the overhead.\n",
      "[LightGBM] [Info] Total Bins 3349\n",
      "[LightGBM] [Info] Number of data points in the train set: 28000, number of used features: 21\n",
      "[LightGBM] [Info] [binary:BoostFromScore]: pavg=0.496179 -> initscore=-0.015286\n",
      "[LightGBM] [Info] Start training from score -0.015286\n",
      "[LightGBM] [Info] Number of positive: 13893, number of negative: 14107\n",
      "[LightGBM] [Info] Auto-choosing col-wise multi-threading, the overhead of testing was 0.001554 seconds.\n",
      "You can set `force_col_wise=true` to remove the overhead.\n",
      "[LightGBM] [Info] Total Bins 3427\n",
      "[LightGBM] [Info] Number of data points in the train set: 28000, number of used features: 21\n",
      "[LightGBM] [Info] [binary:BoostFromScore]: pavg=0.496179 -> initscore=-0.015286\n",
      "[LightGBM] [Info] Start training from score -0.015286\n",
      "[LightGBM] [Info] Number of positive: 13893, number of negative: 14107\n",
      "[LightGBM] [Info] Auto-choosing col-wise multi-threading, the overhead of testing was 0.001274 seconds.\n",
      "You can set `force_col_wise=true` to remove the overhead.\n",
      "[LightGBM] [Info] Total Bins 3504\n",
      "[LightGBM] [Info] Number of data points in the train set: 28000, number of used features: 20\n",
      "[LightGBM] [Info] [binary:BoostFromScore]: pavg=0.496179 -> initscore=-0.015286\n",
      "[LightGBM] [Info] Start training from score -0.015286\n",
      "[LightGBM] [Info] Number of positive: 13893, number of negative: 14107\n",
      "[LightGBM] [Info] Auto-choosing col-wise multi-threading, the overhead of testing was 0.003525 seconds.\n",
      "You can set `force_col_wise=true` to remove the overhead.\n",
      "[LightGBM] [Info] Total Bins 1702\n",
      "[LightGBM] [Info] Number of data points in the train set: 28000, number of used features: 19\n",
      "[LightGBM] [Info] [binary:BoostFromScore]: pavg=0.496179 -> initscore=-0.015286\n",
      "[LightGBM] [Info] Start training from score -0.015286\n",
      "[LightGBM] [Info] Number of positive: 13893, number of negative: 14107\n",
      "[LightGBM] [Info] Auto-choosing col-wise multi-threading, the overhead of testing was 0.003915 seconds.\n",
      "You can set `force_col_wise=true` to remove the overhead.\n",
      "[LightGBM] [Info] Total Bins 3039\n",
      "[LightGBM] [Info] Number of data points in the train set: 28000, number of used features: 23\n",
      "[LightGBM] [Info] [binary:BoostFromScore]: pavg=0.496179 -> initscore=-0.015286\n",
      "[LightGBM] [Info] Start training from score -0.015286\n",
      "[LightGBM] [Info] Number of positive: 13893, number of negative: 14107\n",
      "[LightGBM] [Info] Auto-choosing col-wise multi-threading, the overhead of testing was 0.003822 seconds.\n",
      "You can set `force_col_wise=true` to remove the overhead.\n",
      "[LightGBM] [Info] Total Bins 3041\n",
      "[LightGBM] [Info] Number of data points in the train set: 28000, number of used features: 18\n",
      "[LightGBM] [Info] [binary:BoostFromScore]: pavg=0.496179 -> initscore=-0.015286\n",
      "[LightGBM] [Info] Start training from score -0.015286\n",
      "[LightGBM] [Info] Number of positive: 13893, number of negative: 14107\n",
      "[LightGBM] [Info] Auto-choosing col-wise multi-threading, the overhead of testing was 0.004418 seconds.\n",
      "You can set `force_col_wise=true` to remove the overhead.\n",
      "[LightGBM] [Info] Total Bins 3802\n",
      "[LightGBM] [Info] Number of data points in the train set: 28000, number of used features: 25\n",
      "[LightGBM] [Info] [binary:BoostFromScore]: pavg=0.496179 -> initscore=-0.015286\n",
      "[LightGBM] [Info] Start training from score -0.015286\n",
      "[LightGBM] [Info] Number of positive: 13893, number of negative: 14107\n",
      "[LightGBM] [Info] Auto-choosing col-wise multi-threading, the overhead of testing was 0.005442 seconds.\n",
      "You can set `force_col_wise=true` to remove the overhead.\n",
      "[LightGBM] [Info] Total Bins 3738\n",
      "[LightGBM] [Info] Number of data points in the train set: 28000, number of used features: 25\n",
      "[LightGBM] [Info] [binary:BoostFromScore]: pavg=0.496179 -> initscore=-0.015286\n",
      "[LightGBM] [Info] Start training from score -0.015286\n",
      "[LightGBM] [Info] Number of positive: 13893, number of negative: 14107\n",
      "[LightGBM] [Info] Auto-choosing row-wise multi-threading, the overhead of testing was 0.000931 seconds.\n",
      "You can set `force_row_wise=true` to remove the overhead.\n",
      "And if memory is not enough, you can set `force_col_wise=true`.\n",
      "[LightGBM] [Info] Total Bins 3022\n",
      "[LightGBM] [Info] Number of data points in the train set: 28000, number of used features: 21\n",
      "[LightGBM] [Info] [binary:BoostFromScore]: pavg=0.496179 -> initscore=-0.015286\n",
      "[LightGBM] [Info] Start training from score -0.015286\n",
      "[LightGBM] [Info] Number of positive: 13893, number of negative: 14107\n",
      "[LightGBM] [Info] Auto-choosing col-wise multi-threading, the overhead of testing was 0.005169 seconds.\n",
      "You can set `force_col_wise=true` to remove the overhead.\n",
      "[LightGBM] [Info] Total Bins 3429\n",
      "[LightGBM] [Info] Number of data points in the train set: 28000, number of used features: 26\n",
      "[LightGBM] [Info] [binary:BoostFromScore]: pavg=0.496179 -> initscore=-0.015286\n",
      "[LightGBM] [Info] Start training from score -0.015286\n",
      "[LightGBM] [Info] Number of positive: 13893, number of negative: 14107\n",
      "[LightGBM] [Info] Auto-choosing col-wise multi-threading, the overhead of testing was 0.004542 seconds.\n",
      "You can set `force_col_wise=true` to remove the overhead.\n",
      "[LightGBM] [Info] Total Bins 3021\n",
      "[LightGBM] [Info] Number of data points in the train set: 28000, number of used features: 20\n",
      "[LightGBM] [Info] [binary:BoostFromScore]: pavg=0.496179 -> initscore=-0.015286\n",
      "[LightGBM] [Info] Start training from score -0.015286\n",
      "[LightGBM] [Info] Number of positive: 13893, number of negative: 14107\n",
      "[LightGBM] [Info] Auto-choosing col-wise multi-threading, the overhead of testing was 0.003735 seconds.\n",
      "You can set `force_col_wise=true` to remove the overhead.\n",
      "[LightGBM] [Info] Total Bins 2871\n",
      "[LightGBM] [Info] Number of data points in the train set: 28000, number of used features: 20\n",
      "[LightGBM] [Info] [binary:BoostFromScore]: pavg=0.496179 -> initscore=-0.015286\n",
      "[LightGBM] [Info] Start training from score -0.015286\n",
      "[LightGBM] [Info] Number of positive: 13893, number of negative: 14107\n",
      "[LightGBM] [Info] Auto-choosing col-wise multi-threading, the overhead of testing was 0.001176 seconds.\n",
      "You can set `force_col_wise=true` to remove the overhead.\n",
      "[LightGBM] [Info] Total Bins 3639\n",
      "[LightGBM] [Info] Number of data points in the train set: 28000, number of used features: 23\n",
      "[LightGBM] [Info] [binary:BoostFromScore]: pavg=0.496179 -> initscore=-0.015286\n",
      "[LightGBM] [Info] Start training from score -0.015286\n",
      "[LightGBM] [Info] Number of positive: 13893, number of negative: 14107\n",
      "[LightGBM] [Info] Auto-choosing col-wise multi-threading, the overhead of testing was 0.003325 seconds.\n",
      "You can set `force_col_wise=true` to remove the overhead.\n",
      "[LightGBM] [Info] Total Bins 2518\n",
      "[LightGBM] [Info] Number of data points in the train set: 28000, number of used features: 17\n",
      "[LightGBM] [Info] [binary:BoostFromScore]: pavg=0.496179 -> initscore=-0.015286\n",
      "[LightGBM] [Info] Start training from score -0.015286\n",
      "[LightGBM] [Info] Number of positive: 13893, number of negative: 14107\n",
      "[LightGBM] [Info] Auto-choosing row-wise multi-threading, the overhead of testing was 0.001082 seconds.\n",
      "You can set `force_row_wise=true` to remove the overhead.\n",
      "And if memory is not enough, you can set `force_col_wise=true`.\n",
      "[LightGBM] [Info] Total Bins 2170\n",
      "[LightGBM] [Info] Number of data points in the train set: 28000, number of used features: 15\n",
      "[LightGBM] [Info] [binary:BoostFromScore]: pavg=0.496179 -> initscore=-0.015286\n",
      "[LightGBM] [Info] Start training from score -0.015286\n",
      "[LightGBM] [Info] Number of positive: 13893, number of negative: 14107\n",
      "[LightGBM] [Info] Auto-choosing col-wise multi-threading, the overhead of testing was 0.003720 seconds.\n",
      "You can set `force_col_wise=true` to remove the overhead.\n",
      "[LightGBM] [Info] Total Bins 3254\n",
      "[LightGBM] [Info] Number of data points in the train set: 28000, number of used features: 21\n",
      "[LightGBM] [Info] [binary:BoostFromScore]: pavg=0.496179 -> initscore=-0.015286\n",
      "[LightGBM] [Info] Start training from score -0.015286\n"
     ]
    },
    {
     "name": "stderr",
     "output_type": "stream",
     "text": [
      "\u001b[32m [ 2024-11-25 17:27:35,068 ] \u001b[0mFinished iteration #8 with objective value -0.9361296822053301. Current best value is -0.9371877034225413 \u001b[0m\n"
     ]
    },
    {
     "name": "stdout",
     "output_type": "stream",
     "text": [
      "[LightGBM] [Info] Number of positive: 13893, number of negative: 14107\n",
      "[LightGBM] [Info] Auto-choosing col-wise multi-threading, the overhead of testing was 0.001409 seconds.\n",
      "You can set `force_col_wise=true` to remove the overhead.\n",
      "[LightGBM] [Info] Total Bins 3324\n",
      "[LightGBM] [Info] Number of data points in the train set: 28000, number of used features: 22\n",
      "[LightGBM] [Info] [binary:BoostFromScore]: pavg=0.496179 -> initscore=-0.015286\n",
      "[LightGBM] [Info] Start training from score -0.015286\n",
      "[LightGBM] [Info] Number of positive: 13893, number of negative: 14107\n",
      "[LightGBM] [Info] Auto-choosing col-wise multi-threading, the overhead of testing was 0.000840 seconds.\n",
      "You can set `force_col_wise=true` to remove the overhead.\n",
      "[LightGBM] [Info] Total Bins 2548\n",
      "[LightGBM] [Info] Number of data points in the train set: 28000, number of used features: 17\n",
      "[LightGBM] [Info] [binary:BoostFromScore]: pavg=0.496179 -> initscore=-0.015286\n",
      "[LightGBM] [Info] Start training from score -0.015286\n",
      "[LightGBM] [Info] Number of positive: 13893, number of negative: 14107\n",
      "[LightGBM] [Info] Auto-choosing col-wise multi-threading, the overhead of testing was 0.004668 seconds.\n",
      "You can set `force_col_wise=true` to remove the overhead.\n",
      "[LightGBM] [Info] Total Bins 3680\n",
      "[LightGBM] [Info] Number of data points in the train set: 28000, number of used features: 25\n",
      "[LightGBM] [Info] [binary:BoostFromScore]: pavg=0.496179 -> initscore=-0.015286\n",
      "[LightGBM] [Info] Start training from score -0.015286\n",
      "[LightGBM] [Info] Number of positive: 13893, number of negative: 14107\n",
      "[LightGBM] [Info] Auto-choosing col-wise multi-threading, the overhead of testing was 0.004722 seconds.\n",
      "You can set `force_col_wise=true` to remove the overhead.\n",
      "[LightGBM] [Info] Total Bins 2771\n",
      "[LightGBM] [Info] Number of data points in the train set: 28000, number of used features: 22\n",
      "[LightGBM] [Info] [binary:BoostFromScore]: pavg=0.496179 -> initscore=-0.015286\n",
      "[LightGBM] [Info] Start training from score -0.015286\n",
      "[LightGBM] [Info] Number of positive: 13893, number of negative: 14107\n",
      "[LightGBM] [Info] Auto-choosing col-wise multi-threading, the overhead of testing was 0.001602 seconds.\n",
      "You can set `force_col_wise=true` to remove the overhead.\n",
      "[LightGBM] [Info] Total Bins 3791\n",
      "[LightGBM] [Info] Number of data points in the train set: 28000, number of used features: 26\n",
      "[LightGBM] [Info] [binary:BoostFromScore]: pavg=0.496179 -> initscore=-0.015286\n",
      "[LightGBM] [Info] Start training from score -0.015286\n",
      "[LightGBM] [Info] Number of positive: 13893, number of negative: 14107\n",
      "[LightGBM] [Info] Auto-choosing col-wise multi-threading, the overhead of testing was 0.004101 seconds.\n",
      "You can set `force_col_wise=true` to remove the overhead.\n",
      "[LightGBM] [Info] Total Bins 2621\n",
      "[LightGBM] [Info] Number of data points in the train set: 28000, number of used features: 20\n",
      "[LightGBM] [Info] [binary:BoostFromScore]: pavg=0.496179 -> initscore=-0.015286\n",
      "[LightGBM] [Info] Start training from score -0.015286\n",
      "[LightGBM] [Info] Number of positive: 13893, number of negative: 14107\n",
      "[LightGBM] [Info] Auto-choosing col-wise multi-threading, the overhead of testing was 0.004030 seconds.\n",
      "You can set `force_col_wise=true` to remove the overhead.\n",
      "[LightGBM] [Info] Total Bins 2063\n",
      "[LightGBM] [Info] Number of data points in the train set: 28000, number of used features: 18\n",
      "[LightGBM] [Info] [binary:BoostFromScore]: pavg=0.496179 -> initscore=-0.015286\n",
      "[LightGBM] [Info] Start training from score -0.015286\n",
      "[LightGBM] [Info] Number of positive: 13893, number of negative: 14107\n",
      "[LightGBM] [Info] Auto-choosing col-wise multi-threading, the overhead of testing was 0.004707 seconds.\n",
      "You can set `force_col_wise=true` to remove the overhead.\n",
      "[LightGBM] [Info] Total Bins 3019\n",
      "[LightGBM] [Info] Number of data points in the train set: 28000, number of used features: 21\n",
      "[LightGBM] [Info] [binary:BoostFromScore]: pavg=0.496179 -> initscore=-0.015286\n",
      "[LightGBM] [Info] Start training from score -0.015286\n",
      "[LightGBM] [Info] Number of positive: 13893, number of negative: 14107\n",
      "[LightGBM] [Info] Auto-choosing col-wise multi-threading, the overhead of testing was 0.005332 seconds.\n",
      "You can set `force_col_wise=true` to remove the overhead.\n",
      "[LightGBM] [Info] Total Bins 4299\n",
      "[LightGBM] [Info] Number of data points in the train set: 28000, number of used features: 27\n",
      "[LightGBM] [Info] [binary:BoostFromScore]: pavg=0.496179 -> initscore=-0.015286\n",
      "[LightGBM] [Info] Start training from score -0.015286\n",
      "[LightGBM] [Info] Number of positive: 13893, number of negative: 14107\n",
      "[LightGBM] [Info] Auto-choosing col-wise multi-threading, the overhead of testing was 0.004714 seconds.\n",
      "You can set `force_col_wise=true` to remove the overhead.\n",
      "[LightGBM] [Info] Total Bins 2630\n",
      "[LightGBM] [Info] Number of data points in the train set: 28000, number of used features: 24\n",
      "[LightGBM] [Info] [binary:BoostFromScore]: pavg=0.496179 -> initscore=-0.015286\n",
      "[LightGBM] [Info] Start training from score -0.015286\n",
      "[LightGBM] [Info] Number of positive: 13893, number of negative: 14107\n",
      "[LightGBM] [Info] Auto-choosing col-wise multi-threading, the overhead of testing was 0.004604 seconds.\n",
      "You can set `force_col_wise=true` to remove the overhead.\n",
      "[LightGBM] [Info] Total Bins 2566\n",
      "[LightGBM] [Info] Number of data points in the train set: 28000, number of used features: 23\n",
      "[LightGBM] [Info] [binary:BoostFromScore]: pavg=0.496179 -> initscore=-0.015286\n",
      "[LightGBM] [Info] Start training from score -0.015286\n",
      "[LightGBM] [Info] Number of positive: 13893, number of negative: 14107\n",
      "[LightGBM] [Info] Auto-choosing col-wise multi-threading, the overhead of testing was 0.004683 seconds.\n",
      "You can set `force_col_wise=true` to remove the overhead.\n",
      "[LightGBM] [Info] Total Bins 3602\n",
      "[LightGBM] [Info] Number of data points in the train set: 28000, number of used features: 21\n",
      "[LightGBM] [Info] [binary:BoostFromScore]: pavg=0.496179 -> initscore=-0.015286\n",
      "[LightGBM] [Info] Start training from score -0.015286\n",
      "[LightGBM] [Info] Number of positive: 13893, number of negative: 14107\n",
      "[LightGBM] [Info] Auto-choosing col-wise multi-threading, the overhead of testing was 0.005777 seconds.\n",
      "You can set `force_col_wise=true` to remove the overhead.\n",
      "[LightGBM] [Info] Total Bins 3615\n",
      "[LightGBM] [Info] Number of data points in the train set: 28000, number of used features: 26\n",
      "[LightGBM] [Info] [binary:BoostFromScore]: pavg=0.496179 -> initscore=-0.015286\n",
      "[LightGBM] [Info] Start training from score -0.015286\n",
      "[LightGBM] [Info] Number of positive: 13893, number of negative: 14107\n",
      "[LightGBM] [Info] Auto-choosing col-wise multi-threading, the overhead of testing was 0.003405 seconds.\n",
      "You can set `force_col_wise=true` to remove the overhead.\n",
      "[LightGBM] [Info] Total Bins 2621\n",
      "[LightGBM] [Info] Number of data points in the train set: 28000, number of used features: 20\n",
      "[LightGBM] [Info] [binary:BoostFromScore]: pavg=0.496179 -> initscore=-0.015286\n",
      "[LightGBM] [Info] Start training from score -0.015286\n",
      "[LightGBM] [Info] Number of positive: 13893, number of negative: 14107\n",
      "[LightGBM] [Info] Auto-choosing col-wise multi-threading, the overhead of testing was 0.004522 seconds.\n",
      "You can set `force_col_wise=true` to remove the overhead.\n",
      "[LightGBM] [Info] Total Bins 4085\n",
      "[LightGBM] [Info] Number of data points in the train set: 28000, number of used features: 25\n",
      "[LightGBM] [Info] [binary:BoostFromScore]: pavg=0.496179 -> initscore=-0.015286\n",
      "[LightGBM] [Info] Start training from score -0.015286\n",
      "[LightGBM] [Info] Number of positive: 13893, number of negative: 14107\n",
      "[LightGBM] [Info] Auto-choosing col-wise multi-threading, the overhead of testing was 0.004709 seconds.\n",
      "You can set `force_col_wise=true` to remove the overhead.\n",
      "[LightGBM] [Info] Total Bins 3502\n",
      "[LightGBM] [Info] Number of data points in the train set: 28000, number of used features: 23\n",
      "[LightGBM] [Info] [binary:BoostFromScore]: pavg=0.496179 -> initscore=-0.015286\n",
      "[LightGBM] [Info] Start training from score -0.015286\n",
      "[LightGBM] [Info] Number of positive: 13893, number of negative: 14107\n",
      "[LightGBM] [Info] Auto-choosing col-wise multi-threading, the overhead of testing was 0.004268 seconds.\n",
      "You can set `force_col_wise=true` to remove the overhead.\n",
      "[LightGBM] [Info] Total Bins 3500\n",
      "[LightGBM] [Info] Number of data points in the train set: 28000, number of used features: 22\n",
      "[LightGBM] [Info] [binary:BoostFromScore]: pavg=0.496179 -> initscore=-0.015286\n",
      "[LightGBM] [Info] Start training from score -0.015286\n",
      "[LightGBM] [Info] Number of positive: 13893, number of negative: 14107\n",
      "[LightGBM] [Info] Auto-choosing col-wise multi-threading, the overhead of testing was 0.004552 seconds.\n",
      "You can set `force_col_wise=true` to remove the overhead.\n",
      "[LightGBM] [Info] Total Bins 3297\n",
      "[LightGBM] [Info] Number of data points in the train set: 28000, number of used features: 24\n",
      "[LightGBM] [Info] [binary:BoostFromScore]: pavg=0.496179 -> initscore=-0.015286\n",
      "[LightGBM] [Info] Start training from score -0.015286\n",
      "[LightGBM] [Info] Number of positive: 13893, number of negative: 14107\n",
      "[LightGBM] [Info] Auto-choosing col-wise multi-threading, the overhead of testing was 0.003570 seconds.\n",
      "You can set `force_col_wise=true` to remove the overhead.\n",
      "[LightGBM] [Info] Total Bins 2770\n",
      "[LightGBM] [Info] Number of data points in the train set: 28000, number of used features: 20\n",
      "[LightGBM] [Info] [binary:BoostFromScore]: pavg=0.496179 -> initscore=-0.015286\n",
      "[LightGBM] [Info] Start training from score -0.015286\n",
      "[LightGBM] [Info] Number of positive: 13893, number of negative: 14107\n",
      "[LightGBM] [Info] Auto-choosing row-wise multi-threading, the overhead of testing was 0.001107 seconds.\n",
      "You can set `force_row_wise=true` to remove the overhead.\n",
      "And if memory is not enough, you can set `force_col_wise=true`.\n",
      "[LightGBM] [Info] Total Bins 2073\n",
      "[LightGBM] [Info] Number of data points in the train set: 28000, number of used features: 17\n",
      "[LightGBM] [Info] [binary:BoostFromScore]: pavg=0.496179 -> initscore=-0.015286\n",
      "[LightGBM] [Info] Start training from score -0.015286\n",
      "[LightGBM] [Info] Number of positive: 13893, number of negative: 14107\n",
      "[LightGBM] [Info] Auto-choosing col-wise multi-threading, the overhead of testing was 0.003858 seconds.\n",
      "You can set `force_col_wise=true` to remove the overhead.\n",
      "[LightGBM] [Info] Total Bins 2878\n",
      "[LightGBM] [Info] Number of data points in the train set: 28000, number of used features: 22\n",
      "[LightGBM] [Info] [binary:BoostFromScore]: pavg=0.496179 -> initscore=-0.015286\n",
      "[LightGBM] [Info] Start training from score -0.015286\n",
      "[LightGBM] [Info] Number of positive: 13893, number of negative: 14107\n",
      "[LightGBM] [Info] Auto-choosing col-wise multi-threading, the overhead of testing was 0.003335 seconds.\n",
      "You can set `force_col_wise=true` to remove the overhead.\n",
      "[LightGBM] [Info] Total Bins 3032\n",
      "[LightGBM] [Info] Number of data points in the train set: 28000, number of used features: 21\n",
      "[LightGBM] [Info] [binary:BoostFromScore]: pavg=0.496179 -> initscore=-0.015286\n",
      "[LightGBM] [Info] Start training from score -0.015286\n",
      "[LightGBM] [Info] Number of positive: 13893, number of negative: 14107\n",
      "[LightGBM] [Info] Auto-choosing col-wise multi-threading, the overhead of testing was 0.005113 seconds.\n",
      "You can set `force_col_wise=true` to remove the overhead.\n",
      "[LightGBM] [Info] Total Bins 2822\n",
      "[LightGBM] [Info] Number of data points in the train set: 28000, number of used features: 23\n",
      "[LightGBM] [Info] [binary:BoostFromScore]: pavg=0.496179 -> initscore=-0.015286\n",
      "[LightGBM] [Info] Start training from score -0.015286\n",
      "[LightGBM] [Info] Number of positive: 13893, number of negative: 14107\n",
      "[LightGBM] [Info] Auto-choosing col-wise multi-threading, the overhead of testing was 0.004832 seconds.\n",
      "You can set `force_col_wise=true` to remove the overhead.\n",
      "[LightGBM] [Info] Total Bins 3290\n",
      "[LightGBM] [Info] Number of data points in the train set: 28000, number of used features: 22\n",
      "[LightGBM] [Info] [binary:BoostFromScore]: pavg=0.496179 -> initscore=-0.015286\n",
      "[LightGBM] [Info] Start training from score -0.015286\n",
      "[LightGBM] [Info] Number of positive: 13893, number of negative: 14107\n",
      "[LightGBM] [Info] Auto-choosing col-wise multi-threading, the overhead of testing was 0.004579 seconds.\n",
      "You can set `force_col_wise=true` to remove the overhead.\n",
      "[LightGBM] [Info] Total Bins 3096\n",
      "[LightGBM] [Info] Number of data points in the train set: 28000, number of used features: 21\n",
      "[LightGBM] [Info] [binary:BoostFromScore]: pavg=0.496179 -> initscore=-0.015286\n",
      "[LightGBM] [Info] Start training from score -0.015286\n",
      "[LightGBM] [Info] Number of positive: 13893, number of negative: 14107\n",
      "[LightGBM] [Info] Auto-choosing col-wise multi-threading, the overhead of testing was 0.004446 seconds.\n",
      "You can set `force_col_wise=true` to remove the overhead.\n",
      "[LightGBM] [Info] Total Bins 3113\n",
      "[LightGBM] [Info] Number of data points in the train set: 28000, number of used features: 19\n",
      "[LightGBM] [Info] [binary:BoostFromScore]: pavg=0.496179 -> initscore=-0.015286\n",
      "[LightGBM] [Info] Start training from score -0.015286\n",
      "[LightGBM] [Info] Number of positive: 13893, number of negative: 14107\n",
      "[LightGBM] [Info] Auto-choosing col-wise multi-threading, the overhead of testing was 0.005112 seconds.\n",
      "You can set `force_col_wise=true` to remove the overhead.\n",
      "[LightGBM] [Info] Total Bins 3072\n",
      "[LightGBM] [Info] Number of data points in the train set: 28000, number of used features: 24\n",
      "[LightGBM] [Info] [binary:BoostFromScore]: pavg=0.496179 -> initscore=-0.015286\n",
      "[LightGBM] [Info] Start training from score -0.015286\n",
      "[LightGBM] [Info] Number of positive: 13893, number of negative: 14107\n",
      "[LightGBM] [Info] Auto-choosing col-wise multi-threading, the overhead of testing was 0.003945 seconds.\n",
      "You can set `force_col_wise=true` to remove the overhead.\n",
      "[LightGBM] [Info] Total Bins 2556\n",
      "[LightGBM] [Info] Number of data points in the train set: 28000, number of used features: 19\n",
      "[LightGBM] [Info] [binary:BoostFromScore]: pavg=0.496179 -> initscore=-0.015286\n",
      "[LightGBM] [Info] Start training from score -0.015286\n",
      "[LightGBM] [Info] Number of positive: 13893, number of negative: 14107\n",
      "[LightGBM] [Info] Auto-choosing col-wise multi-threading, the overhead of testing was 0.003981 seconds.\n",
      "You can set `force_col_wise=true` to remove the overhead.\n",
      "[LightGBM] [Info] Total Bins 3027\n",
      "[LightGBM] [Info] Number of data points in the train set: 28000, number of used features: 23\n",
      "[LightGBM] [Info] [binary:BoostFromScore]: pavg=0.496179 -> initscore=-0.015286\n",
      "[LightGBM] [Info] Start training from score -0.015286\n",
      "[LightGBM] [Info] Number of positive: 13893, number of negative: 14107\n",
      "[LightGBM] [Info] Auto-choosing row-wise multi-threading, the overhead of testing was 0.001368 seconds.\n",
      "You can set `force_row_wise=true` to remove the overhead.\n",
      "And if memory is not enough, you can set `force_col_wise=true`.\n",
      "[LightGBM] [Info] Total Bins 2360\n",
      "[LightGBM] [Info] Number of data points in the train set: 28000, number of used features: 22\n",
      "[LightGBM] [Info] [binary:BoostFromScore]: pavg=0.496179 -> initscore=-0.015286\n",
      "[LightGBM] [Info] Start training from score -0.015286\n"
     ]
    },
    {
     "name": "stderr",
     "output_type": "stream",
     "text": [
      "\u001b[32m [ 2024-11-25 17:27:45,168 ] \u001b[0mFinished iteration #9 with objective value -0.9365345962168562. Current best value is -0.9371877034225413 \u001b[0m\n"
     ]
    },
    {
     "name": "stdout",
     "output_type": "stream",
     "text": [
      "[LightGBM] [Info] Number of positive: 13893, number of negative: 14107\n",
      "[LightGBM] [Info] Auto-choosing col-wise multi-threading, the overhead of testing was 0.004677 seconds.\n",
      "You can set `force_col_wise=true` to remove the overhead.\n",
      "[LightGBM] [Info] Total Bins 3329\n",
      "[LightGBM] [Info] Number of data points in the train set: 28000, number of used features: 25\n",
      "[LightGBM] [Info] [binary:BoostFromScore]: pavg=0.496179 -> initscore=-0.015286\n",
      "[LightGBM] [Info] Start training from score -0.015286\n",
      "[LightGBM] [Info] Number of positive: 13893, number of negative: 14107\n",
      "[LightGBM] [Info] Auto-choosing col-wise multi-threading, the overhead of testing was 0.004856 seconds.\n",
      "You can set `force_col_wise=true` to remove the overhead.\n",
      "[LightGBM] [Info] Total Bins 3643\n",
      "[LightGBM] [Info] Number of data points in the train set: 28000, number of used features: 25\n",
      "[LightGBM] [Info] [binary:BoostFromScore]: pavg=0.496179 -> initscore=-0.015286\n",
      "[LightGBM] [Info] Start training from score -0.015286\n",
      "[LightGBM] [Info] Number of positive: 13893, number of negative: 14107\n",
      "[LightGBM] [Info] Auto-choosing col-wise multi-threading, the overhead of testing was 0.004505 seconds.\n",
      "You can set `force_col_wise=true` to remove the overhead.\n",
      "[LightGBM] [Info] Total Bins 3025\n",
      "[LightGBM] [Info] Number of data points in the train set: 28000, number of used features: 22\n",
      "[LightGBM] [Info] [binary:BoostFromScore]: pavg=0.496179 -> initscore=-0.015286\n",
      "[LightGBM] [Info] Start training from score -0.015286\n",
      "[LightGBM] [Info] Number of positive: 13893, number of negative: 14107\n",
      "[LightGBM] [Info] Auto-choosing col-wise multi-threading, the overhead of testing was 0.006281 seconds.\n",
      "You can set `force_col_wise=true` to remove the overhead.\n",
      "[LightGBM] [Info] Total Bins 4022\n",
      "[LightGBM] [Info] Number of data points in the train set: 28000, number of used features: 26\n",
      "[LightGBM] [Info] [binary:BoostFromScore]: pavg=0.496179 -> initscore=-0.015286\n",
      "[LightGBM] [Info] Start training from score -0.015286\n",
      "[LightGBM] [Info] Number of positive: 13893, number of negative: 14107\n",
      "[LightGBM] [Info] Auto-choosing col-wise multi-threading, the overhead of testing was 0.004599 seconds.\n",
      "You can set `force_col_wise=true` to remove the overhead.\n",
      "[LightGBM] [Info] Total Bins 3320\n",
      "[LightGBM] [Info] Number of data points in the train set: 28000, number of used features: 22\n",
      "[LightGBM] [Info] [binary:BoostFromScore]: pavg=0.496179 -> initscore=-0.015286\n",
      "[LightGBM] [Info] Start training from score -0.015286\n",
      "[LightGBM] [Info] Number of positive: 13893, number of negative: 14107\n",
      "[LightGBM] [Info] Auto-choosing col-wise multi-threading, the overhead of testing was 0.005905 seconds.\n",
      "You can set `force_col_wise=true` to remove the overhead.\n",
      "[LightGBM] [Info] Total Bins 3859\n",
      "[LightGBM] [Info] Number of data points in the train set: 28000, number of used features: 23\n",
      "[LightGBM] [Info] [binary:BoostFromScore]: pavg=0.496179 -> initscore=-0.015286\n",
      "[LightGBM] [Info] Start training from score -0.015286\n",
      "[LightGBM] [Info] Number of positive: 13893, number of negative: 14107\n",
      "[LightGBM] [Info] Auto-choosing col-wise multi-threading, the overhead of testing was 0.004138 seconds.\n",
      "You can set `force_col_wise=true` to remove the overhead.\n",
      "[LightGBM] [Info] Total Bins 3286\n",
      "[LightGBM] [Info] Number of data points in the train set: 28000, number of used features: 20\n",
      "[LightGBM] [Info] [binary:BoostFromScore]: pavg=0.496179 -> initscore=-0.015286\n",
      "[LightGBM] [Info] Start training from score -0.015286\n",
      "[LightGBM] [Info] Number of positive: 13893, number of negative: 14107\n",
      "[LightGBM] [Info] Auto-choosing col-wise multi-threading, the overhead of testing was 0.004208 seconds.\n",
      "You can set `force_col_wise=true` to remove the overhead.\n",
      "[LightGBM] [Info] Total Bins 2596\n",
      "[LightGBM] [Info] Number of data points in the train set: 28000, number of used features: 22\n",
      "[LightGBM] [Info] [binary:BoostFromScore]: pavg=0.496179 -> initscore=-0.015286\n",
      "[LightGBM] [Info] Start training from score -0.015286\n",
      "[LightGBM] [Info] Number of positive: 13893, number of negative: 14107\n",
      "[LightGBM] [Info] Auto-choosing col-wise multi-threading, the overhead of testing was 0.004713 seconds.\n",
      "You can set `force_col_wise=true` to remove the overhead.\n",
      "[LightGBM] [Info] Total Bins 2514\n",
      "[LightGBM] [Info] Number of data points in the train set: 28000, number of used features: 20\n",
      "[LightGBM] [Info] [binary:BoostFromScore]: pavg=0.496179 -> initscore=-0.015286\n",
      "[LightGBM] [Info] Start training from score -0.015286\n",
      "[LightGBM] [Info] Number of positive: 13893, number of negative: 14107\n",
      "[LightGBM] [Info] Auto-choosing row-wise multi-threading, the overhead of testing was 0.001181 seconds.\n",
      "You can set `force_row_wise=true` to remove the overhead.\n",
      "And if memory is not enough, you can set `force_col_wise=true`.\n",
      "[LightGBM] [Info] Total Bins 2111\n",
      "[LightGBM] [Info] Number of data points in the train set: 28000, number of used features: 18\n",
      "[LightGBM] [Info] [binary:BoostFromScore]: pavg=0.496179 -> initscore=-0.015286\n",
      "[LightGBM] [Info] Start training from score -0.015286\n",
      "[LightGBM] [Info] Number of positive: 13893, number of negative: 14107\n",
      "[LightGBM] [Info] Auto-choosing col-wise multi-threading, the overhead of testing was 0.004719 seconds.\n",
      "You can set `force_col_wise=true` to remove the overhead.\n",
      "[LightGBM] [Info] Total Bins 3804\n",
      "[LightGBM] [Info] Number of data points in the train set: 28000, number of used features: 26\n",
      "[LightGBM] [Info] [binary:BoostFromScore]: pavg=0.496179 -> initscore=-0.015286\n",
      "[LightGBM] [Info] Start training from score -0.015286\n",
      "[LightGBM] [Info] Number of positive: 13893, number of negative: 14107\n",
      "[LightGBM] [Info] Auto-choosing col-wise multi-threading, the overhead of testing was 0.003901 seconds.\n",
      "You can set `force_col_wise=true` to remove the overhead.\n",
      "[LightGBM] [Info] Total Bins 3122\n",
      "[LightGBM] [Info] Number of data points in the train set: 28000, number of used features: 19\n",
      "[LightGBM] [Info] [binary:BoostFromScore]: pavg=0.496179 -> initscore=-0.015286\n",
      "[LightGBM] [Info] Start training from score -0.015286\n",
      "[LightGBM] [Info] Number of positive: 13893, number of negative: 14107\n",
      "[LightGBM] [Info] Auto-choosing col-wise multi-threading, the overhead of testing was 0.004146 seconds.\n",
      "You can set `force_col_wise=true` to remove the overhead.\n",
      "[LightGBM] [Info] Total Bins 2626\n",
      "[LightGBM] [Info] Number of data points in the train set: 28000, number of used features: 22\n",
      "[LightGBM] [Info] [binary:BoostFromScore]: pavg=0.496179 -> initscore=-0.015286\n",
      "[LightGBM] [Info] Start training from score -0.015286\n",
      "[LightGBM] [Info] Number of positive: 13893, number of negative: 14107\n",
      "[LightGBM] [Info] Auto-choosing col-wise multi-threading, the overhead of testing was 0.004942 seconds.\n",
      "You can set `force_col_wise=true` to remove the overhead.\n",
      "[LightGBM] [Info] Total Bins 3769\n",
      "[LightGBM] [Info] Number of data points in the train set: 28000, number of used features: 26\n",
      "[LightGBM] [Info] [binary:BoostFromScore]: pavg=0.496179 -> initscore=-0.015286\n",
      "[LightGBM] [Info] Start training from score -0.015286\n",
      "[LightGBM] [Info] Number of positive: 13893, number of negative: 14107\n",
      "[LightGBM] [Info] Auto-choosing col-wise multi-threading, the overhead of testing was 0.004770 seconds.\n",
      "You can set `force_col_wise=true` to remove the overhead.\n",
      "[LightGBM] [Info] Total Bins 3580\n",
      "[LightGBM] [Info] Number of data points in the train set: 28000, number of used features: 24\n",
      "[LightGBM] [Info] [binary:BoostFromScore]: pavg=0.496179 -> initscore=-0.015286\n",
      "[LightGBM] [Info] Start training from score -0.015286\n",
      "[LightGBM] [Info] Number of positive: 13893, number of negative: 14107\n",
      "[LightGBM] [Info] Auto-choosing col-wise multi-threading, the overhead of testing was 0.003859 seconds.\n",
      "You can set `force_col_wise=true` to remove the overhead.\n",
      "[LightGBM] [Info] Total Bins 2561\n",
      "[LightGBM] [Info] Number of data points in the train set: 28000, number of used features: 20\n",
      "[LightGBM] [Info] [binary:BoostFromScore]: pavg=0.496179 -> initscore=-0.015286\n",
      "[LightGBM] [Info] Start training from score -0.015286\n",
      "[LightGBM] [Info] Number of positive: 13893, number of negative: 14107\n",
      "[LightGBM] [Info] Auto-choosing col-wise multi-threading, the overhead of testing was 0.001095 seconds.\n",
      "You can set `force_col_wise=true` to remove the overhead.\n",
      "[LightGBM] [Info] Total Bins 2878\n",
      "[LightGBM] [Info] Number of data points in the train set: 28000, number of used features: 22\n",
      "[LightGBM] [Info] [binary:BoostFromScore]: pavg=0.496179 -> initscore=-0.015286\n",
      "[LightGBM] [Info] Start training from score -0.015286\n",
      "[LightGBM] [Info] Number of positive: 13893, number of negative: 14107\n",
      "[LightGBM] [Info] Auto-choosing col-wise multi-threading, the overhead of testing was 0.003722 seconds.\n",
      "You can set `force_col_wise=true` to remove the overhead.\n",
      "[LightGBM] [Info] Total Bins 2609\n",
      "[LightGBM] [Info] Number of data points in the train set: 28000, number of used features: 15\n",
      "[LightGBM] [Info] [binary:BoostFromScore]: pavg=0.496179 -> initscore=-0.015286\n",
      "[LightGBM] [Info] Start training from score -0.015286\n",
      "[LightGBM] [Info] Number of positive: 13893, number of negative: 14107\n",
      "[LightGBM] [Info] Auto-choosing col-wise multi-threading, the overhead of testing was 0.004689 seconds.\n",
      "You can set `force_col_wise=true` to remove the overhead.\n",
      "[LightGBM] [Info] Total Bins 3837\n",
      "[LightGBM] [Info] Number of data points in the train set: 28000, number of used features: 26\n",
      "[LightGBM] [Info] [binary:BoostFromScore]: pavg=0.496179 -> initscore=-0.015286\n",
      "[LightGBM] [Info] Start training from score -0.015286\n",
      "[LightGBM] [Info] Number of positive: 13893, number of negative: 14107\n",
      "[LightGBM] [Info] Auto-choosing col-wise multi-threading, the overhead of testing was 0.003728 seconds.\n",
      "You can set `force_col_wise=true` to remove the overhead.\n",
      "[LightGBM] [Info] Total Bins 3104\n",
      "[LightGBM] [Info] Number of data points in the train set: 28000, number of used features: 25\n",
      "[LightGBM] [Info] [binary:BoostFromScore]: pavg=0.496179 -> initscore=-0.015286\n",
      "[LightGBM] [Info] Start training from score -0.015286\n",
      "[LightGBM] [Info] Number of positive: 13893, number of negative: 14107\n",
      "[LightGBM] [Info] Auto-choosing col-wise multi-threading, the overhead of testing was 0.004481 seconds.\n",
      "You can set `force_col_wise=true` to remove the overhead.\n",
      "[LightGBM] [Info] Total Bins 3640\n",
      "[LightGBM] [Info] Number of data points in the train set: 28000, number of used features: 25\n",
      "[LightGBM] [Info] [binary:BoostFromScore]: pavg=0.496179 -> initscore=-0.015286\n",
      "[LightGBM] [Info] Start training from score -0.015286\n",
      "[LightGBM] [Info] Number of positive: 13893, number of negative: 14107\n",
      "[LightGBM] [Info] Auto-choosing row-wise multi-threading, the overhead of testing was 0.001834 seconds.\n",
      "You can set `force_row_wise=true` to remove the overhead.\n",
      "And if memory is not enough, you can set `force_col_wise=true`.\n",
      "[LightGBM] [Info] Total Bins 3650\n",
      "[LightGBM] [Info] Number of data points in the train set: 28000, number of used features: 27\n",
      "[LightGBM] [Info] [binary:BoostFromScore]: pavg=0.496179 -> initscore=-0.015286\n",
      "[LightGBM] [Info] Start training from score -0.015286\n",
      "[LightGBM] [Info] Number of positive: 13893, number of negative: 14107\n",
      "[LightGBM] [Info] Auto-choosing row-wise multi-threading, the overhead of testing was 0.001145 seconds.\n",
      "You can set `force_row_wise=true` to remove the overhead.\n",
      "And if memory is not enough, you can set `force_col_wise=true`.\n",
      "[LightGBM] [Info] Total Bins 3210\n",
      "[LightGBM] [Info] Number of data points in the train set: 28000, number of used features: 22\n",
      "[LightGBM] [Info] [binary:BoostFromScore]: pavg=0.496179 -> initscore=-0.015286\n",
      "[LightGBM] [Info] Start training from score -0.015286\n",
      "[LightGBM] [Info] Number of positive: 13893, number of negative: 14107\n",
      "[LightGBM] [Info] Auto-choosing col-wise multi-threading, the overhead of testing was 0.004634 seconds.\n",
      "You can set `force_col_wise=true` to remove the overhead.\n",
      "[LightGBM] [Info] Total Bins 3323\n",
      "[LightGBM] [Info] Number of data points in the train set: 28000, number of used features: 22\n",
      "[LightGBM] [Info] [binary:BoostFromScore]: pavg=0.496179 -> initscore=-0.015286\n",
      "[LightGBM] [Info] Start training from score -0.015286\n",
      "[LightGBM] [Info] Number of positive: 13893, number of negative: 14107\n",
      "[LightGBM] [Info] Auto-choosing col-wise multi-threading, the overhead of testing was 0.004325 seconds.\n",
      "You can set `force_col_wise=true` to remove the overhead.\n",
      "[LightGBM] [Info] Total Bins 3086\n",
      "[LightGBM] [Info] Number of data points in the train set: 28000, number of used features: 21\n",
      "[LightGBM] [Info] [binary:BoostFromScore]: pavg=0.496179 -> initscore=-0.015286\n",
      "[LightGBM] [Info] Start training from score -0.015286\n",
      "[LightGBM] [Info] Number of positive: 13893, number of negative: 14107\n",
      "[LightGBM] [Info] Auto-choosing col-wise multi-threading, the overhead of testing was 0.004990 seconds.\n",
      "You can set `force_col_wise=true` to remove the overhead.\n",
      "[LightGBM] [Info] Total Bins 3641\n",
      "[LightGBM] [Info] Number of data points in the train set: 28000, number of used features: 24\n",
      "[LightGBM] [Info] [binary:BoostFromScore]: pavg=0.496179 -> initscore=-0.015286\n",
      "[LightGBM] [Info] Start training from score -0.015286\n",
      "[LightGBM] [Info] Number of positive: 13893, number of negative: 14107\n",
      "[LightGBM] [Info] Auto-choosing col-wise multi-threading, the overhead of testing was 0.003918 seconds.\n",
      "You can set `force_col_wise=true` to remove the overhead.\n",
      "[LightGBM] [Info] Total Bins 2837\n",
      "[LightGBM] [Info] Number of data points in the train set: 28000, number of used features: 18\n",
      "[LightGBM] [Info] [binary:BoostFromScore]: pavg=0.496179 -> initscore=-0.015286\n",
      "[LightGBM] [Info] Start training from score -0.015286\n",
      "[LightGBM] [Info] Number of positive: 13893, number of negative: 14107\n",
      "[LightGBM] [Info] Auto-choosing col-wise multi-threading, the overhead of testing was 0.005104 seconds.\n",
      "You can set `force_col_wise=true` to remove the overhead.\n",
      "[LightGBM] [Info] Total Bins 3393\n",
      "[LightGBM] [Info] Number of data points in the train set: 28000, number of used features: 25\n",
      "[LightGBM] [Info] [binary:BoostFromScore]: pavg=0.496179 -> initscore=-0.015286\n",
      "[LightGBM] [Info] Start training from score -0.015286\n",
      "[LightGBM] [Info] Number of positive: 13893, number of negative: 14107\n",
      "[LightGBM] [Info] Auto-choosing row-wise multi-threading, the overhead of testing was 0.001352 seconds.\n",
      "You can set `force_row_wise=true` to remove the overhead.\n",
      "And if memory is not enough, you can set `force_col_wise=true`.\n",
      "[LightGBM] [Info] Total Bins 1791\n",
      "[LightGBM] [Info] Number of data points in the train set: 28000, number of used features: 15\n",
      "[LightGBM] [Info] [binary:BoostFromScore]: pavg=0.496179 -> initscore=-0.015286\n",
      "[LightGBM] [Info] Start training from score -0.015286\n",
      "[LightGBM] [Info] Number of positive: 13893, number of negative: 14107\n",
      "[LightGBM] [Info] Auto-choosing row-wise multi-threading, the overhead of testing was 0.001044 seconds.\n",
      "You can set `force_row_wise=true` to remove the overhead.\n",
      "And if memory is not enough, you can set `force_col_wise=true`.\n",
      "[LightGBM] [Info] Total Bins 3099\n",
      "[LightGBM] [Info] Number of data points in the train set: 28000, number of used features: 21\n",
      "[LightGBM] [Info] [binary:BoostFromScore]: pavg=0.496179 -> initscore=-0.015286\n",
      "[LightGBM] [Info] Start training from score -0.015286\n"
     ]
    },
    {
     "name": "stderr",
     "output_type": "stream",
     "text": [
      "\u001b[32m [ 2024-11-25 17:27:55,472 ] \u001b[0mFinished iteration #10 with objective value -0.9365805369435101. Current best value is -0.9371877034225413 \u001b[0m\n"
     ]
    },
    {
     "name": "stdout",
     "output_type": "stream",
     "text": [
      "[LightGBM] [Info] Number of positive: 13893, number of negative: 14107\n",
      "[LightGBM] [Info] Auto-choosing row-wise multi-threading, the overhead of testing was 0.001045 seconds.\n",
      "You can set `force_row_wise=true` to remove the overhead.\n",
      "And if memory is not enough, you can set `force_col_wise=true`.\n",
      "[LightGBM] [Info] Total Bins 2523\n",
      "[LightGBM] [Info] Number of data points in the train set: 28000, number of used features: 18\n",
      "[LightGBM] [Info] [binary:BoostFromScore]: pavg=0.496179 -> initscore=-0.015286\n",
      "[LightGBM] [Info] Start training from score -0.015286\n",
      "[LightGBM] [Info] Number of positive: 13893, number of negative: 14107\n",
      "[LightGBM] [Info] Auto-choosing col-wise multi-threading, the overhead of testing was 0.003849 seconds.\n",
      "You can set `force_col_wise=true` to remove the overhead.\n",
      "[LightGBM] [Info] Total Bins 2782\n",
      "[LightGBM] [Info] Number of data points in the train set: 28000, number of used features: 21\n",
      "[LightGBM] [Info] [binary:BoostFromScore]: pavg=0.496179 -> initscore=-0.015286\n",
      "[LightGBM] [Info] Start training from score -0.015286\n",
      "[LightGBM] [Info] Number of positive: 13893, number of negative: 14107\n",
      "[LightGBM] [Info] Auto-choosing row-wise multi-threading, the overhead of testing was 0.001051 seconds.\n",
      "You can set `force_row_wise=true` to remove the overhead.\n",
      "And if memory is not enough, you can set `force_col_wise=true`.\n",
      "[LightGBM] [Info] Total Bins 2622\n",
      "[LightGBM] [Info] Number of data points in the train set: 28000, number of used features: 19\n",
      "[LightGBM] [Info] [binary:BoostFromScore]: pavg=0.496179 -> initscore=-0.015286\n",
      "[LightGBM] [Info] Start training from score -0.015286\n",
      "[LightGBM] [Info] Number of positive: 13893, number of negative: 14107\n",
      "[LightGBM] [Info] Auto-choosing col-wise multi-threading, the overhead of testing was 0.005460 seconds.\n",
      "You can set `force_col_wise=true` to remove the overhead.\n",
      "[LightGBM] [Info] Total Bins 3569\n",
      "[LightGBM] [Info] Number of data points in the train set: 28000, number of used features: 22\n",
      "[LightGBM] [Info] [binary:BoostFromScore]: pavg=0.496179 -> initscore=-0.015286\n",
      "[LightGBM] [Info] Start training from score -0.015286\n",
      "[LightGBM] [Info] Number of positive: 13893, number of negative: 14107\n",
      "[LightGBM] [Info] Auto-choosing col-wise multi-threading, the overhead of testing was 0.004106 seconds.\n",
      "You can set `force_col_wise=true` to remove the overhead.\n",
      "[LightGBM] [Info] Total Bins 3547\n",
      "[LightGBM] [Info] Number of data points in the train set: 28000, number of used features: 24\n",
      "[LightGBM] [Info] [binary:BoostFromScore]: pavg=0.496179 -> initscore=-0.015286\n",
      "[LightGBM] [Info] Start training from score -0.015286\n",
      "[LightGBM] [Info] Number of positive: 13893, number of negative: 14107\n",
      "[LightGBM] [Info] Auto-choosing col-wise multi-threading, the overhead of testing was 0.004471 seconds.\n",
      "You can set `force_col_wise=true` to remove the overhead.\n",
      "[LightGBM] [Info] Total Bins 3392\n",
      "[LightGBM] [Info] Number of data points in the train set: 28000, number of used features: 24\n",
      "[LightGBM] [Info] [binary:BoostFromScore]: pavg=0.496179 -> initscore=-0.015286\n",
      "[LightGBM] [Info] Start training from score -0.015286\n",
      "[LightGBM] [Info] Number of positive: 13893, number of negative: 14107\n",
      "[LightGBM] [Info] Auto-choosing col-wise multi-threading, the overhead of testing was 0.001126 seconds.\n",
      "You can set `force_col_wise=true` to remove the overhead.\n",
      "[LightGBM] [Info] Total Bins 3324\n",
      "[LightGBM] [Info] Number of data points in the train set: 28000, number of used features: 21\n",
      "[LightGBM] [Info] [binary:BoostFromScore]: pavg=0.496179 -> initscore=-0.015286\n",
      "[LightGBM] [Info] Start training from score -0.015286\n",
      "[LightGBM] [Info] Number of positive: 13893, number of negative: 14107\n",
      "[LightGBM] [Info] Auto-choosing col-wise multi-threading, the overhead of testing was 0.004245 seconds.\n",
      "You can set `force_col_wise=true` to remove the overhead.\n",
      "[LightGBM] [Info] Total Bins 3515\n",
      "[LightGBM] [Info] Number of data points in the train set: 28000, number of used features: 24\n",
      "[LightGBM] [Info] [binary:BoostFromScore]: pavg=0.496179 -> initscore=-0.015286\n",
      "[LightGBM] [Info] Start training from score -0.015286\n",
      "[LightGBM] [Info] Number of positive: 13893, number of negative: 14107\n",
      "[LightGBM] [Info] Auto-choosing col-wise multi-threading, the overhead of testing was 0.001296 seconds.\n",
      "You can set `force_col_wise=true` to remove the overhead.\n",
      "[LightGBM] [Info] Total Bins 3581\n",
      "[LightGBM] [Info] Number of data points in the train set: 28000, number of used features: 23\n",
      "[LightGBM] [Info] [binary:BoostFromScore]: pavg=0.496179 -> initscore=-0.015286\n",
      "[LightGBM] [Info] Start training from score -0.015286\n",
      "[LightGBM] [Info] Number of positive: 13893, number of negative: 14107\n",
      "[LightGBM] [Info] Auto-choosing row-wise multi-threading, the overhead of testing was 0.001226 seconds.\n",
      "You can set `force_row_wise=true` to remove the overhead.\n",
      "And if memory is not enough, you can set `force_col_wise=true`.\n",
      "[LightGBM] [Info] Total Bins 3075\n",
      "[LightGBM] [Info] Number of data points in the train set: 28000, number of used features: 23\n",
      "[LightGBM] [Info] [binary:BoostFromScore]: pavg=0.496179 -> initscore=-0.015286\n",
      "[LightGBM] [Info] Start training from score -0.015286\n",
      "[LightGBM] [Info] Number of positive: 13893, number of negative: 14107\n",
      "[LightGBM] [Info] Auto-choosing row-wise multi-threading, the overhead of testing was 0.001245 seconds.\n",
      "You can set `force_row_wise=true` to remove the overhead.\n",
      "And if memory is not enough, you can set `force_col_wise=true`.\n",
      "[LightGBM] [Info] Total Bins 2310\n",
      "[LightGBM] [Info] Number of data points in the train set: 28000, number of used features: 21\n",
      "[LightGBM] [Info] [binary:BoostFromScore]: pavg=0.496179 -> initscore=-0.015286\n",
      "[LightGBM] [Info] Start training from score -0.015286\n",
      "[LightGBM] [Info] Number of positive: 13893, number of negative: 14107\n",
      "[LightGBM] [Info] Auto-choosing col-wise multi-threading, the overhead of testing was 0.004393 seconds.\n",
      "You can set `force_col_wise=true` to remove the overhead.\n",
      "[LightGBM] [Info] Total Bins 3802\n",
      "[LightGBM] [Info] Number of data points in the train set: 28000, number of used features: 25\n",
      "[LightGBM] [Info] [binary:BoostFromScore]: pavg=0.496179 -> initscore=-0.015286\n",
      "[LightGBM] [Info] Start training from score -0.015286\n",
      "[LightGBM] [Info] Number of positive: 13893, number of negative: 14107\n",
      "[LightGBM] [Info] Auto-choosing col-wise multi-threading, the overhead of testing was 0.005077 seconds.\n",
      "You can set `force_col_wise=true` to remove the overhead.\n",
      "[LightGBM] [Info] Total Bins 3804\n",
      "[LightGBM] [Info] Number of data points in the train set: 28000, number of used features: 26\n",
      "[LightGBM] [Info] [binary:BoostFromScore]: pavg=0.496179 -> initscore=-0.015286\n",
      "[LightGBM] [Info] Start training from score -0.015286\n",
      "[LightGBM] [Info] Number of positive: 13893, number of negative: 14107\n",
      "[LightGBM] [Info] Auto-choosing row-wise multi-threading, the overhead of testing was 0.001503 seconds.\n",
      "You can set `force_row_wise=true` to remove the overhead.\n",
      "And if memory is not enough, you can set `force_col_wise=true`.\n",
      "[LightGBM] [Info] Total Bins 3070\n",
      "[LightGBM] [Info] Number of data points in the train set: 28000, number of used features: 24\n",
      "[LightGBM] [Info] [binary:BoostFromScore]: pavg=0.496179 -> initscore=-0.015286\n",
      "[LightGBM] [Info] Start training from score -0.015286\n",
      "[LightGBM] [Info] Number of positive: 13893, number of negative: 14107\n",
      "[LightGBM] [Info] Auto-choosing col-wise multi-threading, the overhead of testing was 0.003994 seconds.\n",
      "You can set `force_col_wise=true` to remove the overhead.\n",
      "[LightGBM] [Info] Total Bins 2368\n",
      "[LightGBM] [Info] Number of data points in the train set: 28000, number of used features: 20\n",
      "[LightGBM] [Info] [binary:BoostFromScore]: pavg=0.496179 -> initscore=-0.015286\n",
      "[LightGBM] [Info] Start training from score -0.015286\n",
      "[LightGBM] [Info] Number of positive: 13893, number of negative: 14107\n",
      "[LightGBM] [Info] Auto-choosing col-wise multi-threading, the overhead of testing was 0.004336 seconds.\n",
      "You can set `force_col_wise=true` to remove the overhead.\n",
      "[LightGBM] [Info] Total Bins 3272\n",
      "[LightGBM] [Info] Number of data points in the train set: 28000, number of used features: 21\n",
      "[LightGBM] [Info] [binary:BoostFromScore]: pavg=0.496179 -> initscore=-0.015286\n",
      "[LightGBM] [Info] Start training from score -0.015286\n",
      "[LightGBM] [Info] Number of positive: 13893, number of negative: 14107\n",
      "[LightGBM] [Info] Auto-choosing col-wise multi-threading, the overhead of testing was 0.004475 seconds.\n",
      "You can set `force_col_wise=true` to remove the overhead.\n",
      "[LightGBM] [Info] Total Bins 2586\n",
      "[LightGBM] [Info] Number of data points in the train set: 28000, number of used features: 19\n",
      "[LightGBM] [Info] [binary:BoostFromScore]: pavg=0.496179 -> initscore=-0.015286\n",
      "[LightGBM] [Info] Start training from score -0.015286\n",
      "[LightGBM] [Info] Number of positive: 13893, number of negative: 14107\n",
      "[LightGBM] [Info] Auto-choosing col-wise multi-threading, the overhead of testing was 0.004436 seconds.\n",
      "You can set `force_col_wise=true` to remove the overhead.\n",
      "[LightGBM] [Info] Total Bins 3033\n",
      "[LightGBM] [Info] Number of data points in the train set: 28000, number of used features: 21\n",
      "[LightGBM] [Info] [binary:BoostFromScore]: pavg=0.496179 -> initscore=-0.015286\n",
      "[LightGBM] [Info] Start training from score -0.015286\n",
      "[LightGBM] [Info] Number of positive: 13893, number of negative: 14107\n",
      "[LightGBM] [Info] Auto-choosing col-wise multi-threading, the overhead of testing was 0.004618 seconds.\n",
      "You can set `force_col_wise=true` to remove the overhead.\n",
      "[LightGBM] [Info] Total Bins 2468\n",
      "[LightGBM] [Info] Number of data points in the train set: 28000, number of used features: 21\n",
      "[LightGBM] [Info] [binary:BoostFromScore]: pavg=0.496179 -> initscore=-0.015286\n",
      "[LightGBM] [Info] Start training from score -0.015286\n",
      "[LightGBM] [Info] Number of positive: 13893, number of negative: 14107\n",
      "[LightGBM] [Info] Auto-choosing col-wise multi-threading, the overhead of testing was 0.005286 seconds.\n",
      "You can set `force_col_wise=true` to remove the overhead.\n",
      "[LightGBM] [Info] Total Bins 3068\n",
      "[LightGBM] [Info] Number of data points in the train set: 28000, number of used features: 21\n",
      "[LightGBM] [Info] [binary:BoostFromScore]: pavg=0.496179 -> initscore=-0.015286\n",
      "[LightGBM] [Info] Start training from score -0.015286\n",
      "[LightGBM] [Info] Number of positive: 13893, number of negative: 14107\n",
      "[LightGBM] [Info] Auto-choosing col-wise multi-threading, the overhead of testing was 0.005383 seconds.\n",
      "You can set `force_col_wise=true` to remove the overhead.\n",
      "[LightGBM] [Info] Total Bins 3321\n",
      "[LightGBM] [Info] Number of data points in the train set: 28000, number of used features: 24\n",
      "[LightGBM] [Info] [binary:BoostFromScore]: pavg=0.496179 -> initscore=-0.015286\n",
      "[LightGBM] [Info] Start training from score -0.015286\n",
      "[LightGBM] [Info] Number of positive: 13893, number of negative: 14107\n",
      "[LightGBM] [Info] Auto-choosing col-wise multi-threading, the overhead of testing was 0.003998 seconds.\n",
      "You can set `force_col_wise=true` to remove the overhead.\n",
      "[LightGBM] [Info] Total Bins 2808\n",
      "[LightGBM] [Info] Number of data points in the train set: 28000, number of used features: 19\n",
      "[LightGBM] [Info] [binary:BoostFromScore]: pavg=0.496179 -> initscore=-0.015286\n",
      "[LightGBM] [Info] Start training from score -0.015286\n",
      "[LightGBM] [Info] Number of positive: 13893, number of negative: 14107\n",
      "[LightGBM] [Info] Auto-choosing col-wise multi-threading, the overhead of testing was 0.003976 seconds.\n",
      "You can set `force_col_wise=true` to remove the overhead.\n",
      "[LightGBM] [Info] Total Bins 2765\n",
      "[LightGBM] [Info] Number of data points in the train set: 28000, number of used features: 19\n",
      "[LightGBM] [Info] [binary:BoostFromScore]: pavg=0.496179 -> initscore=-0.015286\n",
      "[LightGBM] [Info] Start training from score -0.015286\n",
      "[LightGBM] [Info] Number of positive: 13893, number of negative: 14107\n",
      "[LightGBM] [Info] Auto-choosing col-wise multi-threading, the overhead of testing was 0.004078 seconds.\n",
      "You can set `force_col_wise=true` to remove the overhead.\n",
      "[LightGBM] [Info] Total Bins 3138\n",
      "[LightGBM] [Info] Number of data points in the train set: 28000, number of used features: 24\n",
      "[LightGBM] [Info] [binary:BoostFromScore]: pavg=0.496179 -> initscore=-0.015286\n",
      "[LightGBM] [Info] Start training from score -0.015286\n",
      "[LightGBM] [Info] Number of positive: 13893, number of negative: 14107\n",
      "[LightGBM] [Info] Auto-choosing col-wise multi-threading, the overhead of testing was 0.001204 seconds.\n",
      "You can set `force_col_wise=true` to remove the overhead.\n",
      "[LightGBM] [Info] Total Bins 3635\n",
      "[LightGBM] [Info] Number of data points in the train set: 28000, number of used features: 21\n",
      "[LightGBM] [Info] [binary:BoostFromScore]: pavg=0.496179 -> initscore=-0.015286\n",
      "[LightGBM] [Info] Start training from score -0.015286\n",
      "[LightGBM] [Info] Number of positive: 13893, number of negative: 14107\n",
      "[LightGBM] [Info] Auto-choosing col-wise multi-threading, the overhead of testing was 0.001160 seconds.\n",
      "You can set `force_col_wise=true` to remove the overhead.\n",
      "[LightGBM] [Info] Total Bins 3314\n",
      "[LightGBM] [Info] Number of data points in the train set: 28000, number of used features: 19\n",
      "[LightGBM] [Info] [binary:BoostFromScore]: pavg=0.496179 -> initscore=-0.015286\n",
      "[LightGBM] [Info] Start training from score -0.015286\n",
      "[LightGBM] [Info] Number of positive: 13893, number of negative: 14107\n",
      "[LightGBM] [Info] Auto-choosing col-wise multi-threading, the overhead of testing was 0.004368 seconds.\n",
      "You can set `force_col_wise=true` to remove the overhead.\n",
      "[LightGBM] [Info] Total Bins 3637\n",
      "[LightGBM] [Info] Number of data points in the train set: 28000, number of used features: 22\n",
      "[LightGBM] [Info] [binary:BoostFromScore]: pavg=0.496179 -> initscore=-0.015286\n",
      "[LightGBM] [Info] Start training from score -0.015286\n",
      "[LightGBM] [Info] Number of positive: 13893, number of negative: 14107\n",
      "[LightGBM] [Info] Auto-choosing col-wise multi-threading, the overhead of testing was 0.003781 seconds.\n",
      "You can set `force_col_wise=true` to remove the overhead.\n",
      "[LightGBM] [Info] Total Bins 3041\n",
      "[LightGBM] [Info] Number of data points in the train set: 28000, number of used features: 24\n",
      "[LightGBM] [Info] [binary:BoostFromScore]: pavg=0.496179 -> initscore=-0.015286\n",
      "[LightGBM] [Info] Start training from score -0.015286\n",
      "[LightGBM] [Info] Number of positive: 13893, number of negative: 14107\n",
      "[LightGBM] [Info] Auto-choosing col-wise multi-threading, the overhead of testing was 0.004133 seconds.\n",
      "You can set `force_col_wise=true` to remove the overhead.\n",
      "[LightGBM] [Info] Total Bins 3328\n",
      "[LightGBM] [Info] Number of data points in the train set: 28000, number of used features: 26\n",
      "[LightGBM] [Info] [binary:BoostFromScore]: pavg=0.496179 -> initscore=-0.015286\n",
      "[LightGBM] [Info] Start training from score -0.015286\n",
      "[LightGBM] [Info] Number of positive: 13893, number of negative: 14107\n",
      "[LightGBM] [Info] Auto-choosing col-wise multi-threading, the overhead of testing was 0.004704 seconds.\n",
      "You can set `force_col_wise=true` to remove the overhead.\n",
      "[LightGBM] [Info] Total Bins 3136\n",
      "[LightGBM] [Info] Number of data points in the train set: 28000, number of used features: 23\n",
      "[LightGBM] [Info] [binary:BoostFromScore]: pavg=0.496179 -> initscore=-0.015286\n",
      "[LightGBM] [Info] Start training from score -0.015286\n"
     ]
    },
    {
     "name": "stderr",
     "output_type": "stream",
     "text": [
      "\u001b[32m [ 2024-11-25 17:28:05,497 ] \u001b[0mFinished iteration #11 with objective value -0.9375383685025518. Current best value is -0.9375383685025518 \u001b[0m\n"
     ]
    },
    {
     "name": "stdout",
     "output_type": "stream",
     "text": [
      "[LightGBM] [Info] Number of positive: 13893, number of negative: 14107\n",
      "[LightGBM] [Info] Auto-choosing col-wise multi-threading, the overhead of testing was 0.003752 seconds.\n",
      "You can set `force_col_wise=true` to remove the overhead.\n",
      "[LightGBM] [Info] Total Bins 3035\n",
      "[LightGBM] [Info] Number of data points in the train set: 28000, number of used features: 21\n",
      "[LightGBM] [Info] [binary:BoostFromScore]: pavg=0.496179 -> initscore=-0.015286\n",
      "[LightGBM] [Info] Start training from score -0.015286\n",
      "[LightGBM] [Info] Number of positive: 13893, number of negative: 14107\n",
      "[LightGBM] [Info] Auto-choosing col-wise multi-threading, the overhead of testing was 0.001185 seconds.\n",
      "You can set `force_col_wise=true` to remove the overhead.\n",
      "[LightGBM] [Info] Total Bins 3275\n",
      "[LightGBM] [Info] Number of data points in the train set: 28000, number of used features: 21\n",
      "[LightGBM] [Info] [binary:BoostFromScore]: pavg=0.496179 -> initscore=-0.015286\n",
      "[LightGBM] [Info] Start training from score -0.015286\n",
      "[LightGBM] [Info] Number of positive: 13893, number of negative: 14107\n",
      "[LightGBM] [Info] Auto-choosing col-wise multi-threading, the overhead of testing was 0.004091 seconds.\n",
      "You can set `force_col_wise=true` to remove the overhead.\n",
      "[LightGBM] [Info] Total Bins 3036\n",
      "[LightGBM] [Info] Number of data points in the train set: 28000, number of used features: 21\n",
      "[LightGBM] [Info] [binary:BoostFromScore]: pavg=0.496179 -> initscore=-0.015286\n",
      "[LightGBM] [Info] Start training from score -0.015286\n",
      "[LightGBM] [Info] Number of positive: 13893, number of negative: 14107\n",
      "[LightGBM] [Info] Auto-choosing col-wise multi-threading, the overhead of testing was 0.004782 seconds.\n",
      "You can set `force_col_wise=true` to remove the overhead.\n",
      "[LightGBM] [Info] Total Bins 3584\n",
      "[LightGBM] [Info] Number of data points in the train set: 28000, number of used features: 26\n",
      "[LightGBM] [Info] [binary:BoostFromScore]: pavg=0.496179 -> initscore=-0.015286\n",
      "[LightGBM] [Info] Start training from score -0.015286\n",
      "[LightGBM] [Info] Number of positive: 13893, number of negative: 14107\n",
      "[LightGBM] [Info] Auto-choosing row-wise multi-threading, the overhead of testing was 0.001344 seconds.\n",
      "You can set `force_row_wise=true` to remove the overhead.\n",
      "And if memory is not enough, you can set `force_col_wise=true`.\n",
      "[LightGBM] [Info] Total Bins 2812\n",
      "[LightGBM] [Info] Number of data points in the train set: 28000, number of used features: 21\n",
      "[LightGBM] [Info] [binary:BoostFromScore]: pavg=0.496179 -> initscore=-0.015286\n",
      "[LightGBM] [Info] Start training from score -0.015286\n",
      "[LightGBM] [Info] Number of positive: 13893, number of negative: 14107\n",
      "[LightGBM] [Info] Auto-choosing col-wise multi-threading, the overhead of testing was 0.004466 seconds.\n",
      "You can set `force_col_wise=true` to remove the overhead.\n",
      "[LightGBM] [Info] Total Bins 3103\n",
      "[LightGBM] [Info] Number of data points in the train set: 28000, number of used features: 23\n",
      "[LightGBM] [Info] [binary:BoostFromScore]: pavg=0.496179 -> initscore=-0.015286\n",
      "[LightGBM] [Info] Start training from score -0.015286\n",
      "[LightGBM] [Info] Number of positive: 13893, number of negative: 14107\n",
      "[LightGBM] [Info] Auto-choosing row-wise multi-threading, the overhead of testing was 0.001357 seconds.\n",
      "You can set `force_row_wise=true` to remove the overhead.\n",
      "And if memory is not enough, you can set `force_col_wise=true`.\n",
      "[LightGBM] [Info] Total Bins 2822\n",
      "[LightGBM] [Info] Number of data points in the train set: 28000, number of used features: 23\n",
      "[LightGBM] [Info] [binary:BoostFromScore]: pavg=0.496179 -> initscore=-0.015286\n",
      "[LightGBM] [Info] Start training from score -0.015286\n",
      "[LightGBM] [Info] Number of positive: 13893, number of negative: 14107\n",
      "[LightGBM] [Info] Auto-choosing col-wise multi-threading, the overhead of testing was 0.003776 seconds.\n",
      "You can set `force_col_wise=true` to remove the overhead.\n",
      "[LightGBM] [Info] Total Bins 3795\n",
      "[LightGBM] [Info] Number of data points in the train set: 28000, number of used features: 23\n",
      "[LightGBM] [Info] [binary:BoostFromScore]: pavg=0.496179 -> initscore=-0.015286\n",
      "[LightGBM] [Info] Start training from score -0.015286\n",
      "[LightGBM] [Info] Number of positive: 13893, number of negative: 14107\n",
      "[LightGBM] [Info] Auto-choosing col-wise multi-threading, the overhead of testing was 0.005001 seconds.\n",
      "You can set `force_col_wise=true` to remove the overhead.\n",
      "[LightGBM] [Info] Total Bins 3552\n",
      "[LightGBM] [Info] Number of data points in the train set: 28000, number of used features: 26\n",
      "[LightGBM] [Info] [binary:BoostFromScore]: pavg=0.496179 -> initscore=-0.015286\n",
      "[LightGBM] [Info] Start training from score -0.015286\n",
      "[LightGBM] [Info] Number of positive: 13893, number of negative: 14107\n",
      "[LightGBM] [Info] Auto-choosing row-wise multi-threading, the overhead of testing was 0.001302 seconds.\n",
      "You can set `force_row_wise=true` to remove the overhead.\n",
      "And if memory is not enough, you can set `force_col_wise=true`.\n",
      "[LightGBM] [Info] Total Bins 2789\n",
      "[LightGBM] [Info] Number of data points in the train set: 28000, number of used features: 23\n",
      "[LightGBM] [Info] [binary:BoostFromScore]: pavg=0.496179 -> initscore=-0.015286\n",
      "[LightGBM] [Info] Start training from score -0.015286\n",
      "[LightGBM] [Info] Number of positive: 13893, number of negative: 14107\n",
      "[LightGBM] [Info] Auto-choosing col-wise multi-threading, the overhead of testing was 0.001338 seconds.\n",
      "You can set `force_col_wise=true` to remove the overhead.\n",
      "[LightGBM] [Info] Total Bins 3321\n",
      "[LightGBM] [Info] Number of data points in the train set: 28000, number of used features: 21\n",
      "[LightGBM] [Info] [binary:BoostFromScore]: pavg=0.496179 -> initscore=-0.015286\n",
      "[LightGBM] [Info] Start training from score -0.015286\n",
      "[LightGBM] [Info] Number of positive: 13893, number of negative: 14107\n",
      "[LightGBM] [Info] Auto-choosing col-wise multi-threading, the overhead of testing was 0.003904 seconds.\n",
      "You can set `force_col_wise=true` to remove the overhead.\n",
      "[LightGBM] [Info] Total Bins 3098\n",
      "[LightGBM] [Info] Number of data points in the train set: 28000, number of used features: 23\n",
      "[LightGBM] [Info] [binary:BoostFromScore]: pavg=0.496179 -> initscore=-0.015286\n",
      "[LightGBM] [Info] Start training from score -0.015286\n",
      "[LightGBM] [Info] Number of positive: 13893, number of negative: 14107\n",
      "[LightGBM] [Info] Auto-choosing row-wise multi-threading, the overhead of testing was 0.001357 seconds.\n",
      "You can set `force_row_wise=true` to remove the overhead.\n",
      "And if memory is not enough, you can set `force_col_wise=true`.\n",
      "[LightGBM] [Info] Total Bins 3292\n",
      "[LightGBM] [Info] Number of data points in the train set: 28000, number of used features: 23\n",
      "[LightGBM] [Info] [binary:BoostFromScore]: pavg=0.496179 -> initscore=-0.015286\n",
      "[LightGBM] [Info] Start training from score -0.015286\n",
      "[LightGBM] [Info] Number of positive: 13893, number of negative: 14107\n",
      "[LightGBM] [Info] Auto-choosing col-wise multi-threading, the overhead of testing was 0.004099 seconds.\n",
      "You can set `force_col_wise=true` to remove the overhead.\n",
      "[LightGBM] [Info] Total Bins 3064\n",
      "[LightGBM] [Info] Number of data points in the train set: 28000, number of used features: 20\n",
      "[LightGBM] [Info] [binary:BoostFromScore]: pavg=0.496179 -> initscore=-0.015286\n",
      "[LightGBM] [Info] Start training from score -0.015286\n",
      "[LightGBM] [Info] Number of positive: 13893, number of negative: 14107\n",
      "[LightGBM] [Info] Auto-choosing row-wise multi-threading, the overhead of testing was 0.001292 seconds.\n",
      "You can set `force_row_wise=true` to remove the overhead.\n",
      "And if memory is not enough, you can set `force_col_wise=true`.\n",
      "[LightGBM] [Info] Total Bins 3069\n",
      "[LightGBM] [Info] Number of data points in the train set: 28000, number of used features: 23\n",
      "[LightGBM] [Info] [binary:BoostFromScore]: pavg=0.496179 -> initscore=-0.015286\n",
      "[LightGBM] [Info] Start training from score -0.015286\n",
      "[LightGBM] [Info] Number of positive: 13893, number of negative: 14107\n",
      "[LightGBM] [Info] Auto-choosing col-wise multi-threading, the overhead of testing was 0.005178 seconds.\n",
      "You can set `force_col_wise=true` to remove the overhead.\n",
      "[LightGBM] [Info] Total Bins 3543\n",
      "[LightGBM] [Info] Number of data points in the train set: 28000, number of used features: 24\n",
      "[LightGBM] [Info] [binary:BoostFromScore]: pavg=0.496179 -> initscore=-0.015286\n",
      "[LightGBM] [Info] Start training from score -0.015286\n",
      "[LightGBM] [Info] Number of positive: 13893, number of negative: 14107\n",
      "[LightGBM] [Info] Auto-choosing col-wise multi-threading, the overhead of testing was 0.004097 seconds.\n",
      "You can set `force_col_wise=true` to remove the overhead.\n",
      "[LightGBM] [Info] Total Bins 2843\n",
      "[LightGBM] [Info] Number of data points in the train set: 28000, number of used features: 21\n",
      "[LightGBM] [Info] [binary:BoostFromScore]: pavg=0.496179 -> initscore=-0.015286\n",
      "[LightGBM] [Info] Start training from score -0.015286\n",
      "[LightGBM] [Info] Number of positive: 13893, number of negative: 14107\n",
      "[LightGBM] [Info] Auto-choosing col-wise multi-threading, the overhead of testing was 0.004374 seconds.\n",
      "You can set `force_col_wise=true` to remove the overhead.\n",
      "[LightGBM] [Info] Total Bins 3026\n",
      "[LightGBM] [Info] Number of data points in the train set: 28000, number of used features: 23\n",
      "[LightGBM] [Info] [binary:BoostFromScore]: pavg=0.496179 -> initscore=-0.015286\n",
      "[LightGBM] [Info] Start training from score -0.015286\n",
      "[LightGBM] [Info] Number of positive: 13893, number of negative: 14107\n",
      "[LightGBM] [Info] Auto-choosing col-wise multi-threading, the overhead of testing was 0.004896 seconds.\n",
      "You can set `force_col_wise=true` to remove the overhead.\n",
      "[LightGBM] [Info] Total Bins 3586\n",
      "[LightGBM] [Info] Number of data points in the train set: 28000, number of used features: 27\n",
      "[LightGBM] [Info] [binary:BoostFromScore]: pavg=0.496179 -> initscore=-0.015286\n",
      "[LightGBM] [Info] Start training from score -0.015286\n",
      "[LightGBM] [Info] Number of positive: 13893, number of negative: 14107\n",
      "[LightGBM] [Info] Auto-choosing row-wise multi-threading, the overhead of testing was 0.001246 seconds.\n",
      "You can set `force_row_wise=true` to remove the overhead.\n",
      "And if memory is not enough, you can set `force_col_wise=true`.\n",
      "[LightGBM] [Info] Total Bins 3047\n",
      "[LightGBM] [Info] Number of data points in the train set: 28000, number of used features: 21\n",
      "[LightGBM] [Info] [binary:BoostFromScore]: pavg=0.496179 -> initscore=-0.015286\n",
      "[LightGBM] [Info] Start training from score -0.015286\n",
      "[LightGBM] [Info] Number of positive: 13893, number of negative: 14107\n",
      "[LightGBM] [Info] Auto-choosing row-wise multi-threading, the overhead of testing was 0.001252 seconds.\n",
      "You can set `force_row_wise=true` to remove the overhead.\n",
      "And if memory is not enough, you can set `force_col_wise=true`.\n",
      "[LightGBM] [Info] Total Bins 2749\n",
      "[LightGBM] [Info] Number of data points in the train set: 28000, number of used features: 22\n",
      "[LightGBM] [Info] [binary:BoostFromScore]: pavg=0.496179 -> initscore=-0.015286\n",
      "[LightGBM] [Info] Start training from score -0.015286\n",
      "[LightGBM] [Info] Number of positive: 13893, number of negative: 14107\n",
      "[LightGBM] [Info] Auto-choosing col-wise multi-threading, the overhead of testing was 0.004446 seconds.\n",
      "You can set `force_col_wise=true` to remove the overhead.\n",
      "[LightGBM] [Info] Total Bins 3569\n",
      "[LightGBM] [Info] Number of data points in the train set: 28000, number of used features: 22\n",
      "[LightGBM] [Info] [binary:BoostFromScore]: pavg=0.496179 -> initscore=-0.015286\n",
      "[LightGBM] [Info] Start training from score -0.015286\n",
      "[LightGBM] [Info] Number of positive: 13893, number of negative: 14107\n",
      "[LightGBM] [Info] Auto-choosing row-wise multi-threading, the overhead of testing was 0.001022 seconds.\n",
      "You can set `force_row_wise=true` to remove the overhead.\n",
      "And if memory is not enough, you can set `force_col_wise=true`.\n",
      "[LightGBM] [Info] Total Bins 2993\n",
      "[LightGBM] [Info] Number of data points in the train set: 28000, number of used features: 23\n",
      "[LightGBM] [Info] [binary:BoostFromScore]: pavg=0.496179 -> initscore=-0.015286\n",
      "[LightGBM] [Info] Start training from score -0.015286\n",
      "[LightGBM] [Info] Number of positive: 13893, number of negative: 14107\n",
      "[LightGBM] [Info] Auto-choosing col-wise multi-threading, the overhead of testing was 0.005361 seconds.\n",
      "You can set `force_col_wise=true` to remove the overhead.\n",
      "[LightGBM] [Info] Total Bins 3507\n",
      "[LightGBM] [Info] Number of data points in the train set: 28000, number of used features: 27\n",
      "[LightGBM] [Info] [binary:BoostFromScore]: pavg=0.496179 -> initscore=-0.015286\n",
      "[LightGBM] [Info] Start training from score -0.015286\n",
      "[LightGBM] [Info] Number of positive: 13893, number of negative: 14107\n",
      "[LightGBM] [Info] Auto-choosing row-wise multi-threading, the overhead of testing was 0.001467 seconds.\n",
      "You can set `force_row_wise=true` to remove the overhead.\n",
      "And if memory is not enough, you can set `force_col_wise=true`.\n",
      "[LightGBM] [Info] Total Bins 3321\n",
      "[LightGBM] [Info] Number of data points in the train set: 28000, number of used features: 21\n",
      "[LightGBM] [Info] [binary:BoostFromScore]: pavg=0.496179 -> initscore=-0.015286\n",
      "[LightGBM] [Info] Start training from score -0.015286\n",
      "[LightGBM] [Info] Number of positive: 13893, number of negative: 14107\n",
      "[LightGBM] [Info] Auto-choosing col-wise multi-threading, the overhead of testing was 0.004319 seconds.\n",
      "You can set `force_col_wise=true` to remove the overhead.\n",
      "[LightGBM] [Info] Total Bins 2831\n",
      "[LightGBM] [Info] Number of data points in the train set: 28000, number of used features: 21\n",
      "[LightGBM] [Info] [binary:BoostFromScore]: pavg=0.496179 -> initscore=-0.015286\n",
      "[LightGBM] [Info] Start training from score -0.015286\n",
      "[LightGBM] [Info] Number of positive: 13893, number of negative: 14107\n",
      "[LightGBM] [Info] Auto-choosing col-wise multi-threading, the overhead of testing was 0.004656 seconds.\n",
      "You can set `force_col_wise=true` to remove the overhead.\n",
      "[LightGBM] [Info] Total Bins 2532\n",
      "[LightGBM] [Info] Number of data points in the train set: 28000, number of used features: 21\n",
      "[LightGBM] [Info] [binary:BoostFromScore]: pavg=0.496179 -> initscore=-0.015286\n",
      "[LightGBM] [Info] Start training from score -0.015286\n",
      "[LightGBM] [Info] Number of positive: 13893, number of negative: 14107\n",
      "[LightGBM] [Info] Auto-choosing col-wise multi-threading, the overhead of testing was 0.004231 seconds.\n",
      "You can set `force_col_wise=true` to remove the overhead.\n",
      "[LightGBM] [Info] Total Bins 3037\n",
      "[LightGBM] [Info] Number of data points in the train set: 28000, number of used features: 22\n",
      "[LightGBM] [Info] [binary:BoostFromScore]: pavg=0.496179 -> initscore=-0.015286\n",
      "[LightGBM] [Info] Start training from score -0.015286\n",
      "[LightGBM] [Info] Number of positive: 13893, number of negative: 14107\n",
      "[LightGBM] [Info] Auto-choosing col-wise multi-threading, the overhead of testing was 0.005133 seconds.\n",
      "You can set `force_col_wise=true` to remove the overhead.\n",
      "[LightGBM] [Info] Total Bins 2881\n",
      "[LightGBM] [Info] Number of data points in the train set: 28000, number of used features: 23\n",
      "[LightGBM] [Info] [binary:BoostFromScore]: pavg=0.496179 -> initscore=-0.015286\n",
      "[LightGBM] [Info] Start training from score -0.015286\n",
      "[LightGBM] [Info] Number of positive: 13893, number of negative: 14107\n",
      "[LightGBM] [Info] Auto-choosing col-wise multi-threading, the overhead of testing was 0.005582 seconds.\n",
      "You can set `force_col_wise=true` to remove the overhead.\n",
      "[LightGBM] [Info] Total Bins 3326\n",
      "[LightGBM] [Info] Number of data points in the train set: 28000, number of used features: 23\n",
      "[LightGBM] [Info] [binary:BoostFromScore]: pavg=0.496179 -> initscore=-0.015286\n",
      "[LightGBM] [Info] Start training from score -0.015286\n"
     ]
    },
    {
     "name": "stderr",
     "output_type": "stream",
     "text": [
      "\u001b[32m [ 2024-11-25 17:28:15,910 ] \u001b[0mFinished iteration #12 with objective value -0.9369660078471637. Current best value is -0.9375383685025518 \u001b[0m\n"
     ]
    },
    {
     "name": "stdout",
     "output_type": "stream",
     "text": [
      "[LightGBM] [Info] Number of positive: 13893, number of negative: 14107\n",
      "[LightGBM] [Info] Auto-choosing col-wise multi-threading, the overhead of testing was 0.005189 seconds.\n",
      "You can set `force_col_wise=true` to remove the overhead.\n",
      "[LightGBM] [Info] Total Bins 3392\n",
      "[LightGBM] [Info] Number of data points in the train set: 28000, number of used features: 24\n",
      "[LightGBM] [Info] [binary:BoostFromScore]: pavg=0.496179 -> initscore=-0.015286\n",
      "[LightGBM] [Info] Start training from score -0.015286\n",
      "[LightGBM] [Info] Number of positive: 13893, number of negative: 14107\n",
      "[LightGBM] [Info] Auto-choosing col-wise multi-threading, the overhead of testing was 0.004456 seconds.\n",
      "You can set `force_col_wise=true` to remove the overhead.\n",
      "[LightGBM] [Info] Total Bins 2965\n",
      "[LightGBM] [Info] Number of data points in the train set: 28000, number of used features: 20\n",
      "[LightGBM] [Info] [binary:BoostFromScore]: pavg=0.496179 -> initscore=-0.015286\n",
      "[LightGBM] [Info] Start training from score -0.015286\n",
      "[LightGBM] [Info] Number of positive: 13893, number of negative: 14107\n",
      "[LightGBM] [Info] Auto-choosing col-wise multi-threading, the overhead of testing was 0.001318 seconds.\n",
      "You can set `force_col_wise=true` to remove the overhead.\n",
      "[LightGBM] [Info] Total Bins 3128\n",
      "[LightGBM] [Info] Number of data points in the train set: 28000, number of used features: 20\n",
      "[LightGBM] [Info] [binary:BoostFromScore]: pavg=0.496179 -> initscore=-0.015286\n",
      "[LightGBM] [Info] Start training from score -0.015286\n",
      "[LightGBM] [Info] Number of positive: 13893, number of negative: 14107\n",
      "[LightGBM] [Info] Auto-choosing col-wise multi-threading, the overhead of testing was 0.004832 seconds.\n",
      "You can set `force_col_wise=true` to remove the overhead.\n",
      "[LightGBM] [Info] Total Bins 3292\n",
      "[LightGBM] [Info] Number of data points in the train set: 28000, number of used features: 23\n",
      "[LightGBM] [Info] [binary:BoostFromScore]: pavg=0.496179 -> initscore=-0.015286\n",
      "[LightGBM] [Info] Start training from score -0.015286\n",
      "[LightGBM] [Info] Number of positive: 13893, number of negative: 14107\n",
      "[LightGBM] [Info] Auto-choosing col-wise multi-threading, the overhead of testing was 0.005217 seconds.\n",
      "You can set `force_col_wise=true` to remove the overhead.\n",
      "[LightGBM] [Info] Total Bins 2886\n",
      "[LightGBM] [Info] Number of data points in the train set: 28000, number of used features: 22\n",
      "[LightGBM] [Info] [binary:BoostFromScore]: pavg=0.496179 -> initscore=-0.015286\n",
      "[LightGBM] [Info] Start training from score -0.015286\n",
      "[LightGBM] [Info] Number of positive: 13893, number of negative: 14107\n",
      "[LightGBM] [Info] Auto-choosing col-wise multi-threading, the overhead of testing was 0.005197 seconds.\n",
      "You can set `force_col_wise=true` to remove the overhead.\n",
      "[LightGBM] [Info] Total Bins 3172\n",
      "[LightGBM] [Info] Number of data points in the train set: 28000, number of used features: 24\n",
      "[LightGBM] [Info] [binary:BoostFromScore]: pavg=0.496179 -> initscore=-0.015286\n",
      "[LightGBM] [Info] Start training from score -0.015286\n",
      "[LightGBM] [Info] Number of positive: 13893, number of negative: 14107\n",
      "[LightGBM] [Info] Auto-choosing col-wise multi-threading, the overhead of testing was 0.004749 seconds.\n",
      "You can set `force_col_wise=true` to remove the overhead.\n",
      "[LightGBM] [Info] Total Bins 3135\n",
      "[LightGBM] [Info] Number of data points in the train set: 28000, number of used features: 22\n",
      "[LightGBM] [Info] [binary:BoostFromScore]: pavg=0.496179 -> initscore=-0.015286\n",
      "[LightGBM] [Info] Start training from score -0.015286\n",
      "[LightGBM] [Info] Number of positive: 13893, number of negative: 14107\n",
      "[LightGBM] [Info] Auto-choosing col-wise multi-threading, the overhead of testing was 0.004605 seconds.\n",
      "You can set `force_col_wise=true` to remove the overhead.\n",
      "[LightGBM] [Info] Total Bins 3298\n",
      "[LightGBM] [Info] Number of data points in the train set: 28000, number of used features: 26\n",
      "[LightGBM] [Info] [binary:BoostFromScore]: pavg=0.496179 -> initscore=-0.015286\n",
      "[LightGBM] [Info] Start training from score -0.015286\n",
      "[LightGBM] [Info] Number of positive: 13893, number of negative: 14107\n",
      "[LightGBM] [Info] Auto-choosing col-wise multi-threading, the overhead of testing was 0.005544 seconds.\n",
      "You can set `force_col_wise=true` to remove the overhead.\n",
      "[LightGBM] [Info] Total Bins 3337\n",
      "[LightGBM] [Info] Number of data points in the train set: 28000, number of used features: 23\n",
      "[LightGBM] [Info] [binary:BoostFromScore]: pavg=0.496179 -> initscore=-0.015286\n",
      "[LightGBM] [Info] Start training from score -0.015286\n",
      "[LightGBM] [Info] Number of positive: 13893, number of negative: 14107\n",
      "[LightGBM] [Info] Auto-choosing col-wise multi-threading, the overhead of testing was 0.004420 seconds.\n",
      "You can set `force_col_wise=true` to remove the overhead.\n",
      "[LightGBM] [Info] Total Bins 3285\n",
      "[LightGBM] [Info] Number of data points in the train set: 28000, number of used features: 21\n",
      "[LightGBM] [Info] [binary:BoostFromScore]: pavg=0.496179 -> initscore=-0.015286\n",
      "[LightGBM] [Info] Start training from score -0.015286\n",
      "[LightGBM] [Info] Number of positive: 13893, number of negative: 14107\n",
      "[LightGBM] [Info] Auto-choosing row-wise multi-threading, the overhead of testing was 0.001666 seconds.\n",
      "You can set `force_row_wise=true` to remove the overhead.\n",
      "And if memory is not enough, you can set `force_col_wise=true`.\n",
      "[LightGBM] [Info] Total Bins 2782\n",
      "[LightGBM] [Info] Number of data points in the train set: 28000, number of used features: 21\n",
      "[LightGBM] [Info] [binary:BoostFromScore]: pavg=0.496179 -> initscore=-0.015286\n",
      "[LightGBM] [Info] Start training from score -0.015286\n",
      "[LightGBM] [Info] Number of positive: 13893, number of negative: 14107\n",
      "[LightGBM] [Info] Auto-choosing col-wise multi-threading, the overhead of testing was 0.003920 seconds.\n",
      "You can set `force_col_wise=true` to remove the overhead.\n",
      "[LightGBM] [Info] Total Bins 2651\n",
      "[LightGBM] [Info] Number of data points in the train set: 28000, number of used features: 20\n",
      "[LightGBM] [Info] [binary:BoostFromScore]: pavg=0.496179 -> initscore=-0.015286\n",
      "[LightGBM] [Info] Start training from score -0.015286\n",
      "[LightGBM] [Info] Number of positive: 13893, number of negative: 14107\n",
      "[LightGBM] [Info] Auto-choosing col-wise multi-threading, the overhead of testing was 0.004191 seconds.\n",
      "You can set `force_col_wise=true` to remove the overhead.\n",
      "[LightGBM] [Info] Total Bins 3032\n",
      "[LightGBM] [Info] Number of data points in the train set: 28000, number of used features: 21\n",
      "[LightGBM] [Info] [binary:BoostFromScore]: pavg=0.496179 -> initscore=-0.015286\n",
      "[LightGBM] [Info] Start training from score -0.015286\n",
      "[LightGBM] [Info] Number of positive: 13893, number of negative: 14107\n",
      "[LightGBM] [Info] Auto-choosing col-wise multi-threading, the overhead of testing was 0.004540 seconds.\n",
      "You can set `force_col_wise=true` to remove the overhead.\n",
      "[LightGBM] [Info] Total Bins 3495\n",
      "[LightGBM] [Info] Number of data points in the train set: 28000, number of used features: 21\n",
      "[LightGBM] [Info] [binary:BoostFromScore]: pavg=0.496179 -> initscore=-0.015286\n",
      "[LightGBM] [Info] Start training from score -0.015286\n",
      "[LightGBM] [Info] Number of positive: 13893, number of negative: 14107\n",
      "[LightGBM] [Info] Auto-choosing col-wise multi-threading, the overhead of testing was 0.004324 seconds.\n",
      "You can set `force_col_wise=true` to remove the overhead.\n",
      "[LightGBM] [Info] Total Bins 3033\n",
      "[LightGBM] [Info] Number of data points in the train set: 28000, number of used features: 20\n",
      "[LightGBM] [Info] [binary:BoostFromScore]: pavg=0.496179 -> initscore=-0.015286\n",
      "[LightGBM] [Info] Start training from score -0.015286\n",
      "[LightGBM] [Info] Number of positive: 13893, number of negative: 14107\n",
      "[LightGBM] [Info] Auto-choosing col-wise multi-threading, the overhead of testing was 0.004554 seconds.\n",
      "You can set `force_col_wise=true` to remove the overhead.\n",
      "[LightGBM] [Info] Total Bins 3643\n",
      "[LightGBM] [Info] Number of data points in the train set: 28000, number of used features: 25\n",
      "[LightGBM] [Info] [binary:BoostFromScore]: pavg=0.496179 -> initscore=-0.015286\n",
      "[LightGBM] [Info] Start training from score -0.015286\n",
      "[LightGBM] [Info] Number of positive: 13893, number of negative: 14107\n",
      "[LightGBM] [Info] Auto-choosing col-wise multi-threading, the overhead of testing was 0.004235 seconds.\n",
      "You can set `force_col_wise=true` to remove the overhead.\n",
      "[LightGBM] [Info] Total Bins 3104\n",
      "[LightGBM] [Info] Number of data points in the train set: 28000, number of used features: 23\n",
      "[LightGBM] [Info] [binary:BoostFromScore]: pavg=0.496179 -> initscore=-0.015286\n",
      "[LightGBM] [Info] Start training from score -0.015286\n",
      "[LightGBM] [Info] Number of positive: 13893, number of negative: 14107\n",
      "[LightGBM] [Info] Auto-choosing col-wise multi-threading, the overhead of testing was 0.004052 seconds.\n",
      "You can set `force_col_wise=true` to remove the overhead.\n",
      "[LightGBM] [Info] Total Bins 3031\n",
      "[LightGBM] [Info] Number of data points in the train set: 28000, number of used features: 19\n",
      "[LightGBM] [Info] [binary:BoostFromScore]: pavg=0.496179 -> initscore=-0.015286\n",
      "[LightGBM] [Info] Start training from score -0.015286\n",
      "[LightGBM] [Info] Number of positive: 13893, number of negative: 14107\n",
      "[LightGBM] [Info] Auto-choosing col-wise multi-threading, the overhead of testing was 0.004771 seconds.\n",
      "You can set `force_col_wise=true` to remove the overhead.\n",
      "[LightGBM] [Info] Total Bins 3329\n",
      "[LightGBM] [Info] Number of data points in the train set: 28000, number of used features: 25\n",
      "[LightGBM] [Info] [binary:BoostFromScore]: pavg=0.496179 -> initscore=-0.015286\n",
      "[LightGBM] [Info] Start training from score -0.015286\n",
      "[LightGBM] [Info] Number of positive: 13893, number of negative: 14107\n",
      "[LightGBM] [Info] Auto-choosing col-wise multi-threading, the overhead of testing was 0.004186 seconds.\n",
      "You can set `force_col_wise=true` to remove the overhead.\n",
      "[LightGBM] [Info] Total Bins 2797\n",
      "[LightGBM] [Info] Number of data points in the train set: 28000, number of used features: 20\n",
      "[LightGBM] [Info] [binary:BoostFromScore]: pavg=0.496179 -> initscore=-0.015286\n",
      "[LightGBM] [Info] Start training from score -0.015286\n",
      "[LightGBM] [Info] Number of positive: 13893, number of negative: 14107\n",
      "[LightGBM] [Info] Auto-choosing col-wise multi-threading, the overhead of testing was 0.001052 seconds.\n",
      "You can set `force_col_wise=true` to remove the overhead.\n",
      "[LightGBM] [Info] Total Bins 3605\n",
      "[LightGBM] [Info] Number of data points in the train set: 28000, number of used features: 22\n",
      "[LightGBM] [Info] [binary:BoostFromScore]: pavg=0.496179 -> initscore=-0.015286\n",
      "[LightGBM] [Info] Start training from score -0.015286\n",
      "[LightGBM] [Info] Number of positive: 13893, number of negative: 14107\n",
      "[LightGBM] [Info] Auto-choosing col-wise multi-threading, the overhead of testing was 0.003806 seconds.\n",
      "You can set `force_col_wise=true` to remove the overhead.\n",
      "[LightGBM] [Info] Total Bins 3292\n",
      "[LightGBM] [Info] Number of data points in the train set: 28000, number of used features: 23\n",
      "[LightGBM] [Info] [binary:BoostFromScore]: pavg=0.496179 -> initscore=-0.015286\n",
      "[LightGBM] [Info] Start training from score -0.015286\n",
      "[LightGBM] [Info] Number of positive: 13893, number of negative: 14107\n",
      "[LightGBM] [Info] Auto-choosing col-wise multi-threading, the overhead of testing was 0.001466 seconds.\n",
      "You can set `force_col_wise=true` to remove the overhead.\n",
      "[LightGBM] [Info] Total Bins 3319\n",
      "[LightGBM] [Info] Number of data points in the train set: 28000, number of used features: 20\n",
      "[LightGBM] [Info] [binary:BoostFromScore]: pavg=0.496179 -> initscore=-0.015286\n",
      "[LightGBM] [Info] Start training from score -0.015286\n",
      "[LightGBM] [Info] Number of positive: 13893, number of negative: 14107\n",
      "[LightGBM] [Info] Auto-choosing row-wise multi-threading, the overhead of testing was 0.001426 seconds.\n",
      "You can set `force_row_wise=true` to remove the overhead.\n",
      "And if memory is not enough, you can set `force_col_wise=true`.\n",
      "[LightGBM] [Info] Total Bins 3068\n",
      "[LightGBM] [Info] Number of data points in the train set: 28000, number of used features: 21\n",
      "[LightGBM] [Info] [binary:BoostFromScore]: pavg=0.496179 -> initscore=-0.015286\n",
      "[LightGBM] [Info] Start training from score -0.015286\n",
      "[LightGBM] [Info] Number of positive: 13893, number of negative: 14107\n",
      "[LightGBM] [Info] Auto-choosing row-wise multi-threading, the overhead of testing was 0.001138 seconds.\n",
      "You can set `force_row_wise=true` to remove the overhead.\n",
      "And if memory is not enough, you can set `force_col_wise=true`.\n",
      "[LightGBM] [Info] Total Bins 2870\n",
      "[LightGBM] [Info] Number of data points in the train set: 28000, number of used features: 21\n",
      "[LightGBM] [Info] [binary:BoostFromScore]: pavg=0.496179 -> initscore=-0.015286\n",
      "[LightGBM] [Info] Start training from score -0.015286\n",
      "[LightGBM] [Info] Number of positive: 13893, number of negative: 14107\n",
      "[LightGBM] [Info] Auto-choosing col-wise multi-threading, the overhead of testing was 0.004397 seconds.\n",
      "You can set `force_col_wise=true` to remove the overhead.\n",
      "[LightGBM] [Info] Total Bins 2880\n",
      "[LightGBM] [Info] Number of data points in the train set: 28000, number of used features: 23\n",
      "[LightGBM] [Info] [binary:BoostFromScore]: pavg=0.496179 -> initscore=-0.015286\n",
      "[LightGBM] [Info] Start training from score -0.015286\n",
      "[LightGBM] [Info] Number of positive: 13893, number of negative: 14107\n",
      "[LightGBM] [Info] Auto-choosing col-wise multi-threading, the overhead of testing was 0.003503 seconds.\n",
      "You can set `force_col_wise=true` to remove the overhead.\n",
      "[LightGBM] [Info] Total Bins 2809\n",
      "[LightGBM] [Info] Number of data points in the train set: 28000, number of used features: 21\n",
      "[LightGBM] [Info] [binary:BoostFromScore]: pavg=0.496179 -> initscore=-0.015286\n",
      "[LightGBM] [Info] Start training from score -0.015286\n",
      "[LightGBM] [Info] Number of positive: 13893, number of negative: 14107\n",
      "[LightGBM] [Info] Auto-choosing col-wise multi-threading, the overhead of testing was 0.004305 seconds.\n",
      "You can set `force_col_wise=true` to remove the overhead.\n",
      "[LightGBM] [Info] Total Bins 3033\n",
      "[LightGBM] [Info] Number of data points in the train set: 28000, number of used features: 22\n",
      "[LightGBM] [Info] [binary:BoostFromScore]: pavg=0.496179 -> initscore=-0.015286\n",
      "[LightGBM] [Info] Start training from score -0.015286\n",
      "[LightGBM] [Info] Number of positive: 13893, number of negative: 14107\n",
      "[LightGBM] [Info] Auto-choosing col-wise multi-threading, the overhead of testing was 0.004099 seconds.\n",
      "You can set `force_col_wise=true` to remove the overhead.\n",
      "[LightGBM] [Info] Total Bins 3035\n",
      "[LightGBM] [Info] Number of data points in the train set: 28000, number of used features: 21\n",
      "[LightGBM] [Info] [binary:BoostFromScore]: pavg=0.496179 -> initscore=-0.015286\n",
      "[LightGBM] [Info] Start training from score -0.015286\n",
      "[LightGBM] [Info] Number of positive: 13893, number of negative: 14107\n",
      "[LightGBM] [Info] Auto-choosing col-wise multi-threading, the overhead of testing was 0.001600 seconds.\n",
      "You can set `force_col_wise=true` to remove the overhead.\n",
      "[LightGBM] [Info] Total Bins 4021\n",
      "[LightGBM] [Info] Number of data points in the train set: 28000, number of used features: 24\n",
      "[LightGBM] [Info] [binary:BoostFromScore]: pavg=0.496179 -> initscore=-0.015286\n",
      "[LightGBM] [Info] Start training from score -0.015286\n"
     ]
    },
    {
     "name": "stderr",
     "output_type": "stream",
     "text": [
      "\u001b[32m [ 2024-11-25 17:28:26,158 ] \u001b[0mFinished iteration #13 with objective value -0.9373137612660108. Current best value is -0.9375383685025518 \u001b[0m\n"
     ]
    },
    {
     "name": "stdout",
     "output_type": "stream",
     "text": [
      "[LightGBM] [Info] Number of positive: 13893, number of negative: 14107\n",
      "[LightGBM] [Info] Auto-choosing col-wise multi-threading, the overhead of testing was 0.004494 seconds.\n",
      "You can set `force_col_wise=true` to remove the overhead.\n",
      "[LightGBM] [Info] Total Bins 3349\n",
      "[LightGBM] [Info] Number of data points in the train set: 28000, number of used features: 21\n",
      "[LightGBM] [Info] [binary:BoostFromScore]: pavg=0.496179 -> initscore=-0.015286\n",
      "[LightGBM] [Info] Start training from score -0.015286\n",
      "[LightGBM] [Info] Number of positive: 13893, number of negative: 14107\n",
      "[LightGBM] [Info] Auto-choosing col-wise multi-threading, the overhead of testing was 0.004679 seconds.\n",
      "You can set `force_col_wise=true` to remove the overhead.\n",
      "[LightGBM] [Info] Total Bins 3392\n",
      "[LightGBM] [Info] Number of data points in the train set: 28000, number of used features: 24\n",
      "[LightGBM] [Info] [binary:BoostFromScore]: pavg=0.496179 -> initscore=-0.015286\n",
      "[LightGBM] [Info] Start training from score -0.015286\n",
      "[LightGBM] [Info] Number of positive: 13893, number of negative: 14107\n",
      "[LightGBM] [Info] Auto-choosing col-wise multi-threading, the overhead of testing was 0.005113 seconds.\n",
      "You can set `force_col_wise=true` to remove the overhead.\n",
      "[LightGBM] [Info] Total Bins 3384\n",
      "[LightGBM] [Info] Number of data points in the train set: 28000, number of used features: 22\n",
      "[LightGBM] [Info] [binary:BoostFromScore]: pavg=0.496179 -> initscore=-0.015286\n",
      "[LightGBM] [Info] Start training from score -0.015286\n",
      "[LightGBM] [Info] Number of positive: 13893, number of negative: 14107\n",
      "[LightGBM] [Info] Auto-choosing col-wise multi-threading, the overhead of testing was 0.004803 seconds.\n",
      "You can set `force_col_wise=true` to remove the overhead.\n",
      "[LightGBM] [Info] Total Bins 3280\n",
      "[LightGBM] [Info] Number of data points in the train set: 28000, number of used features: 23\n",
      "[LightGBM] [Info] [binary:BoostFromScore]: pavg=0.496179 -> initscore=-0.015286\n",
      "[LightGBM] [Info] Start training from score -0.015286\n",
      "[LightGBM] [Info] Number of positive: 13893, number of negative: 14107\n",
      "[LightGBM] [Info] Auto-choosing col-wise multi-threading, the overhead of testing was 0.004209 seconds.\n",
      "You can set `force_col_wise=true` to remove the overhead.\n",
      "[LightGBM] [Info] Total Bins 3033\n",
      "[LightGBM] [Info] Number of data points in the train set: 28000, number of used features: 20\n",
      "[LightGBM] [Info] [binary:BoostFromScore]: pavg=0.496179 -> initscore=-0.015286\n",
      "[LightGBM] [Info] Start training from score -0.015286\n",
      "[LightGBM] [Info] Number of positive: 13893, number of negative: 14107\n",
      "[LightGBM] [Info] Auto-choosing col-wise multi-threading, the overhead of testing was 0.004281 seconds.\n",
      "You can set `force_col_wise=true` to remove the overhead.\n",
      "[LightGBM] [Info] Total Bins 3293\n",
      "[LightGBM] [Info] Number of data points in the train set: 28000, number of used features: 23\n",
      "[LightGBM] [Info] [binary:BoostFromScore]: pavg=0.496179 -> initscore=-0.015286\n",
      "[LightGBM] [Info] Start training from score -0.015286\n",
      "[LightGBM] [Info] Number of positive: 13893, number of negative: 14107\n",
      "[LightGBM] [Info] Auto-choosing row-wise multi-threading, the overhead of testing was 0.001184 seconds.\n",
      "You can set `force_row_wise=true` to remove the overhead.\n",
      "And if memory is not enough, you can set `force_col_wise=true`.\n",
      "[LightGBM] [Info] Total Bins 2802\n",
      "[LightGBM] [Info] Number of data points in the train set: 28000, number of used features: 18\n",
      "[LightGBM] [Info] [binary:BoostFromScore]: pavg=0.496179 -> initscore=-0.015286\n",
      "[LightGBM] [Info] Start training from score -0.015286\n",
      "[LightGBM] [Info] Number of positive: 13893, number of negative: 14107\n",
      "[LightGBM] [Info] Auto-choosing col-wise multi-threading, the overhead of testing was 0.005656 seconds.\n",
      "You can set `force_col_wise=true` to remove the overhead.\n",
      "[LightGBM] [Info] Total Bins 2890\n",
      "[LightGBM] [Info] Number of data points in the train set: 28000, number of used features: 26\n",
      "[LightGBM] [Info] [binary:BoostFromScore]: pavg=0.496179 -> initscore=-0.015286\n",
      "[LightGBM] [Info] Start training from score -0.015286\n",
      "[LightGBM] [Info] Number of positive: 13893, number of negative: 14107\n",
      "[LightGBM] [Info] Auto-choosing col-wise multi-threading, the overhead of testing was 0.004903 seconds.\n",
      "You can set `force_col_wise=true` to remove the overhead.\n",
      "[LightGBM] [Info] Total Bins 3799\n",
      "[LightGBM] [Info] Number of data points in the train set: 28000, number of used features: 25\n",
      "[LightGBM] [Info] [binary:BoostFromScore]: pavg=0.496179 -> initscore=-0.015286\n",
      "[LightGBM] [Info] Start training from score -0.015286\n",
      "[LightGBM] [Info] Number of positive: 13893, number of negative: 14107\n",
      "[LightGBM] [Info] Auto-choosing col-wise multi-threading, the overhead of testing was 0.004192 seconds.\n",
      "You can set `force_col_wise=true` to remove the overhead.\n",
      "[LightGBM] [Info] Total Bins 2946\n",
      "[LightGBM] [Info] Number of data points in the train set: 28000, number of used features: 22\n",
      "[LightGBM] [Info] [binary:BoostFromScore]: pavg=0.496179 -> initscore=-0.015286\n",
      "[LightGBM] [Info] Start training from score -0.015286\n",
      "[LightGBM] [Info] Number of positive: 13893, number of negative: 14107\n",
      "[LightGBM] [Info] Auto-choosing col-wise multi-threading, the overhead of testing was 0.003760 seconds.\n",
      "You can set `force_col_wise=true` to remove the overhead.\n",
      "[LightGBM] [Info] Total Bins 3324\n",
      "[LightGBM] [Info] Number of data points in the train set: 28000, number of used features: 24\n",
      "[LightGBM] [Info] [binary:BoostFromScore]: pavg=0.496179 -> initscore=-0.015286\n",
      "[LightGBM] [Info] Start training from score -0.015286\n",
      "[LightGBM] [Info] Number of positive: 13893, number of negative: 14107\n",
      "[LightGBM] [Info] Auto-choosing col-wise multi-threading, the overhead of testing was 0.003732 seconds.\n",
      "You can set `force_col_wise=true` to remove the overhead.\n",
      "[LightGBM] [Info] Total Bins 2286\n",
      "[LightGBM] [Info] Number of data points in the train set: 28000, number of used features: 18\n",
      "[LightGBM] [Info] [binary:BoostFromScore]: pavg=0.496179 -> initscore=-0.015286\n",
      "[LightGBM] [Info] Start training from score -0.015286\n",
      "[LightGBM] [Info] Number of positive: 13893, number of negative: 14107\n",
      "[LightGBM] [Info] Auto-choosing col-wise multi-threading, the overhead of testing was 0.004558 seconds.\n",
      "You can set `force_col_wise=true` to remove the overhead.\n",
      "[LightGBM] [Info] Total Bins 3259\n",
      "[LightGBM] [Info] Number of data points in the train set: 28000, number of used features: 24\n",
      "[LightGBM] [Info] [binary:BoostFromScore]: pavg=0.496179 -> initscore=-0.015286\n",
      "[LightGBM] [Info] Start training from score -0.015286\n",
      "[LightGBM] [Info] Number of positive: 13893, number of negative: 14107\n",
      "[LightGBM] [Info] Auto-choosing col-wise multi-threading, the overhead of testing was 0.001589 seconds.\n",
      "You can set `force_col_wise=true` to remove the overhead.\n",
      "[LightGBM] [Info] Total Bins 3763\n",
      "[LightGBM] [Info] Number of data points in the train set: 28000, number of used features: 23\n",
      "[LightGBM] [Info] [binary:BoostFromScore]: pavg=0.496179 -> initscore=-0.015286\n",
      "[LightGBM] [Info] Start training from score -0.015286\n",
      "[LightGBM] [Info] Number of positive: 13893, number of negative: 14107\n",
      "[LightGBM] [Info] Auto-choosing col-wise multi-threading, the overhead of testing was 0.001620 seconds.\n",
      "You can set `force_col_wise=true` to remove the overhead.\n",
      "[LightGBM] [Info] Total Bins 3688\n",
      "[LightGBM] [Info] Number of data points in the train set: 28000, number of used features: 25\n",
      "[LightGBM] [Info] [binary:BoostFromScore]: pavg=0.496179 -> initscore=-0.015286\n",
      "[LightGBM] [Info] Start training from score -0.015286\n",
      "[LightGBM] [Info] Number of positive: 13893, number of negative: 14107\n",
      "[LightGBM] [Info] Auto-choosing col-wise multi-threading, the overhead of testing was 0.005371 seconds.\n",
      "You can set `force_col_wise=true` to remove the overhead.\n",
      "[LightGBM] [Info] Total Bins 3291\n",
      "[LightGBM] [Info] Number of data points in the train set: 28000, number of used features: 22\n",
      "[LightGBM] [Info] [binary:BoostFromScore]: pavg=0.496179 -> initscore=-0.015286\n",
      "[LightGBM] [Info] Start training from score -0.015286\n",
      "[LightGBM] [Info] Number of positive: 13893, number of negative: 14107\n",
      "[LightGBM] [Info] Auto-choosing col-wise multi-threading, the overhead of testing was 0.006103 seconds.\n",
      "You can set `force_col_wise=true` to remove the overhead.\n",
      "[LightGBM] [Info] Total Bins 3610\n",
      "[LightGBM] [Info] Number of data points in the train set: 28000, number of used features: 25\n",
      "[LightGBM] [Info] [binary:BoostFromScore]: pavg=0.496179 -> initscore=-0.015286\n",
      "[LightGBM] [Info] Start training from score -0.015286\n",
      "[LightGBM] [Info] Number of positive: 13893, number of negative: 14107\n",
      "[LightGBM] [Info] Auto-choosing col-wise multi-threading, the overhead of testing was 0.005800 seconds.\n",
      "You can set `force_col_wise=true` to remove the overhead.\n",
      "[LightGBM] [Info] Total Bins 3584\n",
      "[LightGBM] [Info] Number of data points in the train set: 28000, number of used features: 26\n",
      "[LightGBM] [Info] [binary:BoostFromScore]: pavg=0.496179 -> initscore=-0.015286\n",
      "[LightGBM] [Info] Start training from score -0.015286\n",
      "[LightGBM] [Info] Number of positive: 13893, number of negative: 14107\n",
      "[LightGBM] [Info] Auto-choosing col-wise multi-threading, the overhead of testing was 0.004299 seconds.\n",
      "You can set `force_col_wise=true` to remove the overhead.\n",
      "[LightGBM] [Info] Total Bins 3294\n",
      "[LightGBM] [Info] Number of data points in the train set: 28000, number of used features: 24\n",
      "[LightGBM] [Info] [binary:BoostFromScore]: pavg=0.496179 -> initscore=-0.015286\n",
      "[LightGBM] [Info] Start training from score -0.015286\n",
      "[LightGBM] [Info] Number of positive: 13893, number of negative: 14107\n",
      "[LightGBM] [Info] Auto-choosing col-wise multi-threading, the overhead of testing was 0.004117 seconds.\n",
      "You can set `force_col_wise=true` to remove the overhead.\n",
      "[LightGBM] [Info] Total Bins 2842\n",
      "[LightGBM] [Info] Number of data points in the train set: 28000, number of used features: 22\n",
      "[LightGBM] [Info] [binary:BoostFromScore]: pavg=0.496179 -> initscore=-0.015286\n",
      "[LightGBM] [Info] Start training from score -0.015286\n",
      "[LightGBM] [Info] Number of positive: 13893, number of negative: 14107\n",
      "[LightGBM] [Info] Auto-choosing col-wise multi-threading, the overhead of testing was 0.004214 seconds.\n",
      "You can set `force_col_wise=true` to remove the overhead.\n",
      "[LightGBM] [Info] Total Bins 2562\n",
      "[LightGBM] [Info] Number of data points in the train set: 28000, number of used features: 21\n",
      "[LightGBM] [Info] [binary:BoostFromScore]: pavg=0.496179 -> initscore=-0.015286\n",
      "[LightGBM] [Info] Start training from score -0.015286\n",
      "[LightGBM] [Info] Number of positive: 13893, number of negative: 14107\n",
      "[LightGBM] [Info] Auto-choosing col-wise multi-threading, the overhead of testing was 0.005399 seconds.\n",
      "You can set `force_col_wise=true` to remove the overhead.\n",
      "[LightGBM] [Info] Total Bins 2878\n",
      "[LightGBM] [Info] Number of data points in the train set: 28000, number of used features: 22\n",
      "[LightGBM] [Info] [binary:BoostFromScore]: pavg=0.496179 -> initscore=-0.015286\n",
      "[LightGBM] [Info] Start training from score -0.015286\n",
      "[LightGBM] [Info] Number of positive: 13893, number of negative: 14107\n",
      "[LightGBM] [Info] Auto-choosing col-wise multi-threading, the overhead of testing was 0.003957 seconds.\n",
      "You can set `force_col_wise=true` to remove the overhead.\n",
      "[LightGBM] [Info] Total Bins 3242\n",
      "[LightGBM] [Info] Number of data points in the train set: 28000, number of used features: 21\n",
      "[LightGBM] [Info] [binary:BoostFromScore]: pavg=0.496179 -> initscore=-0.015286\n",
      "[LightGBM] [Info] Start training from score -0.015286\n",
      "[LightGBM] [Info] Number of positive: 13893, number of negative: 14107\n",
      "[LightGBM] [Info] Auto-choosing col-wise multi-threading, the overhead of testing was 0.004679 seconds.\n",
      "You can set `force_col_wise=true` to remove the overhead.\n",
      "[LightGBM] [Info] Total Bins 3075\n",
      "[LightGBM] [Info] Number of data points in the train set: 28000, number of used features: 24\n",
      "[LightGBM] [Info] [binary:BoostFromScore]: pavg=0.496179 -> initscore=-0.015286\n",
      "[LightGBM] [Info] Start training from score -0.015286\n",
      "[LightGBM] [Info] Number of positive: 13893, number of negative: 14107\n",
      "[LightGBM] [Info] Auto-choosing col-wise multi-threading, the overhead of testing was 0.005017 seconds.\n",
      "You can set `force_col_wise=true` to remove the overhead.\n",
      "[LightGBM] [Info] Total Bins 3425\n",
      "[LightGBM] [Info] Number of data points in the train set: 28000, number of used features: 24\n",
      "[LightGBM] [Info] [binary:BoostFromScore]: pavg=0.496179 -> initscore=-0.015286\n",
      "[LightGBM] [Info] Start training from score -0.015286\n",
      "[LightGBM] [Info] Number of positive: 13893, number of negative: 14107\n",
      "[LightGBM] [Info] Auto-choosing col-wise multi-threading, the overhead of testing was 0.004094 seconds.\n",
      "You can set `force_col_wise=true` to remove the overhead.\n",
      "[LightGBM] [Info] Total Bins 3024\n",
      "[LightGBM] [Info] Number of data points in the train set: 28000, number of used features: 22\n",
      "[LightGBM] [Info] [binary:BoostFromScore]: pavg=0.496179 -> initscore=-0.015286\n",
      "[LightGBM] [Info] Start training from score -0.015286\n",
      "[LightGBM] [Info] Number of positive: 13893, number of negative: 14107\n",
      "[LightGBM] [Info] Auto-choosing col-wise multi-threading, the overhead of testing was 0.004137 seconds.\n",
      "You can set `force_col_wise=true` to remove the overhead.\n",
      "[LightGBM] [Info] Total Bins 3135\n",
      "[LightGBM] [Info] Number of data points in the train set: 28000, number of used features: 24\n",
      "[LightGBM] [Info] [binary:BoostFromScore]: pavg=0.496179 -> initscore=-0.015286\n",
      "[LightGBM] [Info] Start training from score -0.015286\n",
      "[LightGBM] [Info] Number of positive: 13893, number of negative: 14107\n",
      "[LightGBM] [Info] Auto-choosing col-wise multi-threading, the overhead of testing was 0.004566 seconds.\n",
      "You can set `force_col_wise=true` to remove the overhead.\n",
      "[LightGBM] [Info] Total Bins 3289\n",
      "[LightGBM] [Info] Number of data points in the train set: 28000, number of used features: 23\n",
      "[LightGBM] [Info] [binary:BoostFromScore]: pavg=0.496179 -> initscore=-0.015286\n",
      "[LightGBM] [Info] Start training from score -0.015286\n",
      "[LightGBM] [Info] Number of positive: 13893, number of negative: 14107\n",
      "[LightGBM] [Info] Auto-choosing col-wise multi-threading, the overhead of testing was 0.003745 seconds.\n",
      "You can set `force_col_wise=true` to remove the overhead.\n",
      "[LightGBM] [Info] Total Bins 3095\n",
      "[LightGBM] [Info] Number of data points in the train set: 28000, number of used features: 22\n",
      "[LightGBM] [Info] [binary:BoostFromScore]: pavg=0.496179 -> initscore=-0.015286\n",
      "[LightGBM] [Info] Start training from score -0.015286\n",
      "[LightGBM] [Info] Number of positive: 13893, number of negative: 14107\n",
      "[LightGBM] [Info] Auto-choosing col-wise multi-threading, the overhead of testing was 0.004046 seconds.\n",
      "You can set `force_col_wise=true` to remove the overhead.\n",
      "[LightGBM] [Info] Total Bins 2471\n",
      "[LightGBM] [Info] Number of data points in the train set: 28000, number of used features: 21\n",
      "[LightGBM] [Info] [binary:BoostFromScore]: pavg=0.496179 -> initscore=-0.015286\n",
      "[LightGBM] [Info] Start training from score -0.015286\n"
     ]
    },
    {
     "name": "stderr",
     "output_type": "stream",
     "text": [
      "\u001b[32m [ 2024-11-25 17:28:36,287 ] \u001b[0mFinished iteration #14 with objective value -0.9368050849009947. Current best value is -0.9375383685025518 \u001b[0m\n"
     ]
    },
    {
     "data": {
      "text/plain": [
       "['flow_duration',\n",
       " 'Header_Length',\n",
       " 'Protocol_Type',\n",
       " 'Duration',\n",
       " 'Rate',\n",
       " 'Srate',\n",
       " 'Drate',\n",
       " 'fin_flag_number',\n",
       " 'syn_flag_number',\n",
       " 'rst_flag_number',\n",
       " 'cwr_flag_number',\n",
       " 'ack_count',\n",
       " 'syn_count',\n",
       " 'fin_count',\n",
       " 'urg_count',\n",
       " 'HTTPS',\n",
       " 'DNS',\n",
       " 'Telnet',\n",
       " 'SMTP',\n",
       " 'SSH',\n",
       " 'IRC',\n",
       " 'ARP',\n",
       " 'Tot_sum',\n",
       " 'Min',\n",
       " 'AVG',\n",
       " 'IAT',\n",
       " 'Number',\n",
       " 'Magnitue',\n",
       " 'Covariance']"
      ]
     },
     "execution_count": 8,
     "metadata": {},
     "output_type": "execute_result"
    }
   ],
   "source": [
    "def objective_function_topass(model, X_train, y_train, X_valid, y_valid):      \n",
    "    model.fit(X_train, y_train)\n",
    "    y_pred = model.predict(X_valid)  \n",
    "    P = f1_score(y_valid, y_pred)\n",
    "    return -P  # Return negative F1 score to maximize it\n",
    "\n",
    "    \n",
    "# create object of algorithm\n",
    "algo_object_pso=ParticleSwarmOptimization(objective_function_topass,n_iteration=15,\n",
    "                                    population_size=30,minimize=True)\n",
    "\n",
    "lgb_model = lgb.LGBMClassifier()                                       \n",
    "# fit the algorithm\n",
    "algo_object_pso.fit(lgb_model,X_train, y_train, X_test, y_test,verbose=True)\n",
    "#plot your results"
   ]
  },
  {
   "cell_type": "code",
   "execution_count": null,
   "metadata": {},
   "outputs": [],
   "source": [
    "algo_object"
   ]
  },
  {
   "cell_type": "code",
   "execution_count": 8,
   "metadata": {},
   "outputs": [],
   "source": [
    "feat_xg = algo_object.best_feature_list\n",
    "feat_lg = algo_object_pso.best_feature_list"
   ]
  },
  {
   "cell_type": "code",
   "execution_count": 19,
   "metadata": {},
   "outputs": [],
   "source": [
    "feat_xg = ['flow_duration',\n",
    " 'Header_Length',\n",
    " 'Duration',\n",
    " 'Rate',\n",
    " 'Drate',\n",
    " 'psh_flag_number',\n",
    " 'ack_count',\n",
    " 'syn_count',\n",
    " 'fin_count',\n",
    " 'urg_count',\n",
    " 'HTTP',\n",
    " 'HTTPS',\n",
    " 'Telnet',\n",
    " 'SSH',\n",
    " 'TCP',\n",
    " 'ARP',\n",
    " 'Tot_sum',\n",
    " 'Min',\n",
    " 'AVG',\n",
    " 'Std',\n",
    " 'Tot_size',\n",
    " 'IAT',\n",
    " 'Radius',\n",
    " 'Covariance',\n",
    " 'Variance']"
   ]
  },
  {
   "cell_type": "code",
   "execution_count": 9,
   "metadata": {},
   "outputs": [
    {
     "data": {
      "text/plain": [
       "[np.str_('flow_duration'),\n",
       " np.str_('Header_Length'),\n",
       " np.str_('Protocol_Type'),\n",
       " np.str_('Rate'),\n",
       " np.str_('Srate'),\n",
       " np.str_('fin_flag_number'),\n",
       " np.str_('psh_flag_number'),\n",
       " np.str_('ece_flag_number'),\n",
       " np.str_('ack_count'),\n",
       " np.str_('syn_count'),\n",
       " np.str_('fin_count'),\n",
       " np.str_('urg_count'),\n",
       " np.str_('HTTP'),\n",
       " np.str_('HTTPS'),\n",
       " np.str_('DNS'),\n",
       " np.str_('Telnet'),\n",
       " np.str_('SMTP'),\n",
       " np.str_('SSH'),\n",
       " np.str_('UDP'),\n",
       " np.str_('ARP'),\n",
       " np.str_('ICMP'),\n",
       " np.str_('LLC'),\n",
       " np.str_('Tot_sum'),\n",
       " np.str_('Min'),\n",
       " np.str_('AVG'),\n",
       " np.str_('Std'),\n",
       " np.str_('IAT'),\n",
       " np.str_('Covariance'),\n",
       " np.str_('Variance')]"
      ]
     },
     "execution_count": 9,
     "metadata": {},
     "output_type": "execute_result"
    }
   ],
   "source": [
    "feat_lg"
   ]
  },
  {
   "cell_type": "code",
   "execution_count": 10,
   "metadata": {},
   "outputs": [
    {
     "data": {
      "text/plain": [
       "[np.str_('flow_duration'),\n",
       " np.str_('Header_Length'),\n",
       " np.str_('Duration'),\n",
       " np.str_('Rate'),\n",
       " np.str_('Drate'),\n",
       " np.str_('fin_flag_number'),\n",
       " np.str_('ece_flag_number'),\n",
       " np.str_('ack_count'),\n",
       " np.str_('syn_count'),\n",
       " np.str_('fin_count'),\n",
       " np.str_('urg_count'),\n",
       " np.str_('rst_count'),\n",
       " np.str_('HTTPS'),\n",
       " np.str_('SMTP'),\n",
       " np.str_('SSH'),\n",
       " np.str_('UDP'),\n",
       " np.str_('IPv'),\n",
       " np.str_('Tot_sum'),\n",
       " np.str_('Min'),\n",
       " np.str_('AVG'),\n",
       " np.str_('Tot_size'),\n",
       " np.str_('IAT'),\n",
       " np.str_('Magnitue'),\n",
       " np.str_('Radius'),\n",
       " np.str_('Weight')]"
      ]
     },
     "execution_count": 10,
     "metadata": {},
     "output_type": "execute_result"
    }
   ],
   "source": [
    "feat_xg"
   ]
  },
  {
   "cell_type": "code",
   "execution_count": 11,
   "metadata": {},
   "outputs": [
    {
     "data": {
      "application/vnd.plotly.v1+json": {
       "config": {
        "plotlyServerURL": "https://plot.ly"
       },
       "data": [
        {
         "mode": "markers",
         "name": "objective_score",
         "type": "scatter",
         "x": [
          0,
          1,
          2,
          3,
          4,
          5,
          6,
          7,
          8,
          9,
          10,
          11,
          12,
          13,
          14
         ],
         "y": [
          -0.9563628204909473,
          -0.9566889472209549,
          -0.9613745403780498,
          -0.9607670478477495,
          -0.9635558737357434,
          -0.9621964179468463,
          -0.9630911135899417,
          -0.9639488448577112,
          -0.9620909062378905,
          -0.9628750182310861,
          -0.9624120774237188,
          -0.9628770678331611,
          -0.9634105832007928,
          -0.9634119590542559,
          -0.9639488448577112
         ]
        },
        {
         "mode": "lines+markers",
         "name": "best_score",
         "type": "scatter",
         "x": [
          0,
          1,
          2,
          3,
          4,
          5,
          6,
          7,
          8,
          9,
          10,
          11,
          12,
          13,
          14
         ],
         "y": [
          -0.9563628204909473,
          -0.9566889472209549,
          -0.9613745403780498,
          -0.9613745403780498,
          -0.9635558737357434,
          -0.9635558737357434,
          -0.9635558737357434,
          -0.9639488448577112,
          -0.9639488448577112,
          -0.9639488448577112,
          -0.9639488448577112,
          -0.9639488448577112,
          -0.9639488448577112,
          -0.9639488448577112,
          -0.9639488448577112
         ]
        }
       ],
       "layout": {
        "template": {
         "data": {
          "bar": [
           {
            "error_x": {
             "color": "#2a3f5f"
            },
            "error_y": {
             "color": "#2a3f5f"
            },
            "marker": {
             "line": {
              "color": "#E5ECF6",
              "width": 0.5
             },
             "pattern": {
              "fillmode": "overlay",
              "size": 10,
              "solidity": 0.2
             }
            },
            "type": "bar"
           }
          ],
          "barpolar": [
           {
            "marker": {
             "line": {
              "color": "#E5ECF6",
              "width": 0.5
             },
             "pattern": {
              "fillmode": "overlay",
              "size": 10,
              "solidity": 0.2
             }
            },
            "type": "barpolar"
           }
          ],
          "carpet": [
           {
            "aaxis": {
             "endlinecolor": "#2a3f5f",
             "gridcolor": "white",
             "linecolor": "white",
             "minorgridcolor": "white",
             "startlinecolor": "#2a3f5f"
            },
            "baxis": {
             "endlinecolor": "#2a3f5f",
             "gridcolor": "white",
             "linecolor": "white",
             "minorgridcolor": "white",
             "startlinecolor": "#2a3f5f"
            },
            "type": "carpet"
           }
          ],
          "choropleth": [
           {
            "colorbar": {
             "outlinewidth": 0,
             "ticks": ""
            },
            "type": "choropleth"
           }
          ],
          "contour": [
           {
            "colorbar": {
             "outlinewidth": 0,
             "ticks": ""
            },
            "colorscale": [
             [
              0,
              "#0d0887"
             ],
             [
              0.1111111111111111,
              "#46039f"
             ],
             [
              0.2222222222222222,
              "#7201a8"
             ],
             [
              0.3333333333333333,
              "#9c179e"
             ],
             [
              0.4444444444444444,
              "#bd3786"
             ],
             [
              0.5555555555555556,
              "#d8576b"
             ],
             [
              0.6666666666666666,
              "#ed7953"
             ],
             [
              0.7777777777777778,
              "#fb9f3a"
             ],
             [
              0.8888888888888888,
              "#fdca26"
             ],
             [
              1,
              "#f0f921"
             ]
            ],
            "type": "contour"
           }
          ],
          "contourcarpet": [
           {
            "colorbar": {
             "outlinewidth": 0,
             "ticks": ""
            },
            "type": "contourcarpet"
           }
          ],
          "heatmap": [
           {
            "colorbar": {
             "outlinewidth": 0,
             "ticks": ""
            },
            "colorscale": [
             [
              0,
              "#0d0887"
             ],
             [
              0.1111111111111111,
              "#46039f"
             ],
             [
              0.2222222222222222,
              "#7201a8"
             ],
             [
              0.3333333333333333,
              "#9c179e"
             ],
             [
              0.4444444444444444,
              "#bd3786"
             ],
             [
              0.5555555555555556,
              "#d8576b"
             ],
             [
              0.6666666666666666,
              "#ed7953"
             ],
             [
              0.7777777777777778,
              "#fb9f3a"
             ],
             [
              0.8888888888888888,
              "#fdca26"
             ],
             [
              1,
              "#f0f921"
             ]
            ],
            "type": "heatmap"
           }
          ],
          "heatmapgl": [
           {
            "colorbar": {
             "outlinewidth": 0,
             "ticks": ""
            },
            "colorscale": [
             [
              0,
              "#0d0887"
             ],
             [
              0.1111111111111111,
              "#46039f"
             ],
             [
              0.2222222222222222,
              "#7201a8"
             ],
             [
              0.3333333333333333,
              "#9c179e"
             ],
             [
              0.4444444444444444,
              "#bd3786"
             ],
             [
              0.5555555555555556,
              "#d8576b"
             ],
             [
              0.6666666666666666,
              "#ed7953"
             ],
             [
              0.7777777777777778,
              "#fb9f3a"
             ],
             [
              0.8888888888888888,
              "#fdca26"
             ],
             [
              1,
              "#f0f921"
             ]
            ],
            "type": "heatmapgl"
           }
          ],
          "histogram": [
           {
            "marker": {
             "pattern": {
              "fillmode": "overlay",
              "size": 10,
              "solidity": 0.2
             }
            },
            "type": "histogram"
           }
          ],
          "histogram2d": [
           {
            "colorbar": {
             "outlinewidth": 0,
             "ticks": ""
            },
            "colorscale": [
             [
              0,
              "#0d0887"
             ],
             [
              0.1111111111111111,
              "#46039f"
             ],
             [
              0.2222222222222222,
              "#7201a8"
             ],
             [
              0.3333333333333333,
              "#9c179e"
             ],
             [
              0.4444444444444444,
              "#bd3786"
             ],
             [
              0.5555555555555556,
              "#d8576b"
             ],
             [
              0.6666666666666666,
              "#ed7953"
             ],
             [
              0.7777777777777778,
              "#fb9f3a"
             ],
             [
              0.8888888888888888,
              "#fdca26"
             ],
             [
              1,
              "#f0f921"
             ]
            ],
            "type": "histogram2d"
           }
          ],
          "histogram2dcontour": [
           {
            "colorbar": {
             "outlinewidth": 0,
             "ticks": ""
            },
            "colorscale": [
             [
              0,
              "#0d0887"
             ],
             [
              0.1111111111111111,
              "#46039f"
             ],
             [
              0.2222222222222222,
              "#7201a8"
             ],
             [
              0.3333333333333333,
              "#9c179e"
             ],
             [
              0.4444444444444444,
              "#bd3786"
             ],
             [
              0.5555555555555556,
              "#d8576b"
             ],
             [
              0.6666666666666666,
              "#ed7953"
             ],
             [
              0.7777777777777778,
              "#fb9f3a"
             ],
             [
              0.8888888888888888,
              "#fdca26"
             ],
             [
              1,
              "#f0f921"
             ]
            ],
            "type": "histogram2dcontour"
           }
          ],
          "mesh3d": [
           {
            "colorbar": {
             "outlinewidth": 0,
             "ticks": ""
            },
            "type": "mesh3d"
           }
          ],
          "parcoords": [
           {
            "line": {
             "colorbar": {
              "outlinewidth": 0,
              "ticks": ""
             }
            },
            "type": "parcoords"
           }
          ],
          "pie": [
           {
            "automargin": true,
            "type": "pie"
           }
          ],
          "scatter": [
           {
            "fillpattern": {
             "fillmode": "overlay",
             "size": 10,
             "solidity": 0.2
            },
            "type": "scatter"
           }
          ],
          "scatter3d": [
           {
            "line": {
             "colorbar": {
              "outlinewidth": 0,
              "ticks": ""
             }
            },
            "marker": {
             "colorbar": {
              "outlinewidth": 0,
              "ticks": ""
             }
            },
            "type": "scatter3d"
           }
          ],
          "scattercarpet": [
           {
            "marker": {
             "colorbar": {
              "outlinewidth": 0,
              "ticks": ""
             }
            },
            "type": "scattercarpet"
           }
          ],
          "scattergeo": [
           {
            "marker": {
             "colorbar": {
              "outlinewidth": 0,
              "ticks": ""
             }
            },
            "type": "scattergeo"
           }
          ],
          "scattergl": [
           {
            "marker": {
             "colorbar": {
              "outlinewidth": 0,
              "ticks": ""
             }
            },
            "type": "scattergl"
           }
          ],
          "scattermapbox": [
           {
            "marker": {
             "colorbar": {
              "outlinewidth": 0,
              "ticks": ""
             }
            },
            "type": "scattermapbox"
           }
          ],
          "scatterpolar": [
           {
            "marker": {
             "colorbar": {
              "outlinewidth": 0,
              "ticks": ""
             }
            },
            "type": "scatterpolar"
           }
          ],
          "scatterpolargl": [
           {
            "marker": {
             "colorbar": {
              "outlinewidth": 0,
              "ticks": ""
             }
            },
            "type": "scatterpolargl"
           }
          ],
          "scatterternary": [
           {
            "marker": {
             "colorbar": {
              "outlinewidth": 0,
              "ticks": ""
             }
            },
            "type": "scatterternary"
           }
          ],
          "surface": [
           {
            "colorbar": {
             "outlinewidth": 0,
             "ticks": ""
            },
            "colorscale": [
             [
              0,
              "#0d0887"
             ],
             [
              0.1111111111111111,
              "#46039f"
             ],
             [
              0.2222222222222222,
              "#7201a8"
             ],
             [
              0.3333333333333333,
              "#9c179e"
             ],
             [
              0.4444444444444444,
              "#bd3786"
             ],
             [
              0.5555555555555556,
              "#d8576b"
             ],
             [
              0.6666666666666666,
              "#ed7953"
             ],
             [
              0.7777777777777778,
              "#fb9f3a"
             ],
             [
              0.8888888888888888,
              "#fdca26"
             ],
             [
              1,
              "#f0f921"
             ]
            ],
            "type": "surface"
           }
          ],
          "table": [
           {
            "cells": {
             "fill": {
              "color": "#EBF0F8"
             },
             "line": {
              "color": "white"
             }
            },
            "header": {
             "fill": {
              "color": "#C8D4E3"
             },
             "line": {
              "color": "white"
             }
            },
            "type": "table"
           }
          ]
         },
         "layout": {
          "annotationdefaults": {
           "arrowcolor": "#2a3f5f",
           "arrowhead": 0,
           "arrowwidth": 1
          },
          "autotypenumbers": "strict",
          "coloraxis": {
           "colorbar": {
            "outlinewidth": 0,
            "ticks": ""
           }
          },
          "colorscale": {
           "diverging": [
            [
             0,
             "#8e0152"
            ],
            [
             0.1,
             "#c51b7d"
            ],
            [
             0.2,
             "#de77ae"
            ],
            [
             0.3,
             "#f1b6da"
            ],
            [
             0.4,
             "#fde0ef"
            ],
            [
             0.5,
             "#f7f7f7"
            ],
            [
             0.6,
             "#e6f5d0"
            ],
            [
             0.7,
             "#b8e186"
            ],
            [
             0.8,
             "#7fbc41"
            ],
            [
             0.9,
             "#4d9221"
            ],
            [
             1,
             "#276419"
            ]
           ],
           "sequential": [
            [
             0,
             "#0d0887"
            ],
            [
             0.1111111111111111,
             "#46039f"
            ],
            [
             0.2222222222222222,
             "#7201a8"
            ],
            [
             0.3333333333333333,
             "#9c179e"
            ],
            [
             0.4444444444444444,
             "#bd3786"
            ],
            [
             0.5555555555555556,
             "#d8576b"
            ],
            [
             0.6666666666666666,
             "#ed7953"
            ],
            [
             0.7777777777777778,
             "#fb9f3a"
            ],
            [
             0.8888888888888888,
             "#fdca26"
            ],
            [
             1,
             "#f0f921"
            ]
           ],
           "sequentialminus": [
            [
             0,
             "#0d0887"
            ],
            [
             0.1111111111111111,
             "#46039f"
            ],
            [
             0.2222222222222222,
             "#7201a8"
            ],
            [
             0.3333333333333333,
             "#9c179e"
            ],
            [
             0.4444444444444444,
             "#bd3786"
            ],
            [
             0.5555555555555556,
             "#d8576b"
            ],
            [
             0.6666666666666666,
             "#ed7953"
            ],
            [
             0.7777777777777778,
             "#fb9f3a"
            ],
            [
             0.8888888888888888,
             "#fdca26"
            ],
            [
             1,
             "#f0f921"
            ]
           ]
          },
          "colorway": [
           "#636efa",
           "#EF553B",
           "#00cc96",
           "#ab63fa",
           "#FFA15A",
           "#19d3f3",
           "#FF6692",
           "#B6E880",
           "#FF97FF",
           "#FECB52"
          ],
          "font": {
           "color": "#2a3f5f"
          },
          "geo": {
           "bgcolor": "white",
           "lakecolor": "white",
           "landcolor": "#E5ECF6",
           "showlakes": true,
           "showland": true,
           "subunitcolor": "white"
          },
          "hoverlabel": {
           "align": "left"
          },
          "hovermode": "closest",
          "mapbox": {
           "style": "light"
          },
          "paper_bgcolor": "white",
          "plot_bgcolor": "#E5ECF6",
          "polar": {
           "angularaxis": {
            "gridcolor": "white",
            "linecolor": "white",
            "ticks": ""
           },
           "bgcolor": "#E5ECF6",
           "radialaxis": {
            "gridcolor": "white",
            "linecolor": "white",
            "ticks": ""
           }
          },
          "scene": {
           "xaxis": {
            "backgroundcolor": "#E5ECF6",
            "gridcolor": "white",
            "gridwidth": 2,
            "linecolor": "white",
            "showbackground": true,
            "ticks": "",
            "zerolinecolor": "white"
           },
           "yaxis": {
            "backgroundcolor": "#E5ECF6",
            "gridcolor": "white",
            "gridwidth": 2,
            "linecolor": "white",
            "showbackground": true,
            "ticks": "",
            "zerolinecolor": "white"
           },
           "zaxis": {
            "backgroundcolor": "#E5ECF6",
            "gridcolor": "white",
            "gridwidth": 2,
            "linecolor": "white",
            "showbackground": true,
            "ticks": "",
            "zerolinecolor": "white"
           }
          },
          "shapedefaults": {
           "line": {
            "color": "#2a3f5f"
           }
          },
          "ternary": {
           "aaxis": {
            "gridcolor": "white",
            "linecolor": "white",
            "ticks": ""
           },
           "baxis": {
            "gridcolor": "white",
            "linecolor": "white",
            "ticks": ""
           },
           "bgcolor": "#E5ECF6",
           "caxis": {
            "gridcolor": "white",
            "linecolor": "white",
            "ticks": ""
           }
          },
          "title": {
           "x": 0.05
          },
          "xaxis": {
           "automargin": true,
           "gridcolor": "white",
           "linecolor": "white",
           "ticks": "",
           "title": {
            "standoff": 15
           },
           "zerolinecolor": "white",
           "zerolinewidth": 2
          },
          "yaxis": {
           "automargin": true,
           "gridcolor": "white",
           "linecolor": "white",
           "ticks": "",
           "title": {
            "standoff": 15
           },
           "zerolinecolor": "white",
           "zerolinewidth": 2
          }
         }
        },
        "title": {
         "text": "Optimization History Plot"
        },
        "xaxis": {
         "title": {
          "text": "Iteration"
         }
        },
        "yaxis": {
         "title": {
          "text": "objective_score"
         }
        }
       }
      }
     },
     "metadata": {},
     "output_type": "display_data"
    },
    {
     "data": {
      "application/vnd.plotly.v1+json": {
       "config": {
        "plotlyServerURL": "https://plot.ly"
       },
       "data": [
        {
         "mode": "markers",
         "name": "objective_score",
         "type": "scatter",
         "x": [
          0,
          1,
          2,
          3,
          4,
          5,
          6,
          7,
          8,
          9,
          10,
          11,
          12,
          13,
          14
         ],
         "y": [
          -0.9408234217749314,
          -0.9396419437340153,
          -0.9363506745146785,
          -0.9394460502725842,
          -0.9399897668299101,
          -0.9411893870082342,
          -0.9409011117612639,
          -0.9423386506658862,
          -0.9423379282606311,
          -0.9421535984779188,
          -0.9426574450177481,
          -0.9410815765352887,
          -0.942527054694355,
          -0.9429323968393327,
          -0.9445052939028843
         ]
        },
        {
         "mode": "lines+markers",
         "name": "best_score",
         "type": "scatter",
         "x": [
          0,
          1,
          2,
          3,
          4,
          5,
          6,
          7,
          8,
          9,
          10,
          11,
          12,
          13,
          14
         ],
         "y": [
          -0.9408234217749314,
          -0.9408234217749314,
          -0.9408234217749314,
          -0.9408234217749314,
          -0.9408234217749314,
          -0.9411893870082342,
          -0.9411893870082342,
          -0.9423386506658862,
          -0.9423386506658862,
          -0.9423386506658862,
          -0.9426574450177481,
          -0.9426574450177481,
          -0.9426574450177481,
          -0.9429323968393327,
          -0.9445052939028843
         ]
        }
       ],
       "layout": {
        "template": {
         "data": {
          "bar": [
           {
            "error_x": {
             "color": "#2a3f5f"
            },
            "error_y": {
             "color": "#2a3f5f"
            },
            "marker": {
             "line": {
              "color": "#E5ECF6",
              "width": 0.5
             },
             "pattern": {
              "fillmode": "overlay",
              "size": 10,
              "solidity": 0.2
             }
            },
            "type": "bar"
           }
          ],
          "barpolar": [
           {
            "marker": {
             "line": {
              "color": "#E5ECF6",
              "width": 0.5
             },
             "pattern": {
              "fillmode": "overlay",
              "size": 10,
              "solidity": 0.2
             }
            },
            "type": "barpolar"
           }
          ],
          "carpet": [
           {
            "aaxis": {
             "endlinecolor": "#2a3f5f",
             "gridcolor": "white",
             "linecolor": "white",
             "minorgridcolor": "white",
             "startlinecolor": "#2a3f5f"
            },
            "baxis": {
             "endlinecolor": "#2a3f5f",
             "gridcolor": "white",
             "linecolor": "white",
             "minorgridcolor": "white",
             "startlinecolor": "#2a3f5f"
            },
            "type": "carpet"
           }
          ],
          "choropleth": [
           {
            "colorbar": {
             "outlinewidth": 0,
             "ticks": ""
            },
            "type": "choropleth"
           }
          ],
          "contour": [
           {
            "colorbar": {
             "outlinewidth": 0,
             "ticks": ""
            },
            "colorscale": [
             [
              0,
              "#0d0887"
             ],
             [
              0.1111111111111111,
              "#46039f"
             ],
             [
              0.2222222222222222,
              "#7201a8"
             ],
             [
              0.3333333333333333,
              "#9c179e"
             ],
             [
              0.4444444444444444,
              "#bd3786"
             ],
             [
              0.5555555555555556,
              "#d8576b"
             ],
             [
              0.6666666666666666,
              "#ed7953"
             ],
             [
              0.7777777777777778,
              "#fb9f3a"
             ],
             [
              0.8888888888888888,
              "#fdca26"
             ],
             [
              1,
              "#f0f921"
             ]
            ],
            "type": "contour"
           }
          ],
          "contourcarpet": [
           {
            "colorbar": {
             "outlinewidth": 0,
             "ticks": ""
            },
            "type": "contourcarpet"
           }
          ],
          "heatmap": [
           {
            "colorbar": {
             "outlinewidth": 0,
             "ticks": ""
            },
            "colorscale": [
             [
              0,
              "#0d0887"
             ],
             [
              0.1111111111111111,
              "#46039f"
             ],
             [
              0.2222222222222222,
              "#7201a8"
             ],
             [
              0.3333333333333333,
              "#9c179e"
             ],
             [
              0.4444444444444444,
              "#bd3786"
             ],
             [
              0.5555555555555556,
              "#d8576b"
             ],
             [
              0.6666666666666666,
              "#ed7953"
             ],
             [
              0.7777777777777778,
              "#fb9f3a"
             ],
             [
              0.8888888888888888,
              "#fdca26"
             ],
             [
              1,
              "#f0f921"
             ]
            ],
            "type": "heatmap"
           }
          ],
          "heatmapgl": [
           {
            "colorbar": {
             "outlinewidth": 0,
             "ticks": ""
            },
            "colorscale": [
             [
              0,
              "#0d0887"
             ],
             [
              0.1111111111111111,
              "#46039f"
             ],
             [
              0.2222222222222222,
              "#7201a8"
             ],
             [
              0.3333333333333333,
              "#9c179e"
             ],
             [
              0.4444444444444444,
              "#bd3786"
             ],
             [
              0.5555555555555556,
              "#d8576b"
             ],
             [
              0.6666666666666666,
              "#ed7953"
             ],
             [
              0.7777777777777778,
              "#fb9f3a"
             ],
             [
              0.8888888888888888,
              "#fdca26"
             ],
             [
              1,
              "#f0f921"
             ]
            ],
            "type": "heatmapgl"
           }
          ],
          "histogram": [
           {
            "marker": {
             "pattern": {
              "fillmode": "overlay",
              "size": 10,
              "solidity": 0.2
             }
            },
            "type": "histogram"
           }
          ],
          "histogram2d": [
           {
            "colorbar": {
             "outlinewidth": 0,
             "ticks": ""
            },
            "colorscale": [
             [
              0,
              "#0d0887"
             ],
             [
              0.1111111111111111,
              "#46039f"
             ],
             [
              0.2222222222222222,
              "#7201a8"
             ],
             [
              0.3333333333333333,
              "#9c179e"
             ],
             [
              0.4444444444444444,
              "#bd3786"
             ],
             [
              0.5555555555555556,
              "#d8576b"
             ],
             [
              0.6666666666666666,
              "#ed7953"
             ],
             [
              0.7777777777777778,
              "#fb9f3a"
             ],
             [
              0.8888888888888888,
              "#fdca26"
             ],
             [
              1,
              "#f0f921"
             ]
            ],
            "type": "histogram2d"
           }
          ],
          "histogram2dcontour": [
           {
            "colorbar": {
             "outlinewidth": 0,
             "ticks": ""
            },
            "colorscale": [
             [
              0,
              "#0d0887"
             ],
             [
              0.1111111111111111,
              "#46039f"
             ],
             [
              0.2222222222222222,
              "#7201a8"
             ],
             [
              0.3333333333333333,
              "#9c179e"
             ],
             [
              0.4444444444444444,
              "#bd3786"
             ],
             [
              0.5555555555555556,
              "#d8576b"
             ],
             [
              0.6666666666666666,
              "#ed7953"
             ],
             [
              0.7777777777777778,
              "#fb9f3a"
             ],
             [
              0.8888888888888888,
              "#fdca26"
             ],
             [
              1,
              "#f0f921"
             ]
            ],
            "type": "histogram2dcontour"
           }
          ],
          "mesh3d": [
           {
            "colorbar": {
             "outlinewidth": 0,
             "ticks": ""
            },
            "type": "mesh3d"
           }
          ],
          "parcoords": [
           {
            "line": {
             "colorbar": {
              "outlinewidth": 0,
              "ticks": ""
             }
            },
            "type": "parcoords"
           }
          ],
          "pie": [
           {
            "automargin": true,
            "type": "pie"
           }
          ],
          "scatter": [
           {
            "fillpattern": {
             "fillmode": "overlay",
             "size": 10,
             "solidity": 0.2
            },
            "type": "scatter"
           }
          ],
          "scatter3d": [
           {
            "line": {
             "colorbar": {
              "outlinewidth": 0,
              "ticks": ""
             }
            },
            "marker": {
             "colorbar": {
              "outlinewidth": 0,
              "ticks": ""
             }
            },
            "type": "scatter3d"
           }
          ],
          "scattercarpet": [
           {
            "marker": {
             "colorbar": {
              "outlinewidth": 0,
              "ticks": ""
             }
            },
            "type": "scattercarpet"
           }
          ],
          "scattergeo": [
           {
            "marker": {
             "colorbar": {
              "outlinewidth": 0,
              "ticks": ""
             }
            },
            "type": "scattergeo"
           }
          ],
          "scattergl": [
           {
            "marker": {
             "colorbar": {
              "outlinewidth": 0,
              "ticks": ""
             }
            },
            "type": "scattergl"
           }
          ],
          "scattermapbox": [
           {
            "marker": {
             "colorbar": {
              "outlinewidth": 0,
              "ticks": ""
             }
            },
            "type": "scattermapbox"
           }
          ],
          "scatterpolar": [
           {
            "marker": {
             "colorbar": {
              "outlinewidth": 0,
              "ticks": ""
             }
            },
            "type": "scatterpolar"
           }
          ],
          "scatterpolargl": [
           {
            "marker": {
             "colorbar": {
              "outlinewidth": 0,
              "ticks": ""
             }
            },
            "type": "scatterpolargl"
           }
          ],
          "scatterternary": [
           {
            "marker": {
             "colorbar": {
              "outlinewidth": 0,
              "ticks": ""
             }
            },
            "type": "scatterternary"
           }
          ],
          "surface": [
           {
            "colorbar": {
             "outlinewidth": 0,
             "ticks": ""
            },
            "colorscale": [
             [
              0,
              "#0d0887"
             ],
             [
              0.1111111111111111,
              "#46039f"
             ],
             [
              0.2222222222222222,
              "#7201a8"
             ],
             [
              0.3333333333333333,
              "#9c179e"
             ],
             [
              0.4444444444444444,
              "#bd3786"
             ],
             [
              0.5555555555555556,
              "#d8576b"
             ],
             [
              0.6666666666666666,
              "#ed7953"
             ],
             [
              0.7777777777777778,
              "#fb9f3a"
             ],
             [
              0.8888888888888888,
              "#fdca26"
             ],
             [
              1,
              "#f0f921"
             ]
            ],
            "type": "surface"
           }
          ],
          "table": [
           {
            "cells": {
             "fill": {
              "color": "#EBF0F8"
             },
             "line": {
              "color": "white"
             }
            },
            "header": {
             "fill": {
              "color": "#C8D4E3"
             },
             "line": {
              "color": "white"
             }
            },
            "type": "table"
           }
          ]
         },
         "layout": {
          "annotationdefaults": {
           "arrowcolor": "#2a3f5f",
           "arrowhead": 0,
           "arrowwidth": 1
          },
          "autotypenumbers": "strict",
          "coloraxis": {
           "colorbar": {
            "outlinewidth": 0,
            "ticks": ""
           }
          },
          "colorscale": {
           "diverging": [
            [
             0,
             "#8e0152"
            ],
            [
             0.1,
             "#c51b7d"
            ],
            [
             0.2,
             "#de77ae"
            ],
            [
             0.3,
             "#f1b6da"
            ],
            [
             0.4,
             "#fde0ef"
            ],
            [
             0.5,
             "#f7f7f7"
            ],
            [
             0.6,
             "#e6f5d0"
            ],
            [
             0.7,
             "#b8e186"
            ],
            [
             0.8,
             "#7fbc41"
            ],
            [
             0.9,
             "#4d9221"
            ],
            [
             1,
             "#276419"
            ]
           ],
           "sequential": [
            [
             0,
             "#0d0887"
            ],
            [
             0.1111111111111111,
             "#46039f"
            ],
            [
             0.2222222222222222,
             "#7201a8"
            ],
            [
             0.3333333333333333,
             "#9c179e"
            ],
            [
             0.4444444444444444,
             "#bd3786"
            ],
            [
             0.5555555555555556,
             "#d8576b"
            ],
            [
             0.6666666666666666,
             "#ed7953"
            ],
            [
             0.7777777777777778,
             "#fb9f3a"
            ],
            [
             0.8888888888888888,
             "#fdca26"
            ],
            [
             1,
             "#f0f921"
            ]
           ],
           "sequentialminus": [
            [
             0,
             "#0d0887"
            ],
            [
             0.1111111111111111,
             "#46039f"
            ],
            [
             0.2222222222222222,
             "#7201a8"
            ],
            [
             0.3333333333333333,
             "#9c179e"
            ],
            [
             0.4444444444444444,
             "#bd3786"
            ],
            [
             0.5555555555555556,
             "#d8576b"
            ],
            [
             0.6666666666666666,
             "#ed7953"
            ],
            [
             0.7777777777777778,
             "#fb9f3a"
            ],
            [
             0.8888888888888888,
             "#fdca26"
            ],
            [
             1,
             "#f0f921"
            ]
           ]
          },
          "colorway": [
           "#636efa",
           "#EF553B",
           "#00cc96",
           "#ab63fa",
           "#FFA15A",
           "#19d3f3",
           "#FF6692",
           "#B6E880",
           "#FF97FF",
           "#FECB52"
          ],
          "font": {
           "color": "#2a3f5f"
          },
          "geo": {
           "bgcolor": "white",
           "lakecolor": "white",
           "landcolor": "#E5ECF6",
           "showlakes": true,
           "showland": true,
           "subunitcolor": "white"
          },
          "hoverlabel": {
           "align": "left"
          },
          "hovermode": "closest",
          "mapbox": {
           "style": "light"
          },
          "paper_bgcolor": "white",
          "plot_bgcolor": "#E5ECF6",
          "polar": {
           "angularaxis": {
            "gridcolor": "white",
            "linecolor": "white",
            "ticks": ""
           },
           "bgcolor": "#E5ECF6",
           "radialaxis": {
            "gridcolor": "white",
            "linecolor": "white",
            "ticks": ""
           }
          },
          "scene": {
           "xaxis": {
            "backgroundcolor": "#E5ECF6",
            "gridcolor": "white",
            "gridwidth": 2,
            "linecolor": "white",
            "showbackground": true,
            "ticks": "",
            "zerolinecolor": "white"
           },
           "yaxis": {
            "backgroundcolor": "#E5ECF6",
            "gridcolor": "white",
            "gridwidth": 2,
            "linecolor": "white",
            "showbackground": true,
            "ticks": "",
            "zerolinecolor": "white"
           },
           "zaxis": {
            "backgroundcolor": "#E5ECF6",
            "gridcolor": "white",
            "gridwidth": 2,
            "linecolor": "white",
            "showbackground": true,
            "ticks": "",
            "zerolinecolor": "white"
           }
          },
          "shapedefaults": {
           "line": {
            "color": "#2a3f5f"
           }
          },
          "ternary": {
           "aaxis": {
            "gridcolor": "white",
            "linecolor": "white",
            "ticks": ""
           },
           "baxis": {
            "gridcolor": "white",
            "linecolor": "white",
            "ticks": ""
           },
           "bgcolor": "#E5ECF6",
           "caxis": {
            "gridcolor": "white",
            "linecolor": "white",
            "ticks": ""
           }
          },
          "title": {
           "x": 0.05
          },
          "xaxis": {
           "automargin": true,
           "gridcolor": "white",
           "linecolor": "white",
           "ticks": "",
           "title": {
            "standoff": 15
           },
           "zerolinecolor": "white",
           "zerolinewidth": 2
          },
          "yaxis": {
           "automargin": true,
           "gridcolor": "white",
           "linecolor": "white",
           "ticks": "",
           "title": {
            "standoff": 15
           },
           "zerolinecolor": "white",
           "zerolinewidth": 2
          }
         }
        },
        "title": {
         "text": "Optimization History Plot"
        },
        "xaxis": {
         "title": {
          "text": "Iteration"
         }
        },
        "yaxis": {
         "title": {
          "text": "objective_score"
         }
        }
       }
      }
     },
     "metadata": {},
     "output_type": "display_data"
    }
   ],
   "source": [
    "algo_object.plot_history()\n",
    "algo_object_pso.plot_history()"
   ]
  },
  {
   "cell_type": "code",
   "execution_count": 13,
   "metadata": {},
   "outputs": [],
   "source": [
    "feat = [\n",
    "    \"IAT\", \n",
    "    \"flow_duration\", \n",
    "    \"Header_Length\", \n",
    "    \"Rate\", \n",
    "    \"urg_count\", \n",
    "    \"syn_count\", \n",
    "    \"Duration\", \n",
    "    \"Tot_sum\", \n",
    "    \"Min\", \n",
    "    \"Tot_size\", \n",
    "    \"rst_count\", \n",
    "    \"ack_count\", \n",
    "    \"Covariance\", \n",
    "    \"fin_count\", \n",
    "    \"Protocol_Type\", \n",
    "    \"Max\", \n",
    "    \"Number\"\n",
    "]\n"
   ]
  },
  {
   "cell_type": "code",
   "execution_count": 20,
   "metadata": {},
   "outputs": [
    {
     "name": "stdout",
     "output_type": "stream",
     "text": [
      "[LightGBM] [Info] Number of positive: 56080, number of negative: 55920\n",
      "[LightGBM] [Info] Auto-choosing col-wise multi-threading, the overhead of testing was 0.004896 seconds.\n",
      "You can set `force_col_wise=true` to remove the overhead.\n",
      "[LightGBM] [Info] Total Bins 3767\n",
      "[LightGBM] [Info] Number of data points in the train set: 112000, number of used features: 23\n",
      "[LightGBM] [Info] [binary:BoostFromScore]: pavg=0.500714 -> initscore=0.002857\n",
      "[LightGBM] [Info] Start training from score 0.002857\n",
      "LightGBM Model accuracy score: 0.9440\n"
     ]
    }
   ],
   "source": [
    "clf = lgb.LGBMClassifier()\n",
    "clf.fit(X_train[feat_xg], y_train)\n",
    "y_pred=clf.predict(X_test[feat_xg])\n",
    "\n",
    "accuracy=accuracy_score(y_pred, y_test)\n",
    "print('LightGBM Model accuracy score: {0:0.4f}'.format(accuracy_score(y_test, y_pred)))"
   ]
  },
  {
   "cell_type": "code",
   "execution_count": 14,
   "metadata": {},
   "outputs": [
    {
     "name": "stdout",
     "output_type": "stream",
     "text": [
      "[LightGBM] [Warning] Contains only one class\n",
      "[LightGBM] [Info] Number of positive: 0, number of negative: 28000\n",
      "[LightGBM] [Info] Auto-choosing col-wise multi-threading, the overhead of testing was 0.004160 seconds.\n",
      "You can set `force_col_wise=true` to remove the overhead.\n",
      "[LightGBM] [Info] Total Bins 3251\n",
      "[LightGBM] [Info] Number of data points in the train set: 28000, number of used features: 17\n",
      "[LightGBM] [Info] [binary:BoostFromScore]: pavg=0.000000 -> initscore=-34.538776\n",
      "[LightGBM] [Info] Start training from score -34.538776\n",
      "[LightGBM] [Warning] Stopped training because there are no more leaves that meet the split requirements\n",
      "[LightGBM] [Warning] Stopped training because there are no more leaves that meet the split requirements\n",
      "[LightGBM] [Warning] Stopped training because there are no more leaves that meet the split requirements\n",
      "[LightGBM] [Warning] Stopped training because there are no more leaves that meet the split requirements\n",
      "[LightGBM] [Warning] Stopped training because there are no more leaves that meet the split requirements\n",
      "[LightGBM] [Warning] Stopped training because there are no more leaves that meet the split requirements\n",
      "[LightGBM] [Warning] Stopped training because there are no more leaves that meet the split requirements\n",
      "[LightGBM] [Warning] Stopped training because there are no more leaves that meet the split requirements\n",
      "[LightGBM] [Warning] Stopped training because there are no more leaves that meet the split requirements\n",
      "[LightGBM] [Warning] Stopped training because there are no more leaves that meet the split requirements\n",
      "[LightGBM] [Warning] Stopped training because there are no more leaves that meet the split requirements\n",
      "[LightGBM] [Warning] Stopped training because there are no more leaves that meet the split requirements\n",
      "[LightGBM] [Warning] Stopped training because there are no more leaves that meet the split requirements\n",
      "[LightGBM] [Warning] Stopped training because there are no more leaves that meet the split requirements\n",
      "[LightGBM] [Warning] Stopped training because there are no more leaves that meet the split requirements\n",
      "[LightGBM] [Warning] Stopped training because there are no more leaves that meet the split requirements\n",
      "[LightGBM] [Warning] Stopped training because there are no more leaves that meet the split requirements\n",
      "[LightGBM] [Warning] Stopped training because there are no more leaves that meet the split requirements\n",
      "[LightGBM] [Warning] Stopped training because there are no more leaves that meet the split requirements\n",
      "[LightGBM] [Warning] Stopped training because there are no more leaves that meet the split requirements\n",
      "[LightGBM] [Warning] Stopped training because there are no more leaves that meet the split requirements\n",
      "[LightGBM] [Warning] Stopped training because there are no more leaves that meet the split requirements\n",
      "[LightGBM] [Warning] Stopped training because there are no more leaves that meet the split requirements\n",
      "[LightGBM] [Warning] Stopped training because there are no more leaves that meet the split requirements\n",
      "[LightGBM] [Warning] Stopped training because there are no more leaves that meet the split requirements\n",
      "[LightGBM] [Warning] Stopped training because there are no more leaves that meet the split requirements\n",
      "[LightGBM] [Warning] Stopped training because there are no more leaves that meet the split requirements\n",
      "[LightGBM] [Warning] Stopped training because there are no more leaves that meet the split requirements\n",
      "[LightGBM] [Warning] Stopped training because there are no more leaves that meet the split requirements\n",
      "[LightGBM] [Warning] Stopped training because there are no more leaves that meet the split requirements\n",
      "[LightGBM] [Warning] Stopped training because there are no more leaves that meet the split requirements\n",
      "[LightGBM] [Warning] Stopped training because there are no more leaves that meet the split requirements\n",
      "[LightGBM] [Warning] Stopped training because there are no more leaves that meet the split requirements\n",
      "[LightGBM] [Warning] Stopped training because there are no more leaves that meet the split requirements\n",
      "[LightGBM] [Warning] Stopped training because there are no more leaves that meet the split requirements\n",
      "[LightGBM] [Warning] Stopped training because there are no more leaves that meet the split requirements\n",
      "[LightGBM] [Warning] Stopped training because there are no more leaves that meet the split requirements\n",
      "[LightGBM] [Warning] Stopped training because there are no more leaves that meet the split requirements\n",
      "[LightGBM] [Warning] Stopped training because there are no more leaves that meet the split requirements\n",
      "[LightGBM] [Warning] Stopped training because there are no more leaves that meet the split requirements\n",
      "[LightGBM] [Warning] Stopped training because there are no more leaves that meet the split requirements\n",
      "[LightGBM] [Warning] Stopped training because there are no more leaves that meet the split requirements\n",
      "[LightGBM] [Warning] Stopped training because there are no more leaves that meet the split requirements\n",
      "[LightGBM] [Warning] Stopped training because there are no more leaves that meet the split requirements\n",
      "[LightGBM] [Warning] Stopped training because there are no more leaves that meet the split requirements\n",
      "[LightGBM] [Warning] Stopped training because there are no more leaves that meet the split requirements\n",
      "[LightGBM] [Warning] Stopped training because there are no more leaves that meet the split requirements\n",
      "[LightGBM] [Warning] Stopped training because there are no more leaves that meet the split requirements\n",
      "[LightGBM] [Warning] Stopped training because there are no more leaves that meet the split requirements\n",
      "[LightGBM] [Warning] Stopped training because there are no more leaves that meet the split requirements\n",
      "[LightGBM] [Warning] Stopped training because there are no more leaves that meet the split requirements\n",
      "[LightGBM] [Warning] Stopped training because there are no more leaves that meet the split requirements\n",
      "[LightGBM] [Warning] Stopped training because there are no more leaves that meet the split requirements\n",
      "[LightGBM] [Warning] Stopped training because there are no more leaves that meet the split requirements\n",
      "[LightGBM] [Warning] Stopped training because there are no more leaves that meet the split requirements\n",
      "[LightGBM] [Warning] Stopped training because there are no more leaves that meet the split requirements\n",
      "[LightGBM] [Warning] Stopped training because there are no more leaves that meet the split requirements\n",
      "[LightGBM] [Warning] Stopped training because there are no more leaves that meet the split requirements\n",
      "[LightGBM] [Warning] Stopped training because there are no more leaves that meet the split requirements\n",
      "[LightGBM] [Warning] Stopped training because there are no more leaves that meet the split requirements\n",
      "[LightGBM] [Warning] Stopped training because there are no more leaves that meet the split requirements\n",
      "[LightGBM] [Warning] Stopped training because there are no more leaves that meet the split requirements\n",
      "[LightGBM] [Warning] Stopped training because there are no more leaves that meet the split requirements\n",
      "[LightGBM] [Warning] Stopped training because there are no more leaves that meet the split requirements\n",
      "[LightGBM] [Warning] Stopped training because there are no more leaves that meet the split requirements\n",
      "[LightGBM] [Warning] Stopped training because there are no more leaves that meet the split requirements\n",
      "[LightGBM] [Warning] Stopped training because there are no more leaves that meet the split requirements\n",
      "[LightGBM] [Warning] Stopped training because there are no more leaves that meet the split requirements\n",
      "[LightGBM] [Warning] Stopped training because there are no more leaves that meet the split requirements\n",
      "[LightGBM] [Warning] Stopped training because there are no more leaves that meet the split requirements\n",
      "[LightGBM] [Warning] Stopped training because there are no more leaves that meet the split requirements\n",
      "[LightGBM] [Warning] Stopped training because there are no more leaves that meet the split requirements\n",
      "[LightGBM] [Warning] Stopped training because there are no more leaves that meet the split requirements\n",
      "[LightGBM] [Warning] Stopped training because there are no more leaves that meet the split requirements\n",
      "[LightGBM] [Warning] Stopped training because there are no more leaves that meet the split requirements\n",
      "[LightGBM] [Warning] Stopped training because there are no more leaves that meet the split requirements\n",
      "[LightGBM] [Warning] Stopped training because there are no more leaves that meet the split requirements\n",
      "[LightGBM] [Warning] Stopped training because there are no more leaves that meet the split requirements\n",
      "[LightGBM] [Warning] Stopped training because there are no more leaves that meet the split requirements\n",
      "[LightGBM] [Warning] Stopped training because there are no more leaves that meet the split requirements\n",
      "[LightGBM] [Warning] Stopped training because there are no more leaves that meet the split requirements\n",
      "[LightGBM] [Warning] Stopped training because there are no more leaves that meet the split requirements\n",
      "[LightGBM] [Warning] Stopped training because there are no more leaves that meet the split requirements\n",
      "[LightGBM] [Warning] Stopped training because there are no more leaves that meet the split requirements\n",
      "[LightGBM] [Warning] Stopped training because there are no more leaves that meet the split requirements\n",
      "[LightGBM] [Warning] Stopped training because there are no more leaves that meet the split requirements\n",
      "[LightGBM] [Warning] Stopped training because there are no more leaves that meet the split requirements\n",
      "[LightGBM] [Warning] Stopped training because there are no more leaves that meet the split requirements\n",
      "[LightGBM] [Warning] Stopped training because there are no more leaves that meet the split requirements\n",
      "[LightGBM] [Warning] Stopped training because there are no more leaves that meet the split requirements\n",
      "[LightGBM] [Warning] Stopped training because there are no more leaves that meet the split requirements\n",
      "[LightGBM] [Warning] Stopped training because there are no more leaves that meet the split requirements\n",
      "[LightGBM] [Warning] Stopped training because there are no more leaves that meet the split requirements\n",
      "[LightGBM] [Warning] Stopped training because there are no more leaves that meet the split requirements\n",
      "[LightGBM] [Warning] Stopped training because there are no more leaves that meet the split requirements\n",
      "[LightGBM] [Warning] Stopped training because there are no more leaves that meet the split requirements\n",
      "[LightGBM] [Warning] Stopped training because there are no more leaves that meet the split requirements\n",
      "[LightGBM] [Warning] Stopped training because there are no more leaves that meet the split requirements\n",
      "[LightGBM] [Warning] Stopped training because there are no more leaves that meet the split requirements\n",
      "[LightGBM] [Warning] Stopped training because there are no more leaves that meet the split requirements\n",
      "LightGBM Model accuracy score: 1.0000\n"
     ]
    }
   ],
   "source": [
    "clf = lgb.LGBMClassifier()\n",
    "clf.fit(X_train[feat], y_train)\n",
    "y_pred=clf.predict(X_test[feat])\n",
    "\n",
    "accuracy=accuracy_score(y_pred, y_test)\n",
    "print('LightGBM Model accuracy score: {0:0.4f}'.format(accuracy_score(y_test, y_pred)))"
   ]
  },
  {
   "cell_type": "code",
   "execution_count": 15,
   "metadata": {},
   "outputs": [
    {
     "name": "stdout",
     "output_type": "stream",
     "text": [
      "Training set score: 1.0000\n",
      "Test set score: 1.0000\n"
     ]
    }
   ],
   "source": [
    "print('Training set score: {:.4f}'.format(clf.score(X_train[feat], y_train)))\n",
    "\n",
    "print('Test set score: {:.4f}'.format(clf.score(X_test[feat], y_test)))"
   ]
  },
  {
   "cell_type": "code",
   "execution_count": 16,
   "metadata": {},
   "outputs": [
    {
     "name": "stdout",
     "output_type": "stream",
     "text": [
      "              precision    recall  f1-score   support\n",
      "\n",
      "          -1       1.00      1.00      1.00    112000\n",
      "\n",
      "    accuracy                           1.00    112000\n",
      "   macro avg       1.00      1.00      1.00    112000\n",
      "weighted avg       1.00      1.00      1.00    112000\n",
      "\n"
     ]
    }
   ],
   "source": [
    "\n",
    "print(classification_report(y_test, y_pred))"
   ]
  },
  {
   "cell_type": "code",
   "execution_count": null,
   "metadata": {},
   "outputs": [],
   "source": [
    "from zoofs import HarrisHawkOptimization\n",
    "\n",
    "def objective_function_topass_harris(model,X_train, y_train, X_valid, y_valid):      \n",
    "    model.fit(X_train,y_train)  \n",
    "    P=f1_score(y_valid,model.predict_proba(X_valid))\n",
    "    return -P\n",
    "\n",
    "# import an algorithm !  \n",
    "\n",
    "\n",
    "# create object of algorithm\n",
    "algo_object_haris=HarrisHawkOptimization(objective_function_topass,\n",
    "                                   n_iteration=10,\n",
    "                                   population_size=30,\n",
    "                                   minimize=True)\n",
    "\n",
    "# fit the algorithm\n",
    "algo_object_haris.fit(lgb_model,X_train, y_train, X_test, y_test,verbose=True)\n",
    "\n",
    "#plot your results\n",
    "algo_object_haris.plot_history()\n",
    "\n",
    "# extract the best  feature set\n",
    "algo_object_haris.best_feature_list "
   ]
  },
  {
   "cell_type": "code",
   "execution_count": null,
   "metadata": {},
   "outputs": [],
   "source": [
    "algo_object_haris.plot_history()"
   ]
  },
  {
   "cell_type": "code",
   "execution_count": null,
   "metadata": {},
   "outputs": [],
   "source": [
    "algo_object_haris.best_feature_list "
   ]
  },
  {
   "cell_type": "code",
   "execution_count": null,
   "metadata": {},
   "outputs": [],
   "source": [
    "feat_hawk = algo_object_haris.best_feature_list"
   ]
  },
  {
   "cell_type": "code",
   "execution_count": null,
   "metadata": {},
   "outputs": [],
   "source": [
    "clf = lgb.LGBMClassifier()\n",
    "clf.fit(X_train[feat_hawk], y_train)\n",
    "y_pred=clf.predict(X_test[feat_hawk])\n",
    "\n",
    "accuracy=accuracy_score(y_pred, y_test)\n",
    "print('LightGBM Model accuracy score: {0:0.4f}'.format(accuracy_score(y_test, y_pred)))"
   ]
  },
  {
   "cell_type": "code",
   "execution_count": null,
   "metadata": {},
   "outputs": [],
   "source": []
  }
 ],
 "metadata": {
  "kernelspec": {
   "display_name": "Python 3",
   "language": "python",
   "name": "python3"
  },
  "language_info": {
   "codemirror_mode": {
    "name": "ipython",
    "version": 3
   },
   "file_extension": ".py",
   "mimetype": "text/x-python",
   "name": "python",
   "nbconvert_exporter": "python",
   "pygments_lexer": "ipython3",
   "version": "3.11.2"
  }
 },
 "nbformat": 4,
 "nbformat_minor": 2
}
