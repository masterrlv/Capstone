{
 "cells": [
  {
   "cell_type": "code",
   "execution_count": 1,
   "metadata": {},
   "outputs": [],
   "source": [
    "import pandas as pd\n",
    "from sklearn.model_selection import train_test_split\n",
    "import lightgbm as lgb\n",
    "from sklearn.metrics import log_loss, accuracy_score, classification_report, f1_score\n",
    "import numpy as np"
   ]
  },
  {
   "cell_type": "code",
   "execution_count": 2,
   "metadata": {},
   "outputs": [],
   "source": [
    "df  = pd.read_csv(r'F:\\Projects\\Cap_github\\Capstone\\Data\\DoS_Mirai_Recon.csv')"
   ]
  },
  {
   "cell_type": "code",
   "execution_count": 3,
   "metadata": {},
   "outputs": [],
   "source": [
    "df.columns = df.columns.str.replace(' ', '_')"
   ]
  },
  {
   "cell_type": "code",
   "execution_count": 5,
   "metadata": {},
   "outputs": [],
   "source": [
    "label_mapping = {\n",
    "    'DoS': 0,\n",
    "    'Mirai': 1,\n",
    "    'Recon': 2\n",
    "}\n",
    "\n",
    "df['label'] = df['label'].apply(lambda x: label_mapping.get(str(x), -1))  # Use -1 for unmatched labels if needed"
   ]
  },
  {
   "cell_type": "code",
   "execution_count": 6,
   "metadata": {},
   "outputs": [
    {
     "data": {
      "text/plain": [
       "array([0, 1, 2], dtype=int64)"
      ]
     },
     "execution_count": 6,
     "metadata": {},
     "output_type": "execute_result"
    }
   ],
   "source": [
    "df.label.unique()"
   ]
  },
  {
   "cell_type": "code",
   "execution_count": 7,
   "metadata": {},
   "outputs": [],
   "source": [
    "X = df.drop(['label'],axis=1)\n",
    "y = df['label']\n",
    "\n",
    "X_train, X_test, y_train, y_test = train_test_split(X,y, train_size = 0.8, test_size = 0.2, shuffle=True,random_state = 0)"
   ]
  },
  {
   "cell_type": "code",
   "execution_count": 8,
   "metadata": {},
   "outputs": [],
   "source": [
    "# Remove irrelevant features and select important features\n",
    "def Feature_Importance_LGBM(data):\n",
    "    features = data.drop(['label'],axis=1).values  # \"label\" should be changed to the target class variable name if different\n",
    "    labels = data['label'].values\n",
    "\n",
    "    # Extract feature names\n",
    "    feature_names = list(data.drop(['label'],axis=1).columns)\n",
    "\n",
    "    # Empty array for feature importances\n",
    "    feature_importance_values = np.zeros(len(feature_names))\n",
    "    model = lgb.LGBMRegressor(verbose = -1)\n",
    "    model.fit(features, labels)\n",
    "    feature_importances = pd.DataFrame({'feature': feature_names, 'importance': model.feature_importances_})\n",
    "\n",
    "    # Sort features according to importance\n",
    "    feature_importances = feature_importances.sort_values('importance', ascending = False).reset_index(drop = True)\n",
    "\n",
    "    # Normalize the feature importances to add up to one\n",
    "    feature_importances['normalized_importance'] = feature_importances['importance'] / feature_importances['importance'].sum()\n",
    "    feature_importances['cumulative_importance'] = np.cumsum(feature_importances['normalized_importance'])\n",
    "\n",
    "    cumulative_importance=0.90 # Only keep the important features with cumulative importance scores>=90%. It can be changed.\n",
    "\n",
    "    # Make sure most important features are on top\n",
    "    feature_importances = feature_importances.sort_values('cumulative_importance')\n",
    "\n",
    "    # Identify the features not needed to reach the cumulative_importance\n",
    "    record_low_importance = feature_importances[feature_importances['cumulative_importance'] > cumulative_importance]\n",
    "\n",
    "    to_drop = list(record_low_importance['feature'])\n",
    "    print(feature_importances.drop(['importance'],axis=1))\n",
    "    return to_drop"
   ]
  },
  {
   "cell_type": "code",
   "execution_count": 9,
   "metadata": {},
   "outputs": [],
   "source": [
    "# Remove redundant features\n",
    "def Feature_Redundancy_Pearson(data):\n",
    "    correlation_threshold=0.95 # Only remove features with the redundancy>90%. It can be changed\n",
    "    features = data.drop(['label'],axis=1)\n",
    "    corr_matrix = features.corr()\n",
    "\n",
    "    # Extract the upper triangle of the correlation matrix\n",
    "    upper = corr_matrix.where(np.triu(np.ones(corr_matrix.shape), k = 1).astype(bool))\n",
    "\n",
    "    # Select the features with correlations above the threshold\n",
    "    # Need to use the absolute value\n",
    "    to_drop = [column for column in upper.columns if any(upper[column].abs() > correlation_threshold)]\n",
    "\n",
    "    # Dataframe to hold correlated pairs\n",
    "    record_collinear = pd.DataFrame(columns = ['drop_feature', 'corr_feature', 'corr_value'])\n",
    "\n",
    "    # Iterate through the columns to drop\n",
    "    for column in to_drop:\n",
    "\n",
    "        # Find the correlated features\n",
    "        corr_features = list(upper.index[upper[column].abs() > correlation_threshold])\n",
    "\n",
    "        # Find the correlated values\n",
    "        corr_values = list(upper[column][upper[column].abs() > correlation_threshold])\n",
    "        drop_features = [column for _ in range(len(corr_features))]\n",
    "\n",
    "        # Record the information (need a temp df for now)\n",
    "        temp_df = pd.DataFrame.from_dict({'drop_feature': drop_features,\n",
    "                                         'corr_feature': corr_features,\n",
    "                                         'corr_value': corr_values})\n",
    "        record_collinear = pd.concat([record_collinear, temp_df], ignore_index = True)\n",
    "#     print(record_collinear)\n",
    "    return to_drop"
   ]
  },
  {
   "cell_type": "code",
   "execution_count": 10,
   "metadata": {},
   "outputs": [],
   "source": [
    "def Auto_Feature_Engineering(s1):\n",
    "    drop1 = Feature_Importance_LGBM(s1)\n",
    "    df1 = s1.drop(columns = drop1)\n",
    "\n",
    "    drop4 = Feature_Redundancy_Pearson(df1)\n",
    "    df4 = df1.drop(columns = drop4)\n",
    "    return df4"
   ]
  },
  {
   "cell_type": "code",
   "execution_count": 11,
   "metadata": {},
   "outputs": [
    {
     "name": "stdout",
     "output_type": "stream",
     "text": [
      "            feature  normalized_importance  cumulative_importance\n",
      "0               IAT               0.162000               0.162000\n",
      "1          Variance               0.085000               0.247000\n",
      "2               Min               0.082333               0.329333\n",
      "3         fin_count               0.072667               0.402000\n",
      "4         syn_count               0.066000               0.468000\n",
      "5            Number               0.064667               0.532667\n",
      "6     Protocol_Type               0.059333               0.592000\n",
      "7              Rate               0.042333               0.634333\n",
      "8     flow_duration               0.038000               0.672333\n",
      "9              HTTP               0.035667               0.708000\n",
      "10         Duration               0.032000               0.740000\n",
      "11          Tot_sum               0.028667               0.768667\n",
      "12        rst_count               0.025333               0.794000\n",
      "13              Max               0.025000               0.819000\n",
      "14  ack_flag_number               0.024333               0.843333\n",
      "15    Header_Length               0.023333               0.866667\n",
      "16              AVG               0.018333               0.885000\n",
      "17        urg_count               0.018000               0.903000\n",
      "18         Tot_size               0.016000               0.919000\n",
      "19       Covariance               0.016000               0.935000\n",
      "20         Magnitue               0.014667               0.949667\n",
      "21        ack_count               0.014000               0.963667\n",
      "22              Std               0.010000               0.973667\n",
      "23           Weight               0.009667               0.983333\n",
      "24           Radius               0.004667               0.988000\n",
      "25  syn_flag_number               0.003000               0.991000\n",
      "26              TCP               0.002667               0.993667\n",
      "27  psh_flag_number               0.001667               0.995333\n",
      "28              UDP               0.001333               0.996667\n",
      "29  fin_flag_number               0.001333               0.998000\n",
      "30  rst_flag_number               0.001333               0.999333\n",
      "31            HTTPS               0.000333               0.999667\n",
      "43              ARP               0.000000               1.000000\n",
      "42             ICMP               0.000000               1.000000\n",
      "41              IPv               0.000000               1.000000\n",
      "40              LLC               0.000000               1.000000\n",
      "39           Telnet               0.000000               1.000000\n",
      "38              IRC               0.000000               1.000000\n",
      "34            Srate               0.000000               1.000000\n",
      "36              SSH               0.000000               1.000000\n",
      "35            Drate               0.000000               1.000000\n",
      "44             DHCP               0.000000               1.000000\n",
      "33  ece_flag_number               0.000000               1.000000\n",
      "32              DNS               0.000333               1.000000\n",
      "37  cwr_flag_number               0.000000               1.000000\n",
      "45             SMTP               0.000000               1.000000\n"
     ]
    },
    {
     "name": "stderr",
     "output_type": "stream",
     "text": [
      "C:\\Users\\Anubhav\\AppData\\Local\\Temp\\ipykernel_12888\\3633410587.py:31: FutureWarning: The behavior of DataFrame concatenation with empty or all-NA entries is deprecated. In a future version, this will no longer exclude empty or all-NA columns when determining the result dtypes. To retain the old behavior, exclude the relevant entries before the concat operation.\n",
      "  record_collinear = pd.concat([record_collinear, temp_df], ignore_index = True)\n"
     ]
    }
   ],
   "source": [
    "df1 = Auto_Feature_Engineering(df)"
   ]
  },
  {
   "cell_type": "code",
   "execution_count": null,
   "metadata": {},
   "outputs": [],
   "source": []
  }
 ],
 "metadata": {
  "kernelspec": {
   "display_name": "Python 3",
   "language": "python",
   "name": "python3"
  },
  "language_info": {
   "codemirror_mode": {
    "name": "ipython",
    "version": 3
   },
   "file_extension": ".py",
   "mimetype": "text/x-python",
   "name": "python",
   "nbconvert_exporter": "python",
   "pygments_lexer": "ipython3",
   "version": "3.11.2"
  }
 },
 "nbformat": 4,
 "nbformat_minor": 2
}
